{
 "cells": [
  {
   "cell_type": "markdown",
   "metadata": {},
   "source": [
    "# Приоритизация и проверка гипотез.\n",
    "\n",
    "Отделом маркетинга крупного интернет-магазина был подготовлен список гипотез для увеличения выручки. Также был проведён А/В-тест и получены результаты, требующие дальнейшего анализа.\n",
    "\n",
    "**Задачи:**\n",
    "* приоритизировать представленные гипотезы и выбрать наиболее перспективные;\n",
    "* проанализировать результаты проведённого А/В-теста;\n",
    "* принять решение на основе полученных результатов.\n",
    "\n",
    "\n",
    "**План исследования:**\n",
    "* изучить полученные данные о гипотезах, заказах и пользователях;\n",
    "* выполнить предобработку данных;\n",
    "* приоритизировать гипотезы с применением фреймворка ICE;\n",
    "* приоритизировать гипотезы с применением фреймворка RICE; \n",
    "* построить график кумулятивной выручки по группам;\n",
    "* построить график кумулятивного среднего чека по группам;\n",
    "* построить график относительного изменения кумулятивного среднего чека группы B к группе A;\n",
    "* построить график кумулятивного среднего количества заказов на посетителя по группам;\n",
    "* построить график относительного изменения кумулятивного среднего количества заказов на посетителя группы B к группе A;\n",
    "* построить точечный график количества заказов по пользователям;\n",
    "* посчитать 95-й и 99-й перцентили количества заказов на пользователя;\n",
    "* построить точечный график стоимостей заказов;\n",
    "* посчитать 95-й и 99-й перцентили стоимости заказов;\n",
    "* посчитать статистическую значимость различий в среднем количестве заказов на посетителя между группами по «сырым» данным;\n",
    "* посчитать статистическую значимость различий в среднем чеке заказа между группами по «сырым» данным;\n",
    "* посчитать статистическую значимость различий в среднем количестве заказов на посетителя между группами по «очищенным» данным;\n",
    "* посчитать статистическую значимость различий в среднем чеке заказа между группами по «очищенным» данным;\n",
    "* сделать вывод по полученным результатам.\n",
    "\n",
    "**Описание данных:**\n",
    "\n",
    "Файл *hypothesis* содержит следующие данные:\n",
    "\n",
    "* Hypothesis — краткое описание гипотезы;\n",
    "* Reach — охват пользователей по 10-балльной шкале;\n",
    "* Impact — влияние на пользователей по 10-балльной шкале;\n",
    "* Confidence — уверенность в гипотезе по 10-балльной шкале;\n",
    "* Efforts — затраты ресурсов на проверку гипотезы по 10-балльной шкале. Чем больше значение Efforts, тем дороже проверка гипотезы.\n",
    "\n",
    "Файл *orders* содержит следующие данные:\n",
    "\n",
    "* transactionId — идентификатор заказа;\n",
    "* visitorId — идентификатор пользователя, совершившего заказ;\n",
    "* date — дата, когда был совершён заказ;\n",
    "* revenue — выручка заказа;\n",
    "* group — группа A/B-теста, в которую попал заказ.\n",
    "\n",
    "Файл *visitors* содержит следующие данные:\n",
    "\n",
    "* date — дата;\n",
    "* group — группа A/B-теста;\n",
    "* visitors — количество пользователей в указанную дату в указанной группе A/B-теста.\n",
    "\n",
    "\n",
    "\n"
   ]
  },
  {
   "cell_type": "markdown",
   "metadata": {},
   "source": [
    "### Подготовка данных к анализу."
   ]
  },
  {
   "cell_type": "markdown",
   "metadata": {},
   "source": [
    "#### Импорт библиотек и выгрузка данных.\n"
   ]
  },
  {
   "cell_type": "code",
   "execution_count": 1,
   "metadata": {},
   "outputs": [],
   "source": [
    "# Импортируем библиотеки\n",
    "\n",
    "import pandas as pd\n",
    "from matplotlib import pyplot as plt\n",
    "import numpy as np\n",
    "from scipy import stats as st\n",
    "import math as mth\n",
    "import datetime as dt"
   ]
  },
  {
   "cell_type": "code",
   "execution_count": 2,
   "metadata": {},
   "outputs": [],
   "source": [
    "# Загружаем данные \n",
    "\n",
    "hypothesis = pd.read_csv('/datasets/hypothesis.csv')\n",
    "orders = pd.read_csv('/datasets/orders.csv')\n",
    "visitors = pd.read_csv('/datasets/visitors.csv')"
   ]
  },
  {
   "cell_type": "markdown",
   "metadata": {},
   "source": [
    "#### Общее знакомство с данными."
   ]
  },
  {
   "cell_type": "code",
   "execution_count": 3,
   "metadata": {},
   "outputs": [
    {
     "data": {
      "text/html": [
       "<div>\n",
       "<style scoped>\n",
       "    .dataframe tbody tr th:only-of-type {\n",
       "        vertical-align: middle;\n",
       "    }\n",
       "\n",
       "    .dataframe tbody tr th {\n",
       "        vertical-align: top;\n",
       "    }\n",
       "\n",
       "    .dataframe thead th {\n",
       "        text-align: right;\n",
       "    }\n",
       "</style>\n",
       "<table border=\"1\" class=\"dataframe\">\n",
       "  <thead>\n",
       "    <tr style=\"text-align: right;\">\n",
       "      <th></th>\n",
       "      <th>Hypothesis</th>\n",
       "      <th>Reach</th>\n",
       "      <th>Impact</th>\n",
       "      <th>Confidence</th>\n",
       "      <th>Efforts</th>\n",
       "    </tr>\n",
       "  </thead>\n",
       "  <tbody>\n",
       "    <tr>\n",
       "      <th>0</th>\n",
       "      <td>Добавить два новых канала привлечения трафика, что позволит привлекать на 30% больше пользователей</td>\n",
       "      <td>3</td>\n",
       "      <td>10</td>\n",
       "      <td>8</td>\n",
       "      <td>6</td>\n",
       "    </tr>\n",
       "    <tr>\n",
       "      <th>1</th>\n",
       "      <td>Запустить собственную службу доставки, что сократит срок доставки заказов</td>\n",
       "      <td>2</td>\n",
       "      <td>5</td>\n",
       "      <td>4</td>\n",
       "      <td>10</td>\n",
       "    </tr>\n",
       "    <tr>\n",
       "      <th>2</th>\n",
       "      <td>Добавить блоки рекомендаций товаров на сайт интернет магазина, чтобы повысить конверсию и средний чек заказа</td>\n",
       "      <td>8</td>\n",
       "      <td>3</td>\n",
       "      <td>7</td>\n",
       "      <td>3</td>\n",
       "    </tr>\n",
       "    <tr>\n",
       "      <th>3</th>\n",
       "      <td>Изменить структура категорий, что увеличит конверсию, т.к. пользователи быстрее найдут нужный товар</td>\n",
       "      <td>8</td>\n",
       "      <td>3</td>\n",
       "      <td>3</td>\n",
       "      <td>8</td>\n",
       "    </tr>\n",
       "    <tr>\n",
       "      <th>4</th>\n",
       "      <td>Изменить цвет фона главной страницы, чтобы увеличить вовлеченность пользователей</td>\n",
       "      <td>3</td>\n",
       "      <td>1</td>\n",
       "      <td>1</td>\n",
       "      <td>1</td>\n",
       "    </tr>\n",
       "    <tr>\n",
       "      <th>5</th>\n",
       "      <td>Добавить страницу отзывов клиентов о магазине, что позволит увеличить количество заказов</td>\n",
       "      <td>3</td>\n",
       "      <td>2</td>\n",
       "      <td>2</td>\n",
       "      <td>3</td>\n",
       "    </tr>\n",
       "    <tr>\n",
       "      <th>6</th>\n",
       "      <td>Показать на главной странице баннеры с актуальными акциями и распродажами, чтобы увеличить конверсию</td>\n",
       "      <td>5</td>\n",
       "      <td>3</td>\n",
       "      <td>8</td>\n",
       "      <td>3</td>\n",
       "    </tr>\n",
       "    <tr>\n",
       "      <th>7</th>\n",
       "      <td>Добавить форму подписки на все основные страницы, чтобы собрать базу клиентов для email-рассылок</td>\n",
       "      <td>10</td>\n",
       "      <td>7</td>\n",
       "      <td>8</td>\n",
       "      <td>5</td>\n",
       "    </tr>\n",
       "    <tr>\n",
       "      <th>8</th>\n",
       "      <td>Запустить акцию, дающую скидку на товар в день рождения</td>\n",
       "      <td>1</td>\n",
       "      <td>9</td>\n",
       "      <td>9</td>\n",
       "      <td>5</td>\n",
       "    </tr>\n",
       "  </tbody>\n",
       "</table>\n",
       "</div>"
      ],
      "text/plain": [
       "                                                                                                     Hypothesis  \\\n",
       "0            Добавить два новых канала привлечения трафика, что позволит привлекать на 30% больше пользователей   \n",
       "1                                     Запустить собственную службу доставки, что сократит срок доставки заказов   \n",
       "2  Добавить блоки рекомендаций товаров на сайт интернет магазина, чтобы повысить конверсию и средний чек заказа   \n",
       "3           Изменить структура категорий, что увеличит конверсию, т.к. пользователи быстрее найдут нужный товар   \n",
       "4                              Изменить цвет фона главной страницы, чтобы увеличить вовлеченность пользователей   \n",
       "5                      Добавить страницу отзывов клиентов о магазине, что позволит увеличить количество заказов   \n",
       "6          Показать на главной странице баннеры с актуальными акциями и распродажами, чтобы увеличить конверсию   \n",
       "7              Добавить форму подписки на все основные страницы, чтобы собрать базу клиентов для email-рассылок   \n",
       "8                                                       Запустить акцию, дающую скидку на товар в день рождения   \n",
       "\n",
       "   Reach  Impact  Confidence  Efforts  \n",
       "0      3      10           8        6  \n",
       "1      2       5           4       10  \n",
       "2      8       3           7        3  \n",
       "3      8       3           3        8  \n",
       "4      3       1           1        1  \n",
       "5      3       2           2        3  \n",
       "6      5       3           8        3  \n",
       "7     10       7           8        5  \n",
       "8      1       9           9        5  "
      ]
     },
     "execution_count": 3,
     "metadata": {},
     "output_type": "execute_result"
    }
   ],
   "source": [
    "# Знакомимся с данными в таблице гипотез.\n",
    "\n",
    "pd.options.display.max_colwidth = 130\n",
    "hypothesis"
   ]
  },
  {
   "cell_type": "code",
   "execution_count": 4,
   "metadata": {},
   "outputs": [
    {
     "name": "stdout",
     "output_type": "stream",
     "text": [
      "<class 'pandas.core.frame.DataFrame'>\n",
      "RangeIndex: 9 entries, 0 to 8\n",
      "Data columns (total 5 columns):\n",
      " #   Column      Non-Null Count  Dtype \n",
      "---  ------      --------------  ----- \n",
      " 0   Hypothesis  9 non-null      object\n",
      " 1   Reach       9 non-null      int64 \n",
      " 2   Impact      9 non-null      int64 \n",
      " 3   Confidence  9 non-null      int64 \n",
      " 4   Efforts     9 non-null      int64 \n",
      "dtypes: int64(4), object(1)\n",
      "memory usage: 488.0+ bytes\n"
     ]
    }
   ],
   "source": [
    "hypothesis.info()"
   ]
  },
  {
   "cell_type": "code",
   "execution_count": 5,
   "metadata": {},
   "outputs": [
    {
     "data": {
      "text/html": [
       "<div>\n",
       "<style scoped>\n",
       "    .dataframe tbody tr th:only-of-type {\n",
       "        vertical-align: middle;\n",
       "    }\n",
       "\n",
       "    .dataframe tbody tr th {\n",
       "        vertical-align: top;\n",
       "    }\n",
       "\n",
       "    .dataframe thead th {\n",
       "        text-align: right;\n",
       "    }\n",
       "</style>\n",
       "<table border=\"1\" class=\"dataframe\">\n",
       "  <thead>\n",
       "    <tr style=\"text-align: right;\">\n",
       "      <th></th>\n",
       "      <th>transactionId</th>\n",
       "      <th>visitorId</th>\n",
       "      <th>date</th>\n",
       "      <th>revenue</th>\n",
       "      <th>group</th>\n",
       "    </tr>\n",
       "  </thead>\n",
       "  <tbody>\n",
       "    <tr>\n",
       "      <th>0</th>\n",
       "      <td>3667963787</td>\n",
       "      <td>3312258926</td>\n",
       "      <td>2019-08-15</td>\n",
       "      <td>1650</td>\n",
       "      <td>B</td>\n",
       "    </tr>\n",
       "    <tr>\n",
       "      <th>1</th>\n",
       "      <td>2804400009</td>\n",
       "      <td>3642806036</td>\n",
       "      <td>2019-08-15</td>\n",
       "      <td>730</td>\n",
       "      <td>B</td>\n",
       "    </tr>\n",
       "    <tr>\n",
       "      <th>2</th>\n",
       "      <td>2961555356</td>\n",
       "      <td>4069496402</td>\n",
       "      <td>2019-08-15</td>\n",
       "      <td>400</td>\n",
       "      <td>A</td>\n",
       "    </tr>\n",
       "    <tr>\n",
       "      <th>3</th>\n",
       "      <td>3797467345</td>\n",
       "      <td>1196621759</td>\n",
       "      <td>2019-08-15</td>\n",
       "      <td>9759</td>\n",
       "      <td>B</td>\n",
       "    </tr>\n",
       "    <tr>\n",
       "      <th>4</th>\n",
       "      <td>2282983706</td>\n",
       "      <td>2322279887</td>\n",
       "      <td>2019-08-15</td>\n",
       "      <td>2308</td>\n",
       "      <td>B</td>\n",
       "    </tr>\n",
       "  </tbody>\n",
       "</table>\n",
       "</div>"
      ],
      "text/plain": [
       "   transactionId   visitorId        date  revenue group\n",
       "0     3667963787  3312258926  2019-08-15     1650     B\n",
       "1     2804400009  3642806036  2019-08-15      730     B\n",
       "2     2961555356  4069496402  2019-08-15      400     A\n",
       "3     3797467345  1196621759  2019-08-15     9759     B\n",
       "4     2282983706  2322279887  2019-08-15     2308     B"
      ]
     },
     "execution_count": 5,
     "metadata": {},
     "output_type": "execute_result"
    }
   ],
   "source": [
    "# Знакомимся с данными в таблице заказов.\n",
    "\n",
    "orders.head()"
   ]
  },
  {
   "cell_type": "code",
   "execution_count": 6,
   "metadata": {},
   "outputs": [
    {
     "name": "stdout",
     "output_type": "stream",
     "text": [
      "<class 'pandas.core.frame.DataFrame'>\n",
      "RangeIndex: 1197 entries, 0 to 1196\n",
      "Data columns (total 5 columns):\n",
      " #   Column         Non-Null Count  Dtype \n",
      "---  ------         --------------  ----- \n",
      " 0   transactionId  1197 non-null   int64 \n",
      " 1   visitorId      1197 non-null   int64 \n",
      " 2   date           1197 non-null   object\n",
      " 3   revenue        1197 non-null   int64 \n",
      " 4   group          1197 non-null   object\n",
      "dtypes: int64(3), object(2)\n",
      "memory usage: 46.9+ KB\n"
     ]
    }
   ],
   "source": [
    "orders.info()"
   ]
  },
  {
   "cell_type": "code",
   "execution_count": 7,
   "metadata": {},
   "outputs": [
    {
     "data": {
      "text/plain": [
       "0"
      ]
     },
     "execution_count": 7,
     "metadata": {},
     "output_type": "execute_result"
    }
   ],
   "source": [
    "# Проверим таблицу на наличие полных дубликатов.\n",
    "\n",
    "orders.duplicated().sum()"
   ]
  },
  {
   "cell_type": "code",
   "execution_count": 8,
   "metadata": {},
   "outputs": [
    {
     "data": {
      "text/plain": [
       "transactionId    0\n",
       "visitorId        0\n",
       "date             0\n",
       "revenue          0\n",
       "group            0\n",
       "dtype: int64"
      ]
     },
     "execution_count": 8,
     "metadata": {},
     "output_type": "execute_result"
    }
   ],
   "source": [
    "# Проверим таблицу на наличие пропусков.\n",
    "\n",
    "orders.isna().sum()"
   ]
  },
  {
   "cell_type": "code",
   "execution_count": 9,
   "metadata": {},
   "outputs": [
    {
     "data": {
      "text/plain": [
       "1031"
      ]
     },
     "execution_count": 9,
     "metadata": {},
     "output_type": "execute_result"
    }
   ],
   "source": [
    "# Определим количество уникальных пользователей, сделавших заказы.\n",
    "\n",
    "orders['visitorId'].nunique()"
   ]
  },
  {
   "cell_type": "code",
   "execution_count": 10,
   "metadata": {},
   "outputs": [
    {
     "data": {
      "text/plain": [
       "group\n",
       "A    503\n",
       "B    586\n",
       "Name: visitorId, dtype: int64"
      ]
     },
     "execution_count": 10,
     "metadata": {},
     "output_type": "execute_result"
    }
   ],
   "source": [
    "# Определим количество уникальных пользователей, сделавших заказы, по группам.\n",
    "\n",
    "orders.groupby('group')['visitorId'].nunique()"
   ]
  },
  {
   "cell_type": "markdown",
   "metadata": {},
   "source": [
    "**!** Всего в таблице 1031 уникальный пользователь. Но если их разбить на группы, то получается в сумме 1089. Необходимо проверить, присутствуют ли одни и те же пользователи в обеих группах."
   ]
  },
  {
   "cell_type": "code",
   "execution_count": 11,
   "metadata": {},
   "outputs": [
    {
     "data": {
      "text/plain": [
       "{8300375,\n",
       " 199603092,\n",
       " 232979603,\n",
       " 237748145,\n",
       " 276558944,\n",
       " 351125977,\n",
       " 393266494,\n",
       " 457167155,\n",
       " 471551937,\n",
       " 477780734,\n",
       " 818047933,\n",
       " 963407295,\n",
       " 1230306981,\n",
       " 1294878855,\n",
       " 1316129916,\n",
       " 1333886533,\n",
       " 1404934699,\n",
       " 1602967004,\n",
       " 1614305549,\n",
       " 1648269707,\n",
       " 1668030113,\n",
       " 1738359350,\n",
       " 1801183820,\n",
       " 1959144690,\n",
       " 2038680547,\n",
       " 2044997962,\n",
       " 2378935119,\n",
       " 2458001652,\n",
       " 2579882178,\n",
       " 2587333274,\n",
       " 2600415354,\n",
       " 2654030115,\n",
       " 2686716486,\n",
       " 2712142231,\n",
       " 2716752286,\n",
       " 2780786433,\n",
       " 2927087541,\n",
       " 2949041841,\n",
       " 2954449915,\n",
       " 3062433592,\n",
       " 3202540741,\n",
       " 3234906277,\n",
       " 3656415546,\n",
       " 3717692402,\n",
       " 3766097110,\n",
       " 3803269165,\n",
       " 3891541246,\n",
       " 3941795274,\n",
       " 3951559397,\n",
       " 3957174400,\n",
       " 3963646447,\n",
       " 3972127743,\n",
       " 3984495233,\n",
       " 4069496402,\n",
       " 4120364173,\n",
       " 4186807279,\n",
       " 4256040402,\n",
       " 4266935830}"
      ]
     },
     "execution_count": 11,
     "metadata": {},
     "output_type": "execute_result"
    }
   ],
   "source": [
    "# Проверим, присутствуют ли пересечения в группах А и В по visitorId\n",
    "\n",
    "intersections = set(orders.query('group == \"A\"')['visitorId'])&set(orders.query('group == \"B\"')['visitorId'])\n",
    "intersections"
   ]
  },
  {
   "cell_type": "code",
   "execution_count": 12,
   "metadata": {},
   "outputs": [
    {
     "data": {
      "text/plain": [
       "58"
      ]
     },
     "execution_count": 12,
     "metadata": {},
     "output_type": "execute_result"
    }
   ],
   "source": [
    "# Количество пользователей, находящихся одновременно в группах А и В.\n",
    "\n",
    "len(intersections)"
   ]
  },
  {
   "cell_type": "code",
   "execution_count": 13,
   "metadata": {},
   "outputs": [
    {
     "data": {
      "text/plain": [
       "5.63"
      ]
     },
     "execution_count": 13,
     "metadata": {},
     "output_type": "execute_result"
    }
   ],
   "source": [
    "# Определим, какую часть от всех пользователей составляют повторяющиеся пользователи.\n",
    "\n",
    "intersections_share = (len(intersections)/orders['visitorId'].nunique())*100\n",
    "round(intersections_share,2)"
   ]
  },
  {
   "cell_type": "markdown",
   "metadata": {},
   "source": [
    "При проверке на наличие одинаковых visitorId в двух группах выяснилось, что такие пользователи имеются, и их количество составляет 58 человек - 5.63% от общего количества уникальных пользователей. При корректном проведении А/В-теста подобные ситуации должны быть исключены на этапе А/А-теста. Значит, подготовка к тесту не была проведена должным образом. \n",
    "\n",
    "Удалим пересекающихся пользователей из orders, чтобы не искажать результаты.\n"
   ]
  },
  {
   "cell_type": "code",
   "execution_count": 14,
   "metadata": {},
   "outputs": [],
   "source": [
    "# Удалим пересекающихся пользователей из orders, чтобы минимизировать искажения в результатах анализа.\n",
    "\n",
    "orders = orders.query('visitorId not in @intersections')"
   ]
  },
  {
   "cell_type": "code",
   "execution_count": 15,
   "metadata": {},
   "outputs": [
    {
     "data": {
      "text/html": [
       "<div>\n",
       "<style scoped>\n",
       "    .dataframe tbody tr th:only-of-type {\n",
       "        vertical-align: middle;\n",
       "    }\n",
       "\n",
       "    .dataframe tbody tr th {\n",
       "        vertical-align: top;\n",
       "    }\n",
       "\n",
       "    .dataframe thead th {\n",
       "        text-align: right;\n",
       "    }\n",
       "</style>\n",
       "<table border=\"1\" class=\"dataframe\">\n",
       "  <thead>\n",
       "    <tr style=\"text-align: right;\">\n",
       "      <th></th>\n",
       "      <th>date</th>\n",
       "      <th>group</th>\n",
       "      <th>visitors</th>\n",
       "    </tr>\n",
       "  </thead>\n",
       "  <tbody>\n",
       "    <tr>\n",
       "      <th>0</th>\n",
       "      <td>2019-08-01</td>\n",
       "      <td>A</td>\n",
       "      <td>719</td>\n",
       "    </tr>\n",
       "    <tr>\n",
       "      <th>1</th>\n",
       "      <td>2019-08-02</td>\n",
       "      <td>A</td>\n",
       "      <td>619</td>\n",
       "    </tr>\n",
       "    <tr>\n",
       "      <th>2</th>\n",
       "      <td>2019-08-03</td>\n",
       "      <td>A</td>\n",
       "      <td>507</td>\n",
       "    </tr>\n",
       "    <tr>\n",
       "      <th>3</th>\n",
       "      <td>2019-08-04</td>\n",
       "      <td>A</td>\n",
       "      <td>717</td>\n",
       "    </tr>\n",
       "    <tr>\n",
       "      <th>4</th>\n",
       "      <td>2019-08-05</td>\n",
       "      <td>A</td>\n",
       "      <td>756</td>\n",
       "    </tr>\n",
       "  </tbody>\n",
       "</table>\n",
       "</div>"
      ],
      "text/plain": [
       "         date group  visitors\n",
       "0  2019-08-01     A       719\n",
       "1  2019-08-02     A       619\n",
       "2  2019-08-03     A       507\n",
       "3  2019-08-04     A       717\n",
       "4  2019-08-05     A       756"
      ]
     },
     "execution_count": 15,
     "metadata": {},
     "output_type": "execute_result"
    }
   ],
   "source": [
    "# Знакомимся с содержимым таблицы visitors.\n",
    "\n",
    "visitors.head()"
   ]
  },
  {
   "cell_type": "code",
   "execution_count": 16,
   "metadata": {},
   "outputs": [
    {
     "name": "stdout",
     "output_type": "stream",
     "text": [
      "<class 'pandas.core.frame.DataFrame'>\n",
      "RangeIndex: 62 entries, 0 to 61\n",
      "Data columns (total 3 columns):\n",
      " #   Column    Non-Null Count  Dtype \n",
      "---  ------    --------------  ----- \n",
      " 0   date      62 non-null     object\n",
      " 1   group     62 non-null     object\n",
      " 2   visitors  62 non-null     int64 \n",
      "dtypes: int64(1), object(2)\n",
      "memory usage: 1.6+ KB\n"
     ]
    }
   ],
   "source": [
    "visitors.info()"
   ]
  },
  {
   "cell_type": "code",
   "execution_count": 17,
   "metadata": {},
   "outputs": [
    {
     "data": {
      "text/plain": [
       "group\n",
       "A    18736\n",
       "B    18916\n",
       "Name: visitors, dtype: int64"
      ]
     },
     "execution_count": 17,
     "metadata": {},
     "output_type": "execute_result"
    }
   ],
   "source": [
    "# Проверим, какое количество посетителей было в каждой группе за весь период теста.\n",
    "\n",
    "visitors.groupby('group')['visitors'].sum()"
   ]
  },
  {
   "cell_type": "code",
   "execution_count": 18,
   "metadata": {},
   "outputs": [
    {
     "data": {
      "text/plain": [
       "0.95"
      ]
     },
     "execution_count": 18,
     "metadata": {},
     "output_type": "execute_result"
    }
   ],
   "source": [
    "round((1 - visitors.query('group ==\"A\"')['visitors'].sum()/visitors.query('group ==\"B\"')['visitors'].sum())*100, 2)"
   ]
  },
  {
   "cell_type": "markdown",
   "metadata": {},
   "source": [
    "Разница между количеством посетителей в группах составляет менее 1 процента."
   ]
  },
  {
   "cell_type": "code",
   "execution_count": 19,
   "metadata": {},
   "outputs": [
    {
     "data": {
      "text/plain": [
       "0"
      ]
     },
     "execution_count": 19,
     "metadata": {},
     "output_type": "execute_result"
    }
   ],
   "source": [
    "visitors.duplicated().sum()"
   ]
  },
  {
   "cell_type": "code",
   "execution_count": 20,
   "metadata": {},
   "outputs": [
    {
     "data": {
      "text/plain": [
       "date        0\n",
       "group       0\n",
       "visitors    0\n",
       "dtype: int64"
      ]
     },
     "execution_count": 20,
     "metadata": {},
     "output_type": "execute_result"
    }
   ],
   "source": [
    "visitors.isna().sum()"
   ]
  },
  {
   "cell_type": "markdown",
   "metadata": {},
   "source": [
    "#### Преобразование названий столбцов и типов данных."
   ]
  },
  {
   "cell_type": "code",
   "execution_count": 21,
   "metadata": {},
   "outputs": [],
   "source": [
    "# Приведём названия столбцов в таблице hypothesis к нижнему регистру.\n",
    "\n",
    "hypothesis.columns = hypothesis.columns.str.lower()"
   ]
  },
  {
   "cell_type": "code",
   "execution_count": 22,
   "metadata": {},
   "outputs": [],
   "source": [
    "# Изменим тип данных в столбцах с датами.\n",
    "\n",
    "orders['date'] = orders['date'].map(\n",
    "    lambda x: dt.datetime.strptime(x, '%Y-%m-%d')\n",
    ")\n"
   ]
  },
  {
   "cell_type": "code",
   "execution_count": 23,
   "metadata": {},
   "outputs": [],
   "source": [
    "visitors['date'] = visitors['date'].map(\n",
    "    lambda x: dt.datetime.strptime(x, '%Y-%m-%d')\n",
    ")\n"
   ]
  },
  {
   "cell_type": "code",
   "execution_count": 62,
   "metadata": {},
   "outputs": [
    {
     "name": "stdout",
     "output_type": "stream",
     "text": [
      "<class 'pandas.core.frame.DataFrame'>\n",
      "RangeIndex: 62 entries, 0 to 61\n",
      "Data columns (total 3 columns):\n",
      " #   Column    Non-Null Count  Dtype         \n",
      "---  ------    --------------  -----         \n",
      " 0   date      62 non-null     datetime64[ns]\n",
      " 1   group     62 non-null     object        \n",
      " 2   visitors  62 non-null     int64         \n",
      "dtypes: datetime64[ns](1), int64(1), object(1)\n",
      "memory usage: 1.6+ KB\n"
     ]
    }
   ],
   "source": [
    "visitors.info()"
   ]
  },
  {
   "cell_type": "markdown",
   "metadata": {},
   "source": [
    "#### Выводы по разделу."
   ]
  },
  {
   "cell_type": "markdown",
   "metadata": {},
   "source": [
    "\n",
    "* В целях проведения исследования нами было получено три файла (hypothesis, orders, visits) с информацией о гипотезах для увеличения выручки а также с результатами А/В-теста и информацией о пользователях, покупках, группах, датах посещения магазина, датах покупок.\n",
    "\n",
    "* При знакомстве с данными о гипотезах, выяснилось, что всего выдвинуто 9 гипотез для увеличения выручки магазина. В файле имеется информация с параметрами Reach, Impact, Confidence, Efforts, необходимыми для приоритизации гипотез методами ICE и RICE. Пропуски в данных отсутствуют.\n",
    "\n",
    "* В таблице orders 5 колонок с информацией о номере заказа, номере пользователя, дате заказа, сумме заказа, группе (А или В). Полных дубликатов и пропусков в таблице нет. При проверке на наличие одинаковых visitorId в двух группах выяснилось, что такие пользователи имеются, и их количество составляет 58 человек - 5.63% от общего количества уникальных пользователей. Подготовка к тесту не была проведена должным образом. Пересекающиеся пользователи были удалены.\n",
    "\n",
    "* Таблица visitors содержит информацию о дате, группе и количестве посетителей в группе. Разница между количеством посетителей в группах за весь период теста составляет менее 1 процента. Полных дубликатов и пропусков в таблице нет.\n",
    "\n",
    "* Названия столбцов в таблице hypothesis были приведены к нижнему регистру.\n",
    "* В столбцах с датами тип данных был изменен на datetime."
   ]
  },
  {
   "cell_type": "markdown",
   "metadata": {},
   "source": [
    "### Приоритизация гипотез."
   ]
  },
  {
   "cell_type": "markdown",
   "metadata": {},
   "source": [
    "#### Метод ICE"
   ]
  },
  {
   "cell_type": "code",
   "execution_count": 25,
   "metadata": {},
   "outputs": [],
   "source": [
    "# Применим фреймворк ICE для приоритизации гипотез.\n",
    "\n",
    "hypothesis['ICE'] = round(hypothesis['impact']*hypothesis['confidence']/hypothesis['efforts'], 2) "
   ]
  },
  {
   "cell_type": "code",
   "execution_count": 26,
   "metadata": {},
   "outputs": [
    {
     "data": {
      "text/html": [
       "<div>\n",
       "<style scoped>\n",
       "    .dataframe tbody tr th:only-of-type {\n",
       "        vertical-align: middle;\n",
       "    }\n",
       "\n",
       "    .dataframe tbody tr th {\n",
       "        vertical-align: top;\n",
       "    }\n",
       "\n",
       "    .dataframe thead th {\n",
       "        text-align: right;\n",
       "    }\n",
       "</style>\n",
       "<table border=\"1\" class=\"dataframe\">\n",
       "  <thead>\n",
       "    <tr style=\"text-align: right;\">\n",
       "      <th></th>\n",
       "      <th>hypothesis</th>\n",
       "      <th>ICE</th>\n",
       "    </tr>\n",
       "  </thead>\n",
       "  <tbody>\n",
       "    <tr>\n",
       "      <th>8</th>\n",
       "      <td>Запустить акцию, дающую скидку на товар в день рождения</td>\n",
       "      <td>16.20</td>\n",
       "    </tr>\n",
       "    <tr>\n",
       "      <th>0</th>\n",
       "      <td>Добавить два новых канала привлечения трафика, что позволит привлекать на 30% больше пользователей</td>\n",
       "      <td>13.33</td>\n",
       "    </tr>\n",
       "    <tr>\n",
       "      <th>7</th>\n",
       "      <td>Добавить форму подписки на все основные страницы, чтобы собрать базу клиентов для email-рассылок</td>\n",
       "      <td>11.20</td>\n",
       "    </tr>\n",
       "    <tr>\n",
       "      <th>6</th>\n",
       "      <td>Показать на главной странице баннеры с актуальными акциями и распродажами, чтобы увеличить конверсию</td>\n",
       "      <td>8.00</td>\n",
       "    </tr>\n",
       "    <tr>\n",
       "      <th>2</th>\n",
       "      <td>Добавить блоки рекомендаций товаров на сайт интернет магазина, чтобы повысить конверсию и средний чек заказа</td>\n",
       "      <td>7.00</td>\n",
       "    </tr>\n",
       "    <tr>\n",
       "      <th>1</th>\n",
       "      <td>Запустить собственную службу доставки, что сократит срок доставки заказов</td>\n",
       "      <td>2.00</td>\n",
       "    </tr>\n",
       "    <tr>\n",
       "      <th>5</th>\n",
       "      <td>Добавить страницу отзывов клиентов о магазине, что позволит увеличить количество заказов</td>\n",
       "      <td>1.33</td>\n",
       "    </tr>\n",
       "    <tr>\n",
       "      <th>3</th>\n",
       "      <td>Изменить структура категорий, что увеличит конверсию, т.к. пользователи быстрее найдут нужный товар</td>\n",
       "      <td>1.12</td>\n",
       "    </tr>\n",
       "    <tr>\n",
       "      <th>4</th>\n",
       "      <td>Изменить цвет фона главной страницы, чтобы увеличить вовлеченность пользователей</td>\n",
       "      <td>1.00</td>\n",
       "    </tr>\n",
       "  </tbody>\n",
       "</table>\n",
       "</div>"
      ],
      "text/plain": [
       "                                                                                                     hypothesis  \\\n",
       "8                                                       Запустить акцию, дающую скидку на товар в день рождения   \n",
       "0            Добавить два новых канала привлечения трафика, что позволит привлекать на 30% больше пользователей   \n",
       "7              Добавить форму подписки на все основные страницы, чтобы собрать базу клиентов для email-рассылок   \n",
       "6          Показать на главной странице баннеры с актуальными акциями и распродажами, чтобы увеличить конверсию   \n",
       "2  Добавить блоки рекомендаций товаров на сайт интернет магазина, чтобы повысить конверсию и средний чек заказа   \n",
       "1                                     Запустить собственную службу доставки, что сократит срок доставки заказов   \n",
       "5                      Добавить страницу отзывов клиентов о магазине, что позволит увеличить количество заказов   \n",
       "3           Изменить структура категорий, что увеличит конверсию, т.к. пользователи быстрее найдут нужный товар   \n",
       "4                              Изменить цвет фона главной страницы, чтобы увеличить вовлеченность пользователей   \n",
       "\n",
       "     ICE  \n",
       "8  16.20  \n",
       "0  13.33  \n",
       "7  11.20  \n",
       "6   8.00  \n",
       "2   7.00  \n",
       "1   2.00  \n",
       "5   1.33  \n",
       "3   1.12  \n",
       "4   1.00  "
      ]
     },
     "execution_count": 26,
     "metadata": {},
     "output_type": "execute_result"
    }
   ],
   "source": [
    "# Отсортируем результаты в порядке убывания.\n",
    "\n",
    "hypothesis[['hypothesis', 'ICE']].sort_values('ICE', ascending = False)"
   ]
  },
  {
   "cell_type": "markdown",
   "metadata": {},
   "source": [
    "Согласно результатам, наиболее перспективными гипотезами являются:\n",
    "* 8 - Запустить акцию, дающую скидку на товар в день рождения\n",
    "* 0 - Добавить два новых канала привлечения трафика, что позволит привлекать на 30% больше пользователей\n",
    "* 7 - Добавить форму подписки на все основные страницы, чтобы собрать базу клиентов для email-рассылок"
   ]
  },
  {
   "cell_type": "markdown",
   "metadata": {},
   "source": [
    "#### Метод RICE"
   ]
  },
  {
   "cell_type": "code",
   "execution_count": 27,
   "metadata": {},
   "outputs": [],
   "source": [
    "# Применим фреймворк RICE для приоритизации гипотез.\n",
    "\n",
    "hypothesis['RICE'] = hypothesis['reach']*hypothesis['impact']*hypothesis['confidence']/hypothesis['efforts'] "
   ]
  },
  {
   "cell_type": "code",
   "execution_count": 28,
   "metadata": {},
   "outputs": [
    {
     "data": {
      "text/html": [
       "<div>\n",
       "<style scoped>\n",
       "    .dataframe tbody tr th:only-of-type {\n",
       "        vertical-align: middle;\n",
       "    }\n",
       "\n",
       "    .dataframe tbody tr th {\n",
       "        vertical-align: top;\n",
       "    }\n",
       "\n",
       "    .dataframe thead th {\n",
       "        text-align: right;\n",
       "    }\n",
       "</style>\n",
       "<table border=\"1\" class=\"dataframe\">\n",
       "  <thead>\n",
       "    <tr style=\"text-align: right;\">\n",
       "      <th></th>\n",
       "      <th>hypothesis</th>\n",
       "      <th>RICE</th>\n",
       "    </tr>\n",
       "  </thead>\n",
       "  <tbody>\n",
       "    <tr>\n",
       "      <th>7</th>\n",
       "      <td>Добавить форму подписки на все основные страницы, чтобы собрать базу клиентов для email-рассылок</td>\n",
       "      <td>112.0</td>\n",
       "    </tr>\n",
       "    <tr>\n",
       "      <th>2</th>\n",
       "      <td>Добавить блоки рекомендаций товаров на сайт интернет магазина, чтобы повысить конверсию и средний чек заказа</td>\n",
       "      <td>56.0</td>\n",
       "    </tr>\n",
       "    <tr>\n",
       "      <th>0</th>\n",
       "      <td>Добавить два новых канала привлечения трафика, что позволит привлекать на 30% больше пользователей</td>\n",
       "      <td>40.0</td>\n",
       "    </tr>\n",
       "    <tr>\n",
       "      <th>6</th>\n",
       "      <td>Показать на главной странице баннеры с актуальными акциями и распродажами, чтобы увеличить конверсию</td>\n",
       "      <td>40.0</td>\n",
       "    </tr>\n",
       "    <tr>\n",
       "      <th>8</th>\n",
       "      <td>Запустить акцию, дающую скидку на товар в день рождения</td>\n",
       "      <td>16.2</td>\n",
       "    </tr>\n",
       "    <tr>\n",
       "      <th>3</th>\n",
       "      <td>Изменить структура категорий, что увеличит конверсию, т.к. пользователи быстрее найдут нужный товар</td>\n",
       "      <td>9.0</td>\n",
       "    </tr>\n",
       "    <tr>\n",
       "      <th>1</th>\n",
       "      <td>Запустить собственную службу доставки, что сократит срок доставки заказов</td>\n",
       "      <td>4.0</td>\n",
       "    </tr>\n",
       "    <tr>\n",
       "      <th>5</th>\n",
       "      <td>Добавить страницу отзывов клиентов о магазине, что позволит увеличить количество заказов</td>\n",
       "      <td>4.0</td>\n",
       "    </tr>\n",
       "    <tr>\n",
       "      <th>4</th>\n",
       "      <td>Изменить цвет фона главной страницы, чтобы увеличить вовлеченность пользователей</td>\n",
       "      <td>3.0</td>\n",
       "    </tr>\n",
       "  </tbody>\n",
       "</table>\n",
       "</div>"
      ],
      "text/plain": [
       "                                                                                                     hypothesis  \\\n",
       "7              Добавить форму подписки на все основные страницы, чтобы собрать базу клиентов для email-рассылок   \n",
       "2  Добавить блоки рекомендаций товаров на сайт интернет магазина, чтобы повысить конверсию и средний чек заказа   \n",
       "0            Добавить два новых канала привлечения трафика, что позволит привлекать на 30% больше пользователей   \n",
       "6          Показать на главной странице баннеры с актуальными акциями и распродажами, чтобы увеличить конверсию   \n",
       "8                                                       Запустить акцию, дающую скидку на товар в день рождения   \n",
       "3           Изменить структура категорий, что увеличит конверсию, т.к. пользователи быстрее найдут нужный товар   \n",
       "1                                     Запустить собственную службу доставки, что сократит срок доставки заказов   \n",
       "5                      Добавить страницу отзывов клиентов о магазине, что позволит увеличить количество заказов   \n",
       "4                              Изменить цвет фона главной страницы, чтобы увеличить вовлеченность пользователей   \n",
       "\n",
       "    RICE  \n",
       "7  112.0  \n",
       "2   56.0  \n",
       "0   40.0  \n",
       "6   40.0  \n",
       "8   16.2  \n",
       "3    9.0  \n",
       "1    4.0  \n",
       "5    4.0  \n",
       "4    3.0  "
      ]
     },
     "execution_count": 28,
     "metadata": {},
     "output_type": "execute_result"
    }
   ],
   "source": [
    "# Отсортируем результаты в порядке убывания.\n",
    "\n",
    "hypothesis[['hypothesis', 'RICE']].sort_values('RICE', ascending = False)"
   ]
  },
  {
   "cell_type": "markdown",
   "metadata": {},
   "source": [
    "Полученные результаты говорят о том, что наиболее перспективными являются гипотезы:\n",
    "* 7 - Добавить форму подписки на все основные страницы, чтобы собрать базу клиентов для email-рассылок\n",
    "* 2 - Добавить блоки рекомендаций товаров на сайт интернет магазина, чтобы повысить конверсию и средний чек заказа\n",
    "* 0 - Добавить два новых канала привлечения трафика, что позволит привлекать на 30% больше пользователей - и 6 - Показать на главной странице баннеры с актуальными акциями и распродажами, чтобы увеличить конверсию"
   ]
  },
  {
   "cell_type": "markdown",
   "metadata": {},
   "source": [
    "#### Выводы по разделу."
   ]
  },
  {
   "cell_type": "markdown",
   "metadata": {},
   "source": [
    "1. Метод приоритизации гипотез ICE показал, что наиболее перспективными для исследования являются гипотезы:\n",
    "* 8 - Запустить акцию, дающую скидку на товар в день рождения\n",
    "* 0 - Добавить два новых канала привлечения трафика, что позволит привлекать на 30% больше пользователей\n",
    "* 7 - Добавить форму подписки на все основные страницы, чтобы собрать базу клиентов для email-рассылок\n",
    "\n",
    "2. Метод приоритизации гипотез RICE показал, что наиболее перспективными для исследования являются гипотезы:\n",
    "* 7 - Добавить форму подписки на все основные страницы, чтобы собрать базу клиентов для email-рассылок\n",
    "* 2 - Добавить блоки рекомендаций товаров на сайт интернет магазина, чтобы повысить конверсию и средний чек заказа\n",
    "* 0 - Добавить два новых канала привлечения трафика, что позволит привлекать на 30% больше пользователей - и 6 - Показать на главной странице баннеры с актуальными акциями и распродажами, чтобы увеличить конверсию\n",
    "\n",
    "3. Список перспективных гипотез, определённых методом RICE, несколько отличается от тех, что были выделены методом ICE. На первом месте оказалась гипотеза №7, на втором месте появилась гипотеза №2, гипотеза №0  переместилась со второй строчки на третью. Гипотеза №7 смогла выйти на топовую позицию благодаря самому высокому показателю критерия Reach (10), отражающего количество пользователей, которых затронет планируемое изменение. Гипотеза №2 также поднялась на более высокое место благодаря критерию Reach в 8 баллов. Гипотеза №0 сместилась на третью позицию ввиду более низкого показателя Reach (3), однако высокие показатели критериев Impact (10) и Confidence (8) позволили ей остаться в тройке лидеров.\n",
    "\n",
    "4. С учётом полученных результатов можно говорить о том, что гипотезы заслуживающие первостепенного внимания являются гипотезы 7 и 0, вошедшие в топ-3 результатов при использовании обоих методов приоритизации."
   ]
  },
  {
   "cell_type": "markdown",
   "metadata": {},
   "source": [
    "### Анализ A/B-теста."
   ]
  },
  {
   "cell_type": "markdown",
   "metadata": {},
   "source": [
    "#### График кумулятивной выручки по группам."
   ]
  },
  {
   "cell_type": "code",
   "execution_count": 29,
   "metadata": {},
   "outputs": [],
   "source": [
    "# создаем массив уникальных пар значений дат и групп теста.\n",
    "\n",
    "datesGroups = orders[['date','group']].drop_duplicates() \n"
   ]
  },
  {
   "cell_type": "code",
   "execution_count": 30,
   "metadata": {},
   "outputs": [],
   "source": [
    "# получаем агрегированные кумулятивные по дням данные о заказах. \n",
    "\n",
    "ordersAggregated = datesGroups.apply(lambda x: orders[np.logical_and(orders['date'] <= x['date'], orders['group'] == x['group'])]\\\n",
    "                              .agg({'date' : 'max', 'group' : 'max', 'transactionId' : 'nunique', 'visitorId' : 'nunique', 'revenue' : 'sum'}), axis=1)\\\n",
    "                              .sort_values(by=['date','group'])\n"
   ]
  },
  {
   "cell_type": "code",
   "execution_count": 31,
   "metadata": {},
   "outputs": [
    {
     "data": {
      "text/html": [
       "<div>\n",
       "<style scoped>\n",
       "    .dataframe tbody tr th:only-of-type {\n",
       "        vertical-align: middle;\n",
       "    }\n",
       "\n",
       "    .dataframe tbody tr th {\n",
       "        vertical-align: top;\n",
       "    }\n",
       "\n",
       "    .dataframe thead th {\n",
       "        text-align: right;\n",
       "    }\n",
       "</style>\n",
       "<table border=\"1\" class=\"dataframe\">\n",
       "  <thead>\n",
       "    <tr style=\"text-align: right;\">\n",
       "      <th></th>\n",
       "      <th>date</th>\n",
       "      <th>group</th>\n",
       "      <th>transactionId</th>\n",
       "      <th>visitorId</th>\n",
       "      <th>revenue</th>\n",
       "    </tr>\n",
       "  </thead>\n",
       "  <tbody>\n",
       "    <tr>\n",
       "      <th>55</th>\n",
       "      <td>2019-08-01</td>\n",
       "      <td>A</td>\n",
       "      <td>23</td>\n",
       "      <td>19</td>\n",
       "      <td>142779</td>\n",
       "    </tr>\n",
       "    <tr>\n",
       "      <th>66</th>\n",
       "      <td>2019-08-01</td>\n",
       "      <td>B</td>\n",
       "      <td>17</td>\n",
       "      <td>17</td>\n",
       "      <td>59758</td>\n",
       "    </tr>\n",
       "    <tr>\n",
       "      <th>175</th>\n",
       "      <td>2019-08-02</td>\n",
       "      <td>A</td>\n",
       "      <td>42</td>\n",
       "      <td>36</td>\n",
       "      <td>234381</td>\n",
       "    </tr>\n",
       "    <tr>\n",
       "      <th>173</th>\n",
       "      <td>2019-08-02</td>\n",
       "      <td>B</td>\n",
       "      <td>40</td>\n",
       "      <td>39</td>\n",
       "      <td>221801</td>\n",
       "    </tr>\n",
       "    <tr>\n",
       "      <th>291</th>\n",
       "      <td>2019-08-03</td>\n",
       "      <td>A</td>\n",
       "      <td>66</td>\n",
       "      <td>60</td>\n",
       "      <td>346854</td>\n",
       "    </tr>\n",
       "  </tbody>\n",
       "</table>\n",
       "</div>"
      ],
      "text/plain": [
       "          date group  transactionId  visitorId  revenue\n",
       "55  2019-08-01     A             23         19   142779\n",
       "66  2019-08-01     B             17         17    59758\n",
       "175 2019-08-02     A             42         36   234381\n",
       "173 2019-08-02     B             40         39   221801\n",
       "291 2019-08-03     A             66         60   346854"
      ]
     },
     "execution_count": 31,
     "metadata": {},
     "output_type": "execute_result"
    }
   ],
   "source": [
    "ordersAggregated.head()"
   ]
  },
  {
   "cell_type": "code",
   "execution_count": 32,
   "metadata": {},
   "outputs": [],
   "source": [
    "# получаем агрегированные кумулятивные по дням данные о посетителях. \n",
    "\n",
    "visitorsAggregated = datesGroups.apply(lambda x: visitors[np.logical_and(visitors['date'] <= x['date'], visitors['group'] == x['group'])]\\\n",
    "                                .agg({'date' : 'max', 'group' : 'max', 'visitors' : 'sum'}), axis=1)\\\n",
    "                                .sort_values(by=['date','group'])\n"
   ]
  },
  {
   "cell_type": "code",
   "execution_count": 33,
   "metadata": {},
   "outputs": [
    {
     "data": {
      "text/html": [
       "<div>\n",
       "<style scoped>\n",
       "    .dataframe tbody tr th:only-of-type {\n",
       "        vertical-align: middle;\n",
       "    }\n",
       "\n",
       "    .dataframe tbody tr th {\n",
       "        vertical-align: top;\n",
       "    }\n",
       "\n",
       "    .dataframe thead th {\n",
       "        text-align: right;\n",
       "    }\n",
       "</style>\n",
       "<table border=\"1\" class=\"dataframe\">\n",
       "  <thead>\n",
       "    <tr style=\"text-align: right;\">\n",
       "      <th></th>\n",
       "      <th>date</th>\n",
       "      <th>group</th>\n",
       "      <th>visitors</th>\n",
       "    </tr>\n",
       "  </thead>\n",
       "  <tbody>\n",
       "    <tr>\n",
       "      <th>55</th>\n",
       "      <td>2019-08-01</td>\n",
       "      <td>A</td>\n",
       "      <td>719</td>\n",
       "    </tr>\n",
       "    <tr>\n",
       "      <th>66</th>\n",
       "      <td>2019-08-01</td>\n",
       "      <td>B</td>\n",
       "      <td>713</td>\n",
       "    </tr>\n",
       "    <tr>\n",
       "      <th>175</th>\n",
       "      <td>2019-08-02</td>\n",
       "      <td>A</td>\n",
       "      <td>1338</td>\n",
       "    </tr>\n",
       "    <tr>\n",
       "      <th>173</th>\n",
       "      <td>2019-08-02</td>\n",
       "      <td>B</td>\n",
       "      <td>1294</td>\n",
       "    </tr>\n",
       "    <tr>\n",
       "      <th>291</th>\n",
       "      <td>2019-08-03</td>\n",
       "      <td>A</td>\n",
       "      <td>1845</td>\n",
       "    </tr>\n",
       "  </tbody>\n",
       "</table>\n",
       "</div>"
      ],
      "text/plain": [
       "          date group  visitors\n",
       "55  2019-08-01     A       719\n",
       "66  2019-08-01     B       713\n",
       "175 2019-08-02     A      1338\n",
       "173 2019-08-02     B      1294\n",
       "291 2019-08-03     A      1845"
      ]
     },
     "execution_count": 33,
     "metadata": {},
     "output_type": "execute_result"
    }
   ],
   "source": [
    "visitorsAggregated.head()"
   ]
  },
  {
   "cell_type": "code",
   "execution_count": 34,
   "metadata": {},
   "outputs": [],
   "source": [
    "# объединяем кумулятивные данные в одной таблице. \n",
    "\n",
    "cumulativeData = ordersAggregated.merge(visitorsAggregated, left_on=['date', 'group'], right_on=['date', 'group'])\n",
    "cumulativeData.columns = ['date', 'group', 'orders', 'buyers', 'revenue', 'visitors']\n"
   ]
  },
  {
   "cell_type": "code",
   "execution_count": 35,
   "metadata": {},
   "outputs": [
    {
     "data": {
      "text/html": [
       "<div>\n",
       "<style scoped>\n",
       "    .dataframe tbody tr th:only-of-type {\n",
       "        vertical-align: middle;\n",
       "    }\n",
       "\n",
       "    .dataframe tbody tr th {\n",
       "        vertical-align: top;\n",
       "    }\n",
       "\n",
       "    .dataframe thead th {\n",
       "        text-align: right;\n",
       "    }\n",
       "</style>\n",
       "<table border=\"1\" class=\"dataframe\">\n",
       "  <thead>\n",
       "    <tr style=\"text-align: right;\">\n",
       "      <th></th>\n",
       "      <th>date</th>\n",
       "      <th>group</th>\n",
       "      <th>orders</th>\n",
       "      <th>buyers</th>\n",
       "      <th>revenue</th>\n",
       "      <th>visitors</th>\n",
       "    </tr>\n",
       "  </thead>\n",
       "  <tbody>\n",
       "    <tr>\n",
       "      <th>0</th>\n",
       "      <td>2019-08-01</td>\n",
       "      <td>A</td>\n",
       "      <td>23</td>\n",
       "      <td>19</td>\n",
       "      <td>142779</td>\n",
       "      <td>719</td>\n",
       "    </tr>\n",
       "    <tr>\n",
       "      <th>1</th>\n",
       "      <td>2019-08-01</td>\n",
       "      <td>B</td>\n",
       "      <td>17</td>\n",
       "      <td>17</td>\n",
       "      <td>59758</td>\n",
       "      <td>713</td>\n",
       "    </tr>\n",
       "    <tr>\n",
       "      <th>2</th>\n",
       "      <td>2019-08-02</td>\n",
       "      <td>A</td>\n",
       "      <td>42</td>\n",
       "      <td>36</td>\n",
       "      <td>234381</td>\n",
       "      <td>1338</td>\n",
       "    </tr>\n",
       "    <tr>\n",
       "      <th>3</th>\n",
       "      <td>2019-08-02</td>\n",
       "      <td>B</td>\n",
       "      <td>40</td>\n",
       "      <td>39</td>\n",
       "      <td>221801</td>\n",
       "      <td>1294</td>\n",
       "    </tr>\n",
       "    <tr>\n",
       "      <th>4</th>\n",
       "      <td>2019-08-03</td>\n",
       "      <td>A</td>\n",
       "      <td>66</td>\n",
       "      <td>60</td>\n",
       "      <td>346854</td>\n",
       "      <td>1845</td>\n",
       "    </tr>\n",
       "  </tbody>\n",
       "</table>\n",
       "</div>"
      ],
      "text/plain": [
       "        date group  orders  buyers  revenue  visitors\n",
       "0 2019-08-01     A      23      19   142779       719\n",
       "1 2019-08-01     B      17      17    59758       713\n",
       "2 2019-08-02     A      42      36   234381      1338\n",
       "3 2019-08-02     B      40      39   221801      1294\n",
       "4 2019-08-03     A      66      60   346854      1845"
      ]
     },
     "execution_count": 35,
     "metadata": {},
     "output_type": "execute_result"
    }
   ],
   "source": [
    "cumulativeData.head(5)"
   ]
  },
  {
   "cell_type": "code",
   "execution_count": 36,
   "metadata": {},
   "outputs": [
    {
     "name": "stdout",
     "output_type": "stream",
     "text": [
      "Минимальные даты в данных совпадают.\n"
     ]
    }
   ],
   "source": [
    "# Проверим корректность датафрейма cummulativeData:\n",
    "# сравним, совпадают ли минимальная и максимальная даты датафрейма с исходныит данными.\n",
    "\n",
    "if cumulativeData['date'].min() == orders['date'].min() == visitors['date'].min():\n",
    "    print('Минимальные даты в данных совпадают.')\n",
    "else:\n",
    "    print('Минимальные даты в данных не совпадают.')"
   ]
  },
  {
   "cell_type": "code",
   "execution_count": 37,
   "metadata": {},
   "outputs": [
    {
     "name": "stdout",
     "output_type": "stream",
     "text": [
      "Максимальные даты в данных совпадают.\n"
     ]
    }
   ],
   "source": [
    "if cumulativeData['date'].max() == orders['date'].max() == visitors['date'].max():\n",
    "    print('Максимальные даты в данных совпадают.')\n",
    "else:\n",
    "    print('Максимальные даты в данных не совпадают.')"
   ]
  },
  {
   "cell_type": "markdown",
   "metadata": {},
   "source": [
    "Датафрейм cummulativeData создан корректно."
   ]
  },
  {
   "cell_type": "code",
   "execution_count": 38,
   "metadata": {},
   "outputs": [],
   "source": [
    "# датафрейм с кумулятивным количеством заказов и кумулятивной выручкой по дням в группе А.\n",
    "\n",
    "cumulativeRevenueA = cumulativeData[cumulativeData['group']=='A'][['date','revenue', 'orders']]\n"
   ]
  },
  {
   "cell_type": "code",
   "execution_count": 39,
   "metadata": {},
   "outputs": [],
   "source": [
    "# датафрейм с кумулятивным количеством заказов и кумулятивной выручкой по дням в группе B.\n",
    "\n",
    "cumulativeRevenueB = cumulativeData[cumulativeData['group']=='B'][['date','revenue', 'orders']]\n"
   ]
  },
  {
   "cell_type": "code",
   "execution_count": 40,
   "metadata": {},
   "outputs": [
    {
     "data": {
      "image/png": "[encoded data removed]",
      "text/plain": [
       "<Figure size 864x360 with 1 Axes>"
      ]
     },
     "metadata": {
      "needs_background": "light"
     },
     "output_type": "display_data"
    }
   ],
   "source": [
    "# Строим график кумулятивной выручки групп А и В.\n",
    "\n",
    "plt.figure(figsize=(12, 5))\n",
    "plt.plot(cumulativeRevenueA['date'], cumulativeRevenueA['revenue'], label='A')\n",
    "plt.plot(cumulativeRevenueB['date'], cumulativeRevenueB['revenue'], label='B')\n",
    "plt.legend() \n",
    "plt.title('Кумулятивная выручка по группам')\n",
    "plt.xlabel('Дата')\n",
    "plt.ylabel('Кумулятивная выручка')\n",
    "plt.show();"
   ]
  },
  {
   "cell_type": "markdown",
   "metadata": {},
   "source": [
    "**Выводы.** Выручка в обеих группах увеличивалась на протяжении всего теста. В группе А наблюдается небольшой скачок в выручке  13.08.2019 - в этот день показатели групп сравнялись. В районе 19.08.2019 у группы В наблюдается резкий скачок, а далее выручка стабильно держится на более высоких значениях по сравнению с группой А. Скачки в показателях обеих групп могут быть связаны с наличием выбросов - аномально крупных заказов в отмеченные даты. После 19.08 показатели в обеих группах стабилизируются, и резких скачков более не наблюдается. Видимо, число полученных наблюдений оказалось достаточным, чтобы по закону больших чисел значения показателей приблизились к ожидаемым. Результаты дают возможность предположить, что изменения тестируемые на группе В будут более успешными для компании."
   ]
  },
  {
   "cell_type": "markdown",
   "metadata": {},
   "source": [
    "#### График кумулятивного среднего чека по группам."
   ]
  },
  {
   "cell_type": "code",
   "execution_count": 41,
   "metadata": {},
   "outputs": [
    {
     "data": {
      "image/png": "[encoded data removed]",
      "text/plain": [
       "<Figure size 864x360 with 1 Axes>"
      ]
     },
     "metadata": {
      "needs_background": "light"
     },
     "output_type": "display_data"
    }
   ],
   "source": [
    "# Строим графики среднего чека по группам.\n",
    "\n",
    "plt.figure(figsize=(12, 5))\n",
    "plt.plot(cumulativeRevenueA['date'], cumulativeRevenueA['revenue']/cumulativeRevenueA['orders'], label='A')\n",
    "plt.plot(cumulativeRevenueB['date'], cumulativeRevenueB['revenue']/cumulativeRevenueB['orders'], label='B')\n",
    "plt.title('Кумулятивный средний чек по группам')\n",
    "plt.legend()\n",
    "plt.xlabel('Дата')\n",
    "plt.ylabel('Средний чек'); \n"
   ]
  },
  {
   "cell_type": "markdown",
   "metadata": {},
   "source": [
    "**Выводы.** Примерно до 18.08 показатели обеих групп подвержены заметным колебаниям. Примерно с 3.08 по 11.08 в лидерах находится группа В, после чего показатели сравниваются, и группа А начинает лидировать до 18.08. Как и на графике выручки, в группе В виден резкий скачок в среднем чеке в районе 19.08.2019, а далее стабильно более высокие показатели значения среднего чека на протяжении последующих дней теста относительно А. Колебания в обеих группах могут быть связаны с появлением аномальных заказов. Значения стабилизируются ближе к окончанию теста. Таким образом, и график среднего чека по группам позволяет предположить большую успешность группы В. "
   ]
  },
  {
   "cell_type": "markdown",
   "metadata": {},
   "source": [
    "#### График относительного различия для кумулятивного среднего чека."
   ]
  },
  {
   "cell_type": "code",
   "execution_count": 42,
   "metadata": {},
   "outputs": [
    {
     "data": {
      "image/png": "[encoded data removed]",
      "text/plain": [
       "<Figure size 864x360 with 1 Axes>"
      ]
     },
     "metadata": {
      "needs_background": "light"
     },
     "output_type": "display_data"
    }
   ],
   "source": [
    "# Собираем кумулятивные данные в одном датафрейме \n",
    "# и строим график относительного изменения кумулятивного среднего чека группы B к группе A.\n",
    "\n",
    "mergedCumulativeRevenue = cumulativeRevenueA.merge(cumulativeRevenueB, left_on='date', right_on='date', how='left', suffixes=['A', 'B'])\n",
    "\n",
    "plt.figure(figsize=(12, 5))\n",
    "plt.plot(mergedCumulativeRevenue['date'], (mergedCumulativeRevenue['revenueB']/mergedCumulativeRevenue['ordersB'])\\\n",
    "    /(mergedCumulativeRevenue['revenueA']/mergedCumulativeRevenue['ordersA'])-1)\n",
    "\n",
    "plt.axhline(y=0, color='red', linestyle='--')\n",
    "plt.title('Относительное различие для кумулятивного среднего чека группы B к группе A')\n",
    "plt.xlabel('Дата')\n",
    "plt.ylabel('Различие')\n",
    "plt.show(); "
   ]
  },
  {
   "cell_type": "markdown",
   "metadata": {},
   "source": [
    "**Выводы.** По графику видно, что на протяжении практически всего времени показатели группы В были значительно лучше, уступив  немного группе А только в самом начале теста и в районе 13.08.2019 - 18.08.2019. В целом, и этот график позволяет предположить, что изменения тестируемые на группе В являются более результативными."
   ]
  },
  {
   "cell_type": "markdown",
   "metadata": {},
   "source": [
    "#### График кумулятивного среднего количества заказов на посетителя по группам."
   ]
  },
  {
   "cell_type": "code",
   "execution_count": 43,
   "metadata": {},
   "outputs": [],
   "source": [
    "# Считаем кумулятивную конверсию.\n",
    "\n",
    "cumulativeData['conversion'] = round(cumulativeData['orders']/cumulativeData['visitors'],3)"
   ]
  },
  {
   "cell_type": "code",
   "execution_count": 44,
   "metadata": {},
   "outputs": [],
   "source": [
    "# Отделяем пользователей группы А.\n",
    "\n",
    "cumulativeDataA = cumulativeData[cumulativeData['group']=='A']"
   ]
  },
  {
   "cell_type": "code",
   "execution_count": 45,
   "metadata": {},
   "outputs": [],
   "source": [
    "# Отделяем пользователей группы B.\n",
    "\n",
    "cumulativeDataB = cumulativeData[cumulativeData['group']=='B']"
   ]
  },
  {
   "cell_type": "code",
   "execution_count": 46,
   "metadata": {},
   "outputs": [
    {
     "data": {
      "image/png": "[encoded data removed]",
      "text/plain": [
       "<Figure size 864x360 with 1 Axes>"
      ]
     },
     "metadata": {
      "needs_background": "light"
     },
     "output_type": "display_data"
    }
   ],
   "source": [
    "# строим графики кумулятивного среднего количества заказов на посетителя.\n",
    "\n",
    "plt.figure(figsize=(12, 5))\n",
    "plt.plot(cumulativeDataA['date'], cumulativeDataA['conversion'], label='A')\n",
    "plt.plot(cumulativeDataB['date'], cumulativeDataB['conversion'], label='B')\n",
    "plt.title('Кумулятивная конверсия по группам')\n",
    "plt.legend()\n",
    "plt.xlabel('Дата')\n",
    "plt.ylabel('Конверсия')\n",
    "plt.show();\n"
   ]
  },
  {
   "cell_type": "markdown",
   "metadata": {},
   "source": [
    "В начале исследования результаты группа А по кумулятивному среднему количеству заказов на посетителя были лучше, но, примерно после 06.08 показатели группы В стали более высокими, и группа сохранила лидирующую позицию до последнего дня теста."
   ]
  },
  {
   "cell_type": "markdown",
   "metadata": {},
   "source": [
    "#### График относительного изменения кумулятивного среднего количества заказов на посетителя группы B к группе A."
   ]
  },
  {
   "cell_type": "code",
   "execution_count": 47,
   "metadata": {},
   "outputs": [],
   "source": [
    "#  Объединим данные по конверсиям двух групп.\n",
    "\n",
    "mergedCumulativeConversions = cumulativeDataA[['date','conversion']].merge(cumulativeDataB[['date','conversion']], left_on='date', right_on='date', how='left', suffixes=['A', 'B'])\n",
    "\n"
   ]
  },
  {
   "cell_type": "code",
   "execution_count": 48,
   "metadata": {},
   "outputs": [
    {
     "data": {
      "image/png": "[encoded data removed]",
      "text/plain": [
       "<Figure size 864x360 with 1 Axes>"
      ]
     },
     "metadata": {
      "needs_background": "light"
     },
     "output_type": "display_data"
    }
   ],
   "source": [
    "# Строим график относительного изменения кумулятивного среднего количества заказов на посетителя группы B к группе A.\n",
    "\n",
    "plt.figure(figsize=(12, 5))\n",
    "plt.plot(mergedCumulativeConversions['date'], mergedCumulativeConversions['conversionB']/mergedCumulativeConversions['conversionA']-1)\n",
    "plt.title('Относительное изменение кумулятивного среднего количества заказов на посетителя группы B к группе A')\n",
    "plt.axhline(y=0, color='red', linestyle='--')\n",
    "plt.axhline(y=0.16, color='grey', linestyle='--')\n",
    "plt.xlabel('Дата')\n",
    "plt.ylabel('Различие')\n",
    "plt.show();\n",
    "\n"
   ]
  },
  {
   "cell_type": "markdown",
   "metadata": {},
   "source": [
    "Начиная примерно с 06.08.2019 группа В показывает стабильно лучшие результаты по сравнению с группой А. К концу теста зафиксирован прирост в кумулятивном среднем количетсве заказов на посетителя в районе 16% относительно группы А."
   ]
  },
  {
   "cell_type": "markdown",
   "metadata": {},
   "source": [
    "#### Точечный график количества заказов по пользователям."
   ]
  },
  {
   "cell_type": "code",
   "execution_count": 49,
   "metadata": {},
   "outputs": [],
   "source": [
    "# Считаем количество заказов по пользователям.\n",
    "\n",
    "ordersByUsers = (\n",
    "    orders.groupby('visitorId', as_index=False)\n",
    "    .agg({'transactionId': 'nunique'})\n",
    ")\n",
    "\n",
    "ordersByUsers.columns = ['visitorId', 'orders']\n"
   ]
  },
  {
   "cell_type": "code",
   "execution_count": 50,
   "metadata": {},
   "outputs": [
    {
     "data": {
      "image/png": "[encoded data removed]",
      "text/plain": [
       "<Figure size 864x360 with 1 Axes>"
      ]
     },
     "metadata": {
      "needs_background": "light"
     },
     "output_type": "display_data"
    }
   ],
   "source": [
    "# Строим точечный график количества заказов по пользователям.\n",
    "\n",
    "plt.figure(figsize=(12, 5))\n",
    "x_values = pd.Series(range(0, len(ordersByUsers)))\n",
    "plt.scatter(x_values, ordersByUsers['orders'])\n",
    "plt.title('Точечный график количества заказов по пользователям')\n",
    "plt.xlabel('Пользователи')\n",
    "plt.ylabel('Количество заказов')\n",
    "plt.show();\n"
   ]
  },
  {
   "cell_type": "markdown",
   "metadata": {},
   "source": [
    "По графику видно, что большинство пользователей совершило 1 покупку. "
   ]
  },
  {
   "cell_type": "markdown",
   "metadata": {},
   "source": [
    "#### Перцентили количества заказов на пользователя."
   ]
  },
  {
   "cell_type": "code",
   "execution_count": 51,
   "metadata": {},
   "outputs": [
    {
     "data": {
      "text/plain": [
       "array([1., 2.])"
      ]
     },
     "execution_count": 51,
     "metadata": {},
     "output_type": "execute_result"
    }
   ],
   "source": [
    "# Посчитаем выборочные перцентили количества заказов на одного пользователя.\n",
    "\n",
    "np.percentile(ordersByUsers['orders'], [95, 99])"
   ]
  },
  {
   "cell_type": "markdown",
   "metadata": {},
   "source": [
    "Не более 5% пользователей оформили больше чем 1 заказ. Лишь 1% пользователей сделал более 2 заказов. Возьмём 2 заказа на одного пользователя за верхнюю границу числа заказов, чтобы в итоге не удалить более 5% данных при дополнительной фильтрации по сумме заказа."
   ]
  },
  {
   "cell_type": "markdown",
   "metadata": {},
   "source": [
    "#### Точечный график стоимостей заказов."
   ]
  },
  {
   "cell_type": "code",
   "execution_count": 52,
   "metadata": {},
   "outputs": [
    {
     "data": {
      "image/png": "[encoded data removed]",
      "text/plain": [
       "<Figure size 864x360 with 1 Axes>"
      ]
     },
     "metadata": {
      "needs_background": "light"
     },
     "output_type": "display_data"
    },
    {
     "data": {
      "image/png": "[encoded data removed]",
      "text/plain": [
       "<Figure size 864x360 with 1 Axes>"
      ]
     },
     "metadata": {
      "needs_background": "light"
     },
     "output_type": "display_data"
    }
   ],
   "source": [
    "# Строим точечный график стоимостей заказов.\n",
    "\n",
    "plt.figure(figsize=(12, 5))\n",
    "x_values = pd.Series(range(0,len(orders['revenue'])))\n",
    "plt.scatter(x_values, orders['revenue']) \n",
    "plt.title('Точечный график стоимостей заказов')\n",
    "plt.xlabel('Пользователи')\n",
    "plt.ylabel('Сумма заказа')\n",
    "\n",
    "plt.figure(figsize=(12, 5))\n",
    "x_values = pd.Series(range(0,len(orders['revenue'])))\n",
    "plt.scatter(x_values, orders['revenue']) \n",
    "plt.ylim(0, 125000)\n",
    "\n",
    "plt.title('Точечный график стоимостей заказов')\n",
    "plt.xlabel('Пользователи')\n",
    "plt.ylabel('Сумма заказа')\n",
    "\n",
    "plt.show();\n"
   ]
  },
  {
   "cell_type": "markdown",
   "metadata": {},
   "source": [
    "Один из заказов является абсолютным лидеров среди выбросов (примерно 1300000). Также есть крупный заказа примерно на 200000, который тоже выбивается среди остальных. Эти два выброса могут сильно влиять на результаты расчётов. При более детальном рассмотрении видно, что стоимость большей части заказов не превышает 20000."
   ]
  },
  {
   "cell_type": "markdown",
   "metadata": {},
   "source": [
    "#### 95-й и 99-й перцентили стоимости заказов. "
   ]
  },
  {
   "cell_type": "code",
   "execution_count": 53,
   "metadata": {},
   "outputs": [
    {
     "data": {
      "text/plain": [
       "array([26785., 53904.])"
      ]
     },
     "execution_count": 53,
     "metadata": {},
     "output_type": "execute_result"
    }
   ],
   "source": [
    "# Посчитаем выборочные перцентили стоимости заказов.\n",
    "\n",
    "np.percentile(orders['revenue'], [95, 99])"
   ]
  },
  {
   "cell_type": "markdown",
   "metadata": {},
   "source": [
    "Не более 5% заказов дороже 26785 и не более 1% заказов дороже 53904. Для дальнейшего анализа можно принять пользователей совершивших покупки на более чем 26785 аномальными."
   ]
  },
  {
   "cell_type": "markdown",
   "metadata": {},
   "source": [
    "#### Статистическая значимость различий в среднем количестве заказов на посетителя между группами по «сырым» данным."
   ]
  },
  {
   "cell_type": "markdown",
   "metadata": {},
   "source": [
    "**Нулевая гипотеза:** статистически значимых различий в среднем числе заказов между группами нет.\n",
    "\n",
    "**Альтернативная гипотеза:** статистически значимые различия в среднем числе заказов между группами есть."
   ]
  },
  {
   "cell_type": "code",
   "execution_count": 54,
   "metadata": {},
   "outputs": [],
   "source": [
    "# Считаем количество заказов по пользователям и группам.\n",
    "\n",
    "ordersByUsersA = (\n",
    "    orders[orders['group'] == 'A']\n",
    "    .groupby('visitorId', as_index=False)\n",
    "    .agg({'transactionId': pd.Series.nunique})\n",
    ")\n",
    "ordersByUsersA.columns = ['visitorId', 'orders']\n",
    "\n",
    "ordersByUsersB = (\n",
    "    orders[orders['group'] == 'B']\n",
    "    .groupby('visitorId', as_index=False)\n",
    "    .agg({'transactionId': pd.Series.nunique})\n",
    ")\n",
    "ordersByUsersB.columns = ['visitorId', 'orders'] \n"
   ]
  },
  {
   "cell_type": "code",
   "execution_count": 55,
   "metadata": {},
   "outputs": [
    {
     "name": "stdout",
     "output_type": "stream",
     "text": [
      "p-value: 0.011\n",
      "Принимаем альтернативную гипотезу: статистически значимые различия в среднем числе заказов между группами есть.\n",
      "Относительный прирост среднего числа заказов группы B: 0.160\n"
     ]
    }
   ],
   "source": [
    "# Создадим переменные по группам\n",
    "# с числом заказов определённого пользователя, в том числе ноль.\n",
    "\n",
    "visitorsADaily = visitors[visitors['group'] == 'A'][['date', 'visitors']]\n",
    "visitorsADaily.columns = ['date', 'visitorsPerDateA']\n",
    "\n",
    "visitorsBDaily = visitors[visitors['group'] == 'B'][['date', 'visitors']]\n",
    "visitorsBDaily.columns = ['date', 'visitorsPerDateB']\n",
    "\n",
    "data = visitorsADaily.merge(visitorsBDaily, left_on='date', right_on='date', how='left')\n",
    "\n",
    "sampleA = pd.concat([ordersByUsersA['orders'],pd.Series(0, index=np.arange(data['visitorsPerDateA']\\\n",
    "            .sum() - len(ordersByUsersA['orders'])), name='orders')],axis=0)\n",
    "\n",
    "sampleB = pd.concat([ordersByUsersB['orders'],pd.Series(0, index=np.arange(data['visitorsPerDateB']\\\n",
    "            .sum() - len(ordersByUsersB['orders'])), name='orders')],axis=0) \n",
    "\n",
    "# Выводим p-value после проверки критерием  Манна-Уитни.\n",
    "print('p-value: '\"{0:.3f}\".format(st.mannwhitneyu(sampleA, sampleB)[1]))\n",
    "\n",
    "if st.mannwhitneyu(sampleA, sampleB)[1] < 0.05:\n",
    "    print('Принимаем альтернативную гипотезу: статистически значимые различия в среднем числе заказов между группами есть.')\n",
    "else:\n",
    "    print('Принимаем нулевую гипотезу: статистически значимых различий в среднем числе заказов между группами нет.')\n",
    "\n",
    "# Выводим относительный прирост среднего числа заказов группы B.\n",
    "print('Относительный прирост среднего числа заказов группы B: '\"{0:.3f}\".format(sampleB.mean() / sampleA.mean() - 1))\n"
   ]
  },
  {
   "cell_type": "markdown",
   "metadata": {},
   "source": []
  },
  {
   "cell_type": "markdown",
   "metadata": {},
   "source": [
    "**Выводы:** p-value = 0.011, что меньше 0.05, значит, нулевую гипотезу о том, что статистически значимых различий в среднем числе заказов между группами нет, отвергаем. Относительное превосходство группы В составляет 16%."
   ]
  },
  {
   "cell_type": "markdown",
   "metadata": {},
   "source": [
    "#### Статистическая значимость различий в среднем чеке заказа между группами по «сырым» данным."
   ]
  },
  {
   "cell_type": "markdown",
   "metadata": {},
   "source": [
    "**Нулевая гипотеза:** различий в среднем чеке между группами нет.\n",
    "\n",
    "**Альтернативная гипотеза:** статистически значимые различия в среднем чеке между группами есть."
   ]
  },
  {
   "cell_type": "code",
   "execution_count": 56,
   "metadata": {},
   "outputs": [
    {
     "name": "stdout",
     "output_type": "stream",
     "text": [
      "p-value: 0.829\n",
      "Принимаем нулевую гипотезу: различий в среднем чеке между группами нет.\n",
      "Относительный прирост среднего числа заказов группы B: 0.287\n"
     ]
    }
   ],
   "source": [
    "# Выводим p-value после проверки критерием  Манна-Уитни.\n",
    "\n",
    "print('p-value: ''{0:.3f}'.format(st.mannwhitneyu(orders[orders['group']=='A']['revenue'], orders[orders['group']=='B']['revenue'])[1]))\n",
    "\n",
    "if st.mannwhitneyu(orders[orders['group']=='A']['revenue'], orders[orders['group']=='B']['revenue'])[1] < 0.05:\n",
    "    print('Принимаем альтернативную гипотезу: статистически значимые различия в среднем чеке между группами есть.')\n",
    "else:\n",
    "    print('Принимаем нулевую гипотезу: различий в среднем чеке между группами нет.')\n",
    "    \n",
    "# Выводим относительные различия в среднем чеке между группами.\n",
    "print('Относительный прирост среднего числа заказов группы B: ''{0:.3f}'.format(orders[orders['group']=='B']['revenue'].mean()/orders[orders['group']=='A']['revenue'].mean()-1)) \n"
   ]
  },
  {
   "cell_type": "markdown",
   "metadata": {},
   "source": [
    "**Выводы:** P-value значительно больше 0.05. Значит, причин отвергать нулевую гипотезу и считать, что в среднем чеке есть различия, нет. Между тем, средний чек группы B значительно выше среднего чека группы А - 28.7%. При полученном уровне значимости наблюдаемые различия в среднем чеке двух групп не являются значимыми, а значит, были получены случайно."
   ]
  },
  {
   "cell_type": "markdown",
   "metadata": {},
   "source": [
    "#### Статистическая значимость различий в среднем количестве заказов на посетителя между группами по «очищенным» данным."
   ]
  },
  {
   "cell_type": "code",
   "execution_count": 57,
   "metadata": {},
   "outputs": [
    {
     "name": "stdout",
     "output_type": "stream",
     "text": [
      "568     113298937\n",
      "1099    148427295\n",
      "928     204675465\n",
      "33      249864742\n",
      "684     358944393\n",
      "Name: visitorId, dtype: int64\n",
      "58\n"
     ]
    }
   ],
   "source": [
    "# Создаём данные, очищенные от выбросов.\n",
    "# Взяв во внимание найденные ранее перцентили, определим аномальных пользователей как тех, кто\n",
    "# совершил более 2 заказов на сумму более 26785.\n",
    "\n",
    "usersWithManyOrders = pd.concat(\n",
    "    [\n",
    "        ordersByUsersA[ordersByUsersA['orders'] > np.percentile(ordersByUsers['orders'], 99)]['visitorId'],\n",
    "        ordersByUsersB[ordersByUsersB['orders'] > np.percentile(ordersByUsers['orders'], 99)]['visitorId'],\n",
    "    ],\n",
    "    axis=0,\n",
    ")\n",
    "usersWithExpensiveOrders = orders[orders['revenue'] > np.percentile(orders['revenue'], 95)]['visitorId']\n",
    "abnormalUsers = pd.concat([usersWithManyOrders, usersWithExpensiveOrders], axis=0).drop_duplicates().sort_values()\n",
    "\n",
    "print(abnormalUsers.head(5))\n",
    "print(abnormalUsers.shape[0]) \n"
   ]
  },
  {
   "cell_type": "markdown",
   "metadata": {},
   "source": [
    "Всего в данных 58 аномальных пользователей."
   ]
  },
  {
   "cell_type": "code",
   "execution_count": 58,
   "metadata": {},
   "outputs": [
    {
     "data": {
      "text/plain": [
       "5.96"
      ]
     },
     "execution_count": 58,
     "metadata": {},
     "output_type": "execute_result"
    }
   ],
   "source": [
    "# Определим долю аномальных пользователей среди всех пользователей, сделавших заказы.\n",
    "\n",
    "round(abnormalUsers.shape[0]/orders['visitorId'].nunique()*100, 2)"
   ]
  },
  {
   "cell_type": "markdown",
   "metadata": {},
   "source": [
    "Доля аномальных пользователей составляет 5.96%."
   ]
  },
  {
   "cell_type": "code",
   "execution_count": 59,
   "metadata": {},
   "outputs": [],
   "source": [
    "# Готовим выборки количества заказов по пользователям по группам теста.\n",
    "\n",
    "sampleAFiltered = pd.concat([ordersByUsersA[np.logical_not(ordersByUsersA['visitorId']\\\n",
    "                    .isin(abnormalUsers))]['orders'], pd.Series(0, index=np.arange(data['visitorsPerDateA']\\\n",
    "                    .sum() - len(ordersByUsersA['orders'])), name='orders',),],axis=0,)\n",
    "\n",
    "sampleBFiltered = pd.concat([ordersByUsersB[np.logical_not(ordersByUsersB['visitorId']\\\n",
    "                    .isin(abnormalUsers))]['orders'],pd.Series(0, index=np.arange(data['visitorsPerDateB']\\\n",
    "                    .sum() - len(ordersByUsersB['orders'])), name='orders',),], axis=0,) \n"
   ]
  },
  {
   "cell_type": "code",
   "execution_count": 60,
   "metadata": {},
   "outputs": [
    {
     "name": "stdout",
     "output_type": "stream",
     "text": [
      "p-value: 0.012\n",
      "Принимаем альтернативную гипотезу: статистически значимые различия в среднем числе заказов между группами есть.\n",
      "Относительный прирост среднего числа заказов группы B: 0.182\n"
     ]
    }
   ],
   "source": [
    "# Выводим p-value после проверки критерием  Манна-Уитни.\n",
    "\n",
    "print('p-value: ''{0:.3f}'.format(st.mannwhitneyu(sampleAFiltered, sampleBFiltered)[1]))\n",
    "\n",
    "if st.mannwhitneyu(sampleAFiltered, sampleBFiltered)[1] < 0.05:\n",
    "    print('Принимаем альтернативную гипотезу: статистически значимые различия в среднем числе заказов между группами есть.')\n",
    "else:\n",
    "    print('Принимаем нулевую гипотезу: статистически значимых различий в среднем числе заказов между группами нет.')\n",
    "    \n",
    "\n",
    "# Выводим относительный прирост среднего числа заказов группы B.\n",
    "\n",
    "print('Относительный прирост среднего числа заказов группы B: ''{0:.3f}'.format(sampleBFiltered.mean()/sampleAFiltered.mean()-1))\n"
   ]
  },
  {
   "cell_type": "markdown",
   "metadata": {},
   "source": [
    "После удаления выбросов значение p-value стало ещё ниже , а значит, нулевую гипотезу о том, что статистически значимых различий в среднем числе заказов между группами нет, мы действительно отвергаем.  Более того, относительное превосходство группы В по отношению к группе А увеличилось более чем на 2%."
   ]
  },
  {
   "cell_type": "markdown",
   "metadata": {},
   "source": [
    "#### Cтатистическая значимость различий в среднем чеке заказа между группами по «очищенным» данным."
   ]
  },
  {
   "cell_type": "code",
   "execution_count": 61,
   "metadata": {},
   "outputs": [
    {
     "name": "stdout",
     "output_type": "stream",
     "text": [
      "p-value: 0.646\n",
      "Принимаем нулевую гипотезу: различий в среднем чеке между группами нет.\n",
      "Относительный прирост среднего числа заказов группы B: -0.048\n"
     ]
    }
   ],
   "source": [
    "# Выводим p-value после проверки критерием  Манна-Уитни.\n",
    "\n",
    "results = round(st.mannwhitneyu(orders[np.logical_and(orders['group'] == 'A',np.logical_not(orders['visitorId']\\\n",
    "              .isin(abnormalUsers)),)]['revenue'], orders[np.logical_and(orders['group'] == 'B',\\\n",
    "              np.logical_not(orders['visitorId'].isin(abnormalUsers)),)]['revenue'],)[1], 3)\n",
    "\n",
    "print('p-value:', results)\n",
    "\n",
    "if results < 0.05:\n",
    "    print('Принимаем альтернативную гипотезу: статистически значимые различия в среднем чеке между группами есть.')\n",
    "else:\n",
    "    print('Принимаем нулевую гипотезу: различий в среднем чеке между группами нет.')\n",
    "\n",
    "    \n",
    "# Выводим относительный прирост среднего чека группы B.\n",
    "\n",
    "print('Относительный прирост среднего числа заказов группы B: ''{0:.3f}'.format(orders[np.logical_and(orders['group'] == 'B', np.logical_not(orders['visitorId']\\\n",
    "               .isin(abnormalUsers)),)]['revenue'].mean()/ orders[np.logical_and(orders['group'] == 'A',\\\n",
    "                np.logical_not(orders['visitorId'].isin(abnormalUsers)),)]['revenue'].mean()- 1))"
   ]
  },
  {
   "cell_type": "markdown",
   "metadata": {},
   "source": [
    "После проведения проверки критерием Манна-Уитни на очищенных данных p-value немного снизился. Значит, причин отвергать нулевую гипотезу и считать, что в среднем чеке есть различия, нет. Между тем, относительный разрыв между средним чеком группы В и группы А изменился. Согласно очищенным данным, группа В уступает группе А на 4.8%."
   ]
  },
  {
   "cell_type": "markdown",
   "metadata": {},
   "source": [
    "#### **Выводы по разделу.**"
   ]
  },
  {
   "cell_type": "markdown",
   "metadata": {},
   "source": [
    "* График кумулятивной выручки по группам показывает, что на протяжении всего теста данный показатель в обеих группах рос.  Однако, примерно с серидины теста группа В вышла в лидеры и показывала стабильно более высокие результаты относительно группы А. \n",
    "\n",
    "\n",
    "* Графики кумулятивного среднего чека также становятся более стабильными к концу теста. Между тем, на протяжении теста в обеих группах наблюдались резкие всплески, что может быть связано с появлением крупных заказов. Начиная примерно с серидины теста группа В опережает группу А по данному показателю. \n",
    "\n",
    "\n",
    "* График относительного изменения для кумулятивного среднего чека показывает, что на протяжении практически всего теста  показатели группы В были значительно лучше относительно группы А.\n",
    "\n",
    "\n",
    "* График кумулятивного среднего количества заказов на посетителя по группам показывает, что в самом начале теста результаты группы А по кумулятивному среднему количеству заказов на посетителя были лучше, но, спустя примерно неделю показатели группы В стали более высокими, и группа сохраняла лидирующую позицию до последнего дня теста.\n",
    "\n",
    "\n",
    "* График относительного изменения кумулятивного среднего количества заказов на посетителя группы B к группе A показывает, что примерно через неделю после начала теста группа В стабильно показывала лучшие результаты. К концу теста зафиксирован прирост в кумулятивном среднем количетсве заказов на посетителя в районе 14% относительно группы А.\n",
    "\n",
    "\n",
    "\n",
    "* Точечный график количества заказов по пользователям показывает, что большинство посетителей совершило 1 покупку. Также много пользователей с 2 покупками.\n",
    "\n",
    "\n",
    "* 95 и 99 перцентили количества заказов на пользователя составляют 1 и 2 соответственно, т.е. не более 5% пользователей оформили больше чем 1 заказ и лишь 1% пользователей сделал более 2 заказов. \n",
    "\n",
    "\n",
    "* Точечный график стоимостей заказов показывает, что один заказа является абсолютным лидеров среди выбросов (примерно 1300000). Также есть крупный заказа примерно на 200000, который тоже выбивается среди остальных. \n",
    "\n",
    "\n",
    "* 95 и 99 перцентили количества заказов на пользователя составляют 26785 и 53904 соответственно.\n",
    "\n",
    "\n",
    "* Подсчёт статистической значимости различий в среднем количестве заказов на посетителя между группами А и В по «сырым» данным показал, что различия по этому параметру имеются. p-value = 0.011, а значит, нулевая гипотеза о равенстве в среднем количестве заказов отвергается. Более того, относительное превосходство группы В составило 16%.\n",
    "\n",
    "\n",
    "* Подсчёт статистической значимости различий в среднем чеке заказа между группами А и В по «сырым» данным показал, что различий в данном параметре нет. p-value значительно больше 0.05, нулевая гипотеза о равенстве средних чеков заказов принимается. Между тем, в относительном отношении средний чек группы B значительно выше среднего чека группы А.\n",
    "\n",
    "\n",
    "* Был проведён подсчёт аномальных пользователей - тех, кто совершил более 2 покупок на сумму более 30000. Их количество составило 68 человек - 6.6% от общего числа пользователей, совершивших покупки.\n",
    "\n",
    "\n",
    "* Подсчёт статистической значимости различий в среднем количестве заказов на посетителя между группами по «очищенным» данным подтвердил результаты, полученные по сырым данным. Нулевая гипотеза о равенстве в среднем количестве заказов отвергается. p-value стал ещё ниже - 0.010. Более того, относительное превосходство группы В по отношению к группе А увеличилось более чем на 2%.\n",
    "\n",
    "\n",
    "* Подсчёт статистической значимоси различий в среднем чеке заказа между группами по «очищенным» данным подтвердил результаты проверки по сырым данным - нулевая гипотеза о равенстве средних чеков заказов в двух группах принимается. p-value немного снизился. Однако, относительное развличие среднего чека группы В относительно группы А изменилось. Согласно очищенным данным группа В уступает группе А на 4.8%. \n",
    "\n",
    "\n",
    "\n"
   ]
  },
  {
   "cell_type": "markdown",
   "metadata": {},
   "source": [
    "### Общие выводы.\n",
    "\n",
    "В целях определения наиболее перспективных гипотез по увеличению выручки в данном исследовании была проведена приоритизация гипотез с использованием методов ICE и RICE, а также был произведён анализ результатов проведённого А/В-теста. \n",
    "\n",
    "Первичное знакомство с данными и приоритизация методами ICE и RICE позволили сделать следующие выводы:\n",
    "\n",
    "* В таблице hypothesis имеется информация о 9 гипотезах об увеличении выручки, для каждой из которых определены параметры Reach, Impact, Confidence, Efforts. В таблице orders находится информация о совершённых покупках с данными о номере заказа, номере пользователя, дате заказа, сумме заказа, группе (А или В). При проверке на наличие одинаковых visitorId в двух группах выяснилось, что такие пользователи имеются, и их количество составляет 58 человек - 5.63% от общего количества уникальных пользователей. Пересекающиеся пользователи были удалены из данных. При корректном проведении А/В-теста подобные ситуации должны быть исключены на этапе А/А-теста. В таблице visitors содержится информацию о дате, группе и количестве посетителей в группе. Разница между количеством посетителей в группах за весь период теста составляет менее 1 процента. \n",
    "\n",
    "\n",
    "* При определении наиболее перспективных гипотез с использованием метода ICE были выделены следующие гипотезы:\n",
    " 8 - Запустить акцию, дающую скидку на товар в день рождения;\n",
    " 0 - Добавить два новых канала привлечения трафика, что позволит привлекать на 30% больше пользователей;\n",
    " 7 - Добавить форму подписки на все основные страницы, чтобы собрать базу клиентов для email-рассылок.\n",
    " \n",
    "\n",
    "* При определении наиболее перспективных гипотез с использованием метода RICE были выделены следующие гипотезы:\n",
    " 7 - Добавить форму подписки на все основные страницы, чтобы собрать базу клиентов для email-рассылок;\n",
    " 2 - Добавить блоки рекомендаций товаров на сайт интернет магазина, чтобы повысить конверсию и средний чек заказа;\n",
    " 0 - Добавить два новых канала привлечения трафика, что позволит привлекать на 30% больше пользователей - и 6 - Показать на главной странице баннеры с актуальными акциями и распродажами, чтобы увеличить конверсию.\n",
    " \n",
    "\n",
    "* С учётом полученных результатов можно говорить о том, что гипотезы заслуживающие первостепенного внимания являются гипотезы 7 и 0, вошедшие в топ-3 результатов при использовании обоих методов приоритизации.\n",
    "\n",
    "\n",
    "Анализ результатов А/В-теста позволили сделать следующие выводы:\n",
    "\n",
    "* кумулятивная выручка группы В стабильно выше кумулятивной выручки группы А;\n",
    "* кумулятивный средний чек группы В становится стабильно более высоким относительно группы А примерно с серидины теста;\n",
    "* на протяжении практически всего теста  показатели группы В в относительном изменении для кумулятивного среднего чека были значительно лучше относительно группы А;\n",
    "* спустя примерно неделю кумулятивное среднее количество заказов на посетителя группы В стали более высокими, и группа сохраняла лидирующую позицию до последнего дня теста;\n",
    "* относительное изменение кумулятивного среднего количества заказов на посетителя группы B стало стабильно лучше примерно через неделю после начала теста. К концу теста зафиксирован прирост в кумулятивном среднем количестве заказов на посетителя в районе 14% относительно группы А;\n",
    "* не более 5% пользователей оформили больше чем 1 заказ и лишь 1% пользователей сделал более 2 заказов.\n",
    "* 5% пользователей совершили заказы на более чем 26785 и 1% - на более чем 53904.\n",
    "* проверка критерием Манна-Уитни показала, что нулевая гипотеза о равенстве в среднем количестве заказов по сырым данным отвергается. Более того, относительное превосходство группы В составляет 16%;\n",
    "* нулевая гипотеза о равенстве средних чеков заказов по сырым данным принимается, но в относительном отношении средний чек группы B значительно выше;\n",
    "* аномальных пользователей - сделавших более 2 заказов на сумму более 26785 - 58 человек - 5.96% от общего числа пользователей, совершивших покупки;\n",
    "* по \"очищенным данным\" нулевая гипотеза о равенстве в среднем количестве заказов также отвергается. p-value стал ещё ниже, а  относительное превосходство группы В по отношению к группе А увеличилось более чем на 2%;\n",
    "* по \"очищенным данным\" нулевая гипотеза о равенстве средних чеков заказов в двух группах также принимается. p-value немного снизился, однако, теперь группа В уступает группе А на 4.8%.\n",
    "\n",
    "Приняв во внимание результаты анализа А/В-теста, а так же тот факт, что изменение исследуемых показателей стабилизировалось, рекомендуем остановить тест и признать победу за группой В. \n",
    "\n",
    "\n",
    "\n",
    "\n",
    "\n",
    "\n",
    "\n",
    "\n",
    "\n",
    "\n",
    "\n",
    "\n",
    "\n"
   ]
  }
 ],
 "metadata": {
  "ExecuteTimeLog": [
   {
    "duration": 4,
    "start_time": "2023-04-03T08:27:29.858Z"
   },
   {
    "duration": 1581,
    "start_time": "2023-04-03T08:27:30.605Z"
   },
   {
    "duration": 3,
    "start_time": "2023-04-03T08:30:14.398Z"
   },
   {
    "duration": 192,
    "start_time": "2023-04-03T08:31:54.830Z"
   },
   {
    "duration": 14,
    "start_time": "2023-04-03T08:32:04.551Z"
   },
   {
    "duration": 9,
    "start_time": "2023-04-03T08:32:26.192Z"
   },
   {
    "duration": 2,
    "start_time": "2023-04-03T08:32:44.604Z"
   },
   {
    "duration": 14,
    "start_time": "2023-04-03T08:34:16.705Z"
   },
   {
    "duration": 9,
    "start_time": "2023-04-03T08:34:50.786Z"
   },
   {
    "duration": 12,
    "start_time": "2023-04-03T08:36:06.894Z"
   },
   {
    "duration": 7,
    "start_time": "2023-04-03T08:36:39.089Z"
   },
   {
    "duration": 7,
    "start_time": "2023-04-03T08:37:18.690Z"
   },
   {
    "duration": 14,
    "start_time": "2023-04-03T08:46:21.439Z"
   },
   {
    "duration": 9,
    "start_time": "2023-04-03T08:46:37.387Z"
   },
   {
    "duration": 3,
    "start_time": "2023-04-03T09:06:30.193Z"
   },
   {
    "duration": 3,
    "start_time": "2023-04-03T09:06:59.407Z"
   },
   {
    "duration": 8,
    "start_time": "2023-04-03T09:10:31.046Z"
   },
   {
    "duration": 13,
    "start_time": "2023-04-03T09:11:15.438Z"
   },
   {
    "duration": 4758,
    "start_time": "2023-04-03T09:12:41.039Z"
   },
   {
    "duration": 6,
    "start_time": "2023-04-03T09:12:57.857Z"
   },
   {
    "duration": 1330,
    "start_time": "2023-04-03T09:13:36.856Z"
   },
   {
    "duration": 70,
    "start_time": "2023-04-03T09:13:38.188Z"
   },
   {
    "duration": 17,
    "start_time": "2023-04-03T09:13:38.263Z"
   },
   {
    "duration": 72,
    "start_time": "2023-04-03T09:13:38.283Z"
   },
   {
    "duration": 60,
    "start_time": "2023-04-03T09:13:38.359Z"
   },
   {
    "duration": 48,
    "start_time": "2023-04-03T09:13:38.421Z"
   },
   {
    "duration": 36,
    "start_time": "2023-04-03T09:13:38.471Z"
   },
   {
    "duration": 52,
    "start_time": "2023-04-03T09:13:38.509Z"
   },
   {
    "duration": 126,
    "start_time": "2023-04-03T09:13:38.563Z"
   },
   {
    "duration": 33,
    "start_time": "2023-04-03T09:13:38.690Z"
   },
   {
    "duration": 85,
    "start_time": "2023-04-03T09:13:38.725Z"
   },
   {
    "duration": 92,
    "start_time": "2023-04-03T09:13:38.813Z"
   },
   {
    "duration": 49,
    "start_time": "2023-04-03T09:13:38.907Z"
   },
   {
    "duration": 7,
    "start_time": "2023-04-03T09:17:24.351Z"
   },
   {
    "duration": 11,
    "start_time": "2023-04-03T09:17:59.492Z"
   },
   {
    "duration": 74,
    "start_time": "2023-04-03T12:49:04.285Z"
   },
   {
    "duration": 1758,
    "start_time": "2023-04-03T12:49:41.245Z"
   },
   {
    "duration": 179,
    "start_time": "2023-04-03T12:49:43.006Z"
   },
   {
    "duration": 18,
    "start_time": "2023-04-03T12:49:43.192Z"
   },
   {
    "duration": 13,
    "start_time": "2023-04-03T12:49:43.212Z"
   },
   {
    "duration": 5,
    "start_time": "2023-04-03T12:49:43.228Z"
   },
   {
    "duration": 47,
    "start_time": "2023-04-03T12:49:43.235Z"
   },
   {
    "duration": 28,
    "start_time": "2023-04-03T12:49:43.284Z"
   },
   {
    "duration": 9,
    "start_time": "2023-04-03T12:49:43.314Z"
   },
   {
    "duration": 7,
    "start_time": "2023-04-03T12:49:43.325Z"
   },
   {
    "duration": 8,
    "start_time": "2023-04-03T12:49:43.334Z"
   },
   {
    "duration": 14,
    "start_time": "2023-04-03T12:49:43.344Z"
   },
   {
    "duration": 26,
    "start_time": "2023-04-03T12:49:43.360Z"
   },
   {
    "duration": 11,
    "start_time": "2023-04-03T12:49:43.389Z"
   },
   {
    "duration": 27,
    "start_time": "2023-04-03T12:49:43.405Z"
   },
   {
    "duration": 1218,
    "start_time": "2023-04-03T12:52:19.026Z"
   },
   {
    "duration": 114,
    "start_time": "2023-04-03T12:52:20.246Z"
   },
   {
    "duration": 17,
    "start_time": "2023-04-03T12:52:20.361Z"
   },
   {
    "duration": 23,
    "start_time": "2023-04-03T12:52:20.380Z"
   },
   {
    "duration": 9,
    "start_time": "2023-04-03T12:52:20.405Z"
   },
   {
    "duration": 13,
    "start_time": "2023-04-03T12:52:20.416Z"
   },
   {
    "duration": 29,
    "start_time": "2023-04-03T12:52:20.431Z"
   },
   {
    "duration": 18,
    "start_time": "2023-04-03T12:52:20.461Z"
   },
   {
    "duration": 11,
    "start_time": "2023-04-03T12:52:20.481Z"
   },
   {
    "duration": 5,
    "start_time": "2023-04-03T12:52:20.494Z"
   },
   {
    "duration": 8,
    "start_time": "2023-04-03T12:52:20.501Z"
   },
   {
    "duration": 12,
    "start_time": "2023-04-03T12:52:20.511Z"
   },
   {
    "duration": 5,
    "start_time": "2023-04-03T12:52:20.525Z"
   },
   {
    "duration": 41,
    "start_time": "2023-04-03T12:52:20.532Z"
   },
   {
    "duration": 8,
    "start_time": "2023-04-03T12:53:00.791Z"
   },
   {
    "duration": 14,
    "start_time": "2023-04-03T12:55:17.727Z"
   },
   {
    "duration": 6,
    "start_time": "2023-04-03T12:55:45.615Z"
   },
   {
    "duration": 1257,
    "start_time": "2023-04-03T16:16:38.354Z"
   },
   {
    "duration": 172,
    "start_time": "2023-04-03T16:16:39.613Z"
   },
   {
    "duration": 17,
    "start_time": "2023-04-03T16:16:39.788Z"
   },
   {
    "duration": 40,
    "start_time": "2023-04-03T16:16:39.808Z"
   },
   {
    "duration": 35,
    "start_time": "2023-04-03T16:16:39.851Z"
   },
   {
    "duration": 42,
    "start_time": "2023-04-03T16:16:39.888Z"
   },
   {
    "duration": 43,
    "start_time": "2023-04-03T16:16:39.932Z"
   },
   {
    "duration": 23,
    "start_time": "2023-04-03T16:16:39.977Z"
   },
   {
    "duration": 34,
    "start_time": "2023-04-03T16:16:40.002Z"
   },
   {
    "duration": 43,
    "start_time": "2023-04-03T16:16:40.039Z"
   },
   {
    "duration": 35,
    "start_time": "2023-04-03T16:16:40.084Z"
   },
   {
    "duration": 35,
    "start_time": "2023-04-03T16:16:40.120Z"
   },
   {
    "duration": 34,
    "start_time": "2023-04-03T16:16:40.157Z"
   },
   {
    "duration": 54,
    "start_time": "2023-04-03T16:16:40.192Z"
   },
   {
    "duration": 36,
    "start_time": "2023-04-03T16:16:40.247Z"
   },
   {
    "duration": 24,
    "start_time": "2023-04-03T16:16:40.285Z"
   },
   {
    "duration": 15,
    "start_time": "2023-04-03T16:16:40.311Z"
   },
   {
    "duration": 411,
    "start_time": "2023-04-03T16:20:36.921Z"
   },
   {
    "duration": 335,
    "start_time": "2023-04-03T16:22:37.945Z"
   },
   {
    "duration": 5,
    "start_time": "2023-04-03T16:24:39.803Z"
   },
   {
    "duration": 6,
    "start_time": "2023-04-03T16:25:40.656Z"
   },
   {
    "duration": 11,
    "start_time": "2023-04-03T16:25:50.406Z"
   },
   {
    "duration": 11,
    "start_time": "2023-04-03T16:26:04.404Z"
   },
   {
    "duration": 5,
    "start_time": "2023-04-03T16:26:14.783Z"
   },
   {
    "duration": 9,
    "start_time": "2023-04-03T16:26:52.557Z"
   },
   {
    "duration": 352,
    "start_time": "2023-04-03T16:27:12.926Z"
   },
   {
    "duration": 318,
    "start_time": "2023-04-03T16:27:35.808Z"
   },
   {
    "duration": 36,
    "start_time": "2023-04-03T16:28:19.105Z"
   },
   {
    "duration": 26,
    "start_time": "2023-04-03T16:30:15.099Z"
   },
   {
    "duration": 3,
    "start_time": "2023-04-03T16:31:15.312Z"
   },
   {
    "duration": 23,
    "start_time": "2023-04-03T16:31:21.254Z"
   },
   {
    "duration": 6,
    "start_time": "2023-04-03T16:31:24.873Z"
   },
   {
    "duration": 25,
    "start_time": "2023-04-03T16:31:26.537Z"
   },
   {
    "duration": 331,
    "start_time": "2023-04-03T16:32:02.540Z"
   },
   {
    "duration": 321,
    "start_time": "2023-04-03T16:37:18.804Z"
   },
   {
    "duration": 356,
    "start_time": "2023-04-03T16:37:35.703Z"
   },
   {
    "duration": 1168,
    "start_time": "2023-04-03T16:37:57.275Z"
   },
   {
    "duration": 72,
    "start_time": "2023-04-03T16:37:58.445Z"
   },
   {
    "duration": 12,
    "start_time": "2023-04-03T16:37:58.519Z"
   },
   {
    "duration": 15,
    "start_time": "2023-04-03T16:37:58.533Z"
   },
   {
    "duration": 8,
    "start_time": "2023-04-03T16:37:58.550Z"
   },
   {
    "duration": 12,
    "start_time": "2023-04-03T16:37:58.559Z"
   },
   {
    "duration": 28,
    "start_time": "2023-04-03T16:37:58.572Z"
   },
   {
    "duration": 8,
    "start_time": "2023-04-03T16:37:58.602Z"
   },
   {
    "duration": 10,
    "start_time": "2023-04-03T16:37:58.612Z"
   },
   {
    "duration": 19,
    "start_time": "2023-04-03T16:37:58.624Z"
   },
   {
    "duration": 21,
    "start_time": "2023-04-03T16:37:58.645Z"
   },
   {
    "duration": 7,
    "start_time": "2023-04-03T16:37:58.668Z"
   },
   {
    "duration": 32,
    "start_time": "2023-04-03T16:37:58.676Z"
   },
   {
    "duration": 430,
    "start_time": "2023-04-03T16:37:58.711Z"
   },
   {
    "duration": 0,
    "start_time": "2023-04-03T16:37:59.142Z"
   },
   {
    "duration": 0,
    "start_time": "2023-04-03T16:37:59.143Z"
   },
   {
    "duration": 0,
    "start_time": "2023-04-03T16:37:59.145Z"
   },
   {
    "duration": 0,
    "start_time": "2023-04-03T16:37:59.146Z"
   },
   {
    "duration": 0,
    "start_time": "2023-04-03T16:37:59.148Z"
   },
   {
    "duration": 6,
    "start_time": "2023-04-03T16:42:34.307Z"
   },
   {
    "duration": 9,
    "start_time": "2023-04-03T16:42:49.960Z"
   },
   {
    "duration": 11,
    "start_time": "2023-04-03T16:42:57.407Z"
   },
   {
    "duration": 1223,
    "start_time": "2023-04-03T16:43:27.059Z"
   },
   {
    "duration": 63,
    "start_time": "2023-04-03T16:43:28.283Z"
   },
   {
    "duration": 11,
    "start_time": "2023-04-03T16:43:28.347Z"
   },
   {
    "duration": 11,
    "start_time": "2023-04-03T16:43:28.360Z"
   },
   {
    "duration": 6,
    "start_time": "2023-04-03T16:43:28.372Z"
   },
   {
    "duration": 18,
    "start_time": "2023-04-03T16:43:28.379Z"
   },
   {
    "duration": 18,
    "start_time": "2023-04-03T16:43:28.399Z"
   },
   {
    "duration": 20,
    "start_time": "2023-04-03T16:43:28.419Z"
   },
   {
    "duration": 27,
    "start_time": "2023-04-03T16:43:28.440Z"
   },
   {
    "duration": 8,
    "start_time": "2023-04-03T16:43:28.470Z"
   },
   {
    "duration": 16,
    "start_time": "2023-04-03T16:43:28.480Z"
   },
   {
    "duration": 5,
    "start_time": "2023-04-03T16:43:28.498Z"
   },
   {
    "duration": 20,
    "start_time": "2023-04-03T16:43:28.505Z"
   },
   {
    "duration": 7,
    "start_time": "2023-04-03T16:43:28.527Z"
   },
   {
    "duration": 8,
    "start_time": "2023-04-03T16:43:28.535Z"
   },
   {
    "duration": 12,
    "start_time": "2023-04-03T16:43:28.545Z"
   },
   {
    "duration": 30,
    "start_time": "2023-04-03T16:43:28.559Z"
   },
   {
    "duration": 14,
    "start_time": "2023-04-03T16:43:28.591Z"
   },
   {
    "duration": 18,
    "start_time": "2023-04-03T16:43:28.607Z"
   },
   {
    "duration": 206,
    "start_time": "2023-04-03T16:45:08.269Z"
   },
   {
    "duration": 174,
    "start_time": "2023-04-03T16:45:30.458Z"
   },
   {
    "duration": 121,
    "start_time": "2023-04-03T16:46:17.497Z"
   },
   {
    "duration": 7,
    "start_time": "2023-04-03T16:48:12.535Z"
   },
   {
    "duration": 13,
    "start_time": "2023-04-03T16:48:28.080Z"
   },
   {
    "duration": 7,
    "start_time": "2023-04-03T16:50:05.396Z"
   },
   {
    "duration": 4,
    "start_time": "2023-04-03T16:50:23.229Z"
   },
   {
    "duration": 242,
    "start_time": "2023-04-03T16:50:38.802Z"
   },
   {
    "duration": 174,
    "start_time": "2023-04-03T16:50:52.662Z"
   },
   {
    "duration": 232,
    "start_time": "2023-04-03T16:51:24.474Z"
   },
   {
    "duration": 165,
    "start_time": "2023-04-03T16:54:39.493Z"
   },
   {
    "duration": 154,
    "start_time": "2023-04-03T16:55:02.933Z"
   },
   {
    "duration": 155,
    "start_time": "2023-04-03T16:56:17.191Z"
   },
   {
    "duration": 138,
    "start_time": "2023-04-03T16:57:58.335Z"
   },
   {
    "duration": 219,
    "start_time": "2023-04-03T16:58:56.297Z"
   },
   {
    "duration": 164,
    "start_time": "2023-04-03T16:59:48.812Z"
   },
   {
    "duration": 170,
    "start_time": "2023-04-03T17:00:43.776Z"
   },
   {
    "duration": 181,
    "start_time": "2023-04-03T17:02:05.674Z"
   },
   {
    "duration": 216,
    "start_time": "2023-04-03T17:02:27.912Z"
   },
   {
    "duration": 206,
    "start_time": "2023-04-03T17:02:44.659Z"
   },
   {
    "duration": 196,
    "start_time": "2023-04-03T17:03:35.338Z"
   },
   {
    "duration": 1465,
    "start_time": "2023-04-04T08:00:36.520Z"
   },
   {
    "duration": 224,
    "start_time": "2023-04-04T08:00:37.987Z"
   },
   {
    "duration": 12,
    "start_time": "2023-04-04T08:00:38.213Z"
   },
   {
    "duration": 28,
    "start_time": "2023-04-04T08:00:38.227Z"
   },
   {
    "duration": 12,
    "start_time": "2023-04-04T08:00:38.256Z"
   },
   {
    "duration": 23,
    "start_time": "2023-04-04T08:00:38.270Z"
   },
   {
    "duration": 21,
    "start_time": "2023-04-04T08:00:38.295Z"
   },
   {
    "duration": 13,
    "start_time": "2023-04-04T08:00:38.318Z"
   },
   {
    "duration": 32,
    "start_time": "2023-04-04T08:00:38.332Z"
   },
   {
    "duration": 30,
    "start_time": "2023-04-04T08:00:38.367Z"
   },
   {
    "duration": 35,
    "start_time": "2023-04-04T08:00:38.399Z"
   },
   {
    "duration": 26,
    "start_time": "2023-04-04T08:00:38.436Z"
   },
   {
    "duration": 31,
    "start_time": "2023-04-04T08:00:38.464Z"
   },
   {
    "duration": 12,
    "start_time": "2023-04-04T08:00:38.496Z"
   },
   {
    "duration": 28,
    "start_time": "2023-04-04T08:00:38.510Z"
   },
   {
    "duration": 27,
    "start_time": "2023-04-04T08:00:38.540Z"
   },
   {
    "duration": 27,
    "start_time": "2023-04-04T08:00:38.569Z"
   },
   {
    "duration": 25,
    "start_time": "2023-04-04T08:00:38.597Z"
   },
   {
    "duration": 31,
    "start_time": "2023-04-04T08:00:38.624Z"
   },
   {
    "duration": 193,
    "start_time": "2023-04-04T08:00:38.657Z"
   },
   {
    "duration": 143,
    "start_time": "2023-04-04T08:00:38.852Z"
   },
   {
    "duration": 7,
    "start_time": "2023-04-04T08:00:38.997Z"
   },
   {
    "duration": 142,
    "start_time": "2023-04-04T08:00:39.017Z"
   },
   {
    "duration": 34,
    "start_time": "2023-04-04T08:00:39.161Z"
   },
   {
    "duration": 9,
    "start_time": "2023-04-04T08:00:39.197Z"
   },
   {
    "duration": 316,
    "start_time": "2023-04-04T08:00:39.209Z"
   },
   {
    "duration": 215,
    "start_time": "2023-04-04T08:17:13.542Z"
   },
   {
    "duration": 248,
    "start_time": "2023-04-04T08:17:38.019Z"
   },
   {
    "duration": 317,
    "start_time": "2023-04-04T08:20:14.377Z"
   },
   {
    "duration": 209,
    "start_time": "2023-04-04T08:20:25.549Z"
   },
   {
    "duration": 274,
    "start_time": "2023-04-04T08:20:34.526Z"
   },
   {
    "duration": 293,
    "start_time": "2023-04-04T08:21:00.341Z"
   },
   {
    "duration": 337,
    "start_time": "2023-04-04T08:21:12.717Z"
   },
   {
    "duration": 253,
    "start_time": "2023-04-04T08:21:20.758Z"
   },
   {
    "duration": 262,
    "start_time": "2023-04-04T08:22:30.184Z"
   },
   {
    "duration": 269,
    "start_time": "2023-04-04T08:22:42.111Z"
   },
   {
    "duration": 226,
    "start_time": "2023-04-04T08:22:56.557Z"
   },
   {
    "duration": 248,
    "start_time": "2023-04-04T08:23:03.323Z"
   },
   {
    "duration": 380,
    "start_time": "2023-04-04T08:40:26.792Z"
   },
   {
    "duration": 330,
    "start_time": "2023-04-04T08:42:16.442Z"
   },
   {
    "duration": 335,
    "start_time": "2023-04-04T08:43:20.153Z"
   },
   {
    "duration": 340,
    "start_time": "2023-04-04T08:43:36.023Z"
   },
   {
    "duration": 228,
    "start_time": "2023-04-04T08:43:43.852Z"
   },
   {
    "duration": 324,
    "start_time": "2023-04-04T08:43:50.967Z"
   },
   {
    "duration": 10,
    "start_time": "2023-04-04T09:15:30.288Z"
   },
   {
    "duration": 17,
    "start_time": "2023-04-04T09:15:56.831Z"
   },
   {
    "duration": 12,
    "start_time": "2023-04-04T09:17:50.479Z"
   },
   {
    "duration": 17,
    "start_time": "2023-04-04T09:28:27.744Z"
   },
   {
    "duration": 278,
    "start_time": "2023-04-04T09:33:58.876Z"
   },
   {
    "duration": 179,
    "start_time": "2023-04-04T09:36:51.290Z"
   },
   {
    "duration": 4,
    "start_time": "2023-04-04T09:39:17.972Z"
   },
   {
    "duration": 217,
    "start_time": "2023-04-04T09:40:38.053Z"
   },
   {
    "duration": 174,
    "start_time": "2023-04-04T09:40:58.078Z"
   },
   {
    "duration": 23,
    "start_time": "2023-04-04T09:41:48.319Z"
   },
   {
    "duration": 249,
    "start_time": "2023-04-04T09:50:56.837Z"
   },
   {
    "duration": 241,
    "start_time": "2023-04-04T09:51:37.766Z"
   },
   {
    "duration": 301,
    "start_time": "2023-04-04T09:55:31.698Z"
   },
   {
    "duration": 349,
    "start_time": "2023-04-04T09:57:14.644Z"
   },
   {
    "duration": 345,
    "start_time": "2023-04-04T09:57:43.141Z"
   },
   {
    "duration": 341,
    "start_time": "2023-04-04T09:58:25.350Z"
   },
   {
    "duration": 366,
    "start_time": "2023-04-04T09:58:34.719Z"
   },
   {
    "duration": 140,
    "start_time": "2023-04-04T10:02:06.598Z"
   },
   {
    "duration": 116,
    "start_time": "2023-04-04T10:02:14.055Z"
   },
   {
    "duration": 223,
    "start_time": "2023-04-04T10:03:05.788Z"
   },
   {
    "duration": 123,
    "start_time": "2023-04-04T10:03:38.120Z"
   },
   {
    "duration": 6,
    "start_time": "2023-04-04T10:08:00.308Z"
   },
   {
    "duration": 7,
    "start_time": "2023-04-04T10:17:15.762Z"
   },
   {
    "duration": 19,
    "start_time": "2023-04-04T10:18:50.515Z"
   },
   {
    "duration": 7,
    "start_time": "2023-04-04T10:19:42.483Z"
   },
   {
    "duration": 131,
    "start_time": "2023-04-04T10:19:51.204Z"
   },
   {
    "duration": 5,
    "start_time": "2023-04-04T10:20:06.700Z"
   },
   {
    "duration": 12,
    "start_time": "2023-04-04T10:20:09.410Z"
   },
   {
    "duration": 137,
    "start_time": "2023-04-04T10:21:23.832Z"
   },
   {
    "duration": 140,
    "start_time": "2023-04-04T10:21:31.468Z"
   },
   {
    "duration": 154,
    "start_time": "2023-04-04T10:23:28.738Z"
   },
   {
    "duration": 140,
    "start_time": "2023-04-04T10:23:43.141Z"
   },
   {
    "duration": 133,
    "start_time": "2023-04-04T10:24:04.630Z"
   },
   {
    "duration": 146,
    "start_time": "2023-04-04T10:28:05.240Z"
   },
   {
    "duration": 179,
    "start_time": "2023-04-04T10:30:47.097Z"
   },
   {
    "duration": 142,
    "start_time": "2023-04-04T10:30:58.250Z"
   },
   {
    "duration": 146,
    "start_time": "2023-04-04T10:31:46.844Z"
   },
   {
    "duration": 148,
    "start_time": "2023-04-04T10:32:01.064Z"
   },
   {
    "duration": 133,
    "start_time": "2023-04-04T10:32:07.851Z"
   },
   {
    "duration": 287,
    "start_time": "2023-04-04T10:32:17.887Z"
   },
   {
    "duration": 154,
    "start_time": "2023-04-04T10:32:30.432Z"
   },
   {
    "duration": 7,
    "start_time": "2023-04-04T10:34:27.245Z"
   },
   {
    "duration": 1459,
    "start_time": "2023-04-05T07:52:00.503Z"
   },
   {
    "duration": 171,
    "start_time": "2023-04-05T07:52:01.964Z"
   },
   {
    "duration": 13,
    "start_time": "2023-04-05T07:52:02.139Z"
   },
   {
    "duration": 49,
    "start_time": "2023-04-05T07:52:02.154Z"
   },
   {
    "duration": 52,
    "start_time": "2023-04-05T07:52:02.207Z"
   },
   {
    "duration": 40,
    "start_time": "2023-04-05T07:52:02.262Z"
   },
   {
    "duration": 34,
    "start_time": "2023-04-05T07:52:02.304Z"
   },
   {
    "duration": 45,
    "start_time": "2023-04-05T07:52:02.340Z"
   },
   {
    "duration": 35,
    "start_time": "2023-04-05T07:52:02.387Z"
   },
   {
    "duration": 68,
    "start_time": "2023-04-05T07:52:02.423Z"
   },
   {
    "duration": 66,
    "start_time": "2023-04-05T07:52:02.493Z"
   },
   {
    "duration": 54,
    "start_time": "2023-04-05T07:52:02.561Z"
   },
   {
    "duration": 52,
    "start_time": "2023-04-05T07:52:02.617Z"
   },
   {
    "duration": 45,
    "start_time": "2023-04-05T07:52:02.671Z"
   },
   {
    "duration": 45,
    "start_time": "2023-04-05T07:52:02.719Z"
   },
   {
    "duration": 32,
    "start_time": "2023-04-05T07:52:02.765Z"
   },
   {
    "duration": 22,
    "start_time": "2023-04-05T07:52:02.798Z"
   },
   {
    "duration": 44,
    "start_time": "2023-04-05T07:52:02.822Z"
   },
   {
    "duration": 21,
    "start_time": "2023-04-05T07:52:02.868Z"
   },
   {
    "duration": 196,
    "start_time": "2023-04-05T07:52:02.891Z"
   },
   {
    "duration": 124,
    "start_time": "2023-04-05T07:52:03.089Z"
   },
   {
    "duration": 6,
    "start_time": "2023-04-05T07:52:03.215Z"
   },
   {
    "duration": 21,
    "start_time": "2023-04-05T07:52:03.224Z"
   },
   {
    "duration": 7,
    "start_time": "2023-04-05T07:52:03.247Z"
   },
   {
    "duration": 11,
    "start_time": "2023-04-05T07:52:03.256Z"
   },
   {
    "duration": 326,
    "start_time": "2023-04-05T07:52:03.269Z"
   },
   {
    "duration": 222,
    "start_time": "2023-04-05T07:52:03.599Z"
   },
   {
    "duration": 406,
    "start_time": "2023-04-05T07:52:03.823Z"
   },
   {
    "duration": 251,
    "start_time": "2023-04-05T07:52:04.231Z"
   },
   {
    "duration": 120,
    "start_time": "2023-04-05T07:52:04.484Z"
   },
   {
    "duration": 0,
    "start_time": "2023-04-05T07:52:04.606Z"
   },
   {
    "duration": 0,
    "start_time": "2023-04-05T07:52:04.607Z"
   },
   {
    "duration": 0,
    "start_time": "2023-04-05T07:52:04.608Z"
   },
   {
    "duration": 0,
    "start_time": "2023-04-05T07:52:04.610Z"
   },
   {
    "duration": 1,
    "start_time": "2023-04-05T07:52:04.610Z"
   },
   {
    "duration": 0,
    "start_time": "2023-04-05T07:52:04.611Z"
   },
   {
    "duration": 0,
    "start_time": "2023-04-05T07:52:04.612Z"
   },
   {
    "duration": 0,
    "start_time": "2023-04-05T07:52:04.613Z"
   },
   {
    "duration": 0,
    "start_time": "2023-04-05T07:52:04.614Z"
   },
   {
    "duration": 1193,
    "start_time": "2023-04-05T07:52:43.241Z"
   },
   {
    "duration": 64,
    "start_time": "2023-04-05T07:52:44.436Z"
   },
   {
    "duration": 13,
    "start_time": "2023-04-05T07:52:44.502Z"
   },
   {
    "duration": 17,
    "start_time": "2023-04-05T07:52:44.517Z"
   },
   {
    "duration": 6,
    "start_time": "2023-04-05T07:52:44.536Z"
   },
   {
    "duration": 19,
    "start_time": "2023-04-05T07:52:44.544Z"
   },
   {
    "duration": 43,
    "start_time": "2023-04-05T07:52:44.565Z"
   },
   {
    "duration": 12,
    "start_time": "2023-04-05T07:52:44.610Z"
   },
   {
    "duration": 7,
    "start_time": "2023-04-05T07:52:44.624Z"
   },
   {
    "duration": 10,
    "start_time": "2023-04-05T07:52:44.633Z"
   },
   {
    "duration": 17,
    "start_time": "2023-04-05T07:52:44.645Z"
   },
   {
    "duration": 7,
    "start_time": "2023-04-05T07:52:44.663Z"
   },
   {
    "duration": 35,
    "start_time": "2023-04-05T07:52:44.672Z"
   },
   {
    "duration": 4,
    "start_time": "2023-04-05T07:52:44.709Z"
   },
   {
    "duration": 8,
    "start_time": "2023-04-05T07:52:44.714Z"
   },
   {
    "duration": 9,
    "start_time": "2023-04-05T07:52:44.724Z"
   },
   {
    "duration": 13,
    "start_time": "2023-04-05T07:52:44.735Z"
   },
   {
    "duration": 20,
    "start_time": "2023-04-05T07:52:44.749Z"
   },
   {
    "duration": 12,
    "start_time": "2023-04-05T07:52:44.770Z"
   },
   {
    "duration": 192,
    "start_time": "2023-04-05T07:52:44.784Z"
   },
   {
    "duration": 128,
    "start_time": "2023-04-05T07:52:44.978Z"
   },
   {
    "duration": 7,
    "start_time": "2023-04-05T07:52:45.108Z"
   },
   {
    "duration": 18,
    "start_time": "2023-04-05T07:52:45.117Z"
   },
   {
    "duration": 5,
    "start_time": "2023-04-05T07:52:45.137Z"
   },
   {
    "duration": 10,
    "start_time": "2023-04-05T07:52:45.144Z"
   },
   {
    "duration": 319,
    "start_time": "2023-04-05T07:52:45.155Z"
   },
   {
    "duration": 213,
    "start_time": "2023-04-05T07:52:45.476Z"
   },
   {
    "duration": 333,
    "start_time": "2023-04-05T07:52:45.692Z"
   },
   {
    "duration": 241,
    "start_time": "2023-04-05T07:52:46.028Z"
   },
   {
    "duration": 220,
    "start_time": "2023-04-05T07:52:46.271Z"
   },
   {
    "duration": 354,
    "start_time": "2023-04-05T07:52:46.493Z"
   },
   {
    "duration": 165,
    "start_time": "2023-04-05T07:52:46.849Z"
   },
   {
    "duration": 6,
    "start_time": "2023-04-05T07:52:47.016Z"
   },
   {
    "duration": 139,
    "start_time": "2023-04-05T07:52:47.024Z"
   },
   {
    "duration": 5,
    "start_time": "2023-04-05T07:52:47.165Z"
   },
   {
    "duration": 225,
    "start_time": "2023-04-05T07:52:47.171Z"
   },
   {
    "duration": 144,
    "start_time": "2023-04-05T07:52:47.403Z"
   },
   {
    "duration": 6,
    "start_time": "2023-04-05T07:52:47.549Z"
   },
   {
    "duration": 114,
    "start_time": "2023-04-05T08:00:50.715Z"
   },
   {
    "duration": 26,
    "start_time": "2023-04-05T08:01:09.816Z"
   },
   {
    "duration": 44,
    "start_time": "2023-04-05T08:02:24.026Z"
   },
   {
    "duration": 11,
    "start_time": "2023-04-05T08:23:08.426Z"
   },
   {
    "duration": 12,
    "start_time": "2023-04-05T08:23:23.600Z"
   },
   {
    "duration": 17,
    "start_time": "2023-04-05T08:24:32.044Z"
   },
   {
    "duration": 10,
    "start_time": "2023-04-05T08:32:32.249Z"
   },
   {
    "duration": 10,
    "start_time": "2023-04-05T08:34:03.442Z"
   },
   {
    "duration": 8,
    "start_time": "2023-04-05T08:37:08.818Z"
   },
   {
    "duration": 8,
    "start_time": "2023-04-05T08:40:50.567Z"
   },
   {
    "duration": 22,
    "start_time": "2023-04-05T08:41:24.734Z"
   },
   {
    "duration": 23,
    "start_time": "2023-04-05T08:41:54.979Z"
   },
   {
    "duration": 21,
    "start_time": "2023-04-05T08:47:50.978Z"
   },
   {
    "duration": 22,
    "start_time": "2023-04-05T08:48:49.835Z"
   },
   {
    "duration": 12,
    "start_time": "2023-04-05T08:53:09.278Z"
   },
   {
    "duration": 14,
    "start_time": "2023-04-05T08:53:15.802Z"
   },
   {
    "duration": 79,
    "start_time": "2023-04-05T09:06:26.396Z"
   },
   {
    "duration": 70,
    "start_time": "2023-04-05T09:06:33.906Z"
   },
   {
    "duration": 9,
    "start_time": "2023-04-05T09:07:07.898Z"
   },
   {
    "duration": 7,
    "start_time": "2023-04-05T09:07:21.664Z"
   },
   {
    "duration": 177,
    "start_time": "2023-04-05T09:10:17.646Z"
   },
   {
    "duration": 117,
    "start_time": "2023-04-05T09:10:29.990Z"
   },
   {
    "duration": 15,
    "start_time": "2023-04-05T09:11:20.796Z"
   },
   {
    "duration": 9,
    "start_time": "2023-04-05T09:12:38.797Z"
   },
   {
    "duration": 9,
    "start_time": "2023-04-05T09:13:44.371Z"
   },
   {
    "duration": 5,
    "start_time": "2023-04-05T09:16:33.887Z"
   },
   {
    "duration": 4,
    "start_time": "2023-04-05T09:17:09.719Z"
   },
   {
    "duration": 7,
    "start_time": "2023-04-05T09:18:05.397Z"
   },
   {
    "duration": 6,
    "start_time": "2023-04-05T09:18:17.895Z"
   },
   {
    "duration": 7,
    "start_time": "2023-04-05T09:26:22.437Z"
   },
   {
    "duration": 7,
    "start_time": "2023-04-05T09:26:48.602Z"
   },
   {
    "duration": 5,
    "start_time": "2023-04-05T09:30:52.910Z"
   },
   {
    "duration": 6,
    "start_time": "2023-04-05T09:31:39.408Z"
   },
   {
    "duration": 7,
    "start_time": "2023-04-05T09:33:43.808Z"
   },
   {
    "duration": 13,
    "start_time": "2023-04-05T09:34:04.691Z"
   },
   {
    "duration": 14,
    "start_time": "2023-04-05T09:35:01.587Z"
   },
   {
    "duration": 8,
    "start_time": "2023-04-05T09:36:48.552Z"
   },
   {
    "duration": 7,
    "start_time": "2023-04-05T09:36:56.338Z"
   },
   {
    "duration": 7,
    "start_time": "2023-04-05T09:40:13.128Z"
   },
   {
    "duration": 10,
    "start_time": "2023-04-05T09:40:17.947Z"
   },
   {
    "duration": 22,
    "start_time": "2023-04-05T09:40:44.358Z"
   },
   {
    "duration": 17,
    "start_time": "2023-04-05T09:41:29.753Z"
   },
   {
    "duration": 6,
    "start_time": "2023-04-05T09:41:43.910Z"
   },
   {
    "duration": 16,
    "start_time": "2023-04-05T09:46:01.119Z"
   },
   {
    "duration": 15,
    "start_time": "2023-04-05T09:46:18.197Z"
   },
   {
    "duration": 5,
    "start_time": "2023-04-05T09:51:12.082Z"
   },
   {
    "duration": 6,
    "start_time": "2023-04-05T09:53:41.314Z"
   },
   {
    "duration": 80,
    "start_time": "2023-04-05T09:54:21.145Z"
   },
   {
    "duration": 5,
    "start_time": "2023-04-05T09:54:53.093Z"
   },
   {
    "duration": 9,
    "start_time": "2023-04-05T09:55:10.886Z"
   },
   {
    "duration": 73,
    "start_time": "2023-04-05T09:55:34.528Z"
   },
   {
    "duration": 10,
    "start_time": "2023-04-05T09:55:42.425Z"
   },
   {
    "duration": 6,
    "start_time": "2023-04-05T09:56:19.288Z"
   },
   {
    "duration": 12,
    "start_time": "2023-04-05T09:56:37.483Z"
   },
   {
    "duration": 5,
    "start_time": "2023-04-05T09:56:54.374Z"
   },
   {
    "duration": 5,
    "start_time": "2023-04-05T09:59:50.134Z"
   },
   {
    "duration": 6,
    "start_time": "2023-04-05T10:00:49.377Z"
   },
   {
    "duration": 9,
    "start_time": "2023-04-05T10:00:59.998Z"
   },
   {
    "duration": 13,
    "start_time": "2023-04-05T10:01:42.192Z"
   },
   {
    "duration": 6,
    "start_time": "2023-04-05T10:02:22.363Z"
   },
   {
    "duration": 6,
    "start_time": "2023-04-05T10:05:16.215Z"
   },
   {
    "duration": 10,
    "start_time": "2023-04-05T10:06:01.320Z"
   },
   {
    "duration": 12,
    "start_time": "2023-04-05T10:06:26.353Z"
   },
   {
    "duration": 7,
    "start_time": "2023-04-05T10:06:46.412Z"
   },
   {
    "duration": 6,
    "start_time": "2023-04-05T10:07:04.870Z"
   },
   {
    "duration": 10,
    "start_time": "2023-04-05T10:08:37.599Z"
   },
   {
    "duration": 9,
    "start_time": "2023-04-05T10:10:16.462Z"
   },
   {
    "duration": 1134,
    "start_time": "2023-04-05T10:10:30.551Z"
   },
   {
    "duration": 62,
    "start_time": "2023-04-05T10:10:31.687Z"
   },
   {
    "duration": 13,
    "start_time": "2023-04-05T10:10:31.751Z"
   },
   {
    "duration": 42,
    "start_time": "2023-04-05T10:10:31.766Z"
   },
   {
    "duration": 36,
    "start_time": "2023-04-05T10:10:31.810Z"
   },
   {
    "duration": 26,
    "start_time": "2023-04-05T10:10:31.848Z"
   },
   {
    "duration": 35,
    "start_time": "2023-04-05T10:10:31.876Z"
   },
   {
    "duration": 23,
    "start_time": "2023-04-05T10:10:31.912Z"
   },
   {
    "duration": 26,
    "start_time": "2023-04-05T10:10:31.936Z"
   },
   {
    "duration": 110,
    "start_time": "2023-04-05T10:10:31.965Z"
   },
   {
    "duration": 0,
    "start_time": "2023-04-05T10:10:32.077Z"
   },
   {
    "duration": 0,
    "start_time": "2023-04-05T10:10:32.078Z"
   },
   {
    "duration": 0,
    "start_time": "2023-04-05T10:10:32.079Z"
   },
   {
    "duration": 0,
    "start_time": "2023-04-05T10:10:32.080Z"
   },
   {
    "duration": 0,
    "start_time": "2023-04-05T10:10:32.081Z"
   },
   {
    "duration": 0,
    "start_time": "2023-04-05T10:10:32.083Z"
   },
   {
    "duration": 0,
    "start_time": "2023-04-05T10:10:32.083Z"
   },
   {
    "duration": 0,
    "start_time": "2023-04-05T10:10:32.084Z"
   },
   {
    "duration": 0,
    "start_time": "2023-04-05T10:10:32.086Z"
   },
   {
    "duration": 0,
    "start_time": "2023-04-05T10:10:32.087Z"
   },
   {
    "duration": 0,
    "start_time": "2023-04-05T10:10:32.102Z"
   },
   {
    "duration": 0,
    "start_time": "2023-04-05T10:10:32.103Z"
   },
   {
    "duration": 0,
    "start_time": "2023-04-05T10:10:32.104Z"
   },
   {
    "duration": 0,
    "start_time": "2023-04-05T10:10:32.105Z"
   },
   {
    "duration": 0,
    "start_time": "2023-04-05T10:10:32.106Z"
   },
   {
    "duration": 0,
    "start_time": "2023-04-05T10:10:32.107Z"
   },
   {
    "duration": 0,
    "start_time": "2023-04-05T10:10:32.108Z"
   },
   {
    "duration": 0,
    "start_time": "2023-04-05T10:10:32.109Z"
   },
   {
    "duration": 0,
    "start_time": "2023-04-05T10:10:32.110Z"
   },
   {
    "duration": 0,
    "start_time": "2023-04-05T10:10:32.111Z"
   },
   {
    "duration": 0,
    "start_time": "2023-04-05T10:10:32.112Z"
   },
   {
    "duration": 0,
    "start_time": "2023-04-05T10:10:32.114Z"
   },
   {
    "duration": 0,
    "start_time": "2023-04-05T10:10:32.115Z"
   },
   {
    "duration": 0,
    "start_time": "2023-04-05T10:10:32.116Z"
   },
   {
    "duration": 0,
    "start_time": "2023-04-05T10:10:32.117Z"
   },
   {
    "duration": 0,
    "start_time": "2023-04-05T10:10:32.118Z"
   },
   {
    "duration": 0,
    "start_time": "2023-04-05T10:10:32.119Z"
   },
   {
    "duration": 0,
    "start_time": "2023-04-05T10:10:32.120Z"
   },
   {
    "duration": 0,
    "start_time": "2023-04-05T10:10:32.121Z"
   },
   {
    "duration": 0,
    "start_time": "2023-04-05T10:10:32.122Z"
   },
   {
    "duration": 0,
    "start_time": "2023-04-05T10:10:32.123Z"
   },
   {
    "duration": 0,
    "start_time": "2023-04-05T10:10:32.124Z"
   },
   {
    "duration": 0,
    "start_time": "2023-04-05T10:10:32.125Z"
   },
   {
    "duration": 0,
    "start_time": "2023-04-05T10:10:32.126Z"
   },
   {
    "duration": 0,
    "start_time": "2023-04-05T10:10:32.127Z"
   },
   {
    "duration": 0,
    "start_time": "2023-04-05T10:10:32.129Z"
   },
   {
    "duration": 0,
    "start_time": "2023-04-05T10:10:32.130Z"
   },
   {
    "duration": 0,
    "start_time": "2023-04-05T10:10:32.131Z"
   },
   {
    "duration": 0,
    "start_time": "2023-04-05T10:10:32.132Z"
   },
   {
    "duration": 0,
    "start_time": "2023-04-05T10:10:32.133Z"
   },
   {
    "duration": 0,
    "start_time": "2023-04-05T10:10:32.134Z"
   },
   {
    "duration": 0,
    "start_time": "2023-04-05T10:10:32.135Z"
   },
   {
    "duration": 6,
    "start_time": "2023-04-05T10:15:04.085Z"
   },
   {
    "duration": 5,
    "start_time": "2023-04-05T10:15:44.519Z"
   },
   {
    "duration": 6,
    "start_time": "2023-04-05T10:15:49.301Z"
   },
   {
    "duration": 4,
    "start_time": "2023-04-05T10:29:42.279Z"
   },
   {
    "duration": 4,
    "start_time": "2023-04-05T10:29:52.537Z"
   },
   {
    "duration": 5,
    "start_time": "2023-04-05T10:30:03.232Z"
   },
   {
    "duration": 4,
    "start_time": "2023-04-05T10:30:15.016Z"
   },
   {
    "duration": 5,
    "start_time": "2023-04-05T10:30:37.171Z"
   },
   {
    "duration": 15,
    "start_time": "2023-04-05T10:35:05.850Z"
   },
   {
    "duration": 5,
    "start_time": "2023-04-05T10:35:27.921Z"
   },
   {
    "duration": 9,
    "start_time": "2023-04-05T10:35:47.063Z"
   },
   {
    "duration": 4,
    "start_time": "2023-04-05T10:36:54.549Z"
   },
   {
    "duration": 3,
    "start_time": "2023-04-05T10:36:59.724Z"
   },
   {
    "duration": 4,
    "start_time": "2023-04-05T10:37:02.740Z"
   },
   {
    "duration": 3,
    "start_time": "2023-04-05T10:37:10.832Z"
   },
   {
    "duration": 88,
    "start_time": "2023-04-05T10:38:31.032Z"
   },
   {
    "duration": 80,
    "start_time": "2023-04-05T10:39:27.840Z"
   },
   {
    "duration": 15,
    "start_time": "2023-04-05T10:40:33.183Z"
   },
   {
    "duration": 3,
    "start_time": "2023-04-05T10:41:51.524Z"
   },
   {
    "duration": 1317,
    "start_time": "2023-04-05T12:09:51.474Z"
   },
   {
    "duration": 297,
    "start_time": "2023-04-05T12:09:52.794Z"
   },
   {
    "duration": 13,
    "start_time": "2023-04-05T12:09:53.092Z"
   },
   {
    "duration": 11,
    "start_time": "2023-04-05T12:09:53.107Z"
   },
   {
    "duration": 4,
    "start_time": "2023-04-05T12:09:53.120Z"
   },
   {
    "duration": 12,
    "start_time": "2023-04-05T12:09:53.126Z"
   },
   {
    "duration": 13,
    "start_time": "2023-04-05T12:09:53.141Z"
   },
   {
    "duration": 12,
    "start_time": "2023-04-05T12:09:53.156Z"
   },
   {
    "duration": 9,
    "start_time": "2023-04-05T12:09:53.172Z"
   },
   {
    "duration": 10,
    "start_time": "2023-04-05T12:09:53.186Z"
   },
   {
    "duration": 5,
    "start_time": "2023-04-05T12:09:53.197Z"
   },
   {
    "duration": 15,
    "start_time": "2023-04-05T12:09:53.204Z"
   },
   {
    "duration": 15,
    "start_time": "2023-04-05T12:09:53.220Z"
   },
   {
    "duration": 14,
    "start_time": "2023-04-05T12:09:53.237Z"
   },
   {
    "duration": 24,
    "start_time": "2023-04-05T12:09:53.253Z"
   },
   {
    "duration": 9,
    "start_time": "2023-04-05T12:09:53.279Z"
   },
   {
    "duration": 18,
    "start_time": "2023-04-05T12:09:53.290Z"
   },
   {
    "duration": 24,
    "start_time": "2023-04-05T12:09:53.309Z"
   },
   {
    "duration": 30,
    "start_time": "2023-04-05T12:09:53.335Z"
   },
   {
    "duration": 16,
    "start_time": "2023-04-05T12:09:53.367Z"
   },
   {
    "duration": 4,
    "start_time": "2023-04-05T12:09:53.385Z"
   },
   {
    "duration": 13,
    "start_time": "2023-04-05T12:09:53.391Z"
   },
   {
    "duration": 5,
    "start_time": "2023-04-05T12:09:53.406Z"
   },
   {
    "duration": 7,
    "start_time": "2023-04-05T12:09:53.412Z"
   },
   {
    "duration": 12,
    "start_time": "2023-04-05T12:09:53.420Z"
   },
   {
    "duration": 31,
    "start_time": "2023-04-05T12:09:53.433Z"
   },
   {
    "duration": 10,
    "start_time": "2023-04-05T12:09:53.473Z"
   },
   {
    "duration": 6,
    "start_time": "2023-04-05T12:09:53.487Z"
   },
   {
    "duration": 190,
    "start_time": "2023-04-05T12:09:53.494Z"
   },
   {
    "duration": 119,
    "start_time": "2023-04-05T12:09:53.686Z"
   },
   {
    "duration": 6,
    "start_time": "2023-04-05T12:09:53.807Z"
   },
   {
    "duration": 18,
    "start_time": "2023-04-05T12:09:53.815Z"
   },
   {
    "duration": 10,
    "start_time": "2023-04-05T12:09:53.840Z"
   },
   {
    "duration": 26,
    "start_time": "2023-04-05T12:09:53.851Z"
   },
   {
    "duration": 308,
    "start_time": "2023-04-05T12:09:53.879Z"
   },
   {
    "duration": 199,
    "start_time": "2023-04-05T12:09:54.190Z"
   },
   {
    "duration": 358,
    "start_time": "2023-04-05T12:09:54.392Z"
   },
   {
    "duration": 214,
    "start_time": "2023-04-05T12:09:54.751Z"
   },
   {
    "duration": 199,
    "start_time": "2023-04-05T12:09:54.969Z"
   },
   {
    "duration": 333,
    "start_time": "2023-04-05T12:09:55.172Z"
   },
   {
    "duration": 129,
    "start_time": "2023-04-05T12:09:55.506Z"
   },
   {
    "duration": 6,
    "start_time": "2023-04-05T12:09:55.637Z"
   },
   {
    "duration": 121,
    "start_time": "2023-04-05T12:09:55.644Z"
   },
   {
    "duration": 11,
    "start_time": "2023-04-05T12:09:55.766Z"
   },
   {
    "duration": 120,
    "start_time": "2023-04-05T12:09:55.784Z"
   },
   {
    "duration": 189,
    "start_time": "2023-04-05T12:09:55.906Z"
   },
   {
    "duration": 4,
    "start_time": "2023-04-05T12:09:56.096Z"
   },
   {
    "duration": 30,
    "start_time": "2023-04-05T12:09:56.102Z"
   },
   {
    "duration": 29,
    "start_time": "2023-04-05T12:09:56.147Z"
   },
   {
    "duration": 16,
    "start_time": "2023-04-05T12:09:56.181Z"
   },
   {
    "duration": 9,
    "start_time": "2023-04-05T12:09:56.199Z"
   },
   {
    "duration": 54,
    "start_time": "2023-04-05T12:09:56.209Z"
   },
   {
    "duration": 16,
    "start_time": "2023-04-05T12:09:56.266Z"
   },
   {
    "duration": 9,
    "start_time": "2023-04-05T12:10:29.518Z"
   },
   {
    "duration": 98,
    "start_time": "2023-04-05T12:10:40.827Z"
   },
   {
    "duration": 10,
    "start_time": "2023-04-05T12:11:05.622Z"
   },
   {
    "duration": 14,
    "start_time": "2023-04-05T12:11:08.735Z"
   },
   {
    "duration": 3,
    "start_time": "2023-04-05T12:13:38.493Z"
   },
   {
    "duration": 43,
    "start_time": "2023-04-05T12:16:26.069Z"
   },
   {
    "duration": 11,
    "start_time": "2023-04-05T12:16:26.970Z"
   },
   {
    "duration": 109,
    "start_time": "2023-04-05T12:18:54.524Z"
   },
   {
    "duration": 174,
    "start_time": "2023-04-05T12:19:30.633Z"
   },
   {
    "duration": 48,
    "start_time": "2023-04-05T12:19:40.977Z"
   },
   {
    "duration": 36,
    "start_time": "2023-04-05T12:19:55.875Z"
   },
   {
    "duration": 60,
    "start_time": "2023-04-05T12:20:02.009Z"
   },
   {
    "duration": 38,
    "start_time": "2023-04-05T12:20:13.483Z"
   },
   {
    "duration": 10,
    "start_time": "2023-04-05T12:48:51.182Z"
   },
   {
    "duration": 5,
    "start_time": "2023-04-05T12:49:05.995Z"
   },
   {
    "duration": 7,
    "start_time": "2023-04-05T12:50:19.130Z"
   },
   {
    "duration": 3,
    "start_time": "2023-04-05T12:51:15.877Z"
   },
   {
    "duration": 1429,
    "start_time": "2023-04-05T16:24:43.135Z"
   },
   {
    "duration": 212,
    "start_time": "2023-04-05T16:24:44.566Z"
   },
   {
    "duration": 15,
    "start_time": "2023-04-05T16:24:44.780Z"
   },
   {
    "duration": 12,
    "start_time": "2023-04-05T16:24:44.797Z"
   },
   {
    "duration": 5,
    "start_time": "2023-04-05T16:24:44.811Z"
   },
   {
    "duration": 20,
    "start_time": "2023-04-05T16:24:44.818Z"
   },
   {
    "duration": 4,
    "start_time": "2023-04-05T16:24:44.840Z"
   },
   {
    "duration": 9,
    "start_time": "2023-04-05T16:24:44.846Z"
   },
   {
    "duration": 5,
    "start_time": "2023-04-05T16:24:44.856Z"
   },
   {
    "duration": 5,
    "start_time": "2023-04-05T16:24:44.864Z"
   },
   {
    "duration": 5,
    "start_time": "2023-04-05T16:24:44.871Z"
   },
   {
    "duration": 19,
    "start_time": "2023-04-05T16:24:44.877Z"
   },
   {
    "duration": 10,
    "start_time": "2023-04-05T16:24:44.898Z"
   },
   {
    "duration": 19,
    "start_time": "2023-04-05T16:24:44.926Z"
   },
   {
    "duration": 16,
    "start_time": "2023-04-05T16:24:44.947Z"
   },
   {
    "duration": 17,
    "start_time": "2023-04-05T16:24:44.965Z"
   },
   {
    "duration": 19,
    "start_time": "2023-04-05T16:24:44.984Z"
   },
   {
    "duration": 46,
    "start_time": "2023-04-05T16:24:45.006Z"
   },
   {
    "duration": 31,
    "start_time": "2023-04-05T16:24:45.054Z"
   },
   {
    "duration": 19,
    "start_time": "2023-04-05T16:24:45.087Z"
   },
   {
    "duration": 32,
    "start_time": "2023-04-05T16:24:45.108Z"
   },
   {
    "duration": 9,
    "start_time": "2023-04-05T16:24:45.142Z"
   },
   {
    "duration": 43,
    "start_time": "2023-04-05T16:24:45.153Z"
   },
   {
    "duration": 20,
    "start_time": "2023-04-05T16:24:45.198Z"
   },
   {
    "duration": 7,
    "start_time": "2023-04-05T16:24:45.220Z"
   },
   {
    "duration": 29,
    "start_time": "2023-04-05T16:24:45.229Z"
   },
   {
    "duration": 16,
    "start_time": "2023-04-05T16:24:45.260Z"
   },
   {
    "duration": 193,
    "start_time": "2023-04-05T16:24:45.281Z"
   },
   {
    "duration": 134,
    "start_time": "2023-04-05T16:24:45.476Z"
   },
   {
    "duration": 15,
    "start_time": "2023-04-05T16:24:45.613Z"
   },
   {
    "duration": 10,
    "start_time": "2023-04-05T16:24:45.631Z"
   },
   {
    "duration": 11,
    "start_time": "2023-04-05T16:24:45.644Z"
   },
   {
    "duration": 7,
    "start_time": "2023-04-05T16:24:45.656Z"
   },
   {
    "duration": 323,
    "start_time": "2023-04-05T16:24:45.665Z"
   },
   {
    "duration": 221,
    "start_time": "2023-04-05T16:24:45.990Z"
   },
   {
    "duration": 360,
    "start_time": "2023-04-05T16:24:46.213Z"
   },
   {
    "duration": 266,
    "start_time": "2023-04-05T16:24:46.575Z"
   },
   {
    "duration": 244,
    "start_time": "2023-04-05T16:24:46.843Z"
   },
   {
    "duration": 343,
    "start_time": "2023-04-05T16:24:47.089Z"
   },
   {
    "duration": 176,
    "start_time": "2023-04-05T16:24:47.433Z"
   },
   {
    "duration": 6,
    "start_time": "2023-04-05T16:24:47.611Z"
   },
   {
    "duration": 131,
    "start_time": "2023-04-05T16:24:47.623Z"
   },
   {
    "duration": 6,
    "start_time": "2023-04-05T16:24:47.757Z"
   },
   {
    "duration": 153,
    "start_time": "2023-04-05T16:24:47.765Z"
   },
   {
    "duration": 230,
    "start_time": "2023-04-05T16:24:47.923Z"
   },
   {
    "duration": 5,
    "start_time": "2023-04-05T16:24:48.154Z"
   },
   {
    "duration": 30,
    "start_time": "2023-04-05T16:24:48.161Z"
   },
   {
    "duration": 36,
    "start_time": "2023-04-05T16:24:48.193Z"
   },
   {
    "duration": 10,
    "start_time": "2023-04-05T16:24:48.231Z"
   },
   {
    "duration": 8,
    "start_time": "2023-04-05T16:24:48.243Z"
   },
   {
    "duration": 22,
    "start_time": "2023-04-05T16:24:48.253Z"
   },
   {
    "duration": 4,
    "start_time": "2023-04-05T16:24:48.277Z"
   },
   {
    "duration": 46,
    "start_time": "2023-04-05T16:24:48.283Z"
   },
   {
    "duration": 13,
    "start_time": "2023-04-05T16:24:48.331Z"
   },
   {
    "duration": 1308,
    "start_time": "2023-04-05T16:27:23.119Z"
   },
   {
    "duration": 62,
    "start_time": "2023-04-05T16:27:24.440Z"
   },
   {
    "duration": 29,
    "start_time": "2023-04-05T16:27:24.504Z"
   },
   {
    "duration": 14,
    "start_time": "2023-04-05T16:27:24.535Z"
   },
   {
    "duration": 5,
    "start_time": "2023-04-05T16:27:24.550Z"
   },
   {
    "duration": 10,
    "start_time": "2023-04-05T16:27:24.557Z"
   },
   {
    "duration": 6,
    "start_time": "2023-04-05T16:27:24.568Z"
   },
   {
    "duration": 27,
    "start_time": "2023-04-05T16:27:24.575Z"
   },
   {
    "duration": 31,
    "start_time": "2023-04-05T16:27:24.604Z"
   },
   {
    "duration": 7,
    "start_time": "2023-04-05T16:27:24.638Z"
   },
   {
    "duration": 8,
    "start_time": "2023-04-05T16:27:24.647Z"
   },
   {
    "duration": 7,
    "start_time": "2023-04-05T16:27:24.657Z"
   },
   {
    "duration": 8,
    "start_time": "2023-04-05T16:27:24.666Z"
   },
   {
    "duration": 13,
    "start_time": "2023-04-05T16:27:24.676Z"
   },
   {
    "duration": 43,
    "start_time": "2023-04-05T16:27:24.690Z"
   },
   {
    "duration": 14,
    "start_time": "2023-04-05T16:27:24.735Z"
   },
   {
    "duration": 10,
    "start_time": "2023-04-05T16:27:24.751Z"
   },
   {
    "duration": 8,
    "start_time": "2023-04-05T16:27:24.764Z"
   },
   {
    "duration": 14,
    "start_time": "2023-04-05T16:27:24.775Z"
   },
   {
    "duration": 35,
    "start_time": "2023-04-05T16:27:24.791Z"
   },
   {
    "duration": 22,
    "start_time": "2023-04-05T16:27:24.828Z"
   },
   {
    "duration": 7,
    "start_time": "2023-04-05T16:27:24.852Z"
   },
   {
    "duration": 6,
    "start_time": "2023-04-05T16:27:24.861Z"
   },
   {
    "duration": 11,
    "start_time": "2023-04-05T16:27:24.869Z"
   },
   {
    "duration": 9,
    "start_time": "2023-04-05T16:27:24.882Z"
   },
   {
    "duration": 38,
    "start_time": "2023-04-05T16:27:24.892Z"
   },
   {
    "duration": 15,
    "start_time": "2023-04-05T16:27:24.931Z"
   },
   {
    "duration": 206,
    "start_time": "2023-04-05T16:27:24.950Z"
   },
   {
    "duration": 140,
    "start_time": "2023-04-05T16:27:25.158Z"
   },
   {
    "duration": 7,
    "start_time": "2023-04-05T16:27:25.299Z"
   },
   {
    "duration": 23,
    "start_time": "2023-04-05T16:27:25.308Z"
   },
   {
    "duration": 16,
    "start_time": "2023-04-05T16:27:25.332Z"
   },
   {
    "duration": 6,
    "start_time": "2023-04-05T16:27:25.350Z"
   },
   {
    "duration": 332,
    "start_time": "2023-04-05T16:27:25.358Z"
   },
   {
    "duration": 240,
    "start_time": "2023-04-05T16:27:25.692Z"
   },
   {
    "duration": 313,
    "start_time": "2023-04-05T16:27:25.939Z"
   },
   {
    "duration": 268,
    "start_time": "2023-04-05T16:27:26.254Z"
   },
   {
    "duration": 234,
    "start_time": "2023-04-05T16:27:26.525Z"
   },
   {
    "duration": 318,
    "start_time": "2023-04-05T16:27:26.762Z"
   },
   {
    "duration": 169,
    "start_time": "2023-04-05T16:27:27.083Z"
   },
   {
    "duration": 8,
    "start_time": "2023-04-05T16:27:27.253Z"
   },
   {
    "duration": 150,
    "start_time": "2023-04-05T16:27:27.263Z"
   },
   {
    "duration": 15,
    "start_time": "2023-04-05T16:27:27.416Z"
   },
   {
    "duration": 157,
    "start_time": "2023-04-05T16:27:27.438Z"
   },
   {
    "duration": 247,
    "start_time": "2023-04-05T16:27:27.597Z"
   },
   {
    "duration": 7,
    "start_time": "2023-04-05T16:27:27.846Z"
   },
   {
    "duration": 29,
    "start_time": "2023-04-05T16:27:27.856Z"
   },
   {
    "duration": 12,
    "start_time": "2023-04-05T16:27:27.887Z"
   },
   {
    "duration": 29,
    "start_time": "2023-04-05T16:27:27.901Z"
   },
   {
    "duration": 12,
    "start_time": "2023-04-05T16:27:27.940Z"
   },
   {
    "duration": 38,
    "start_time": "2023-04-05T16:27:27.955Z"
   },
   {
    "duration": 5,
    "start_time": "2023-04-05T16:27:27.996Z"
   },
   {
    "duration": 12,
    "start_time": "2023-04-05T16:27:28.003Z"
   },
   {
    "duration": 20,
    "start_time": "2023-04-05T16:27:28.016Z"
   },
   {
    "duration": 12,
    "start_time": "2023-04-05T16:33:15.638Z"
   },
   {
    "duration": 6,
    "start_time": "2023-04-05T16:33:52.396Z"
   },
   {
    "duration": 10,
    "start_time": "2023-04-05T16:34:30.122Z"
   },
   {
    "duration": 9,
    "start_time": "2023-04-05T16:36:07.353Z"
   },
   {
    "duration": 140,
    "start_time": "2023-04-05T16:40:09.202Z"
   },
   {
    "duration": 11,
    "start_time": "2023-04-05T16:41:04.432Z"
   },
   {
    "duration": 11,
    "start_time": "2023-04-05T16:41:54.271Z"
   },
   {
    "duration": 9,
    "start_time": "2023-04-05T16:43:50.974Z"
   },
   {
    "duration": 7,
    "start_time": "2023-04-05T16:45:41.178Z"
   },
   {
    "duration": 12,
    "start_time": "2023-04-05T16:45:55.066Z"
   },
   {
    "duration": 10,
    "start_time": "2023-04-05T16:52:45.539Z"
   },
   {
    "duration": 81,
    "start_time": "2023-04-05T16:53:01.211Z"
   },
   {
    "duration": 85,
    "start_time": "2023-04-05T16:53:13.473Z"
   },
   {
    "duration": 10,
    "start_time": "2023-04-05T16:53:33.201Z"
   },
   {
    "duration": 7,
    "start_time": "2023-04-05T16:54:53.412Z"
   },
   {
    "duration": 9,
    "start_time": "2023-04-05T16:55:01.754Z"
   },
   {
    "duration": 2,
    "start_time": "2023-04-05T16:55:13.793Z"
   },
   {
    "duration": 10,
    "start_time": "2023-04-05T16:59:26.238Z"
   },
   {
    "duration": 13,
    "start_time": "2023-04-05T16:59:43.733Z"
   },
   {
    "duration": 13,
    "start_time": "2023-04-05T17:00:00.308Z"
   },
   {
    "duration": 3,
    "start_time": "2023-04-05T17:00:06.877Z"
   },
   {
    "duration": 99,
    "start_time": "2023-04-05T17:06:45.750Z"
   },
   {
    "duration": 85,
    "start_time": "2023-04-05T17:07:15.493Z"
   },
   {
    "duration": 4,
    "start_time": "2023-04-05T17:07:46.791Z"
   },
   {
    "duration": 9,
    "start_time": "2023-04-05T17:08:47.744Z"
   },
   {
    "duration": 1353,
    "start_time": "2023-04-06T07:56:21.641Z"
   },
   {
    "duration": 218,
    "start_time": "2023-04-06T07:56:22.997Z"
   },
   {
    "duration": 15,
    "start_time": "2023-04-06T07:56:23.217Z"
   },
   {
    "duration": 14,
    "start_time": "2023-04-06T07:56:23.234Z"
   },
   {
    "duration": 15,
    "start_time": "2023-04-06T07:56:23.250Z"
   },
   {
    "duration": 11,
    "start_time": "2023-04-06T07:56:23.267Z"
   },
   {
    "duration": 15,
    "start_time": "2023-04-06T07:56:23.280Z"
   },
   {
    "duration": 17,
    "start_time": "2023-04-06T07:56:23.296Z"
   },
   {
    "duration": 5,
    "start_time": "2023-04-06T07:56:23.315Z"
   },
   {
    "duration": 12,
    "start_time": "2023-04-06T07:56:23.324Z"
   },
   {
    "duration": 9,
    "start_time": "2023-04-06T07:56:23.338Z"
   },
   {
    "duration": 8,
    "start_time": "2023-04-06T07:56:23.349Z"
   },
   {
    "duration": 6,
    "start_time": "2023-04-06T07:56:23.359Z"
   },
   {
    "duration": 21,
    "start_time": "2023-04-06T07:56:23.367Z"
   },
   {
    "duration": 11,
    "start_time": "2023-04-06T07:56:23.390Z"
   },
   {
    "duration": 7,
    "start_time": "2023-04-06T07:56:23.404Z"
   },
   {
    "duration": 11,
    "start_time": "2023-04-06T07:56:23.413Z"
   },
   {
    "duration": 9,
    "start_time": "2023-04-06T07:56:23.426Z"
   },
   {
    "duration": 14,
    "start_time": "2023-04-06T07:56:23.436Z"
   },
   {
    "duration": 6,
    "start_time": "2023-04-06T07:56:23.451Z"
   },
   {
    "duration": 40,
    "start_time": "2023-04-06T07:56:23.459Z"
   },
   {
    "duration": 8,
    "start_time": "2023-04-06T07:56:23.501Z"
   },
   {
    "duration": 7,
    "start_time": "2023-04-06T07:56:23.511Z"
   },
   {
    "duration": 11,
    "start_time": "2023-04-06T07:56:23.520Z"
   },
   {
    "duration": 7,
    "start_time": "2023-04-06T07:56:23.532Z"
   },
   {
    "duration": 14,
    "start_time": "2023-04-06T07:56:23.541Z"
   },
   {
    "duration": 9,
    "start_time": "2023-04-06T07:56:23.557Z"
   },
   {
    "duration": 180,
    "start_time": "2023-04-06T07:56:23.570Z"
   },
   {
    "duration": 138,
    "start_time": "2023-04-06T07:56:23.751Z"
   },
   {
    "duration": 8,
    "start_time": "2023-04-06T07:56:23.891Z"
   },
   {
    "duration": 21,
    "start_time": "2023-04-06T07:56:23.901Z"
   },
   {
    "duration": 7,
    "start_time": "2023-04-06T07:56:23.924Z"
   },
   {
    "duration": 6,
    "start_time": "2023-04-06T07:56:23.933Z"
   },
   {
    "duration": 289,
    "start_time": "2023-04-06T07:56:23.940Z"
   },
   {
    "duration": 202,
    "start_time": "2023-04-06T07:56:24.231Z"
   },
   {
    "duration": 324,
    "start_time": "2023-04-06T07:56:24.435Z"
   },
   {
    "duration": 242,
    "start_time": "2023-04-06T07:56:24.760Z"
   },
   {
    "duration": 218,
    "start_time": "2023-04-06T07:56:25.004Z"
   },
   {
    "duration": 293,
    "start_time": "2023-04-06T07:56:25.224Z"
   },
   {
    "duration": 149,
    "start_time": "2023-04-06T07:56:25.519Z"
   },
   {
    "duration": 7,
    "start_time": "2023-04-06T07:56:25.669Z"
   },
   {
    "duration": 124,
    "start_time": "2023-04-06T07:56:25.686Z"
   },
   {
    "duration": 5,
    "start_time": "2023-04-06T07:56:25.811Z"
   },
   {
    "duration": 138,
    "start_time": "2023-04-06T07:56:25.818Z"
   },
   {
    "duration": 216,
    "start_time": "2023-04-06T07:56:25.958Z"
   },
   {
    "duration": 12,
    "start_time": "2023-04-06T07:56:26.176Z"
   },
   {
    "duration": 29,
    "start_time": "2023-04-06T07:56:26.190Z"
   },
   {
    "duration": 11,
    "start_time": "2023-04-06T07:56:26.221Z"
   },
   {
    "duration": 9,
    "start_time": "2023-04-06T07:56:26.234Z"
   },
   {
    "duration": 7,
    "start_time": "2023-04-06T07:56:26.245Z"
   },
   {
    "duration": 54,
    "start_time": "2023-04-06T07:56:26.254Z"
   },
   {
    "duration": 4,
    "start_time": "2023-04-06T07:56:26.310Z"
   },
   {
    "duration": 11,
    "start_time": "2023-04-06T07:56:26.316Z"
   },
   {
    "duration": 14,
    "start_time": "2023-04-06T07:56:26.329Z"
   },
   {
    "duration": 13,
    "start_time": "2023-04-06T08:54:02.351Z"
   },
   {
    "duration": 6,
    "start_time": "2023-04-06T08:56:06.789Z"
   },
   {
    "duration": 6,
    "start_time": "2023-04-06T08:56:30.907Z"
   },
   {
    "duration": 8,
    "start_time": "2023-04-06T08:57:48.808Z"
   },
   {
    "duration": 7,
    "start_time": "2023-04-06T08:58:57.845Z"
   },
   {
    "duration": 10,
    "start_time": "2023-04-06T08:59:48.378Z"
   },
   {
    "duration": 15,
    "start_time": "2023-04-06T09:02:50.150Z"
   },
   {
    "duration": 9,
    "start_time": "2023-04-06T09:03:10.116Z"
   },
   {
    "duration": 6,
    "start_time": "2023-04-06T09:03:16.991Z"
   },
   {
    "duration": 5,
    "start_time": "2023-04-06T09:03:24.510Z"
   },
   {
    "duration": 14,
    "start_time": "2023-04-06T09:03:46.397Z"
   },
   {
    "duration": 4,
    "start_time": "2023-04-06T09:06:45.760Z"
   },
   {
    "duration": 6,
    "start_time": "2023-04-06T09:06:54.955Z"
   },
   {
    "duration": 5,
    "start_time": "2023-04-06T09:07:29.958Z"
   },
   {
    "duration": 7,
    "start_time": "2023-04-06T09:20:20.890Z"
   },
   {
    "duration": 16,
    "start_time": "2023-04-06T09:25:08.057Z"
   },
   {
    "duration": 7,
    "start_time": "2023-04-06T09:26:08.067Z"
   },
   {
    "duration": 114,
    "start_time": "2023-04-06T09:28:02.368Z"
   },
   {
    "duration": 13,
    "start_time": "2023-04-06T09:29:02.728Z"
   },
   {
    "duration": 10,
    "start_time": "2023-04-06T09:29:20.938Z"
   },
   {
    "duration": 5,
    "start_time": "2023-04-06T09:30:10.225Z"
   },
   {
    "duration": 223,
    "start_time": "2023-04-06T09:30:17.240Z"
   },
   {
    "duration": 101,
    "start_time": "2023-04-06T09:30:30.989Z"
   },
   {
    "duration": 181,
    "start_time": "2023-04-06T09:30:45.892Z"
   },
   {
    "duration": 152,
    "start_time": "2023-04-06T09:30:58.397Z"
   },
   {
    "duration": 13,
    "start_time": "2023-04-06T09:31:39.340Z"
   },
   {
    "duration": 9,
    "start_time": "2023-04-06T09:31:57.371Z"
   },
   {
    "duration": 5,
    "start_time": "2023-04-06T09:36:15.524Z"
   },
   {
    "duration": 13,
    "start_time": "2023-04-06T09:36:33.456Z"
   },
   {
    "duration": 12,
    "start_time": "2023-04-06T09:36:44.977Z"
   },
   {
    "duration": 13,
    "start_time": "2023-04-06T09:42:42.720Z"
   },
   {
    "duration": 1145,
    "start_time": "2023-04-06T09:43:20.816Z"
   },
   {
    "duration": 75,
    "start_time": "2023-04-06T09:43:21.964Z"
   },
   {
    "duration": 15,
    "start_time": "2023-04-06T09:43:22.041Z"
   },
   {
    "duration": 7,
    "start_time": "2023-04-06T09:43:22.059Z"
   },
   {
    "duration": 20,
    "start_time": "2023-04-06T09:43:22.068Z"
   },
   {
    "duration": 14,
    "start_time": "2023-04-06T09:43:22.091Z"
   },
   {
    "duration": 14,
    "start_time": "2023-04-06T09:43:22.107Z"
   },
   {
    "duration": 8,
    "start_time": "2023-04-06T09:43:22.124Z"
   },
   {
    "duration": 9,
    "start_time": "2023-04-06T09:43:22.134Z"
   },
   {
    "duration": 9,
    "start_time": "2023-04-06T09:43:22.146Z"
   },
   {
    "duration": 15,
    "start_time": "2023-04-06T09:43:22.187Z"
   },
   {
    "duration": 17,
    "start_time": "2023-04-06T09:43:22.205Z"
   },
   {
    "duration": 8,
    "start_time": "2023-04-06T09:43:22.224Z"
   },
   {
    "duration": 6,
    "start_time": "2023-04-06T09:43:22.234Z"
   },
   {
    "duration": 20,
    "start_time": "2023-04-06T09:43:22.243Z"
   },
   {
    "duration": 35,
    "start_time": "2023-04-06T09:43:22.265Z"
   },
   {
    "duration": 11,
    "start_time": "2023-04-06T09:43:22.303Z"
   },
   {
    "duration": 16,
    "start_time": "2023-04-06T09:43:22.316Z"
   },
   {
    "duration": 21,
    "start_time": "2023-04-06T09:43:22.334Z"
   },
   {
    "duration": 9,
    "start_time": "2023-04-06T09:43:22.358Z"
   },
   {
    "duration": 21,
    "start_time": "2023-04-06T09:43:22.389Z"
   },
   {
    "duration": 12,
    "start_time": "2023-04-06T09:43:22.412Z"
   },
   {
    "duration": 10,
    "start_time": "2023-04-06T09:43:22.426Z"
   },
   {
    "duration": 14,
    "start_time": "2023-04-06T09:43:22.438Z"
   },
   {
    "duration": 11,
    "start_time": "2023-04-06T09:43:22.454Z"
   },
   {
    "duration": 30,
    "start_time": "2023-04-06T09:43:22.466Z"
   },
   {
    "duration": 9,
    "start_time": "2023-04-06T09:43:22.498Z"
   },
   {
    "duration": 211,
    "start_time": "2023-04-06T09:43:22.512Z"
   },
   {
    "duration": 147,
    "start_time": "2023-04-06T09:43:22.725Z"
   },
   {
    "duration": 18,
    "start_time": "2023-04-06T09:43:22.874Z"
   },
   {
    "duration": 15,
    "start_time": "2023-04-06T09:43:22.894Z"
   },
   {
    "duration": 9,
    "start_time": "2023-04-06T09:43:22.912Z"
   },
   {
    "duration": 10,
    "start_time": "2023-04-06T09:43:22.923Z"
   },
   {
    "duration": 337,
    "start_time": "2023-04-06T09:43:22.935Z"
   },
   {
    "duration": 225,
    "start_time": "2023-04-06T09:43:23.274Z"
   },
   {
    "duration": 356,
    "start_time": "2023-04-06T09:43:23.500Z"
   },
   {
    "duration": 263,
    "start_time": "2023-04-06T09:43:23.858Z"
   },
   {
    "duration": 248,
    "start_time": "2023-04-06T09:43:24.123Z"
   },
   {
    "duration": 441,
    "start_time": "2023-04-06T09:43:24.373Z"
   },
   {
    "duration": 164,
    "start_time": "2023-04-06T09:43:24.816Z"
   },
   {
    "duration": 9,
    "start_time": "2023-04-06T09:43:24.982Z"
   },
   {
    "duration": 138,
    "start_time": "2023-04-06T09:43:24.993Z"
   },
   {
    "duration": 6,
    "start_time": "2023-04-06T09:43:25.133Z"
   },
   {
    "duration": 215,
    "start_time": "2023-04-06T09:43:25.141Z"
   },
   {
    "duration": 296,
    "start_time": "2023-04-06T09:43:25.358Z"
   },
   {
    "duration": 7,
    "start_time": "2023-04-06T09:43:25.656Z"
   },
   {
    "duration": 58,
    "start_time": "2023-04-06T09:43:25.666Z"
   },
   {
    "duration": 17,
    "start_time": "2023-04-06T09:43:25.726Z"
   },
   {
    "duration": 16,
    "start_time": "2023-04-06T09:43:25.745Z"
   },
   {
    "duration": 13,
    "start_time": "2023-04-06T09:43:25.787Z"
   },
   {
    "duration": 28,
    "start_time": "2023-04-06T09:43:25.803Z"
   },
   {
    "duration": 7,
    "start_time": "2023-04-06T09:43:25.832Z"
   },
   {
    "duration": 29,
    "start_time": "2023-04-06T09:43:25.841Z"
   },
   {
    "duration": 24,
    "start_time": "2023-04-06T09:43:25.872Z"
   },
   {
    "duration": 8,
    "start_time": "2023-04-06T09:44:49.727Z"
   },
   {
    "duration": 14,
    "start_time": "2023-04-06T09:44:55.989Z"
   },
   {
    "duration": 11,
    "start_time": "2023-04-06T09:45:15.410Z"
   },
   {
    "duration": 9,
    "start_time": "2023-04-06T09:46:13.298Z"
   },
   {
    "duration": 6,
    "start_time": "2023-04-06T09:46:39.025Z"
   },
   {
    "duration": 7,
    "start_time": "2023-04-06T09:48:09.120Z"
   },
   {
    "duration": 8,
    "start_time": "2023-04-06T10:02:54.465Z"
   },
   {
    "duration": 1217,
    "start_time": "2023-04-06T10:07:27.335Z"
   },
   {
    "duration": 77,
    "start_time": "2023-04-06T10:07:28.556Z"
   },
   {
    "duration": 20,
    "start_time": "2023-04-06T10:07:28.635Z"
   },
   {
    "duration": 6,
    "start_time": "2023-04-06T10:07:28.658Z"
   },
   {
    "duration": 14,
    "start_time": "2023-04-06T10:07:28.666Z"
   },
   {
    "duration": 12,
    "start_time": "2023-04-06T10:07:28.682Z"
   },
   {
    "duration": 15,
    "start_time": "2023-04-06T10:07:28.697Z"
   },
   {
    "duration": 12,
    "start_time": "2023-04-06T10:07:28.715Z"
   },
   {
    "duration": 13,
    "start_time": "2023-04-06T10:07:28.729Z"
   },
   {
    "duration": 15,
    "start_time": "2023-04-06T10:07:28.745Z"
   },
   {
    "duration": 32,
    "start_time": "2023-04-06T10:07:28.762Z"
   },
   {
    "duration": 11,
    "start_time": "2023-04-06T10:07:28.796Z"
   },
   {
    "duration": 25,
    "start_time": "2023-04-06T10:07:28.809Z"
   },
   {
    "duration": 16,
    "start_time": "2023-04-06T10:07:28.837Z"
   },
   {
    "duration": 29,
    "start_time": "2023-04-06T10:07:28.855Z"
   },
   {
    "duration": 21,
    "start_time": "2023-04-06T10:07:28.895Z"
   },
   {
    "duration": 12,
    "start_time": "2023-04-06T10:07:28.918Z"
   },
   {
    "duration": 15,
    "start_time": "2023-04-06T10:07:28.932Z"
   },
   {
    "duration": 9,
    "start_time": "2023-04-06T10:07:28.948Z"
   },
   {
    "duration": 7,
    "start_time": "2023-04-06T10:07:28.959Z"
   },
   {
    "duration": 21,
    "start_time": "2023-04-06T10:07:28.987Z"
   },
   {
    "duration": 10,
    "start_time": "2023-04-06T10:07:29.011Z"
   },
   {
    "duration": 7,
    "start_time": "2023-04-06T10:07:29.023Z"
   },
   {
    "duration": 16,
    "start_time": "2023-04-06T10:07:29.032Z"
   },
   {
    "duration": 8,
    "start_time": "2023-04-06T10:07:29.050Z"
   },
   {
    "duration": 40,
    "start_time": "2023-04-06T10:07:29.061Z"
   },
   {
    "duration": 9,
    "start_time": "2023-04-06T10:07:29.103Z"
   },
   {
    "duration": 202,
    "start_time": "2023-04-06T10:07:29.118Z"
   },
   {
    "duration": 138,
    "start_time": "2023-04-06T10:07:29.322Z"
   },
   {
    "duration": 7,
    "start_time": "2023-04-06T10:07:29.462Z"
   },
   {
    "duration": 24,
    "start_time": "2023-04-06T10:07:29.471Z"
   },
   {
    "duration": 9,
    "start_time": "2023-04-06T10:07:29.497Z"
   },
   {
    "duration": 5,
    "start_time": "2023-04-06T10:07:29.509Z"
   },
   {
    "duration": 377,
    "start_time": "2023-04-06T10:07:29.516Z"
   },
   {
    "duration": 232,
    "start_time": "2023-04-06T10:07:29.895Z"
   },
   {
    "duration": 329,
    "start_time": "2023-04-06T10:07:30.129Z"
   },
   {
    "duration": 334,
    "start_time": "2023-04-06T10:07:30.461Z"
   },
   {
    "duration": 293,
    "start_time": "2023-04-06T10:07:30.797Z"
   },
   {
    "duration": 421,
    "start_time": "2023-04-06T10:07:31.092Z"
   },
   {
    "duration": 199,
    "start_time": "2023-04-06T10:07:31.516Z"
   },
   {
    "duration": 8,
    "start_time": "2023-04-06T10:07:31.717Z"
   },
   {
    "duration": 152,
    "start_time": "2023-04-06T10:07:31.727Z"
   },
   {
    "duration": 13,
    "start_time": "2023-04-06T10:07:31.881Z"
   },
   {
    "duration": 181,
    "start_time": "2023-04-06T10:07:31.897Z"
   },
   {
    "duration": 230,
    "start_time": "2023-04-06T10:07:32.080Z"
   },
   {
    "duration": 6,
    "start_time": "2023-04-06T10:07:32.311Z"
   },
   {
    "duration": 51,
    "start_time": "2023-04-06T10:07:32.319Z"
   },
   {
    "duration": 15,
    "start_time": "2023-04-06T10:07:32.389Z"
   },
   {
    "duration": 11,
    "start_time": "2023-04-06T10:07:32.407Z"
   },
   {
    "duration": 15,
    "start_time": "2023-04-06T10:07:32.419Z"
   },
   {
    "duration": 56,
    "start_time": "2023-04-06T10:07:32.436Z"
   },
   {
    "duration": 5,
    "start_time": "2023-04-06T10:07:32.494Z"
   },
   {
    "duration": 17,
    "start_time": "2023-04-06T10:07:32.502Z"
   },
   {
    "duration": 14,
    "start_time": "2023-04-06T10:07:32.521Z"
   },
   {
    "duration": 6,
    "start_time": "2023-04-06T10:12:42.525Z"
   },
   {
    "duration": 4,
    "start_time": "2023-04-06T10:16:42.624Z"
   },
   {
    "duration": 12,
    "start_time": "2023-04-06T10:16:57.244Z"
   },
   {
    "duration": 1305,
    "start_time": "2023-04-06T17:46:28.896Z"
   },
   {
    "duration": 256,
    "start_time": "2023-04-06T17:46:30.202Z"
   },
   {
    "duration": 30,
    "start_time": "2023-04-06T17:46:30.459Z"
   },
   {
    "duration": 26,
    "start_time": "2023-04-06T17:46:30.491Z"
   },
   {
    "duration": 84,
    "start_time": "2023-04-06T17:46:30.519Z"
   },
   {
    "duration": 77,
    "start_time": "2023-04-06T17:46:30.604Z"
   },
   {
    "duration": 35,
    "start_time": "2023-04-06T17:46:30.682Z"
   },
   {
    "duration": 23,
    "start_time": "2023-04-06T17:46:30.719Z"
   },
   {
    "duration": 52,
    "start_time": "2023-04-06T17:46:30.744Z"
   },
   {
    "duration": 27,
    "start_time": "2023-04-06T17:46:30.799Z"
   },
   {
    "duration": 19,
    "start_time": "2023-04-06T17:46:30.828Z"
   },
   {
    "duration": 41,
    "start_time": "2023-04-06T17:46:30.849Z"
   },
   {
    "duration": 19,
    "start_time": "2023-04-06T17:46:30.892Z"
   },
   {
    "duration": 19,
    "start_time": "2023-04-06T17:46:30.913Z"
   },
   {
    "duration": 24,
    "start_time": "2023-04-06T17:46:30.933Z"
   },
   {
    "duration": 27,
    "start_time": "2023-04-06T17:46:30.958Z"
   },
   {
    "duration": 21,
    "start_time": "2023-04-06T17:46:30.987Z"
   },
   {
    "duration": 89,
    "start_time": "2023-04-06T17:46:31.010Z"
   },
   {
    "duration": 29,
    "start_time": "2023-04-06T17:46:31.102Z"
   },
   {
    "duration": 28,
    "start_time": "2023-04-06T17:46:31.132Z"
   },
   {
    "duration": 27,
    "start_time": "2023-04-06T17:46:31.162Z"
   },
   {
    "duration": 29,
    "start_time": "2023-04-06T17:46:31.191Z"
   },
   {
    "duration": 31,
    "start_time": "2023-04-06T17:46:31.221Z"
   },
   {
    "duration": 27,
    "start_time": "2023-04-06T17:46:31.254Z"
   },
   {
    "duration": 42,
    "start_time": "2023-04-06T17:46:31.285Z"
   },
   {
    "duration": 16,
    "start_time": "2023-04-06T17:46:31.328Z"
   },
   {
    "duration": 32,
    "start_time": "2023-04-06T17:46:31.345Z"
   },
   {
    "duration": 77,
    "start_time": "2023-04-06T17:46:31.380Z"
   },
   {
    "duration": 195,
    "start_time": "2023-04-06T17:46:31.469Z"
   },
   {
    "duration": 124,
    "start_time": "2023-04-06T17:46:31.665Z"
   },
   {
    "duration": 7,
    "start_time": "2023-04-06T17:46:31.791Z"
   },
   {
    "duration": 28,
    "start_time": "2023-04-06T17:46:31.799Z"
   },
   {
    "duration": 25,
    "start_time": "2023-04-06T17:46:31.832Z"
   },
   {
    "duration": 62,
    "start_time": "2023-04-06T17:46:31.859Z"
   },
   {
    "duration": 312,
    "start_time": "2023-04-06T17:46:31.923Z"
   },
   {
    "duration": 185,
    "start_time": "2023-04-06T17:46:32.237Z"
   },
   {
    "duration": 316,
    "start_time": "2023-04-06T17:46:32.423Z"
   },
   {
    "duration": 216,
    "start_time": "2023-04-06T17:46:32.741Z"
   },
   {
    "duration": 200,
    "start_time": "2023-04-06T17:46:32.958Z"
   },
   {
    "duration": 304,
    "start_time": "2023-04-06T17:46:33.160Z"
   },
   {
    "duration": 150,
    "start_time": "2023-04-06T17:46:33.466Z"
   },
   {
    "duration": 7,
    "start_time": "2023-04-06T17:46:33.618Z"
   },
   {
    "duration": 111,
    "start_time": "2023-04-06T17:46:33.627Z"
   },
   {
    "duration": 5,
    "start_time": "2023-04-06T17:46:33.740Z"
   },
   {
    "duration": 118,
    "start_time": "2023-04-06T17:46:33.747Z"
   },
   {
    "duration": 181,
    "start_time": "2023-04-06T17:46:33.877Z"
   },
   {
    "duration": 5,
    "start_time": "2023-04-06T17:46:34.059Z"
   },
   {
    "duration": 35,
    "start_time": "2023-04-06T17:46:34.065Z"
   },
   {
    "duration": 10,
    "start_time": "2023-04-06T17:46:34.102Z"
   },
   {
    "duration": 9,
    "start_time": "2023-04-06T17:46:34.114Z"
   },
   {
    "duration": 9,
    "start_time": "2023-04-06T17:46:34.125Z"
   },
   {
    "duration": 39,
    "start_time": "2023-04-06T17:46:34.136Z"
   },
   {
    "duration": 16,
    "start_time": "2023-04-06T17:46:34.177Z"
   },
   {
    "duration": 11,
    "start_time": "2023-04-06T17:46:34.194Z"
   },
   {
    "duration": 9,
    "start_time": "2023-04-06T17:46:34.206Z"
   },
   {
    "duration": 10,
    "start_time": "2023-04-06T17:48:39.395Z"
   },
   {
    "duration": 11,
    "start_time": "2023-04-06T17:49:12.199Z"
   },
   {
    "duration": 11,
    "start_time": "2023-04-06T17:59:38.637Z"
   },
   {
    "duration": 1251,
    "start_time": "2023-04-08T05:49:18.053Z"
   },
   {
    "duration": 232,
    "start_time": "2023-04-08T05:49:19.309Z"
   },
   {
    "duration": 14,
    "start_time": "2023-04-08T05:49:19.543Z"
   },
   {
    "duration": 6,
    "start_time": "2023-04-08T05:49:19.558Z"
   },
   {
    "duration": 12,
    "start_time": "2023-04-08T05:49:19.565Z"
   },
   {
    "duration": 8,
    "start_time": "2023-04-08T05:49:19.579Z"
   },
   {
    "duration": 11,
    "start_time": "2023-04-08T05:49:19.589Z"
   },
   {
    "duration": 7,
    "start_time": "2023-04-08T05:49:19.601Z"
   },
   {
    "duration": 29,
    "start_time": "2023-04-08T05:49:19.610Z"
   },
   {
    "duration": 10,
    "start_time": "2023-04-08T05:49:19.641Z"
   },
   {
    "duration": 5,
    "start_time": "2023-04-08T05:49:19.652Z"
   },
   {
    "duration": 7,
    "start_time": "2023-04-08T05:49:19.658Z"
   },
   {
    "duration": 6,
    "start_time": "2023-04-08T05:49:19.667Z"
   },
   {
    "duration": 6,
    "start_time": "2023-04-08T05:49:19.674Z"
   },
   {
    "duration": 9,
    "start_time": "2023-04-08T05:49:19.681Z"
   },
   {
    "duration": 43,
    "start_time": "2023-04-08T05:49:19.691Z"
   },
   {
    "duration": 8,
    "start_time": "2023-04-08T05:49:19.736Z"
   },
   {
    "duration": 17,
    "start_time": "2023-04-08T05:49:19.745Z"
   },
   {
    "duration": 8,
    "start_time": "2023-04-08T05:49:19.764Z"
   },
   {
    "duration": 8,
    "start_time": "2023-04-08T05:49:19.774Z"
   },
   {
    "duration": 7,
    "start_time": "2023-04-08T05:49:19.784Z"
   },
   {
    "duration": 13,
    "start_time": "2023-04-08T05:49:19.792Z"
   },
   {
    "duration": 31,
    "start_time": "2023-04-08T05:49:19.806Z"
   },
   {
    "duration": 10,
    "start_time": "2023-04-08T05:49:19.838Z"
   },
   {
    "duration": 14,
    "start_time": "2023-04-08T05:49:19.849Z"
   },
   {
    "duration": 6,
    "start_time": "2023-04-08T05:49:19.865Z"
   },
   {
    "duration": 11,
    "start_time": "2023-04-08T05:49:19.873Z"
   },
   {
    "duration": 9,
    "start_time": "2023-04-08T05:49:19.888Z"
   },
   {
    "duration": 185,
    "start_time": "2023-04-08T05:49:19.898Z"
   },
   {
    "duration": 122,
    "start_time": "2023-04-08T05:49:20.085Z"
   },
   {
    "duration": 7,
    "start_time": "2023-04-08T05:49:20.209Z"
   },
   {
    "duration": 26,
    "start_time": "2023-04-08T05:49:20.217Z"
   },
   {
    "duration": 12,
    "start_time": "2023-04-08T05:49:20.245Z"
   },
   {
    "duration": 21,
    "start_time": "2023-04-08T05:49:20.259Z"
   },
   {
    "duration": 261,
    "start_time": "2023-04-08T05:49:20.281Z"
   },
   {
    "duration": 186,
    "start_time": "2023-04-08T05:49:20.544Z"
   },
   {
    "duration": 344,
    "start_time": "2023-04-08T05:49:20.734Z"
   },
   {
    "duration": 224,
    "start_time": "2023-04-08T05:49:21.080Z"
   },
   {
    "duration": 197,
    "start_time": "2023-04-08T05:49:21.306Z"
   },
   {
    "duration": 357,
    "start_time": "2023-04-08T05:49:21.504Z"
   },
   {
    "duration": 136,
    "start_time": "2023-04-08T05:49:21.862Z"
   },
   {
    "duration": 5,
    "start_time": "2023-04-08T05:49:22.000Z"
   },
   {
    "duration": 133,
    "start_time": "2023-04-08T05:49:22.007Z"
   },
   {
    "duration": 4,
    "start_time": "2023-04-08T05:49:22.142Z"
   },
   {
    "duration": 151,
    "start_time": "2023-04-08T05:49:22.148Z"
   },
   {
    "duration": 218,
    "start_time": "2023-04-08T05:49:22.300Z"
   },
   {
    "duration": 15,
    "start_time": "2023-04-08T05:49:22.520Z"
   },
   {
    "duration": 26,
    "start_time": "2023-04-08T05:49:22.537Z"
   },
   {
    "duration": 14,
    "start_time": "2023-04-08T05:49:22.565Z"
   },
   {
    "duration": 12,
    "start_time": "2023-04-08T05:49:22.581Z"
   },
   {
    "duration": 40,
    "start_time": "2023-04-08T05:49:22.595Z"
   },
   {
    "duration": 31,
    "start_time": "2023-04-08T05:49:22.637Z"
   },
   {
    "duration": 4,
    "start_time": "2023-04-08T05:49:22.670Z"
   },
   {
    "duration": 13,
    "start_time": "2023-04-08T05:49:22.675Z"
   },
   {
    "duration": 9,
    "start_time": "2023-04-08T05:49:22.689Z"
   },
   {
    "duration": 4,
    "start_time": "2023-04-08T05:50:07.966Z"
   },
   {
    "duration": 5,
    "start_time": "2023-04-08T05:50:42.226Z"
   },
   {
    "duration": 172,
    "start_time": "2023-04-08T05:52:37.076Z"
   },
   {
    "duration": 174,
    "start_time": "2023-04-08T05:53:02.363Z"
   },
   {
    "duration": 238,
    "start_time": "2023-04-08T05:53:22.213Z"
   },
   {
    "duration": 202,
    "start_time": "2023-04-08T05:54:54.386Z"
   },
   {
    "duration": 215,
    "start_time": "2023-04-08T06:02:17.550Z"
   },
   {
    "duration": 4,
    "start_time": "2023-04-08T06:07:11.178Z"
   },
   {
    "duration": 1073,
    "start_time": "2023-04-08T06:07:56.754Z"
   },
   {
    "duration": 1096,
    "start_time": "2023-04-08T06:08:19.851Z"
   },
   {
    "duration": 81,
    "start_time": "2023-04-08T06:08:20.949Z"
   },
   {
    "duration": 14,
    "start_time": "2023-04-08T06:08:21.033Z"
   },
   {
    "duration": 21,
    "start_time": "2023-04-08T06:08:21.050Z"
   },
   {
    "duration": 16,
    "start_time": "2023-04-08T06:08:21.073Z"
   },
   {
    "duration": 29,
    "start_time": "2023-04-08T06:08:21.091Z"
   },
   {
    "duration": 23,
    "start_time": "2023-04-08T06:08:21.121Z"
   },
   {
    "duration": 23,
    "start_time": "2023-04-08T06:08:21.146Z"
   },
   {
    "duration": 14,
    "start_time": "2023-04-08T06:08:21.170Z"
   },
   {
    "duration": 15,
    "start_time": "2023-04-08T06:08:21.185Z"
   },
   {
    "duration": 4,
    "start_time": "2023-04-08T06:08:21.201Z"
   },
   {
    "duration": 6,
    "start_time": "2023-04-08T06:08:21.206Z"
   },
   {
    "duration": 5,
    "start_time": "2023-04-08T06:08:21.214Z"
   },
   {
    "duration": 5,
    "start_time": "2023-04-08T06:08:21.222Z"
   },
   {
    "duration": 13,
    "start_time": "2023-04-08T06:08:21.229Z"
   },
   {
    "duration": 19,
    "start_time": "2023-04-08T06:08:21.244Z"
   },
   {
    "duration": 12,
    "start_time": "2023-04-08T06:08:21.264Z"
   },
   {
    "duration": 15,
    "start_time": "2023-04-08T06:08:21.277Z"
   },
   {
    "duration": 14,
    "start_time": "2023-04-08T06:08:21.293Z"
   },
   {
    "duration": 10,
    "start_time": "2023-04-08T06:08:21.308Z"
   },
   {
    "duration": 7,
    "start_time": "2023-04-08T06:08:21.319Z"
   },
   {
    "duration": 21,
    "start_time": "2023-04-08T06:08:21.328Z"
   },
   {
    "duration": 6,
    "start_time": "2023-04-08T06:08:21.351Z"
   },
   {
    "duration": 11,
    "start_time": "2023-04-08T06:08:21.358Z"
   },
   {
    "duration": 14,
    "start_time": "2023-04-08T06:08:21.371Z"
   },
   {
    "duration": 10,
    "start_time": "2023-04-08T06:08:21.387Z"
   },
   {
    "duration": 21,
    "start_time": "2023-04-08T06:08:21.399Z"
   },
   {
    "duration": 6,
    "start_time": "2023-04-08T06:08:21.422Z"
   },
   {
    "duration": 163,
    "start_time": "2023-04-08T06:08:21.430Z"
   },
   {
    "duration": 124,
    "start_time": "2023-04-08T06:08:21.595Z"
   },
   {
    "duration": 24,
    "start_time": "2023-04-08T06:08:21.721Z"
   },
   {
    "duration": 23,
    "start_time": "2023-04-08T06:08:21.751Z"
   },
   {
    "duration": 7,
    "start_time": "2023-04-08T06:08:21.776Z"
   },
   {
    "duration": 6,
    "start_time": "2023-04-08T06:08:21.785Z"
   },
   {
    "duration": 266,
    "start_time": "2023-04-08T06:08:21.792Z"
   },
   {
    "duration": 222,
    "start_time": "2023-04-08T06:08:22.060Z"
   },
   {
    "duration": 310,
    "start_time": "2023-04-08T06:08:22.284Z"
   },
   {
    "duration": 270,
    "start_time": "2023-04-08T06:08:22.596Z"
   },
   {
    "duration": 3,
    "start_time": "2023-04-08T06:08:22.868Z"
   },
   {
    "duration": 7,
    "start_time": "2023-04-08T06:08:22.873Z"
   },
   {
    "duration": 4,
    "start_time": "2023-04-08T06:08:22.883Z"
   },
   {
    "duration": 239,
    "start_time": "2023-04-08T06:08:22.888Z"
   },
   {
    "duration": 348,
    "start_time": "2023-04-08T06:08:23.129Z"
   },
   {
    "duration": 171,
    "start_time": "2023-04-08T06:08:23.479Z"
   },
   {
    "duration": 7,
    "start_time": "2023-04-08T06:08:23.652Z"
   },
   {
    "duration": 138,
    "start_time": "2023-04-08T06:08:23.661Z"
   },
   {
    "duration": 5,
    "start_time": "2023-04-08T06:08:23.802Z"
   },
   {
    "duration": 149,
    "start_time": "2023-04-08T06:08:23.808Z"
   },
   {
    "duration": 220,
    "start_time": "2023-04-08T06:08:23.960Z"
   },
   {
    "duration": 5,
    "start_time": "2023-04-08T06:08:24.181Z"
   },
   {
    "duration": 32,
    "start_time": "2023-04-08T06:08:24.187Z"
   },
   {
    "duration": 27,
    "start_time": "2023-04-08T06:08:24.221Z"
   },
   {
    "duration": 34,
    "start_time": "2023-04-08T06:08:24.250Z"
   },
   {
    "duration": 12,
    "start_time": "2023-04-08T06:08:24.285Z"
   },
   {
    "duration": 25,
    "start_time": "2023-04-08T06:08:24.298Z"
   },
   {
    "duration": 4,
    "start_time": "2023-04-08T06:08:24.325Z"
   },
   {
    "duration": 34,
    "start_time": "2023-04-08T06:08:24.330Z"
   },
   {
    "duration": 7,
    "start_time": "2023-04-08T06:08:24.365Z"
   },
   {
    "duration": 100,
    "start_time": "2023-04-08T06:38:56.847Z"
   },
   {
    "duration": 306,
    "start_time": "2023-04-08T06:39:09.815Z"
   },
   {
    "duration": 274,
    "start_time": "2023-04-08T06:40:58.260Z"
   },
   {
    "duration": 292,
    "start_time": "2023-04-08T06:41:09.810Z"
   },
   {
    "duration": 292,
    "start_time": "2023-04-08T06:43:33.148Z"
   },
   {
    "duration": 1295,
    "start_time": "2023-04-08T06:51:48.195Z"
   },
   {
    "duration": 90,
    "start_time": "2023-04-08T06:51:49.493Z"
   },
   {
    "duration": 15,
    "start_time": "2023-04-08T06:51:49.585Z"
   },
   {
    "duration": 14,
    "start_time": "2023-04-08T06:51:49.603Z"
   },
   {
    "duration": 21,
    "start_time": "2023-04-08T06:51:49.620Z"
   },
   {
    "duration": 48,
    "start_time": "2023-04-08T06:51:49.643Z"
   },
   {
    "duration": 24,
    "start_time": "2023-04-08T06:51:49.694Z"
   },
   {
    "duration": 51,
    "start_time": "2023-04-08T06:51:49.720Z"
   },
   {
    "duration": 29,
    "start_time": "2023-04-08T06:51:49.773Z"
   },
   {
    "duration": 15,
    "start_time": "2023-04-08T06:51:49.805Z"
   },
   {
    "duration": 10,
    "start_time": "2023-04-08T06:51:49.822Z"
   },
   {
    "duration": 72,
    "start_time": "2023-04-08T06:51:49.835Z"
   },
   {
    "duration": 25,
    "start_time": "2023-04-08T06:51:49.909Z"
   },
   {
    "duration": 36,
    "start_time": "2023-04-08T06:51:49.936Z"
   },
   {
    "duration": 21,
    "start_time": "2023-04-08T06:51:49.975Z"
   },
   {
    "duration": 15,
    "start_time": "2023-04-08T06:51:49.998Z"
   },
   {
    "duration": 11,
    "start_time": "2023-04-08T06:51:50.016Z"
   },
   {
    "duration": 48,
    "start_time": "2023-04-08T06:51:50.029Z"
   },
   {
    "duration": 11,
    "start_time": "2023-04-08T06:51:50.079Z"
   },
   {
    "duration": 15,
    "start_time": "2023-04-08T06:51:50.092Z"
   },
   {
    "duration": 22,
    "start_time": "2023-04-08T06:51:50.109Z"
   },
   {
    "duration": 55,
    "start_time": "2023-04-08T06:51:50.133Z"
   },
   {
    "duration": 11,
    "start_time": "2023-04-08T06:51:50.190Z"
   },
   {
    "duration": 11,
    "start_time": "2023-04-08T06:51:50.204Z"
   },
   {
    "duration": 16,
    "start_time": "2023-04-08T06:51:50.216Z"
   },
   {
    "duration": 34,
    "start_time": "2023-04-08T06:51:50.234Z"
   },
   {
    "duration": 13,
    "start_time": "2023-04-08T06:51:50.270Z"
   },
   {
    "duration": 8,
    "start_time": "2023-04-08T06:51:50.288Z"
   },
   {
    "duration": 380,
    "start_time": "2023-04-08T06:51:50.297Z"
   },
   {
    "duration": 202,
    "start_time": "2023-04-08T06:51:50.679Z"
   },
   {
    "duration": 11,
    "start_time": "2023-04-08T06:51:50.883Z"
   },
   {
    "duration": 142,
    "start_time": "2023-04-08T06:51:50.896Z"
   },
   {
    "duration": 61,
    "start_time": "2023-04-08T06:51:51.040Z"
   },
   {
    "duration": 19,
    "start_time": "2023-04-08T06:51:51.105Z"
   },
   {
    "duration": 463,
    "start_time": "2023-04-08T06:51:51.126Z"
   },
   {
    "duration": 248,
    "start_time": "2023-04-08T06:51:51.591Z"
   },
   {
    "duration": 358,
    "start_time": "2023-04-08T06:51:51.841Z"
   },
   {
    "duration": 287,
    "start_time": "2023-04-08T06:51:52.202Z"
   },
   {
    "duration": 5,
    "start_time": "2023-04-08T06:51:52.490Z"
   },
   {
    "duration": 65,
    "start_time": "2023-04-08T06:51:52.497Z"
   },
   {
    "duration": 39,
    "start_time": "2023-04-08T06:51:52.566Z"
   },
   {
    "duration": 305,
    "start_time": "2023-04-08T06:51:52.607Z"
   },
   {
    "duration": 10,
    "start_time": "2023-04-08T06:51:52.915Z"
   },
   {
    "duration": 366,
    "start_time": "2023-04-08T06:51:52.935Z"
   },
   {
    "duration": 167,
    "start_time": "2023-04-08T06:51:53.303Z"
   },
   {
    "duration": 7,
    "start_time": "2023-04-08T06:51:53.472Z"
   },
   {
    "duration": 289,
    "start_time": "2023-04-08T06:51:53.480Z"
   },
   {
    "duration": 11,
    "start_time": "2023-04-08T06:51:53.772Z"
   },
   {
    "duration": 226,
    "start_time": "2023-04-08T06:51:53.786Z"
   },
   {
    "duration": 289,
    "start_time": "2023-04-08T06:51:54.014Z"
   },
   {
    "duration": 11,
    "start_time": "2023-04-08T06:51:54.305Z"
   },
   {
    "duration": 60,
    "start_time": "2023-04-08T06:51:54.318Z"
   },
   {
    "duration": 21,
    "start_time": "2023-04-08T06:51:54.380Z"
   },
   {
    "duration": 28,
    "start_time": "2023-04-08T06:51:54.403Z"
   },
   {
    "duration": 34,
    "start_time": "2023-04-08T06:51:54.434Z"
   },
   {
    "duration": 55,
    "start_time": "2023-04-08T06:51:54.470Z"
   },
   {
    "duration": 10,
    "start_time": "2023-04-08T06:51:54.528Z"
   },
   {
    "duration": 69,
    "start_time": "2023-04-08T06:51:54.549Z"
   },
   {
    "duration": 13,
    "start_time": "2023-04-08T06:51:54.620Z"
   },
   {
    "duration": 1238,
    "start_time": "2023-04-08T08:46:03.810Z"
   },
   {
    "duration": 208,
    "start_time": "2023-04-08T08:46:05.050Z"
   },
   {
    "duration": 17,
    "start_time": "2023-04-08T08:46:05.260Z"
   },
   {
    "duration": 5,
    "start_time": "2023-04-08T08:46:05.279Z"
   },
   {
    "duration": 17,
    "start_time": "2023-04-08T08:46:05.291Z"
   },
   {
    "duration": 8,
    "start_time": "2023-04-08T08:46:05.309Z"
   },
   {
    "duration": 13,
    "start_time": "2023-04-08T08:46:05.319Z"
   },
   {
    "duration": 7,
    "start_time": "2023-04-08T08:46:05.333Z"
   },
   {
    "duration": 54,
    "start_time": "2023-04-08T08:46:05.342Z"
   },
   {
    "duration": 13,
    "start_time": "2023-04-08T08:46:05.398Z"
   },
   {
    "duration": 4,
    "start_time": "2023-04-08T08:46:05.415Z"
   },
   {
    "duration": 10,
    "start_time": "2023-04-08T08:46:05.421Z"
   },
   {
    "duration": 8,
    "start_time": "2023-04-08T08:46:05.433Z"
   },
   {
    "duration": 7,
    "start_time": "2023-04-08T08:46:05.443Z"
   },
   {
    "duration": 41,
    "start_time": "2023-04-08T08:46:05.451Z"
   },
   {
    "duration": 13,
    "start_time": "2023-04-08T08:46:05.494Z"
   },
   {
    "duration": 17,
    "start_time": "2023-04-08T08:46:05.508Z"
   },
   {
    "duration": 27,
    "start_time": "2023-04-08T08:46:05.527Z"
   },
   {
    "duration": 37,
    "start_time": "2023-04-08T08:46:05.555Z"
   },
   {
    "duration": 24,
    "start_time": "2023-04-08T08:46:05.594Z"
   },
   {
    "duration": 12,
    "start_time": "2023-04-08T08:46:05.619Z"
   },
   {
    "duration": 14,
    "start_time": "2023-04-08T08:46:05.632Z"
   },
   {
    "duration": 13,
    "start_time": "2023-04-08T08:46:05.647Z"
   },
   {
    "duration": 15,
    "start_time": "2023-04-08T08:46:05.661Z"
   },
   {
    "duration": 14,
    "start_time": "2023-04-08T08:46:05.680Z"
   },
   {
    "duration": 9,
    "start_time": "2023-04-08T08:46:05.696Z"
   },
   {
    "duration": 19,
    "start_time": "2023-04-08T08:46:05.707Z"
   },
   {
    "duration": 6,
    "start_time": "2023-04-08T08:46:05.731Z"
   },
   {
    "duration": 185,
    "start_time": "2023-04-08T08:46:05.739Z"
   },
   {
    "duration": 129,
    "start_time": "2023-04-08T08:46:05.926Z"
   },
   {
    "duration": 6,
    "start_time": "2023-04-08T08:46:06.057Z"
   },
   {
    "duration": 19,
    "start_time": "2023-04-08T08:46:06.068Z"
   },
   {
    "duration": 5,
    "start_time": "2023-04-08T08:46:06.089Z"
   },
   {
    "duration": 17,
    "start_time": "2023-04-08T08:46:06.095Z"
   },
   {
    "duration": 280,
    "start_time": "2023-04-08T08:46:06.113Z"
   },
   {
    "duration": 191,
    "start_time": "2023-04-08T08:46:06.395Z"
   },
   {
    "duration": 306,
    "start_time": "2023-04-08T08:46:06.588Z"
   },
   {
    "duration": 289,
    "start_time": "2023-04-08T08:46:06.896Z"
   },
   {
    "duration": 4,
    "start_time": "2023-04-08T08:46:07.189Z"
   },
   {
    "duration": 7,
    "start_time": "2023-04-08T08:46:07.195Z"
   },
   {
    "duration": 6,
    "start_time": "2023-04-08T08:46:07.203Z"
   },
   {
    "duration": 218,
    "start_time": "2023-04-08T08:46:07.212Z"
   },
   {
    "duration": 8,
    "start_time": "2023-04-08T08:46:07.432Z"
   },
   {
    "duration": 309,
    "start_time": "2023-04-08T08:46:07.441Z"
   },
   {
    "duration": 262,
    "start_time": "2023-04-08T08:46:07.752Z"
   },
   {
    "duration": 8,
    "start_time": "2023-04-08T08:46:08.016Z"
   },
   {
    "duration": 119,
    "start_time": "2023-04-08T08:46:08.026Z"
   },
   {
    "duration": 6,
    "start_time": "2023-04-08T08:46:08.147Z"
   },
   {
    "duration": 133,
    "start_time": "2023-04-08T08:46:08.155Z"
   },
   {
    "duration": 197,
    "start_time": "2023-04-08T08:46:08.289Z"
   },
   {
    "duration": 5,
    "start_time": "2023-04-08T08:46:08.489Z"
   },
   {
    "duration": 23,
    "start_time": "2023-04-08T08:46:08.495Z"
   },
   {
    "duration": 10,
    "start_time": "2023-04-08T08:46:08.519Z"
   },
   {
    "duration": 10,
    "start_time": "2023-04-08T08:46:08.530Z"
   },
   {
    "duration": 45,
    "start_time": "2023-04-08T08:46:08.543Z"
   },
   {
    "duration": 23,
    "start_time": "2023-04-08T08:46:08.593Z"
   },
   {
    "duration": 4,
    "start_time": "2023-04-08T08:46:08.617Z"
   },
   {
    "duration": 12,
    "start_time": "2023-04-08T08:46:08.623Z"
   },
   {
    "duration": 7,
    "start_time": "2023-04-08T08:46:08.636Z"
   },
   {
    "duration": 5,
    "start_time": "2023-04-08T08:52:04.938Z"
   },
   {
    "duration": 6,
    "start_time": "2023-04-08T08:54:54.538Z"
   },
   {
    "duration": 13,
    "start_time": "2023-04-08T09:19:50.701Z"
   },
   {
    "duration": 1019,
    "start_time": "2023-04-08T09:21:20.089Z"
   },
   {
    "duration": 76,
    "start_time": "2023-04-08T09:21:21.109Z"
   },
   {
    "duration": 16,
    "start_time": "2023-04-08T09:21:21.187Z"
   },
   {
    "duration": 6,
    "start_time": "2023-04-08T09:21:21.204Z"
   },
   {
    "duration": 11,
    "start_time": "2023-04-08T09:21:21.213Z"
   },
   {
    "duration": 13,
    "start_time": "2023-04-08T09:21:21.226Z"
   },
   {
    "duration": 36,
    "start_time": "2023-04-08T09:21:21.241Z"
   },
   {
    "duration": 8,
    "start_time": "2023-04-08T09:21:21.281Z"
   },
   {
    "duration": 7,
    "start_time": "2023-04-08T09:21:21.291Z"
   },
   {
    "duration": 14,
    "start_time": "2023-04-08T09:21:21.299Z"
   },
   {
    "duration": 3,
    "start_time": "2023-04-08T09:21:21.314Z"
   },
   {
    "duration": 7,
    "start_time": "2023-04-08T09:21:21.319Z"
   },
   {
    "duration": 6,
    "start_time": "2023-04-08T09:21:21.327Z"
   },
   {
    "duration": 36,
    "start_time": "2023-04-08T09:21:21.335Z"
   },
   {
    "duration": 12,
    "start_time": "2023-04-08T09:21:21.378Z"
   },
   {
    "duration": 12,
    "start_time": "2023-04-08T09:21:21.392Z"
   },
   {
    "duration": 7,
    "start_time": "2023-04-08T09:21:21.406Z"
   },
   {
    "duration": 21,
    "start_time": "2023-04-08T09:21:21.415Z"
   },
   {
    "duration": 9,
    "start_time": "2023-04-08T09:21:21.438Z"
   },
   {
    "duration": 20,
    "start_time": "2023-04-08T09:21:21.449Z"
   },
   {
    "duration": 14,
    "start_time": "2023-04-08T09:21:21.471Z"
   },
   {
    "duration": 18,
    "start_time": "2023-04-08T09:21:21.490Z"
   },
   {
    "duration": 7,
    "start_time": "2023-04-08T09:21:21.510Z"
   },
   {
    "duration": 6,
    "start_time": "2023-04-08T09:21:21.518Z"
   },
   {
    "duration": 11,
    "start_time": "2023-04-08T09:21:21.527Z"
   },
   {
    "duration": 31,
    "start_time": "2023-04-08T09:21:21.540Z"
   },
   {
    "duration": 20,
    "start_time": "2023-04-08T09:21:21.576Z"
   },
   {
    "duration": 6,
    "start_time": "2023-04-08T09:21:21.598Z"
   },
   {
    "duration": 186,
    "start_time": "2023-04-08T09:21:21.606Z"
   },
   {
    "duration": 209,
    "start_time": "2023-04-08T09:21:21.795Z"
   },
   {
    "duration": 7,
    "start_time": "2023-04-08T09:21:22.006Z"
   },
   {
    "duration": 30,
    "start_time": "2023-04-08T09:21:22.015Z"
   },
   {
    "duration": 14,
    "start_time": "2023-04-08T09:21:22.047Z"
   },
   {
    "duration": 21,
    "start_time": "2023-04-08T09:21:22.063Z"
   },
   {
    "duration": 258,
    "start_time": "2023-04-08T09:21:22.088Z"
   },
   {
    "duration": 261,
    "start_time": "2023-04-08T09:21:22.348Z"
   },
   {
    "duration": 352,
    "start_time": "2023-04-08T09:21:22.613Z"
   },
   {
    "duration": 8,
    "start_time": "2023-04-08T09:21:22.967Z"
   },
   {
    "duration": 8,
    "start_time": "2023-04-08T09:21:22.980Z"
   },
   {
    "duration": 18,
    "start_time": "2023-04-08T09:21:22.991Z"
   },
   {
    "duration": 16,
    "start_time": "2023-04-08T09:21:23.012Z"
   },
   {
    "duration": 210,
    "start_time": "2023-04-08T09:21:23.030Z"
   },
   {
    "duration": 11,
    "start_time": "2023-04-08T09:21:23.242Z"
   },
   {
    "duration": 307,
    "start_time": "2023-04-08T09:21:23.255Z"
   },
   {
    "duration": 147,
    "start_time": "2023-04-08T09:21:23.563Z"
   },
   {
    "duration": 7,
    "start_time": "2023-04-08T09:21:23.712Z"
   },
   {
    "duration": 128,
    "start_time": "2023-04-08T09:21:23.721Z"
   },
   {
    "duration": 5,
    "start_time": "2023-04-08T09:21:23.850Z"
   },
   {
    "duration": 134,
    "start_time": "2023-04-08T09:21:23.857Z"
   },
   {
    "duration": 4,
    "start_time": "2023-04-08T09:21:23.993Z"
   },
   {
    "duration": 17,
    "start_time": "2023-04-08T09:21:24.003Z"
   },
   {
    "duration": 96,
    "start_time": "2023-04-08T09:21:24.022Z"
   },
   {
    "duration": 0,
    "start_time": "2023-04-08T09:21:24.119Z"
   },
   {
    "duration": 0,
    "start_time": "2023-04-08T09:21:24.121Z"
   },
   {
    "duration": 0,
    "start_time": "2023-04-08T09:21:24.122Z"
   },
   {
    "duration": 0,
    "start_time": "2023-04-08T09:21:24.124Z"
   },
   {
    "duration": 0,
    "start_time": "2023-04-08T09:21:24.125Z"
   },
   {
    "duration": 0,
    "start_time": "2023-04-08T09:21:24.126Z"
   },
   {
    "duration": 0,
    "start_time": "2023-04-08T09:21:24.127Z"
   },
   {
    "duration": 17,
    "start_time": "2023-04-08T09:23:28.278Z"
   },
   {
    "duration": 178,
    "start_time": "2023-04-08T09:24:07.125Z"
   },
   {
    "duration": 50,
    "start_time": "2023-04-08T09:28:09.579Z"
   },
   {
    "duration": 1045,
    "start_time": "2023-04-08T09:30:03.761Z"
   },
   {
    "duration": 78,
    "start_time": "2023-04-08T09:30:04.807Z"
   },
   {
    "duration": 10,
    "start_time": "2023-04-08T09:30:04.887Z"
   },
   {
    "duration": 4,
    "start_time": "2023-04-08T09:30:04.899Z"
   },
   {
    "duration": 11,
    "start_time": "2023-04-08T09:30:04.905Z"
   },
   {
    "duration": 8,
    "start_time": "2023-04-08T09:30:04.918Z"
   },
   {
    "duration": 11,
    "start_time": "2023-04-08T09:30:04.927Z"
   },
   {
    "duration": 6,
    "start_time": "2023-04-08T09:30:04.940Z"
   },
   {
    "duration": 24,
    "start_time": "2023-04-08T09:30:04.947Z"
   },
   {
    "duration": 13,
    "start_time": "2023-04-08T09:30:04.974Z"
   },
   {
    "duration": 4,
    "start_time": "2023-04-08T09:30:04.989Z"
   },
   {
    "duration": 5,
    "start_time": "2023-04-08T09:30:04.994Z"
   },
   {
    "duration": 8,
    "start_time": "2023-04-08T09:30:05.001Z"
   },
   {
    "duration": 5,
    "start_time": "2023-04-08T09:30:05.012Z"
   },
   {
    "duration": 10,
    "start_time": "2023-04-08T09:30:05.019Z"
   },
   {
    "duration": 41,
    "start_time": "2023-04-08T09:30:05.030Z"
   },
   {
    "duration": 11,
    "start_time": "2023-04-08T09:30:05.078Z"
   },
   {
    "duration": 10,
    "start_time": "2023-04-08T09:30:05.091Z"
   },
   {
    "duration": 7,
    "start_time": "2023-04-08T09:30:05.103Z"
   },
   {
    "duration": 6,
    "start_time": "2023-04-08T09:30:05.111Z"
   },
   {
    "duration": 6,
    "start_time": "2023-04-08T09:30:05.118Z"
   },
   {
    "duration": 22,
    "start_time": "2023-04-08T09:30:05.126Z"
   },
   {
    "duration": 12,
    "start_time": "2023-04-08T09:30:05.150Z"
   },
   {
    "duration": 17,
    "start_time": "2023-04-08T09:30:05.164Z"
   },
   {
    "duration": 14,
    "start_time": "2023-04-08T09:30:05.183Z"
   },
   {
    "duration": 5,
    "start_time": "2023-04-08T09:30:05.198Z"
   },
   {
    "duration": 10,
    "start_time": "2023-04-08T09:30:05.204Z"
   },
   {
    "duration": 9,
    "start_time": "2023-04-08T09:30:05.215Z"
   },
   {
    "duration": 161,
    "start_time": "2023-04-08T09:30:05.225Z"
   },
   {
    "duration": 123,
    "start_time": "2023-04-08T09:30:05.388Z"
   },
   {
    "duration": 6,
    "start_time": "2023-04-08T09:30:05.512Z"
   },
   {
    "duration": 15,
    "start_time": "2023-04-08T09:30:05.520Z"
   },
   {
    "duration": 10,
    "start_time": "2023-04-08T09:30:05.537Z"
   },
   {
    "duration": 7,
    "start_time": "2023-04-08T09:30:05.549Z"
   },
   {
    "duration": 258,
    "start_time": "2023-04-08T09:30:05.558Z"
   },
   {
    "duration": 179,
    "start_time": "2023-04-08T09:30:05.818Z"
   },
   {
    "duration": 285,
    "start_time": "2023-04-08T09:30:05.999Z"
   },
   {
    "duration": 5,
    "start_time": "2023-04-08T09:30:06.285Z"
   },
   {
    "duration": 11,
    "start_time": "2023-04-08T09:30:06.291Z"
   },
   {
    "duration": 38,
    "start_time": "2023-04-08T09:30:06.304Z"
   },
   {
    "duration": 4,
    "start_time": "2023-04-08T09:30:06.346Z"
   },
   {
    "duration": 198,
    "start_time": "2023-04-08T09:30:06.351Z"
   },
   {
    "duration": 7,
    "start_time": "2023-04-08T09:30:06.550Z"
   },
   {
    "duration": 317,
    "start_time": "2023-04-08T09:30:06.559Z"
   },
   {
    "duration": 197,
    "start_time": "2023-04-08T09:30:06.878Z"
   },
   {
    "duration": 10,
    "start_time": "2023-04-08T09:30:07.079Z"
   },
   {
    "duration": 113,
    "start_time": "2023-04-08T09:30:07.091Z"
   },
   {
    "duration": 5,
    "start_time": "2023-04-08T09:30:07.205Z"
   },
   {
    "duration": 129,
    "start_time": "2023-04-08T09:30:07.211Z"
   },
   {
    "duration": 5,
    "start_time": "2023-04-08T09:30:07.342Z"
   },
   {
    "duration": 95,
    "start_time": "2023-04-08T09:30:07.349Z"
   },
   {
    "duration": 46,
    "start_time": "2023-04-08T09:30:07.446Z"
   },
   {
    "duration": 13,
    "start_time": "2023-04-08T09:30:07.494Z"
   },
   {
    "duration": 10,
    "start_time": "2023-04-08T09:30:07.509Z"
   },
   {
    "duration": 10,
    "start_time": "2023-04-08T09:30:07.520Z"
   },
   {
    "duration": 58,
    "start_time": "2023-04-08T09:30:07.531Z"
   },
   {
    "duration": 5,
    "start_time": "2023-04-08T09:30:07.590Z"
   },
   {
    "duration": 15,
    "start_time": "2023-04-08T09:30:07.597Z"
   },
   {
    "duration": 9,
    "start_time": "2023-04-08T09:30:07.614Z"
   },
   {
    "duration": 6,
    "start_time": "2023-04-08T10:22:00.264Z"
   },
   {
    "duration": 5,
    "start_time": "2023-04-08T10:22:59.005Z"
   },
   {
    "duration": 104,
    "start_time": "2023-04-08T10:24:31.438Z"
   },
   {
    "duration": 110,
    "start_time": "2023-04-08T10:28:18.944Z"
   },
   {
    "duration": 8,
    "start_time": "2023-04-08T10:28:29.436Z"
   },
   {
    "duration": 17,
    "start_time": "2023-04-08T13:05:59.667Z"
   },
   {
    "duration": 1742,
    "start_time": "2023-04-08T13:06:08.944Z"
   },
   {
    "duration": 117,
    "start_time": "2023-04-08T13:06:10.688Z"
   },
   {
    "duration": 23,
    "start_time": "2023-04-08T13:06:10.807Z"
   },
   {
    "duration": 5,
    "start_time": "2023-04-08T13:06:10.832Z"
   },
   {
    "duration": 18,
    "start_time": "2023-04-08T13:06:10.840Z"
   },
   {
    "duration": 15,
    "start_time": "2023-04-08T13:06:10.860Z"
   },
   {
    "duration": 20,
    "start_time": "2023-04-08T13:06:10.877Z"
   },
   {
    "duration": 7,
    "start_time": "2023-04-08T13:06:10.905Z"
   },
   {
    "duration": 36,
    "start_time": "2023-04-08T13:06:10.917Z"
   },
   {
    "duration": 68,
    "start_time": "2023-04-08T13:06:10.956Z"
   },
   {
    "duration": 6,
    "start_time": "2023-04-08T13:06:11.026Z"
   },
   {
    "duration": 7,
    "start_time": "2023-04-08T13:06:11.034Z"
   },
   {
    "duration": 8,
    "start_time": "2023-04-08T13:06:11.042Z"
   },
   {
    "duration": 8,
    "start_time": "2023-04-08T13:06:11.056Z"
   },
   {
    "duration": 25,
    "start_time": "2023-04-08T13:06:11.065Z"
   },
   {
    "duration": 30,
    "start_time": "2023-04-08T13:06:11.092Z"
   },
   {
    "duration": 12,
    "start_time": "2023-04-08T13:06:11.127Z"
   },
   {
    "duration": 13,
    "start_time": "2023-04-08T13:06:11.145Z"
   },
   {
    "duration": 7,
    "start_time": "2023-04-08T13:06:11.160Z"
   },
   {
    "duration": 29,
    "start_time": "2023-04-08T13:06:11.172Z"
   },
   {
    "duration": 8,
    "start_time": "2023-04-08T13:06:11.203Z"
   },
   {
    "duration": 18,
    "start_time": "2023-04-08T13:06:11.216Z"
   },
   {
    "duration": 12,
    "start_time": "2023-04-08T13:06:11.236Z"
   },
   {
    "duration": 7,
    "start_time": "2023-04-08T13:06:11.251Z"
   },
   {
    "duration": 18,
    "start_time": "2023-04-08T13:06:11.262Z"
   },
   {
    "duration": 8,
    "start_time": "2023-04-08T13:06:11.282Z"
   },
   {
    "duration": 15,
    "start_time": "2023-04-08T13:06:11.293Z"
   },
   {
    "duration": 11,
    "start_time": "2023-04-08T13:06:11.310Z"
   },
   {
    "duration": 284,
    "start_time": "2023-04-08T13:06:11.323Z"
   },
   {
    "duration": 200,
    "start_time": "2023-04-08T13:06:11.617Z"
   },
   {
    "duration": 12,
    "start_time": "2023-04-08T13:06:11.819Z"
   },
   {
    "duration": 14,
    "start_time": "2023-04-08T13:06:11.833Z"
   },
   {
    "duration": 6,
    "start_time": "2023-04-08T13:06:11.850Z"
   },
   {
    "duration": 5,
    "start_time": "2023-04-08T13:06:11.858Z"
   },
   {
    "duration": 337,
    "start_time": "2023-04-08T13:06:11.870Z"
   },
   {
    "duration": 214,
    "start_time": "2023-04-08T13:06:12.209Z"
   },
   {
    "duration": 283,
    "start_time": "2023-04-08T13:06:12.425Z"
   },
   {
    "duration": 3,
    "start_time": "2023-04-08T13:06:12.710Z"
   },
   {
    "duration": 3,
    "start_time": "2023-04-08T13:06:12.714Z"
   },
   {
    "duration": 14,
    "start_time": "2023-04-08T13:06:12.719Z"
   },
   {
    "duration": 256,
    "start_time": "2023-04-08T13:06:12.737Z"
   },
   {
    "duration": 11,
    "start_time": "2023-04-08T13:06:13.000Z"
   },
   {
    "duration": 284,
    "start_time": "2023-04-08T13:06:13.013Z"
   },
   {
    "duration": 161,
    "start_time": "2023-04-08T13:06:13.302Z"
   },
   {
    "duration": 28,
    "start_time": "2023-04-08T13:06:13.467Z"
   },
   {
    "duration": 134,
    "start_time": "2023-04-08T13:06:13.498Z"
   },
   {
    "duration": 5,
    "start_time": "2023-04-08T13:06:13.633Z"
   },
   {
    "duration": 154,
    "start_time": "2023-04-08T13:06:13.639Z"
   },
   {
    "duration": 4,
    "start_time": "2023-04-08T13:06:13.795Z"
   },
   {
    "duration": 98,
    "start_time": "2023-04-08T13:06:13.800Z"
   },
   {
    "duration": 36,
    "start_time": "2023-04-08T13:06:13.900Z"
   },
   {
    "duration": 17,
    "start_time": "2023-04-08T13:06:13.938Z"
   },
   {
    "duration": 18,
    "start_time": "2023-04-08T13:06:13.958Z"
   },
   {
    "duration": 16,
    "start_time": "2023-04-08T13:06:13.979Z"
   },
   {
    "duration": 12,
    "start_time": "2023-04-08T13:06:13.996Z"
   },
   {
    "duration": 40,
    "start_time": "2023-04-08T13:06:14.009Z"
   },
   {
    "duration": 4,
    "start_time": "2023-04-08T13:06:14.051Z"
   },
   {
    "duration": 24,
    "start_time": "2023-04-08T13:06:14.057Z"
   },
   {
    "duration": 22,
    "start_time": "2023-04-08T13:06:14.091Z"
   },
   {
    "duration": 1076,
    "start_time": "2023-04-08T16:29:07.459Z"
   },
   {
    "duration": 82,
    "start_time": "2023-04-08T16:29:08.536Z"
   },
   {
    "duration": 12,
    "start_time": "2023-04-08T16:29:08.619Z"
   },
   {
    "duration": 4,
    "start_time": "2023-04-08T16:29:08.633Z"
   },
   {
    "duration": 12,
    "start_time": "2023-04-08T16:29:08.638Z"
   },
   {
    "duration": 7,
    "start_time": "2023-04-08T16:29:08.652Z"
   },
   {
    "duration": 11,
    "start_time": "2023-04-08T16:29:08.660Z"
   },
   {
    "duration": 36,
    "start_time": "2023-04-08T16:29:08.672Z"
   },
   {
    "duration": 6,
    "start_time": "2023-04-08T16:29:08.710Z"
   },
   {
    "duration": 9,
    "start_time": "2023-04-08T16:29:08.719Z"
   },
   {
    "duration": 3,
    "start_time": "2023-04-08T16:29:08.729Z"
   },
   {
    "duration": 7,
    "start_time": "2023-04-08T16:29:08.733Z"
   },
   {
    "duration": 5,
    "start_time": "2023-04-08T16:29:08.741Z"
   },
   {
    "duration": 29,
    "start_time": "2023-04-08T16:29:08.747Z"
   },
   {
    "duration": 33,
    "start_time": "2023-04-08T16:29:08.778Z"
   },
   {
    "duration": 13,
    "start_time": "2023-04-08T16:29:08.812Z"
   },
   {
    "duration": 6,
    "start_time": "2023-04-08T16:29:08.827Z"
   },
   {
    "duration": 81,
    "start_time": "2023-04-08T16:29:08.834Z"
   },
   {
    "duration": 5,
    "start_time": "2023-04-08T16:29:08.916Z"
   },
   {
    "duration": 7,
    "start_time": "2023-04-08T16:29:08.922Z"
   },
   {
    "duration": 5,
    "start_time": "2023-04-08T16:29:08.930Z"
   },
   {
    "duration": 53,
    "start_time": "2023-04-08T16:29:08.936Z"
   },
   {
    "duration": 22,
    "start_time": "2023-04-08T16:29:08.991Z"
   },
   {
    "duration": 6,
    "start_time": "2023-04-08T16:29:09.015Z"
   },
   {
    "duration": 10,
    "start_time": "2023-04-08T16:29:09.022Z"
   },
   {
    "duration": 44,
    "start_time": "2023-04-08T16:29:09.034Z"
   },
   {
    "duration": 49,
    "start_time": "2023-04-08T16:29:09.080Z"
   },
   {
    "duration": 5,
    "start_time": "2023-04-08T16:29:09.133Z"
   },
   {
    "duration": 369,
    "start_time": "2023-04-08T16:29:09.139Z"
   },
   {
    "duration": 282,
    "start_time": "2023-04-08T16:29:09.510Z"
   },
   {
    "duration": 16,
    "start_time": "2023-04-08T16:29:09.794Z"
   },
   {
    "duration": 12,
    "start_time": "2023-04-08T16:29:09.812Z"
   },
   {
    "duration": 6,
    "start_time": "2023-04-08T16:29:09.826Z"
   },
   {
    "duration": 20,
    "start_time": "2023-04-08T16:29:09.871Z"
   },
   {
    "duration": 707,
    "start_time": "2023-04-08T16:29:09.899Z"
   },
   {
    "duration": 196,
    "start_time": "2023-04-08T16:29:10.608Z"
   },
   {
    "duration": 300,
    "start_time": "2023-04-08T16:29:10.805Z"
   },
   {
    "duration": 5,
    "start_time": "2023-04-08T16:29:11.106Z"
   },
   {
    "duration": 14,
    "start_time": "2023-04-08T16:29:11.113Z"
   },
   {
    "duration": 8,
    "start_time": "2023-04-08T16:29:11.129Z"
   },
   {
    "duration": 387,
    "start_time": "2023-04-08T16:29:11.139Z"
   },
   {
    "duration": 8,
    "start_time": "2023-04-08T16:29:11.528Z"
   },
   {
    "duration": 314,
    "start_time": "2023-04-08T16:29:11.538Z"
   },
   {
    "duration": 160,
    "start_time": "2023-04-08T16:29:11.854Z"
   },
   {
    "duration": 7,
    "start_time": "2023-04-08T16:29:12.016Z"
   },
   {
    "duration": 136,
    "start_time": "2023-04-08T16:29:12.024Z"
   },
   {
    "duration": 5,
    "start_time": "2023-04-08T16:29:12.162Z"
   },
   {
    "duration": 161,
    "start_time": "2023-04-08T16:29:12.169Z"
   },
   {
    "duration": 5,
    "start_time": "2023-04-08T16:29:12.331Z"
   },
   {
    "duration": 73,
    "start_time": "2023-04-08T16:29:12.338Z"
   },
   {
    "duration": 24,
    "start_time": "2023-04-08T16:29:12.412Z"
   },
   {
    "duration": 9,
    "start_time": "2023-04-08T16:29:12.438Z"
   },
   {
    "duration": 8,
    "start_time": "2023-04-08T16:29:12.448Z"
   },
   {
    "duration": 29,
    "start_time": "2023-04-08T16:29:12.457Z"
   },
   {
    "duration": 23,
    "start_time": "2023-04-08T16:29:12.488Z"
   },
   {
    "duration": 24,
    "start_time": "2023-04-08T16:29:12.513Z"
   },
   {
    "duration": 3,
    "start_time": "2023-04-08T16:29:12.538Z"
   },
   {
    "duration": 12,
    "start_time": "2023-04-08T16:29:12.543Z"
   },
   {
    "duration": 7,
    "start_time": "2023-04-08T16:29:12.557Z"
   },
   {
    "duration": 1302,
    "start_time": "2023-04-08T18:46:05.909Z"
   },
   {
    "duration": 221,
    "start_time": "2023-04-08T18:46:07.213Z"
   },
   {
    "duration": 12,
    "start_time": "2023-04-08T18:46:07.436Z"
   },
   {
    "duration": 22,
    "start_time": "2023-04-08T18:46:07.450Z"
   },
   {
    "duration": 13,
    "start_time": "2023-04-08T18:46:07.474Z"
   },
   {
    "duration": 10,
    "start_time": "2023-04-08T18:46:07.489Z"
   },
   {
    "duration": 10,
    "start_time": "2023-04-08T18:46:07.501Z"
   },
   {
    "duration": 10,
    "start_time": "2023-04-08T18:46:07.513Z"
   },
   {
    "duration": 8,
    "start_time": "2023-04-08T18:46:07.525Z"
   },
   {
    "duration": 12,
    "start_time": "2023-04-08T18:46:07.537Z"
   },
   {
    "duration": 33,
    "start_time": "2023-04-08T18:46:07.552Z"
   },
   {
    "duration": 9,
    "start_time": "2023-04-08T18:46:07.588Z"
   },
   {
    "duration": 18,
    "start_time": "2023-04-08T18:46:07.599Z"
   },
   {
    "duration": 8,
    "start_time": "2023-04-08T18:46:07.619Z"
   },
   {
    "duration": 26,
    "start_time": "2023-04-08T18:46:07.629Z"
   },
   {
    "duration": 33,
    "start_time": "2023-04-08T18:46:07.657Z"
   },
   {
    "duration": 28,
    "start_time": "2023-04-08T18:46:07.692Z"
   },
   {
    "duration": 17,
    "start_time": "2023-04-08T18:46:07.722Z"
   },
   {
    "duration": 16,
    "start_time": "2023-04-08T18:46:07.741Z"
   },
   {
    "duration": 11,
    "start_time": "2023-04-08T18:46:07.758Z"
   },
   {
    "duration": 7,
    "start_time": "2023-04-08T18:46:07.770Z"
   },
   {
    "duration": 22,
    "start_time": "2023-04-08T18:46:07.779Z"
   },
   {
    "duration": 14,
    "start_time": "2023-04-08T18:46:07.803Z"
   },
   {
    "duration": 26,
    "start_time": "2023-04-08T18:46:07.819Z"
   },
   {
    "duration": 11,
    "start_time": "2023-04-08T18:46:07.846Z"
   },
   {
    "duration": 11,
    "start_time": "2023-04-08T18:46:07.859Z"
   },
   {
    "duration": 15,
    "start_time": "2023-04-08T18:46:07.872Z"
   },
   {
    "duration": 23,
    "start_time": "2023-04-08T18:46:07.891Z"
   },
   {
    "duration": 172,
    "start_time": "2023-04-08T18:46:07.916Z"
   },
   {
    "duration": 130,
    "start_time": "2023-04-08T18:46:08.089Z"
   },
   {
    "duration": 7,
    "start_time": "2023-04-08T18:46:08.220Z"
   },
   {
    "duration": 13,
    "start_time": "2023-04-08T18:46:08.229Z"
   },
   {
    "duration": 12,
    "start_time": "2023-04-08T18:46:08.244Z"
   },
   {
    "duration": 13,
    "start_time": "2023-04-08T18:46:08.257Z"
   },
   {
    "duration": 263,
    "start_time": "2023-04-08T18:46:08.271Z"
   },
   {
    "duration": 255,
    "start_time": "2023-04-08T18:46:08.539Z"
   },
   {
    "duration": 323,
    "start_time": "2023-04-08T18:46:08.796Z"
   },
   {
    "duration": 4,
    "start_time": "2023-04-08T18:46:09.122Z"
   },
   {
    "duration": 8,
    "start_time": "2023-04-08T18:46:09.127Z"
   },
   {
    "duration": 9,
    "start_time": "2023-04-08T18:46:09.136Z"
   },
   {
    "duration": 223,
    "start_time": "2023-04-08T18:46:09.146Z"
   },
   {
    "duration": 14,
    "start_time": "2023-04-08T18:46:09.371Z"
   },
   {
    "duration": 325,
    "start_time": "2023-04-08T18:46:09.387Z"
   },
   {
    "duration": 186,
    "start_time": "2023-04-08T18:46:09.713Z"
   },
   {
    "duration": 5,
    "start_time": "2023-04-08T18:46:09.901Z"
   },
   {
    "duration": 111,
    "start_time": "2023-04-08T18:46:09.907Z"
   },
   {
    "duration": 5,
    "start_time": "2023-04-08T18:46:10.020Z"
   },
   {
    "duration": 127,
    "start_time": "2023-04-08T18:46:10.026Z"
   },
   {
    "duration": 5,
    "start_time": "2023-04-08T18:46:10.154Z"
   },
   {
    "duration": 61,
    "start_time": "2023-04-08T18:46:10.161Z"
   },
   {
    "duration": 26,
    "start_time": "2023-04-08T18:46:10.224Z"
   },
   {
    "duration": 10,
    "start_time": "2023-04-08T18:46:10.252Z"
   },
   {
    "duration": 9,
    "start_time": "2023-04-08T18:46:10.283Z"
   },
   {
    "duration": 7,
    "start_time": "2023-04-08T18:46:10.293Z"
   },
   {
    "duration": 9,
    "start_time": "2023-04-08T18:46:10.301Z"
   },
   {
    "duration": 24,
    "start_time": "2023-04-08T18:46:10.312Z"
   },
   {
    "duration": 4,
    "start_time": "2023-04-08T18:46:10.337Z"
   },
   {
    "duration": 14,
    "start_time": "2023-04-08T18:46:10.343Z"
   },
   {
    "duration": 28,
    "start_time": "2023-04-08T18:46:10.358Z"
   },
   {
    "duration": 1251,
    "start_time": "2023-04-10T07:18:21.245Z"
   },
   {
    "duration": 241,
    "start_time": "2023-04-10T07:18:22.498Z"
   },
   {
    "duration": 12,
    "start_time": "2023-04-10T07:18:22.740Z"
   },
   {
    "duration": 4,
    "start_time": "2023-04-10T07:18:22.754Z"
   },
   {
    "duration": 12,
    "start_time": "2023-04-10T07:18:22.759Z"
   },
   {
    "duration": 6,
    "start_time": "2023-04-10T07:18:22.772Z"
   },
   {
    "duration": 15,
    "start_time": "2023-04-10T07:18:22.780Z"
   },
   {
    "duration": 16,
    "start_time": "2023-04-10T07:18:22.796Z"
   },
   {
    "duration": 8,
    "start_time": "2023-04-10T07:18:22.813Z"
   },
   {
    "duration": 9,
    "start_time": "2023-04-10T07:18:22.824Z"
   },
   {
    "duration": 4,
    "start_time": "2023-04-10T07:18:22.849Z"
   },
   {
    "duration": 17,
    "start_time": "2023-04-10T07:18:22.855Z"
   },
   {
    "duration": 11,
    "start_time": "2023-04-10T07:18:22.874Z"
   },
   {
    "duration": 8,
    "start_time": "2023-04-10T07:18:22.886Z"
   },
   {
    "duration": 8,
    "start_time": "2023-04-10T07:18:22.896Z"
   },
   {
    "duration": 22,
    "start_time": "2023-04-10T07:18:22.906Z"
   },
   {
    "duration": 7,
    "start_time": "2023-04-10T07:18:22.929Z"
   },
   {
    "duration": 21,
    "start_time": "2023-04-10T07:18:22.938Z"
   },
   {
    "duration": 5,
    "start_time": "2023-04-10T07:18:22.961Z"
   },
   {
    "duration": 7,
    "start_time": "2023-04-10T07:18:22.967Z"
   },
   {
    "duration": 7,
    "start_time": "2023-04-10T07:18:22.975Z"
   },
   {
    "duration": 21,
    "start_time": "2023-04-10T07:18:22.983Z"
   },
   {
    "duration": 13,
    "start_time": "2023-04-10T07:18:23.005Z"
   },
   {
    "duration": 25,
    "start_time": "2023-04-10T07:18:23.019Z"
   },
   {
    "duration": 17,
    "start_time": "2023-04-10T07:18:23.046Z"
   },
   {
    "duration": 5,
    "start_time": "2023-04-10T07:18:23.065Z"
   },
   {
    "duration": 11,
    "start_time": "2023-04-10T07:18:23.072Z"
   },
   {
    "duration": 5,
    "start_time": "2023-04-10T07:18:23.086Z"
   },
   {
    "duration": 162,
    "start_time": "2023-04-10T07:18:23.092Z"
   },
   {
    "duration": 112,
    "start_time": "2023-04-10T07:18:23.256Z"
   },
   {
    "duration": 6,
    "start_time": "2023-04-10T07:18:23.370Z"
   },
   {
    "duration": 23,
    "start_time": "2023-04-10T07:18:23.378Z"
   },
   {
    "duration": 30,
    "start_time": "2023-04-10T07:18:23.402Z"
   },
   {
    "duration": 23,
    "start_time": "2023-04-10T07:18:23.434Z"
   },
   {
    "duration": 271,
    "start_time": "2023-04-10T07:18:23.459Z"
   },
   {
    "duration": 179,
    "start_time": "2023-04-10T07:18:23.731Z"
   },
   {
    "duration": 358,
    "start_time": "2023-04-10T07:18:23.911Z"
   },
   {
    "duration": 3,
    "start_time": "2023-04-10T07:18:24.271Z"
   },
   {
    "duration": 6,
    "start_time": "2023-04-10T07:18:24.275Z"
   },
   {
    "duration": 7,
    "start_time": "2023-04-10T07:18:24.282Z"
   },
   {
    "duration": 221,
    "start_time": "2023-04-10T07:18:24.290Z"
   },
   {
    "duration": 8,
    "start_time": "2023-04-10T07:18:24.512Z"
   },
   {
    "duration": 296,
    "start_time": "2023-04-10T07:18:24.521Z"
   },
   {
    "duration": 135,
    "start_time": "2023-04-10T07:18:24.818Z"
   },
   {
    "duration": 6,
    "start_time": "2023-04-10T07:18:24.955Z"
   },
   {
    "duration": 111,
    "start_time": "2023-04-10T07:18:24.962Z"
   },
   {
    "duration": 4,
    "start_time": "2023-04-10T07:18:25.075Z"
   },
   {
    "duration": 120,
    "start_time": "2023-04-10T07:18:25.081Z"
   },
   {
    "duration": 4,
    "start_time": "2023-04-10T07:18:25.202Z"
   },
   {
    "duration": 64,
    "start_time": "2023-04-10T07:18:25.208Z"
   },
   {
    "duration": 24,
    "start_time": "2023-04-10T07:18:25.274Z"
   },
   {
    "duration": 9,
    "start_time": "2023-04-10T07:18:25.300Z"
   },
   {
    "duration": 8,
    "start_time": "2023-04-10T07:18:25.311Z"
   },
   {
    "duration": 28,
    "start_time": "2023-04-10T07:18:25.321Z"
   },
   {
    "duration": 7,
    "start_time": "2023-04-10T07:18:25.351Z"
   },
   {
    "duration": 22,
    "start_time": "2023-04-10T07:18:25.360Z"
   },
   {
    "duration": 3,
    "start_time": "2023-04-10T07:18:25.383Z"
   },
   {
    "duration": 15,
    "start_time": "2023-04-10T07:18:25.388Z"
   },
   {
    "duration": 7,
    "start_time": "2023-04-10T07:18:25.405Z"
   },
   {
    "duration": 3,
    "start_time": "2023-04-10T07:22:43.741Z"
   },
   {
    "duration": 9,
    "start_time": "2023-04-10T07:22:59.174Z"
   },
   {
    "duration": 10,
    "start_time": "2023-04-10T07:23:08.633Z"
   },
   {
    "duration": 9,
    "start_time": "2023-04-10T07:23:18.401Z"
   },
   {
    "duration": 9,
    "start_time": "2023-04-10T07:23:28.414Z"
   },
   {
    "duration": 10,
    "start_time": "2023-04-10T07:23:34.880Z"
   },
   {
    "duration": 185,
    "start_time": "2023-04-10T07:34:02.837Z"
   },
   {
    "duration": 7,
    "start_time": "2023-04-10T07:34:15.455Z"
   },
   {
    "duration": 10,
    "start_time": "2023-04-10T07:34:24.298Z"
   },
   {
    "duration": 4,
    "start_time": "2023-04-10T07:35:08.499Z"
   },
   {
    "duration": 4,
    "start_time": "2023-04-10T07:36:25.534Z"
   },
   {
    "duration": 8,
    "start_time": "2023-04-10T07:36:27.838Z"
   },
   {
    "duration": 1095,
    "start_time": "2023-04-10T07:38:53.942Z"
   },
   {
    "duration": 76,
    "start_time": "2023-04-10T07:38:55.039Z"
   },
   {
    "duration": 12,
    "start_time": "2023-04-10T07:38:55.117Z"
   },
   {
    "duration": 12,
    "start_time": "2023-04-10T07:38:55.132Z"
   },
   {
    "duration": 8,
    "start_time": "2023-04-10T07:38:55.146Z"
   },
   {
    "duration": 12,
    "start_time": "2023-04-10T07:38:55.155Z"
   },
   {
    "duration": 7,
    "start_time": "2023-04-10T07:38:55.169Z"
   },
   {
    "duration": 6,
    "start_time": "2023-04-10T07:38:55.177Z"
   },
   {
    "duration": 9,
    "start_time": "2023-04-10T07:38:55.185Z"
   },
   {
    "duration": 10,
    "start_time": "2023-04-10T07:38:55.197Z"
   },
   {
    "duration": 13,
    "start_time": "2023-04-10T07:38:55.208Z"
   },
   {
    "duration": 9,
    "start_time": "2023-04-10T07:38:55.223Z"
   },
   {
    "duration": 19,
    "start_time": "2023-04-10T07:38:55.233Z"
   },
   {
    "duration": 16,
    "start_time": "2023-04-10T07:38:55.253Z"
   },
   {
    "duration": 13,
    "start_time": "2023-04-10T07:38:55.271Z"
   },
   {
    "duration": 15,
    "start_time": "2023-04-10T07:38:55.285Z"
   },
   {
    "duration": 15,
    "start_time": "2023-04-10T07:38:55.301Z"
   },
   {
    "duration": 14,
    "start_time": "2023-04-10T07:38:55.318Z"
   },
   {
    "duration": 15,
    "start_time": "2023-04-10T07:38:55.334Z"
   },
   {
    "duration": 6,
    "start_time": "2023-04-10T07:38:55.351Z"
   },
   {
    "duration": 36,
    "start_time": "2023-04-10T07:38:55.359Z"
   },
   {
    "duration": 32,
    "start_time": "2023-04-10T07:38:55.396Z"
   },
   {
    "duration": 25,
    "start_time": "2023-04-10T07:38:55.429Z"
   },
   {
    "duration": 15,
    "start_time": "2023-04-10T07:38:55.455Z"
   },
   {
    "duration": 12,
    "start_time": "2023-04-10T07:38:55.472Z"
   },
   {
    "duration": 6,
    "start_time": "2023-04-10T07:38:55.486Z"
   },
   {
    "duration": 11,
    "start_time": "2023-04-10T07:38:55.494Z"
   },
   {
    "duration": 7,
    "start_time": "2023-04-10T07:38:55.509Z"
   },
   {
    "duration": 152,
    "start_time": "2023-04-10T07:38:55.518Z"
   },
   {
    "duration": 109,
    "start_time": "2023-04-10T07:38:55.672Z"
   },
   {
    "duration": 7,
    "start_time": "2023-04-10T07:38:55.783Z"
   },
   {
    "duration": 9,
    "start_time": "2023-04-10T07:38:55.792Z"
   },
   {
    "duration": 11,
    "start_time": "2023-04-10T07:38:55.803Z"
   },
   {
    "duration": 17,
    "start_time": "2023-04-10T07:38:55.816Z"
   },
   {
    "duration": 255,
    "start_time": "2023-04-10T07:38:55.835Z"
   },
   {
    "duration": 182,
    "start_time": "2023-04-10T07:38:56.091Z"
   },
   {
    "duration": 262,
    "start_time": "2023-04-10T07:38:56.275Z"
   },
   {
    "duration": 11,
    "start_time": "2023-04-10T07:38:56.539Z"
   },
   {
    "duration": 16,
    "start_time": "2023-04-10T07:38:56.551Z"
   },
   {
    "duration": 26,
    "start_time": "2023-04-10T07:38:56.569Z"
   },
   {
    "duration": 209,
    "start_time": "2023-04-10T07:38:56.596Z"
   },
   {
    "duration": 7,
    "start_time": "2023-04-10T07:38:56.806Z"
   },
   {
    "duration": 308,
    "start_time": "2023-04-10T07:38:56.814Z"
   },
   {
    "duration": 128,
    "start_time": "2023-04-10T07:38:57.124Z"
   },
   {
    "duration": 6,
    "start_time": "2023-04-10T07:38:57.253Z"
   },
   {
    "duration": 123,
    "start_time": "2023-04-10T07:38:57.260Z"
   },
   {
    "duration": 4,
    "start_time": "2023-04-10T07:38:57.385Z"
   },
   {
    "duration": 124,
    "start_time": "2023-04-10T07:38:57.391Z"
   },
   {
    "duration": 4,
    "start_time": "2023-04-10T07:38:57.517Z"
   },
   {
    "duration": 68,
    "start_time": "2023-04-10T07:38:57.522Z"
   },
   {
    "duration": 25,
    "start_time": "2023-04-10T07:38:57.591Z"
   },
   {
    "duration": 10,
    "start_time": "2023-04-10T07:38:57.618Z"
   },
   {
    "duration": 27,
    "start_time": "2023-04-10T07:38:57.629Z"
   },
   {
    "duration": 27,
    "start_time": "2023-04-10T07:38:57.657Z"
   },
   {
    "duration": 14,
    "start_time": "2023-04-10T07:38:57.685Z"
   },
   {
    "duration": 41,
    "start_time": "2023-04-10T07:38:57.701Z"
   },
   {
    "duration": 3,
    "start_time": "2023-04-10T07:38:57.743Z"
   },
   {
    "duration": 15,
    "start_time": "2023-04-10T07:38:57.748Z"
   },
   {
    "duration": 10,
    "start_time": "2023-04-10T07:38:57.764Z"
   },
   {
    "duration": 4,
    "start_time": "2023-04-10T07:53:31.002Z"
   },
   {
    "duration": 9,
    "start_time": "2023-04-10T07:53:31.869Z"
   },
   {
    "duration": 10,
    "start_time": "2023-04-10T07:58:15.701Z"
   },
   {
    "duration": 8,
    "start_time": "2023-04-10T07:58:19.402Z"
   },
   {
    "duration": 4,
    "start_time": "2023-04-10T08:08:25.072Z"
   },
   {
    "duration": 5,
    "start_time": "2023-04-10T08:08:40.643Z"
   },
   {
    "duration": 4,
    "start_time": "2023-04-10T08:09:07.801Z"
   },
   {
    "duration": 4,
    "start_time": "2023-04-10T08:09:09.903Z"
   },
   {
    "duration": 42,
    "start_time": "2023-04-10T08:12:14.406Z"
   },
   {
    "duration": 56,
    "start_time": "2023-04-10T08:12:28.352Z"
   },
   {
    "duration": 5,
    "start_time": "2023-04-10T08:12:50.660Z"
   },
   {
    "duration": 4,
    "start_time": "2023-04-10T08:13:25.254Z"
   },
   {
    "duration": 5,
    "start_time": "2023-04-10T08:13:36.924Z"
   },
   {
    "duration": 5,
    "start_time": "2023-04-10T08:14:15.862Z"
   },
   {
    "duration": 4,
    "start_time": "2023-04-10T08:17:31.042Z"
   },
   {
    "duration": 126,
    "start_time": "2023-04-10T08:17:48.314Z"
   },
   {
    "duration": 4,
    "start_time": "2023-04-10T08:17:54.712Z"
   },
   {
    "duration": 4,
    "start_time": "2023-04-10T08:19:53.716Z"
   },
   {
    "duration": 5,
    "start_time": "2023-04-10T08:19:58.153Z"
   },
   {
    "duration": 8,
    "start_time": "2023-04-10T08:24:10.024Z"
   },
   {
    "duration": 226,
    "start_time": "2023-04-10T08:30:57.002Z"
   },
   {
    "duration": 73,
    "start_time": "2023-04-10T08:51:03.995Z"
   },
   {
    "duration": 8,
    "start_time": "2023-04-10T09:36:28.036Z"
   },
   {
    "duration": 9,
    "start_time": "2023-04-10T09:39:03.164Z"
   },
   {
    "duration": 246,
    "start_time": "2023-04-10T09:41:09.133Z"
   },
   {
    "duration": 253,
    "start_time": "2023-04-10T09:42:36.696Z"
   },
   {
    "duration": 305,
    "start_time": "2023-04-10T09:47:12.029Z"
   },
   {
    "duration": 4,
    "start_time": "2023-04-10T09:48:04.703Z"
   },
   {
    "duration": 3,
    "start_time": "2023-04-10T09:48:06.051Z"
   },
   {
    "duration": 9,
    "start_time": "2023-04-10T09:48:06.548Z"
   },
   {
    "duration": 5,
    "start_time": "2023-04-10T09:48:14.492Z"
   },
   {
    "duration": 3,
    "start_time": "2023-04-10T09:48:14.827Z"
   },
   {
    "duration": 10,
    "start_time": "2023-04-10T09:48:15.425Z"
   },
   {
    "duration": 3,
    "start_time": "2023-04-10T09:48:17.825Z"
   },
   {
    "duration": 185,
    "start_time": "2023-04-10T09:50:16.081Z"
   },
   {
    "duration": 287,
    "start_time": "2023-04-10T09:52:13.423Z"
   },
   {
    "duration": 260,
    "start_time": "2023-04-10T09:52:20.805Z"
   },
   {
    "duration": 254,
    "start_time": "2023-04-10T09:52:27.405Z"
   },
   {
    "duration": 6,
    "start_time": "2023-04-10T09:54:50.818Z"
   },
   {
    "duration": 182,
    "start_time": "2023-04-10T09:58:54.833Z"
   },
   {
    "duration": 1202,
    "start_time": "2023-04-10T09:59:08.203Z"
   },
   {
    "duration": 75,
    "start_time": "2023-04-10T09:59:09.407Z"
   },
   {
    "duration": 12,
    "start_time": "2023-04-10T09:59:09.484Z"
   },
   {
    "duration": 14,
    "start_time": "2023-04-10T09:59:09.498Z"
   },
   {
    "duration": 25,
    "start_time": "2023-04-10T09:59:09.513Z"
   },
   {
    "duration": 25,
    "start_time": "2023-04-10T09:59:09.540Z"
   },
   {
    "duration": 17,
    "start_time": "2023-04-10T09:59:09.566Z"
   },
   {
    "duration": 11,
    "start_time": "2023-04-10T09:59:09.585Z"
   },
   {
    "duration": 7,
    "start_time": "2023-04-10T09:59:09.598Z"
   },
   {
    "duration": 8,
    "start_time": "2023-04-10T09:59:09.608Z"
   },
   {
    "duration": 11,
    "start_time": "2023-04-10T09:59:09.617Z"
   },
   {
    "duration": 4,
    "start_time": "2023-04-10T09:59:09.630Z"
   },
   {
    "duration": 6,
    "start_time": "2023-04-10T09:59:09.648Z"
   },
   {
    "duration": 8,
    "start_time": "2023-04-10T09:59:09.655Z"
   },
   {
    "duration": 11,
    "start_time": "2023-04-10T09:59:09.665Z"
   },
   {
    "duration": 19,
    "start_time": "2023-04-10T09:59:09.678Z"
   },
   {
    "duration": 18,
    "start_time": "2023-04-10T09:59:09.699Z"
   },
   {
    "duration": 17,
    "start_time": "2023-04-10T09:59:09.720Z"
   },
   {
    "duration": 11,
    "start_time": "2023-04-10T09:59:09.738Z"
   },
   {
    "duration": 14,
    "start_time": "2023-04-10T09:59:09.751Z"
   },
   {
    "duration": 8,
    "start_time": "2023-04-10T09:59:09.767Z"
   },
   {
    "duration": 45,
    "start_time": "2023-04-10T09:59:09.778Z"
   },
   {
    "duration": 8,
    "start_time": "2023-04-10T09:59:09.825Z"
   },
   {
    "duration": 26,
    "start_time": "2023-04-10T09:59:09.835Z"
   },
   {
    "duration": 15,
    "start_time": "2023-04-10T09:59:09.863Z"
   },
   {
    "duration": 9,
    "start_time": "2023-04-10T09:59:09.881Z"
   },
   {
    "duration": 13,
    "start_time": "2023-04-10T09:59:09.891Z"
   },
   {
    "duration": 8,
    "start_time": "2023-04-10T09:59:09.907Z"
   },
   {
    "duration": 166,
    "start_time": "2023-04-10T09:59:09.916Z"
   },
   {
    "duration": 8,
    "start_time": "2023-04-10T09:59:10.083Z"
   },
   {
    "duration": 138,
    "start_time": "2023-04-10T09:59:10.092Z"
   },
   {
    "duration": 7,
    "start_time": "2023-04-10T09:59:10.231Z"
   },
   {
    "duration": 24,
    "start_time": "2023-04-10T09:59:10.239Z"
   },
   {
    "duration": 17,
    "start_time": "2023-04-10T09:59:10.265Z"
   },
   {
    "duration": 24,
    "start_time": "2023-04-10T09:59:10.284Z"
   },
   {
    "duration": 33,
    "start_time": "2023-04-10T09:59:10.310Z"
   },
   {
    "duration": 11,
    "start_time": "2023-04-10T09:59:10.345Z"
   },
   {
    "duration": 22,
    "start_time": "2023-04-10T09:59:10.357Z"
   },
   {
    "duration": 288,
    "start_time": "2023-04-10T09:59:10.381Z"
   },
   {
    "duration": 201,
    "start_time": "2023-04-10T09:59:10.671Z"
   },
   {
    "duration": 292,
    "start_time": "2023-04-10T09:59:10.874Z"
   },
   {
    "duration": 4,
    "start_time": "2023-04-10T09:59:11.167Z"
   },
   {
    "duration": 9,
    "start_time": "2023-04-10T09:59:11.173Z"
   },
   {
    "duration": 12,
    "start_time": "2023-04-10T09:59:11.183Z"
   },
   {
    "duration": 15,
    "start_time": "2023-04-10T09:59:11.197Z"
   },
   {
    "duration": 203,
    "start_time": "2023-04-10T09:59:11.214Z"
   },
   {
    "duration": 8,
    "start_time": "2023-04-10T09:59:11.419Z"
   },
   {
    "duration": 324,
    "start_time": "2023-04-10T09:59:11.428Z"
   },
   {
    "duration": 6,
    "start_time": "2023-04-10T09:59:11.753Z"
   },
   {
    "duration": 139,
    "start_time": "2023-04-10T09:59:11.761Z"
   },
   {
    "duration": 157,
    "start_time": "2023-04-10T09:59:11.902Z"
   },
   {
    "duration": 5,
    "start_time": "2023-04-10T09:59:12.060Z"
   },
   {
    "duration": 121,
    "start_time": "2023-04-10T09:59:12.067Z"
   },
   {
    "duration": 4,
    "start_time": "2023-04-10T09:59:12.190Z"
   },
   {
    "duration": 64,
    "start_time": "2023-04-10T09:59:12.196Z"
   },
   {
    "duration": 25,
    "start_time": "2023-04-10T09:59:12.262Z"
   },
   {
    "duration": 10,
    "start_time": "2023-04-10T09:59:12.288Z"
   },
   {
    "duration": 10,
    "start_time": "2023-04-10T09:59:12.300Z"
   },
   {
    "duration": 15,
    "start_time": "2023-04-10T09:59:12.312Z"
   },
   {
    "duration": 28,
    "start_time": "2023-04-10T09:59:12.328Z"
   },
   {
    "duration": 21,
    "start_time": "2023-04-10T09:59:12.358Z"
   },
   {
    "duration": 3,
    "start_time": "2023-04-10T09:59:12.380Z"
   },
   {
    "duration": 18,
    "start_time": "2023-04-10T09:59:12.384Z"
   },
   {
    "duration": 7,
    "start_time": "2023-04-10T09:59:12.403Z"
   },
   {
    "duration": 81,
    "start_time": "2023-04-10T10:01:18.644Z"
   },
   {
    "duration": 143,
    "start_time": "2023-04-10T10:08:44.841Z"
   },
   {
    "duration": 212,
    "start_time": "2023-04-10T10:11:03.466Z"
   },
   {
    "duration": 289,
    "start_time": "2023-04-10T10:13:35.433Z"
   },
   {
    "duration": 262,
    "start_time": "2023-04-10T10:14:29.030Z"
   },
   {
    "duration": 289,
    "start_time": "2023-04-10T10:14:45.010Z"
   },
   {
    "duration": 286,
    "start_time": "2023-04-10T10:15:01.712Z"
   },
   {
    "duration": 279,
    "start_time": "2023-04-10T10:15:11.945Z"
   },
   {
    "duration": 111,
    "start_time": "2023-04-10T10:55:41.403Z"
   },
   {
    "duration": 24,
    "start_time": "2023-04-10T10:56:07.309Z"
   },
   {
    "duration": 28,
    "start_time": "2023-04-10T10:56:17.338Z"
   },
   {
    "duration": 25,
    "start_time": "2023-04-10T10:57:00.123Z"
   },
   {
    "duration": 89,
    "start_time": "2023-04-10T11:05:11.442Z"
   },
   {
    "duration": 126,
    "start_time": "2023-04-10T11:05:30.061Z"
   },
   {
    "duration": 3932,
    "start_time": "2023-04-10T11:06:21.253Z"
   },
   {
    "duration": 57,
    "start_time": "2023-04-10T11:08:58.731Z"
   },
   {
    "duration": 1115,
    "start_time": "2023-04-10T11:15:09.875Z"
   },
   {
    "duration": 78,
    "start_time": "2023-04-10T11:15:10.991Z"
   },
   {
    "duration": 12,
    "start_time": "2023-04-10T11:15:11.070Z"
   },
   {
    "duration": 18,
    "start_time": "2023-04-10T11:15:11.084Z"
   },
   {
    "duration": 18,
    "start_time": "2023-04-10T11:15:11.105Z"
   },
   {
    "duration": 20,
    "start_time": "2023-04-10T11:15:11.126Z"
   },
   {
    "duration": 13,
    "start_time": "2023-04-10T11:15:11.147Z"
   },
   {
    "duration": 8,
    "start_time": "2023-04-10T11:15:11.161Z"
   },
   {
    "duration": 10,
    "start_time": "2023-04-10T11:15:11.170Z"
   },
   {
    "duration": 9,
    "start_time": "2023-04-10T11:15:11.181Z"
   },
   {
    "duration": 16,
    "start_time": "2023-04-10T11:15:11.192Z"
   },
   {
    "duration": 4,
    "start_time": "2023-04-10T11:15:11.210Z"
   },
   {
    "duration": 33,
    "start_time": "2023-04-10T11:15:11.216Z"
   },
   {
    "duration": 7,
    "start_time": "2023-04-10T11:15:11.254Z"
   },
   {
    "duration": 9,
    "start_time": "2023-04-10T11:15:11.263Z"
   },
   {
    "duration": 12,
    "start_time": "2023-04-10T11:15:11.274Z"
   },
   {
    "duration": 8,
    "start_time": "2023-04-10T11:15:11.288Z"
   },
   {
    "duration": 18,
    "start_time": "2023-04-10T11:15:11.298Z"
   },
   {
    "duration": 11,
    "start_time": "2023-04-10T11:15:11.317Z"
   },
   {
    "duration": 10,
    "start_time": "2023-04-10T11:15:11.348Z"
   },
   {
    "duration": 9,
    "start_time": "2023-04-10T11:15:11.359Z"
   },
   {
    "duration": 16,
    "start_time": "2023-04-10T11:15:11.370Z"
   },
   {
    "duration": 15,
    "start_time": "2023-04-10T11:15:11.388Z"
   },
   {
    "duration": 13,
    "start_time": "2023-04-10T11:15:11.405Z"
   },
   {
    "duration": 25,
    "start_time": "2023-04-10T11:15:11.420Z"
   },
   {
    "duration": 9,
    "start_time": "2023-04-10T11:15:11.447Z"
   },
   {
    "duration": 30,
    "start_time": "2023-04-10T11:15:11.458Z"
   },
   {
    "duration": 16,
    "start_time": "2023-04-10T11:15:11.491Z"
   },
   {
    "duration": 210,
    "start_time": "2023-04-10T11:15:11.513Z"
   },
   {
    "duration": 8,
    "start_time": "2023-04-10T11:15:11.724Z"
   },
   {
    "duration": 127,
    "start_time": "2023-04-10T11:15:11.733Z"
   },
   {
    "duration": 16,
    "start_time": "2023-04-10T11:15:11.862Z"
   },
   {
    "duration": 13,
    "start_time": "2023-04-10T11:15:11.880Z"
   },
   {
    "duration": 25,
    "start_time": "2023-04-10T11:15:11.895Z"
   },
   {
    "duration": 18,
    "start_time": "2023-04-10T11:15:11.922Z"
   },
   {
    "duration": 11,
    "start_time": "2023-04-10T11:15:11.942Z"
   },
   {
    "duration": 18,
    "start_time": "2023-04-10T11:15:11.955Z"
   },
   {
    "duration": 11,
    "start_time": "2023-04-10T11:15:11.975Z"
   },
   {
    "duration": 3045,
    "start_time": "2023-04-10T11:15:11.988Z"
   },
   {
    "duration": 0,
    "start_time": "2023-04-10T11:15:15.035Z"
   },
   {
    "duration": 0,
    "start_time": "2023-04-10T11:15:15.036Z"
   },
   {
    "duration": 0,
    "start_time": "2023-04-10T11:15:15.037Z"
   },
   {
    "duration": 0,
    "start_time": "2023-04-10T11:15:15.039Z"
   },
   {
    "duration": 0,
    "start_time": "2023-04-10T11:15:15.039Z"
   },
   {
    "duration": 0,
    "start_time": "2023-04-10T11:15:15.040Z"
   },
   {
    "duration": 0,
    "start_time": "2023-04-10T11:15:15.041Z"
   },
   {
    "duration": 0,
    "start_time": "2023-04-10T11:15:15.042Z"
   },
   {
    "duration": 0,
    "start_time": "2023-04-10T11:15:15.043Z"
   },
   {
    "duration": 0,
    "start_time": "2023-04-10T11:15:15.044Z"
   },
   {
    "duration": 0,
    "start_time": "2023-04-10T11:15:15.045Z"
   },
   {
    "duration": 0,
    "start_time": "2023-04-10T11:15:15.047Z"
   },
   {
    "duration": 0,
    "start_time": "2023-04-10T11:15:15.049Z"
   },
   {
    "duration": 0,
    "start_time": "2023-04-10T11:15:15.050Z"
   },
   {
    "duration": 0,
    "start_time": "2023-04-10T11:15:15.052Z"
   },
   {
    "duration": 0,
    "start_time": "2023-04-10T11:15:15.053Z"
   },
   {
    "duration": 0,
    "start_time": "2023-04-10T11:15:15.055Z"
   },
   {
    "duration": 0,
    "start_time": "2023-04-10T11:15:15.059Z"
   },
   {
    "duration": 0,
    "start_time": "2023-04-10T11:15:15.061Z"
   },
   {
    "duration": 0,
    "start_time": "2023-04-10T11:15:15.062Z"
   },
   {
    "duration": 0,
    "start_time": "2023-04-10T11:15:15.063Z"
   },
   {
    "duration": 0,
    "start_time": "2023-04-10T11:15:15.065Z"
   },
   {
    "duration": 0,
    "start_time": "2023-04-10T11:15:15.066Z"
   },
   {
    "duration": 0,
    "start_time": "2023-04-10T11:15:15.067Z"
   },
   {
    "duration": 0,
    "start_time": "2023-04-10T11:15:15.068Z"
   },
   {
    "duration": 0,
    "start_time": "2023-04-10T11:15:15.069Z"
   },
   {
    "duration": 269,
    "start_time": "2023-04-10T11:18:40.277Z"
   },
   {
    "duration": 1179,
    "start_time": "2023-04-10T11:18:52.214Z"
   },
   {
    "duration": 74,
    "start_time": "2023-04-10T11:18:53.395Z"
   },
   {
    "duration": 13,
    "start_time": "2023-04-10T11:18:53.471Z"
   },
   {
    "duration": 18,
    "start_time": "2023-04-10T11:18:53.487Z"
   },
   {
    "duration": 21,
    "start_time": "2023-04-10T11:18:53.507Z"
   },
   {
    "duration": 26,
    "start_time": "2023-04-10T11:18:53.530Z"
   },
   {
    "duration": 17,
    "start_time": "2023-04-10T11:18:53.558Z"
   },
   {
    "duration": 18,
    "start_time": "2023-04-10T11:18:53.576Z"
   },
   {
    "duration": 30,
    "start_time": "2023-04-10T11:18:53.596Z"
   },
   {
    "duration": 16,
    "start_time": "2023-04-10T11:18:53.629Z"
   },
   {
    "duration": 25,
    "start_time": "2023-04-10T11:18:53.647Z"
   },
   {
    "duration": 5,
    "start_time": "2023-04-10T11:18:53.674Z"
   },
   {
    "duration": 20,
    "start_time": "2023-04-10T11:18:53.680Z"
   },
   {
    "duration": 31,
    "start_time": "2023-04-10T11:18:53.701Z"
   },
   {
    "duration": 31,
    "start_time": "2023-04-10T11:18:53.734Z"
   },
   {
    "duration": 26,
    "start_time": "2023-04-10T11:18:53.767Z"
   },
   {
    "duration": 29,
    "start_time": "2023-04-10T11:18:53.795Z"
   },
   {
    "duration": 20,
    "start_time": "2023-04-10T11:18:53.825Z"
   },
   {
    "duration": 22,
    "start_time": "2023-04-10T11:18:53.846Z"
   },
   {
    "duration": 21,
    "start_time": "2023-04-10T11:18:53.870Z"
   },
   {
    "duration": 35,
    "start_time": "2023-04-10T11:18:53.892Z"
   },
   {
    "duration": 33,
    "start_time": "2023-04-10T11:18:53.929Z"
   },
   {
    "duration": 25,
    "start_time": "2023-04-10T11:18:53.964Z"
   },
   {
    "duration": 18,
    "start_time": "2023-04-10T11:18:53.990Z"
   },
   {
    "duration": 26,
    "start_time": "2023-04-10T11:18:54.010Z"
   },
   {
    "duration": 24,
    "start_time": "2023-04-10T11:18:54.037Z"
   },
   {
    "duration": 31,
    "start_time": "2023-04-10T11:18:54.062Z"
   },
   {
    "duration": 28,
    "start_time": "2023-04-10T11:18:54.098Z"
   },
   {
    "duration": 188,
    "start_time": "2023-04-10T11:18:54.128Z"
   },
   {
    "duration": 8,
    "start_time": "2023-04-10T11:18:54.318Z"
   },
   {
    "duration": 137,
    "start_time": "2023-04-10T11:18:54.328Z"
   },
   {
    "duration": 9,
    "start_time": "2023-04-10T11:18:54.467Z"
   },
   {
    "duration": 31,
    "start_time": "2023-04-10T11:18:54.477Z"
   },
   {
    "duration": 19,
    "start_time": "2023-04-10T11:18:54.510Z"
   },
   {
    "duration": 30,
    "start_time": "2023-04-10T11:18:54.531Z"
   },
   {
    "duration": 26,
    "start_time": "2023-04-10T11:18:54.563Z"
   },
   {
    "duration": 37,
    "start_time": "2023-04-10T11:18:54.590Z"
   },
   {
    "duration": 23,
    "start_time": "2023-04-10T11:18:54.628Z"
   },
   {
    "duration": 281,
    "start_time": "2023-04-10T11:18:54.653Z"
   },
   {
    "duration": 3107,
    "start_time": "2023-04-10T11:18:54.936Z"
   },
   {
    "duration": 0,
    "start_time": "2023-04-10T11:18:58.045Z"
   },
   {
    "duration": 0,
    "start_time": "2023-04-10T11:18:58.047Z"
   },
   {
    "duration": 0,
    "start_time": "2023-04-10T11:18:58.049Z"
   },
   {
    "duration": 0,
    "start_time": "2023-04-10T11:18:58.051Z"
   },
   {
    "duration": 0,
    "start_time": "2023-04-10T11:18:58.053Z"
   },
   {
    "duration": 0,
    "start_time": "2023-04-10T11:18:58.054Z"
   },
   {
    "duration": 0,
    "start_time": "2023-04-10T11:18:58.055Z"
   },
   {
    "duration": 0,
    "start_time": "2023-04-10T11:18:58.056Z"
   },
   {
    "duration": 0,
    "start_time": "2023-04-10T11:18:58.058Z"
   },
   {
    "duration": 1,
    "start_time": "2023-04-10T11:18:58.058Z"
   },
   {
    "duration": 0,
    "start_time": "2023-04-10T11:18:58.059Z"
   },
   {
    "duration": 0,
    "start_time": "2023-04-10T11:18:58.060Z"
   },
   {
    "duration": 0,
    "start_time": "2023-04-10T11:18:58.061Z"
   },
   {
    "duration": 0,
    "start_time": "2023-04-10T11:18:58.063Z"
   },
   {
    "duration": 0,
    "start_time": "2023-04-10T11:18:58.064Z"
   },
   {
    "duration": 0,
    "start_time": "2023-04-10T11:18:58.065Z"
   },
   {
    "duration": 0,
    "start_time": "2023-04-10T11:18:58.066Z"
   },
   {
    "duration": 0,
    "start_time": "2023-04-10T11:18:58.067Z"
   },
   {
    "duration": 0,
    "start_time": "2023-04-10T11:18:58.067Z"
   },
   {
    "duration": 0,
    "start_time": "2023-04-10T11:18:58.068Z"
   },
   {
    "duration": 0,
    "start_time": "2023-04-10T11:18:58.069Z"
   },
   {
    "duration": 0,
    "start_time": "2023-04-10T11:18:58.070Z"
   },
   {
    "duration": 0,
    "start_time": "2023-04-10T11:18:58.071Z"
   },
   {
    "duration": 0,
    "start_time": "2023-04-10T11:18:58.072Z"
   },
   {
    "duration": 0,
    "start_time": "2023-04-10T11:18:58.073Z"
   },
   {
    "duration": 1176,
    "start_time": "2023-04-10T11:20:00.423Z"
   },
   {
    "duration": 78,
    "start_time": "2023-04-10T11:20:01.601Z"
   },
   {
    "duration": 13,
    "start_time": "2023-04-10T11:20:01.680Z"
   },
   {
    "duration": 81,
    "start_time": "2023-04-10T11:20:01.694Z"
   },
   {
    "duration": 87,
    "start_time": "2023-04-10T11:20:01.778Z"
   },
   {
    "duration": 76,
    "start_time": "2023-04-10T11:20:01.867Z"
   },
   {
    "duration": 43,
    "start_time": "2023-04-10T11:20:01.945Z"
   },
   {
    "duration": 48,
    "start_time": "2023-04-10T11:20:01.989Z"
   },
   {
    "duration": 27,
    "start_time": "2023-04-10T11:20:02.038Z"
   },
   {
    "duration": 34,
    "start_time": "2023-04-10T11:20:02.067Z"
   },
   {
    "duration": 40,
    "start_time": "2023-04-10T11:20:02.102Z"
   },
   {
    "duration": 28,
    "start_time": "2023-04-10T11:20:02.144Z"
   },
   {
    "duration": 37,
    "start_time": "2023-04-10T11:20:02.174Z"
   },
   {
    "duration": 38,
    "start_time": "2023-04-10T11:20:02.213Z"
   },
   {
    "duration": 66,
    "start_time": "2023-04-10T11:20:02.253Z"
   },
   {
    "duration": 61,
    "start_time": "2023-04-10T11:20:02.320Z"
   },
   {
    "duration": 61,
    "start_time": "2023-04-10T11:20:02.383Z"
   },
   {
    "duration": 35,
    "start_time": "2023-04-10T11:20:02.445Z"
   },
   {
    "duration": 39,
    "start_time": "2023-04-10T11:20:02.482Z"
   },
   {
    "duration": 117,
    "start_time": "2023-04-10T11:20:02.522Z"
   },
   {
    "duration": 100,
    "start_time": "2023-04-10T11:20:02.640Z"
   },
   {
    "duration": 38,
    "start_time": "2023-04-10T11:20:02.742Z"
   },
   {
    "duration": 44,
    "start_time": "2023-04-10T11:20:02.781Z"
   },
   {
    "duration": 29,
    "start_time": "2023-04-10T11:20:02.826Z"
   },
   {
    "duration": 30,
    "start_time": "2023-04-10T11:20:02.856Z"
   },
   {
    "duration": 28,
    "start_time": "2023-04-10T11:20:02.888Z"
   },
   {
    "duration": 25,
    "start_time": "2023-04-10T11:20:02.918Z"
   },
   {
    "duration": 28,
    "start_time": "2023-04-10T11:20:02.945Z"
   },
   {
    "duration": 176,
    "start_time": "2023-04-10T11:20:02.974Z"
   },
   {
    "duration": 8,
    "start_time": "2023-04-10T11:20:03.151Z"
   },
   {
    "duration": 130,
    "start_time": "2023-04-10T11:20:03.160Z"
   },
   {
    "duration": 8,
    "start_time": "2023-04-10T11:20:03.291Z"
   },
   {
    "duration": 8,
    "start_time": "2023-04-10T11:20:03.300Z"
   },
   {
    "duration": 15,
    "start_time": "2023-04-10T11:20:03.309Z"
   },
   {
    "duration": 10,
    "start_time": "2023-04-10T11:20:03.326Z"
   },
   {
    "duration": 4,
    "start_time": "2023-04-10T11:20:03.349Z"
   },
   {
    "duration": 12,
    "start_time": "2023-04-10T11:20:03.355Z"
   },
   {
    "duration": 13,
    "start_time": "2023-04-10T11:20:03.368Z"
   },
   {
    "duration": 292,
    "start_time": "2023-04-10T11:20:03.382Z"
   },
   {
    "duration": 2206,
    "start_time": "2023-04-10T11:20:03.676Z"
   },
   {
    "duration": 0,
    "start_time": "2023-04-10T11:20:05.884Z"
   },
   {
    "duration": 0,
    "start_time": "2023-04-10T11:20:05.886Z"
   },
   {
    "duration": 0,
    "start_time": "2023-04-10T11:20:05.887Z"
   },
   {
    "duration": 0,
    "start_time": "2023-04-10T11:20:05.889Z"
   },
   {
    "duration": 0,
    "start_time": "2023-04-10T11:20:05.890Z"
   },
   {
    "duration": 0,
    "start_time": "2023-04-10T11:20:05.891Z"
   },
   {
    "duration": 0,
    "start_time": "2023-04-10T11:20:05.893Z"
   },
   {
    "duration": 0,
    "start_time": "2023-04-10T11:20:05.894Z"
   },
   {
    "duration": 0,
    "start_time": "2023-04-10T11:20:05.895Z"
   },
   {
    "duration": 0,
    "start_time": "2023-04-10T11:20:05.896Z"
   },
   {
    "duration": 0,
    "start_time": "2023-04-10T11:20:05.898Z"
   },
   {
    "duration": 0,
    "start_time": "2023-04-10T11:20:05.899Z"
   },
   {
    "duration": 0,
    "start_time": "2023-04-10T11:20:05.900Z"
   },
   {
    "duration": 0,
    "start_time": "2023-04-10T11:20:05.902Z"
   },
   {
    "duration": 1,
    "start_time": "2023-04-10T11:20:05.902Z"
   },
   {
    "duration": 0,
    "start_time": "2023-04-10T11:20:05.903Z"
   },
   {
    "duration": 0,
    "start_time": "2023-04-10T11:20:05.904Z"
   },
   {
    "duration": 0,
    "start_time": "2023-04-10T11:20:05.905Z"
   },
   {
    "duration": 0,
    "start_time": "2023-04-10T11:20:05.906Z"
   },
   {
    "duration": 0,
    "start_time": "2023-04-10T11:20:05.907Z"
   },
   {
    "duration": 0,
    "start_time": "2023-04-10T11:20:05.908Z"
   },
   {
    "duration": 0,
    "start_time": "2023-04-10T11:20:05.909Z"
   },
   {
    "duration": 0,
    "start_time": "2023-04-10T11:20:05.910Z"
   },
   {
    "duration": 0,
    "start_time": "2023-04-10T11:20:05.911Z"
   },
   {
    "duration": 0,
    "start_time": "2023-04-10T11:20:05.912Z"
   },
   {
    "duration": 1096,
    "start_time": "2023-04-10T11:21:46.856Z"
   },
   {
    "duration": 77,
    "start_time": "2023-04-10T11:21:47.953Z"
   },
   {
    "duration": 12,
    "start_time": "2023-04-10T11:21:48.032Z"
   },
   {
    "duration": 21,
    "start_time": "2023-04-10T11:21:48.046Z"
   },
   {
    "duration": 24,
    "start_time": "2023-04-10T11:21:48.068Z"
   },
   {
    "duration": 39,
    "start_time": "2023-04-10T11:21:48.094Z"
   },
   {
    "duration": 31,
    "start_time": "2023-04-10T11:21:48.134Z"
   },
   {
    "duration": 21,
    "start_time": "2023-04-10T11:21:48.167Z"
   },
   {
    "duration": 16,
    "start_time": "2023-04-10T11:21:48.189Z"
   },
   {
    "duration": 11,
    "start_time": "2023-04-10T11:21:48.208Z"
   },
   {
    "duration": 11,
    "start_time": "2023-04-10T11:21:48.220Z"
   },
   {
    "duration": 16,
    "start_time": "2023-04-10T11:21:48.233Z"
   },
   {
    "duration": 11,
    "start_time": "2023-04-10T11:21:48.251Z"
   },
   {
    "duration": 10,
    "start_time": "2023-04-10T11:21:48.264Z"
   },
   {
    "duration": 24,
    "start_time": "2023-04-10T11:21:48.275Z"
   },
   {
    "duration": 11,
    "start_time": "2023-04-10T11:21:48.301Z"
   },
   {
    "duration": 9,
    "start_time": "2023-04-10T11:21:48.314Z"
   },
   {
    "duration": 12,
    "start_time": "2023-04-10T11:21:48.324Z"
   },
   {
    "duration": 12,
    "start_time": "2023-04-10T11:21:48.338Z"
   },
   {
    "duration": 12,
    "start_time": "2023-04-10T11:21:48.351Z"
   },
   {
    "duration": 5,
    "start_time": "2023-04-10T11:21:48.365Z"
   },
   {
    "duration": 15,
    "start_time": "2023-04-10T11:21:48.372Z"
   },
   {
    "duration": 18,
    "start_time": "2023-04-10T11:21:48.388Z"
   },
   {
    "duration": 8,
    "start_time": "2023-04-10T11:21:48.407Z"
   },
   {
    "duration": 14,
    "start_time": "2023-04-10T11:21:48.416Z"
   },
   {
    "duration": 5,
    "start_time": "2023-04-10T11:21:48.432Z"
   },
   {
    "duration": 16,
    "start_time": "2023-04-10T11:21:48.439Z"
   },
   {
    "duration": 9,
    "start_time": "2023-04-10T11:21:48.459Z"
   },
   {
    "duration": 163,
    "start_time": "2023-04-10T11:21:48.470Z"
   },
   {
    "duration": 7,
    "start_time": "2023-04-10T11:21:48.635Z"
   },
   {
    "duration": 123,
    "start_time": "2023-04-10T11:21:48.644Z"
   },
   {
    "duration": 7,
    "start_time": "2023-04-10T11:21:48.769Z"
   },
   {
    "duration": 16,
    "start_time": "2023-04-10T11:21:48.777Z"
   },
   {
    "duration": 10,
    "start_time": "2023-04-10T11:21:48.795Z"
   },
   {
    "duration": 33,
    "start_time": "2023-04-10T11:21:48.807Z"
   },
   {
    "duration": 7,
    "start_time": "2023-04-10T11:21:48.841Z"
   },
   {
    "duration": 17,
    "start_time": "2023-04-10T11:21:48.849Z"
   },
   {
    "duration": 9,
    "start_time": "2023-04-10T11:21:48.867Z"
   },
   {
    "duration": 283,
    "start_time": "2023-04-10T11:21:48.878Z"
   },
   {
    "duration": 198,
    "start_time": "2023-04-10T11:21:49.162Z"
   },
   {
    "duration": 289,
    "start_time": "2023-04-10T11:21:49.361Z"
   },
   {
    "duration": 5,
    "start_time": "2023-04-10T11:21:49.652Z"
   },
   {
    "duration": 16,
    "start_time": "2023-04-10T11:21:49.659Z"
   },
   {
    "duration": 14,
    "start_time": "2023-04-10T11:21:49.676Z"
   },
   {
    "duration": 17,
    "start_time": "2023-04-10T11:21:49.692Z"
   },
   {
    "duration": 228,
    "start_time": "2023-04-10T11:21:49.711Z"
   },
   {
    "duration": 11,
    "start_time": "2023-04-10T11:21:49.940Z"
   },
   {
    "duration": 303,
    "start_time": "2023-04-10T11:21:49.953Z"
   },
   {
    "duration": 6,
    "start_time": "2023-04-10T11:21:50.258Z"
   },
   {
    "duration": 140,
    "start_time": "2023-04-10T11:21:50.265Z"
   },
   {
    "duration": 170,
    "start_time": "2023-04-10T11:21:50.406Z"
   },
   {
    "duration": 6,
    "start_time": "2023-04-10T11:21:50.578Z"
   },
   {
    "duration": 312,
    "start_time": "2023-04-10T11:21:50.585Z"
   },
   {
    "duration": 5,
    "start_time": "2023-04-10T11:21:50.899Z"
   },
   {
    "duration": 72,
    "start_time": "2023-04-10T11:21:50.905Z"
   },
   {
    "duration": 55,
    "start_time": "2023-04-10T11:21:50.978Z"
   },
   {
    "duration": 31,
    "start_time": "2023-04-10T11:21:51.049Z"
   },
   {
    "duration": 14,
    "start_time": "2023-04-10T11:21:51.082Z"
   },
   {
    "duration": 21,
    "start_time": "2023-04-10T11:21:51.098Z"
   },
   {
    "duration": 8,
    "start_time": "2023-04-10T11:21:51.121Z"
   },
   {
    "duration": 18,
    "start_time": "2023-04-10T11:21:51.131Z"
   },
   {
    "duration": 31,
    "start_time": "2023-04-10T11:21:51.150Z"
   },
   {
    "duration": 3,
    "start_time": "2023-04-10T11:21:51.183Z"
   },
   {
    "duration": 26,
    "start_time": "2023-04-10T11:21:51.188Z"
   },
   {
    "duration": 8,
    "start_time": "2023-04-10T11:21:51.216Z"
   },
   {
    "duration": 56,
    "start_time": "2023-04-10T11:25:48.029Z"
   },
   {
    "duration": 57,
    "start_time": "2023-04-10T11:31:49.704Z"
   },
   {
    "duration": 1095,
    "start_time": "2023-04-10T11:38:08.405Z"
   },
   {
    "duration": 75,
    "start_time": "2023-04-10T11:38:09.502Z"
   },
   {
    "duration": 16,
    "start_time": "2023-04-10T11:38:09.579Z"
   },
   {
    "duration": 14,
    "start_time": "2023-04-10T11:38:09.597Z"
   },
   {
    "duration": 8,
    "start_time": "2023-04-10T11:38:09.613Z"
   },
   {
    "duration": 14,
    "start_time": "2023-04-10T11:38:09.623Z"
   },
   {
    "duration": 8,
    "start_time": "2023-04-10T11:38:09.639Z"
   },
   {
    "duration": 8,
    "start_time": "2023-04-10T11:38:09.649Z"
   },
   {
    "duration": 18,
    "start_time": "2023-04-10T11:38:09.659Z"
   },
   {
    "duration": 9,
    "start_time": "2023-04-10T11:38:09.680Z"
   },
   {
    "duration": 19,
    "start_time": "2023-04-10T11:38:09.691Z"
   },
   {
    "duration": 7,
    "start_time": "2023-04-10T11:38:09.712Z"
   },
   {
    "duration": 17,
    "start_time": "2023-04-10T11:38:09.721Z"
   },
   {
    "duration": 25,
    "start_time": "2023-04-10T11:38:09.740Z"
   },
   {
    "duration": 18,
    "start_time": "2023-04-10T11:38:09.767Z"
   },
   {
    "duration": 24,
    "start_time": "2023-04-10T11:38:09.787Z"
   },
   {
    "duration": 22,
    "start_time": "2023-04-10T11:38:09.815Z"
   },
   {
    "duration": 27,
    "start_time": "2023-04-10T11:38:09.838Z"
   },
   {
    "duration": 19,
    "start_time": "2023-04-10T11:38:09.867Z"
   },
   {
    "duration": 16,
    "start_time": "2023-04-10T11:38:09.888Z"
   },
   {
    "duration": 4,
    "start_time": "2023-04-10T11:38:09.906Z"
   },
   {
    "duration": 17,
    "start_time": "2023-04-10T11:38:09.911Z"
   },
   {
    "duration": 5,
    "start_time": "2023-04-10T11:38:09.929Z"
   },
   {
    "duration": 6,
    "start_time": "2023-04-10T11:38:09.935Z"
   },
   {
    "duration": 14,
    "start_time": "2023-04-10T11:38:09.943Z"
   },
   {
    "duration": 20,
    "start_time": "2023-04-10T11:38:09.958Z"
   },
   {
    "duration": 19,
    "start_time": "2023-04-10T11:38:09.979Z"
   },
   {
    "duration": 60,
    "start_time": "2023-04-10T11:38:10.001Z"
   },
   {
    "duration": 204,
    "start_time": "2023-04-10T11:38:10.062Z"
   },
   {
    "duration": 7,
    "start_time": "2023-04-10T11:38:10.268Z"
   },
   {
    "duration": 138,
    "start_time": "2023-04-10T11:38:10.277Z"
   },
   {
    "duration": 17,
    "start_time": "2023-04-10T11:38:10.416Z"
   },
   {
    "duration": 14,
    "start_time": "2023-04-10T11:38:10.435Z"
   },
   {
    "duration": 30,
    "start_time": "2023-04-10T11:38:10.450Z"
   },
   {
    "duration": 10,
    "start_time": "2023-04-10T11:38:10.481Z"
   },
   {
    "duration": 12,
    "start_time": "2023-04-10T11:38:10.493Z"
   },
   {
    "duration": 9,
    "start_time": "2023-04-10T11:38:10.506Z"
   },
   {
    "duration": 13,
    "start_time": "2023-04-10T11:38:10.516Z"
   },
   {
    "duration": 293,
    "start_time": "2023-04-10T11:38:10.531Z"
   },
   {
    "duration": 216,
    "start_time": "2023-04-10T11:38:10.826Z"
   },
   {
    "duration": 325,
    "start_time": "2023-04-10T11:38:11.049Z"
   },
   {
    "duration": 4,
    "start_time": "2023-04-10T11:38:11.375Z"
   },
   {
    "duration": 15,
    "start_time": "2023-04-10T11:38:11.380Z"
   },
   {
    "duration": 28,
    "start_time": "2023-04-10T11:38:11.397Z"
   },
   {
    "duration": 32,
    "start_time": "2023-04-10T11:38:11.427Z"
   },
   {
    "duration": 209,
    "start_time": "2023-04-10T11:38:11.461Z"
   },
   {
    "duration": 11,
    "start_time": "2023-04-10T11:38:11.673Z"
   },
   {
    "duration": 365,
    "start_time": "2023-04-10T11:38:11.686Z"
   },
   {
    "duration": 6,
    "start_time": "2023-04-10T11:38:12.053Z"
   },
   {
    "duration": 133,
    "start_time": "2023-04-10T11:38:12.060Z"
   },
   {
    "duration": 158,
    "start_time": "2023-04-10T11:38:12.194Z"
   },
   {
    "duration": 6,
    "start_time": "2023-04-10T11:38:12.354Z"
   },
   {
    "duration": 308,
    "start_time": "2023-04-10T11:38:12.362Z"
   },
   {
    "duration": 5,
    "start_time": "2023-04-10T11:38:12.672Z"
   },
   {
    "duration": 84,
    "start_time": "2023-04-10T11:38:12.679Z"
   },
   {
    "duration": 141,
    "start_time": "2023-04-10T11:38:12.764Z"
   },
   {
    "duration": 27,
    "start_time": "2023-04-10T11:38:12.907Z"
   },
   {
    "duration": 37,
    "start_time": "2023-04-10T11:38:12.948Z"
   },
   {
    "duration": 14,
    "start_time": "2023-04-10T11:38:12.987Z"
   },
   {
    "duration": 16,
    "start_time": "2023-04-10T11:38:13.003Z"
   },
   {
    "duration": 26,
    "start_time": "2023-04-10T11:38:13.021Z"
   },
   {
    "duration": 9,
    "start_time": "2023-04-10T11:38:13.049Z"
   },
   {
    "duration": 45,
    "start_time": "2023-04-10T11:38:13.059Z"
   },
   {
    "duration": 24,
    "start_time": "2023-04-10T11:38:13.105Z"
   },
   {
    "duration": 28,
    "start_time": "2023-04-10T11:38:13.131Z"
   },
   {
    "duration": 28,
    "start_time": "2023-04-10T11:38:13.160Z"
   },
   {
    "duration": 42,
    "start_time": "2023-04-10T11:41:47.261Z"
   },
   {
    "duration": 46,
    "start_time": "2023-04-10T11:42:26.100Z"
   },
   {
    "duration": 12,
    "start_time": "2023-04-10T11:47:43.020Z"
   },
   {
    "duration": 38,
    "start_time": "2023-04-10T11:51:00.251Z"
   },
   {
    "duration": 35,
    "start_time": "2023-04-10T11:51:47.545Z"
   },
   {
    "duration": 27,
    "start_time": "2023-04-10T11:52:32.201Z"
   },
   {
    "duration": 1214,
    "start_time": "2023-04-10T11:52:51.718Z"
   },
   {
    "duration": 74,
    "start_time": "2023-04-10T11:52:52.934Z"
   },
   {
    "duration": 12,
    "start_time": "2023-04-10T11:52:53.010Z"
   },
   {
    "duration": 34,
    "start_time": "2023-04-10T11:52:53.024Z"
   },
   {
    "duration": 31,
    "start_time": "2023-04-10T11:52:53.060Z"
   },
   {
    "duration": 30,
    "start_time": "2023-04-10T11:52:53.092Z"
   },
   {
    "duration": 20,
    "start_time": "2023-04-10T11:52:53.123Z"
   },
   {
    "duration": 20,
    "start_time": "2023-04-10T11:52:53.145Z"
   },
   {
    "duration": 12,
    "start_time": "2023-04-10T11:52:53.166Z"
   },
   {
    "duration": 23,
    "start_time": "2023-04-10T11:52:53.180Z"
   },
   {
    "duration": 25,
    "start_time": "2023-04-10T11:52:53.204Z"
   },
   {
    "duration": 17,
    "start_time": "2023-04-10T11:52:53.230Z"
   },
   {
    "duration": 38,
    "start_time": "2023-04-10T11:52:53.249Z"
   },
   {
    "duration": 18,
    "start_time": "2023-04-10T11:52:53.288Z"
   },
   {
    "duration": 21,
    "start_time": "2023-04-10T11:52:53.308Z"
   },
   {
    "duration": 26,
    "start_time": "2023-04-10T11:52:53.330Z"
   },
   {
    "duration": 17,
    "start_time": "2023-04-10T11:52:53.359Z"
   },
   {
    "duration": 28,
    "start_time": "2023-04-10T11:52:53.378Z"
   },
   {
    "duration": 34,
    "start_time": "2023-04-10T11:52:53.408Z"
   },
   {
    "duration": 36,
    "start_time": "2023-04-10T11:52:53.444Z"
   },
   {
    "duration": 8,
    "start_time": "2023-04-10T11:52:53.482Z"
   },
   {
    "duration": 26,
    "start_time": "2023-04-10T11:52:53.491Z"
   },
   {
    "duration": 20,
    "start_time": "2023-04-10T11:52:53.519Z"
   },
   {
    "duration": 11,
    "start_time": "2023-04-10T11:52:53.541Z"
   },
   {
    "duration": 34,
    "start_time": "2023-04-10T11:52:53.554Z"
   },
   {
    "duration": 18,
    "start_time": "2023-04-10T11:52:53.589Z"
   },
   {
    "duration": 35,
    "start_time": "2023-04-10T11:52:53.608Z"
   },
   {
    "duration": 25,
    "start_time": "2023-04-10T11:52:53.646Z"
   },
   {
    "duration": 169,
    "start_time": "2023-04-10T11:52:53.673Z"
   },
   {
    "duration": 11,
    "start_time": "2023-04-10T11:52:53.844Z"
   },
   {
    "duration": 135,
    "start_time": "2023-04-10T11:52:53.856Z"
   },
   {
    "duration": 21,
    "start_time": "2023-04-10T11:52:53.992Z"
   },
   {
    "duration": 32,
    "start_time": "2023-04-10T11:52:54.014Z"
   },
   {
    "duration": 18,
    "start_time": "2023-04-10T11:52:54.047Z"
   },
   {
    "duration": 31,
    "start_time": "2023-04-10T11:52:54.066Z"
   },
   {
    "duration": 22,
    "start_time": "2023-04-10T11:52:54.098Z"
   },
   {
    "duration": 30,
    "start_time": "2023-04-10T11:52:54.121Z"
   },
   {
    "duration": 30,
    "start_time": "2023-04-10T11:52:54.152Z"
   },
   {
    "duration": 280,
    "start_time": "2023-04-10T11:52:54.184Z"
   },
   {
    "duration": 228,
    "start_time": "2023-04-10T11:52:54.466Z"
   },
   {
    "duration": 281,
    "start_time": "2023-04-10T11:52:54.696Z"
   },
   {
    "duration": 5,
    "start_time": "2023-04-10T11:52:54.979Z"
   },
   {
    "duration": 16,
    "start_time": "2023-04-10T11:52:54.986Z"
   },
   {
    "duration": 24,
    "start_time": "2023-04-10T11:52:55.004Z"
   },
   {
    "duration": 10,
    "start_time": "2023-04-10T11:52:55.030Z"
   },
   {
    "duration": 223,
    "start_time": "2023-04-10T11:52:55.042Z"
   },
   {
    "duration": 7,
    "start_time": "2023-04-10T11:52:55.267Z"
   },
   {
    "duration": 281,
    "start_time": "2023-04-10T11:52:55.276Z"
   },
   {
    "duration": 7,
    "start_time": "2023-04-10T11:52:55.558Z"
   },
   {
    "duration": 140,
    "start_time": "2023-04-10T11:52:55.566Z"
   },
   {
    "duration": 153,
    "start_time": "2023-04-10T11:52:55.708Z"
   },
   {
    "duration": 6,
    "start_time": "2023-04-10T11:52:55.863Z"
   },
   {
    "duration": 303,
    "start_time": "2023-04-10T11:52:55.870Z"
   },
   {
    "duration": 4,
    "start_time": "2023-04-10T11:52:56.174Z"
   },
   {
    "duration": 69,
    "start_time": "2023-04-10T11:52:56.180Z"
   },
   {
    "duration": 132,
    "start_time": "2023-04-10T11:52:56.251Z"
   },
   {
    "duration": 43,
    "start_time": "2023-04-10T11:52:56.385Z"
   },
   {
    "duration": 42,
    "start_time": "2023-04-10T11:52:56.429Z"
   },
   {
    "duration": 8,
    "start_time": "2023-04-10T11:52:56.473Z"
   },
   {
    "duration": 11,
    "start_time": "2023-04-10T11:52:56.483Z"
   },
   {
    "duration": 11,
    "start_time": "2023-04-10T11:52:56.496Z"
   },
   {
    "duration": 56,
    "start_time": "2023-04-10T11:52:56.509Z"
   },
   {
    "duration": 4,
    "start_time": "2023-04-10T11:52:56.567Z"
   },
   {
    "duration": 22,
    "start_time": "2023-04-10T11:52:56.572Z"
   },
   {
    "duration": 36,
    "start_time": "2023-04-10T11:52:56.596Z"
   },
   {
    "duration": 15,
    "start_time": "2023-04-10T11:53:42.430Z"
   },
   {
    "duration": 16,
    "start_time": "2023-04-10T11:54:05.273Z"
   },
   {
    "duration": 110,
    "start_time": "2023-04-10T12:01:35.298Z"
   },
   {
    "duration": 5,
    "start_time": "2023-04-10T12:02:41.191Z"
   },
   {
    "duration": 3,
    "start_time": "2023-04-10T12:03:07.610Z"
   },
   {
    "duration": 6,
    "start_time": "2023-04-10T12:03:15.718Z"
   },
   {
    "duration": 6,
    "start_time": "2023-04-10T12:04:48.074Z"
   },
   {
    "duration": 10,
    "start_time": "2023-04-10T12:05:38.696Z"
   },
   {
    "duration": 10,
    "start_time": "2023-04-10T12:09:46.717Z"
   },
   {
    "duration": 5,
    "start_time": "2023-04-10T12:09:51.383Z"
   },
   {
    "duration": 13,
    "start_time": "2023-04-10T12:10:22.688Z"
   },
   {
    "duration": 12,
    "start_time": "2023-04-10T12:10:27.780Z"
   },
   {
    "duration": 23,
    "start_time": "2023-04-10T12:14:59.456Z"
   },
   {
    "duration": 40,
    "start_time": "2023-04-10T12:15:34.841Z"
   },
   {
    "duration": 4,
    "start_time": "2023-04-10T12:16:13.160Z"
   },
   {
    "duration": 16,
    "start_time": "2023-04-10T12:20:26.220Z"
   },
   {
    "duration": 50,
    "start_time": "2023-04-10T12:21:08.700Z"
   },
   {
    "duration": 38,
    "start_time": "2023-04-10T12:21:37.089Z"
   },
   {
    "duration": 43,
    "start_time": "2023-04-10T12:22:03.099Z"
   },
   {
    "duration": 39,
    "start_time": "2023-04-10T12:23:15.189Z"
   },
   {
    "duration": 9,
    "start_time": "2023-04-10T12:25:13.404Z"
   },
   {
    "duration": 9,
    "start_time": "2023-04-10T12:26:08.133Z"
   },
   {
    "duration": 92,
    "start_time": "2023-04-10T12:31:41.942Z"
   },
   {
    "duration": 127,
    "start_time": "2023-04-10T12:31:56.268Z"
   },
   {
    "duration": 532,
    "start_time": "2023-04-10T12:32:13.987Z"
   },
   {
    "duration": 8,
    "start_time": "2023-04-10T12:32:54.487Z"
   },
   {
    "duration": 4,
    "start_time": "2023-04-10T12:35:57.561Z"
   },
   {
    "duration": 15,
    "start_time": "2023-04-10T12:36:15.671Z"
   },
   {
    "duration": 16,
    "start_time": "2023-04-10T12:36:42.723Z"
   },
   {
    "duration": 16,
    "start_time": "2023-04-10T12:37:05.994Z"
   },
   {
    "duration": 14,
    "start_time": "2023-04-10T12:37:28.761Z"
   },
   {
    "duration": 17,
    "start_time": "2023-04-10T12:37:54.245Z"
   },
   {
    "duration": 17,
    "start_time": "2023-04-10T12:38:01.243Z"
   },
   {
    "duration": 10,
    "start_time": "2023-04-10T12:38:43.401Z"
   },
   {
    "duration": 15,
    "start_time": "2023-04-10T12:39:03.208Z"
   },
   {
    "duration": 14,
    "start_time": "2023-04-10T12:40:46.319Z"
   },
   {
    "duration": 8,
    "start_time": "2023-04-10T13:05:42.551Z"
   },
   {
    "duration": 153,
    "start_time": "2023-04-10T13:05:53.081Z"
   },
   {
    "duration": 57,
    "start_time": "2023-04-10T15:35:18.957Z"
   },
   {
    "duration": 1243,
    "start_time": "2023-04-10T15:35:44.827Z"
   },
   {
    "duration": 200,
    "start_time": "2023-04-10T15:35:46.072Z"
   },
   {
    "duration": 11,
    "start_time": "2023-04-10T15:35:46.274Z"
   },
   {
    "duration": 13,
    "start_time": "2023-04-10T15:35:46.288Z"
   },
   {
    "duration": 17,
    "start_time": "2023-04-10T15:35:46.303Z"
   },
   {
    "duration": 19,
    "start_time": "2023-04-10T15:35:46.321Z"
   },
   {
    "duration": 6,
    "start_time": "2023-04-10T15:35:46.341Z"
   },
   {
    "duration": 6,
    "start_time": "2023-04-10T15:35:46.348Z"
   },
   {
    "duration": 13,
    "start_time": "2023-04-10T15:35:46.355Z"
   },
   {
    "duration": 5,
    "start_time": "2023-04-10T15:35:46.370Z"
   },
   {
    "duration": 9,
    "start_time": "2023-04-10T15:35:46.376Z"
   },
   {
    "duration": 8,
    "start_time": "2023-04-10T15:35:46.386Z"
   },
   {
    "duration": 8,
    "start_time": "2023-04-10T15:35:46.395Z"
   },
   {
    "duration": 10,
    "start_time": "2023-04-10T15:35:46.405Z"
   },
   {
    "duration": 9,
    "start_time": "2023-04-10T15:35:46.416Z"
   },
   {
    "duration": 10,
    "start_time": "2023-04-10T15:35:46.436Z"
   },
   {
    "duration": 10,
    "start_time": "2023-04-10T15:35:46.447Z"
   },
   {
    "duration": 10,
    "start_time": "2023-04-10T15:35:46.459Z"
   },
   {
    "duration": 15,
    "start_time": "2023-04-10T15:35:46.470Z"
   },
   {
    "duration": 27,
    "start_time": "2023-04-10T15:35:46.487Z"
   },
   {
    "duration": 9,
    "start_time": "2023-04-10T15:35:46.515Z"
   },
   {
    "duration": 17,
    "start_time": "2023-04-10T15:35:46.525Z"
   },
   {
    "duration": 14,
    "start_time": "2023-04-10T15:35:46.543Z"
   },
   {
    "duration": 21,
    "start_time": "2023-04-10T15:35:46.558Z"
   },
   {
    "duration": 15,
    "start_time": "2023-04-10T15:35:46.581Z"
   },
   {
    "duration": 10,
    "start_time": "2023-04-10T15:35:46.597Z"
   },
   {
    "duration": 16,
    "start_time": "2023-04-10T15:35:46.609Z"
   },
   {
    "duration": 5,
    "start_time": "2023-04-10T15:35:46.627Z"
   },
   {
    "duration": 142,
    "start_time": "2023-04-10T15:35:46.634Z"
   },
   {
    "duration": 6,
    "start_time": "2023-04-10T15:35:46.778Z"
   },
   {
    "duration": 108,
    "start_time": "2023-04-10T15:35:46.786Z"
   },
   {
    "duration": 7,
    "start_time": "2023-04-10T15:35:46.896Z"
   },
   {
    "duration": 7,
    "start_time": "2023-04-10T15:35:46.904Z"
   },
   {
    "duration": 9,
    "start_time": "2023-04-10T15:35:46.912Z"
   },
   {
    "duration": 5,
    "start_time": "2023-04-10T15:35:46.936Z"
   },
   {
    "duration": 16,
    "start_time": "2023-04-10T15:35:46.943Z"
   },
   {
    "duration": 11,
    "start_time": "2023-04-10T15:35:46.960Z"
   },
   {
    "duration": 5,
    "start_time": "2023-04-10T15:35:46.973Z"
   },
   {
    "duration": 260,
    "start_time": "2023-04-10T15:35:46.979Z"
   },
   {
    "duration": 182,
    "start_time": "2023-04-10T15:35:47.241Z"
   },
   {
    "duration": 336,
    "start_time": "2023-04-10T15:35:47.425Z"
   },
   {
    "duration": 4,
    "start_time": "2023-04-10T15:35:47.763Z"
   },
   {
    "duration": 20,
    "start_time": "2023-04-10T15:35:47.769Z"
   },
   {
    "duration": 10,
    "start_time": "2023-04-10T15:35:47.790Z"
   },
   {
    "duration": 188,
    "start_time": "2023-04-10T15:35:47.802Z"
   },
   {
    "duration": 7,
    "start_time": "2023-04-10T15:35:47.991Z"
   },
   {
    "duration": 273,
    "start_time": "2023-04-10T15:35:47.999Z"
   },
   {
    "duration": 6,
    "start_time": "2023-04-10T15:35:48.274Z"
   },
   {
    "duration": 151,
    "start_time": "2023-04-10T15:35:48.281Z"
   },
   {
    "duration": 5,
    "start_time": "2023-04-10T15:35:48.436Z"
   },
   {
    "duration": 287,
    "start_time": "2023-04-10T15:35:48.442Z"
   },
   {
    "duration": 8,
    "start_time": "2023-04-10T15:35:48.731Z"
   },
   {
    "duration": 55,
    "start_time": "2023-04-10T15:35:48.740Z"
   },
   {
    "duration": 128,
    "start_time": "2023-04-10T15:35:48.796Z"
   },
   {
    "duration": 53,
    "start_time": "2023-04-10T15:35:48.926Z"
   },
   {
    "duration": 13,
    "start_time": "2023-04-10T15:35:48.981Z"
   },
   {
    "duration": 10,
    "start_time": "2023-04-10T15:35:48.996Z"
   },
   {
    "duration": 30,
    "start_time": "2023-04-10T15:35:49.007Z"
   },
   {
    "duration": 7,
    "start_time": "2023-04-10T15:35:49.039Z"
   },
   {
    "duration": 37,
    "start_time": "2023-04-10T15:35:49.047Z"
   },
   {
    "duration": 13,
    "start_time": "2023-04-10T15:35:49.086Z"
   },
   {
    "duration": 1047,
    "start_time": "2023-04-10T15:38:04.016Z"
   },
   {
    "duration": 60,
    "start_time": "2023-04-10T15:38:05.065Z"
   },
   {
    "duration": 12,
    "start_time": "2023-04-10T15:38:05.127Z"
   },
   {
    "duration": 12,
    "start_time": "2023-04-10T15:38:05.140Z"
   },
   {
    "duration": 12,
    "start_time": "2023-04-10T15:38:05.153Z"
   },
   {
    "duration": 14,
    "start_time": "2023-04-10T15:38:05.166Z"
   },
   {
    "duration": 6,
    "start_time": "2023-04-10T15:38:05.181Z"
   },
   {
    "duration": 9,
    "start_time": "2023-04-10T15:38:05.188Z"
   },
   {
    "duration": 7,
    "start_time": "2023-04-10T15:38:05.198Z"
   },
   {
    "duration": 6,
    "start_time": "2023-04-10T15:38:05.207Z"
   },
   {
    "duration": 28,
    "start_time": "2023-04-10T15:38:05.214Z"
   },
   {
    "duration": 3,
    "start_time": "2023-04-10T15:38:05.244Z"
   },
   {
    "duration": 7,
    "start_time": "2023-04-10T15:38:05.248Z"
   },
   {
    "duration": 10,
    "start_time": "2023-04-10T15:38:05.256Z"
   },
   {
    "duration": 9,
    "start_time": "2023-04-10T15:38:05.267Z"
   },
   {
    "duration": 15,
    "start_time": "2023-04-10T15:38:05.277Z"
   },
   {
    "duration": 4,
    "start_time": "2023-04-10T15:38:05.294Z"
   },
   {
    "duration": 12,
    "start_time": "2023-04-10T15:38:05.299Z"
   },
   {
    "duration": 25,
    "start_time": "2023-04-10T15:38:05.312Z"
   },
   {
    "duration": 15,
    "start_time": "2023-04-10T15:38:05.338Z"
   },
   {
    "duration": 4,
    "start_time": "2023-04-10T15:38:05.354Z"
   },
   {
    "duration": 17,
    "start_time": "2023-04-10T15:38:05.360Z"
   },
   {
    "duration": 7,
    "start_time": "2023-04-10T15:38:05.378Z"
   },
   {
    "duration": 7,
    "start_time": "2023-04-10T15:38:05.386Z"
   },
   {
    "duration": 18,
    "start_time": "2023-04-10T15:38:05.395Z"
   },
   {
    "duration": 14,
    "start_time": "2023-04-10T15:38:05.414Z"
   },
   {
    "duration": 11,
    "start_time": "2023-04-10T15:38:05.430Z"
   },
   {
    "duration": 6,
    "start_time": "2023-04-10T15:38:05.444Z"
   },
   {
    "duration": 152,
    "start_time": "2023-04-10T15:38:05.452Z"
   },
   {
    "duration": 7,
    "start_time": "2023-04-10T15:38:05.606Z"
   },
   {
    "duration": 112,
    "start_time": "2023-04-10T15:38:05.614Z"
   },
   {
    "duration": 12,
    "start_time": "2023-04-10T15:38:05.728Z"
   },
   {
    "duration": 15,
    "start_time": "2023-04-10T15:38:05.742Z"
   },
   {
    "duration": 11,
    "start_time": "2023-04-10T15:38:05.758Z"
   },
   {
    "duration": 6,
    "start_time": "2023-04-10T15:38:05.770Z"
   },
   {
    "duration": 6,
    "start_time": "2023-04-10T15:38:05.777Z"
   },
   {
    "duration": 11,
    "start_time": "2023-04-10T15:38:05.785Z"
   },
   {
    "duration": 8,
    "start_time": "2023-04-10T15:38:05.798Z"
   },
   {
    "duration": 266,
    "start_time": "2023-04-10T15:38:05.807Z"
   },
   {
    "duration": 191,
    "start_time": "2023-04-10T15:38:06.074Z"
   },
   {
    "duration": 262,
    "start_time": "2023-04-10T15:38:06.266Z"
   },
   {
    "duration": 9,
    "start_time": "2023-04-10T15:38:06.529Z"
   },
   {
    "duration": 13,
    "start_time": "2023-04-10T15:38:06.540Z"
   },
   {
    "duration": 10,
    "start_time": "2023-04-10T15:38:06.554Z"
   },
   {
    "duration": 182,
    "start_time": "2023-04-10T15:38:06.566Z"
   },
   {
    "duration": 7,
    "start_time": "2023-04-10T15:38:06.749Z"
   },
   {
    "duration": 282,
    "start_time": "2023-04-10T15:38:06.758Z"
   },
   {
    "duration": 6,
    "start_time": "2023-04-10T15:38:07.041Z"
   },
   {
    "duration": 167,
    "start_time": "2023-04-10T15:38:07.049Z"
   },
   {
    "duration": 4,
    "start_time": "2023-04-10T15:38:07.218Z"
   },
   {
    "duration": 273,
    "start_time": "2023-04-10T15:38:07.223Z"
   },
   {
    "duration": 4,
    "start_time": "2023-04-10T15:38:07.497Z"
   },
   {
    "duration": 123,
    "start_time": "2023-04-10T15:38:07.503Z"
   },
   {
    "duration": 46,
    "start_time": "2023-04-10T15:38:07.628Z"
   },
   {
    "duration": 13,
    "start_time": "2023-04-10T15:38:07.675Z"
   },
   {
    "duration": 14,
    "start_time": "2023-04-10T15:38:07.689Z"
   },
   {
    "duration": 20,
    "start_time": "2023-04-10T15:38:07.705Z"
   },
   {
    "duration": 22,
    "start_time": "2023-04-10T15:38:07.736Z"
   },
   {
    "duration": 33,
    "start_time": "2023-04-10T15:38:07.759Z"
   },
   {
    "duration": 13,
    "start_time": "2023-04-10T15:38:07.794Z"
   },
   {
    "duration": 5,
    "start_time": "2023-04-10T15:46:07.388Z"
   },
   {
    "duration": 6,
    "start_time": "2023-04-10T15:46:17.401Z"
   },
   {
    "duration": 7,
    "start_time": "2023-04-10T15:46:27.487Z"
   },
   {
    "duration": 1181,
    "start_time": "2023-04-10T15:46:43.964Z"
   },
   {
    "duration": 70,
    "start_time": "2023-04-10T15:46:45.155Z"
   },
   {
    "duration": 28,
    "start_time": "2023-04-10T15:46:45.227Z"
   },
   {
    "duration": 15,
    "start_time": "2023-04-10T15:46:45.264Z"
   },
   {
    "duration": 15,
    "start_time": "2023-04-10T15:46:45.280Z"
   },
   {
    "duration": 15,
    "start_time": "2023-04-10T15:46:45.296Z"
   },
   {
    "duration": 7,
    "start_time": "2023-04-10T15:46:45.312Z"
   },
   {
    "duration": 5,
    "start_time": "2023-04-10T15:46:45.320Z"
   },
   {
    "duration": 5,
    "start_time": "2023-04-10T15:46:45.327Z"
   },
   {
    "duration": 12,
    "start_time": "2023-04-10T15:46:45.339Z"
   },
   {
    "duration": 20,
    "start_time": "2023-04-10T15:46:45.352Z"
   },
   {
    "duration": 4,
    "start_time": "2023-04-10T15:46:45.373Z"
   },
   {
    "duration": 8,
    "start_time": "2023-04-10T15:46:45.378Z"
   },
   {
    "duration": 8,
    "start_time": "2023-04-10T15:46:45.388Z"
   },
   {
    "duration": 13,
    "start_time": "2023-04-10T15:46:45.398Z"
   },
   {
    "duration": 6,
    "start_time": "2023-04-10T15:46:45.413Z"
   },
   {
    "duration": 29,
    "start_time": "2023-04-10T15:46:45.421Z"
   },
   {
    "duration": 23,
    "start_time": "2023-04-10T15:46:45.452Z"
   },
   {
    "duration": 9,
    "start_time": "2023-04-10T15:46:45.477Z"
   },
   {
    "duration": 9,
    "start_time": "2023-04-10T15:46:45.487Z"
   },
   {
    "duration": 9,
    "start_time": "2023-04-10T15:46:45.498Z"
   },
   {
    "duration": 10,
    "start_time": "2023-04-10T15:46:45.509Z"
   },
   {
    "duration": 8,
    "start_time": "2023-04-10T15:46:45.521Z"
   },
   {
    "duration": 17,
    "start_time": "2023-04-10T15:46:45.531Z"
   },
   {
    "duration": 13,
    "start_time": "2023-04-10T15:46:45.550Z"
   },
   {
    "duration": 6,
    "start_time": "2023-04-10T15:46:45.565Z"
   },
   {
    "duration": 12,
    "start_time": "2023-04-10T15:46:45.573Z"
   },
   {
    "duration": 4,
    "start_time": "2023-04-10T15:46:45.589Z"
   },
   {
    "duration": 20,
    "start_time": "2023-04-10T15:46:45.595Z"
   },
   {
    "duration": 12,
    "start_time": "2023-04-10T15:46:45.616Z"
   },
   {
    "duration": 176,
    "start_time": "2023-04-10T15:46:45.629Z"
   },
   {
    "duration": 9,
    "start_time": "2023-04-10T15:46:45.807Z"
   },
   {
    "duration": 148,
    "start_time": "2023-04-10T15:46:45.817Z"
   },
   {
    "duration": 7,
    "start_time": "2023-04-10T15:46:45.969Z"
   },
   {
    "duration": 22,
    "start_time": "2023-04-10T15:46:45.978Z"
   },
   {
    "duration": 30,
    "start_time": "2023-04-10T15:46:46.001Z"
   },
   {
    "duration": 26,
    "start_time": "2023-04-10T15:46:46.032Z"
   },
   {
    "duration": 29,
    "start_time": "2023-04-10T15:46:46.060Z"
   },
   {
    "duration": 18,
    "start_time": "2023-04-10T15:46:46.091Z"
   },
   {
    "duration": 22,
    "start_time": "2023-04-10T15:46:46.110Z"
   },
   {
    "duration": 325,
    "start_time": "2023-04-10T15:46:46.133Z"
   },
   {
    "duration": 256,
    "start_time": "2023-04-10T15:46:46.460Z"
   },
   {
    "duration": 332,
    "start_time": "2023-04-10T15:46:46.718Z"
   },
   {
    "duration": 6,
    "start_time": "2023-04-10T15:46:47.053Z"
   },
   {
    "duration": 5,
    "start_time": "2023-04-10T15:46:47.062Z"
   },
   {
    "duration": 14,
    "start_time": "2023-04-10T15:46:47.068Z"
   },
   {
    "duration": 226,
    "start_time": "2023-04-10T15:46:47.084Z"
   },
   {
    "duration": 8,
    "start_time": "2023-04-10T15:46:47.311Z"
   },
   {
    "duration": 353,
    "start_time": "2023-04-10T15:46:47.320Z"
   },
   {
    "duration": 8,
    "start_time": "2023-04-10T15:46:47.674Z"
   },
   {
    "duration": 204,
    "start_time": "2023-04-10T15:46:47.685Z"
   },
   {
    "duration": 6,
    "start_time": "2023-04-10T15:46:47.890Z"
   },
   {
    "duration": 320,
    "start_time": "2023-04-10T15:46:47.897Z"
   },
   {
    "duration": 5,
    "start_time": "2023-04-10T15:46:48.218Z"
   },
   {
    "duration": 136,
    "start_time": "2023-04-10T15:46:48.224Z"
   },
   {
    "duration": 45,
    "start_time": "2023-04-10T15:46:48.362Z"
   },
   {
    "duration": 34,
    "start_time": "2023-04-10T15:46:48.409Z"
   },
   {
    "duration": 12,
    "start_time": "2023-04-10T15:46:48.444Z"
   },
   {
    "duration": 12,
    "start_time": "2023-04-10T15:46:48.457Z"
   },
   {
    "duration": 18,
    "start_time": "2023-04-10T15:46:48.471Z"
   },
   {
    "duration": 49,
    "start_time": "2023-04-10T15:46:48.491Z"
   },
   {
    "duration": 22,
    "start_time": "2023-04-10T15:46:48.542Z"
   },
   {
    "duration": 100,
    "start_time": "2023-04-10T15:47:50.308Z"
   },
   {
    "duration": 1026,
    "start_time": "2023-04-10T15:48:23.094Z"
   },
   {
    "duration": 69,
    "start_time": "2023-04-10T15:48:24.122Z"
   },
   {
    "duration": 11,
    "start_time": "2023-04-10T15:48:24.193Z"
   },
   {
    "duration": 45,
    "start_time": "2023-04-10T15:48:24.207Z"
   },
   {
    "duration": 27,
    "start_time": "2023-04-10T15:48:24.254Z"
   },
   {
    "duration": 42,
    "start_time": "2023-04-10T15:48:24.282Z"
   },
   {
    "duration": 31,
    "start_time": "2023-04-10T15:48:24.326Z"
   },
   {
    "duration": 17,
    "start_time": "2023-04-10T15:48:24.358Z"
   },
   {
    "duration": 21,
    "start_time": "2023-04-10T15:48:24.376Z"
   },
   {
    "duration": 20,
    "start_time": "2023-04-10T15:48:24.399Z"
   },
   {
    "duration": 15,
    "start_time": "2023-04-10T15:48:24.420Z"
   },
   {
    "duration": 16,
    "start_time": "2023-04-10T15:48:24.438Z"
   },
   {
    "duration": 16,
    "start_time": "2023-04-10T15:48:24.456Z"
   },
   {
    "duration": 14,
    "start_time": "2023-04-10T15:48:24.474Z"
   },
   {
    "duration": 101,
    "start_time": "2023-04-10T15:48:24.490Z"
   },
   {
    "duration": 0,
    "start_time": "2023-04-10T15:48:24.595Z"
   },
   {
    "duration": 0,
    "start_time": "2023-04-10T15:48:24.596Z"
   },
   {
    "duration": 0,
    "start_time": "2023-04-10T15:48:24.597Z"
   },
   {
    "duration": 0,
    "start_time": "2023-04-10T15:48:24.599Z"
   },
   {
    "duration": 0,
    "start_time": "2023-04-10T15:48:24.600Z"
   },
   {
    "duration": 0,
    "start_time": "2023-04-10T15:48:24.602Z"
   },
   {
    "duration": 0,
    "start_time": "2023-04-10T15:48:24.603Z"
   },
   {
    "duration": 0,
    "start_time": "2023-04-10T15:48:24.604Z"
   },
   {
    "duration": 0,
    "start_time": "2023-04-10T15:48:24.606Z"
   },
   {
    "duration": 0,
    "start_time": "2023-04-10T15:48:24.607Z"
   },
   {
    "duration": 0,
    "start_time": "2023-04-10T15:48:24.608Z"
   },
   {
    "duration": 0,
    "start_time": "2023-04-10T15:48:24.610Z"
   },
   {
    "duration": 0,
    "start_time": "2023-04-10T15:48:24.611Z"
   },
   {
    "duration": 0,
    "start_time": "2023-04-10T15:48:24.612Z"
   },
   {
    "duration": 0,
    "start_time": "2023-04-10T15:48:24.613Z"
   },
   {
    "duration": 0,
    "start_time": "2023-04-10T15:48:24.614Z"
   },
   {
    "duration": 0,
    "start_time": "2023-04-10T15:48:24.640Z"
   },
   {
    "duration": 0,
    "start_time": "2023-04-10T15:48:24.641Z"
   },
   {
    "duration": 0,
    "start_time": "2023-04-10T15:48:24.643Z"
   },
   {
    "duration": 0,
    "start_time": "2023-04-10T15:48:24.644Z"
   },
   {
    "duration": 0,
    "start_time": "2023-04-10T15:48:24.646Z"
   },
   {
    "duration": 0,
    "start_time": "2023-04-10T15:48:24.647Z"
   },
   {
    "duration": 0,
    "start_time": "2023-04-10T15:48:24.648Z"
   },
   {
    "duration": 0,
    "start_time": "2023-04-10T15:48:24.649Z"
   },
   {
    "duration": 0,
    "start_time": "2023-04-10T15:48:24.651Z"
   },
   {
    "duration": 0,
    "start_time": "2023-04-10T15:48:24.651Z"
   },
   {
    "duration": 0,
    "start_time": "2023-04-10T15:48:24.653Z"
   },
   {
    "duration": 0,
    "start_time": "2023-04-10T15:48:24.656Z"
   },
   {
    "duration": 0,
    "start_time": "2023-04-10T15:48:24.657Z"
   },
   {
    "duration": 0,
    "start_time": "2023-04-10T15:48:24.658Z"
   },
   {
    "duration": 0,
    "start_time": "2023-04-10T15:48:24.660Z"
   },
   {
    "duration": 0,
    "start_time": "2023-04-10T15:48:24.662Z"
   },
   {
    "duration": 0,
    "start_time": "2023-04-10T15:48:24.664Z"
   },
   {
    "duration": 0,
    "start_time": "2023-04-10T15:48:24.665Z"
   },
   {
    "duration": 0,
    "start_time": "2023-04-10T15:48:24.666Z"
   },
   {
    "duration": 0,
    "start_time": "2023-04-10T15:48:24.667Z"
   },
   {
    "duration": 0,
    "start_time": "2023-04-10T15:48:24.669Z"
   },
   {
    "duration": 0,
    "start_time": "2023-04-10T15:48:24.671Z"
   },
   {
    "duration": 0,
    "start_time": "2023-04-10T15:48:24.673Z"
   },
   {
    "duration": 0,
    "start_time": "2023-04-10T15:48:24.674Z"
   },
   {
    "duration": 0,
    "start_time": "2023-04-10T15:48:24.676Z"
   },
   {
    "duration": 0,
    "start_time": "2023-04-10T15:48:24.677Z"
   },
   {
    "duration": 0,
    "start_time": "2023-04-10T15:48:24.679Z"
   },
   {
    "duration": 0,
    "start_time": "2023-04-10T15:48:24.680Z"
   },
   {
    "duration": 0,
    "start_time": "2023-04-10T15:48:24.681Z"
   },
   {
    "duration": 0,
    "start_time": "2023-04-10T15:48:24.738Z"
   },
   {
    "duration": 0,
    "start_time": "2023-04-10T15:48:24.741Z"
   },
   {
    "duration": 5,
    "start_time": "2023-04-10T15:49:08.531Z"
   },
   {
    "duration": 1089,
    "start_time": "2023-04-10T15:49:20.904Z"
   },
   {
    "duration": 79,
    "start_time": "2023-04-10T15:49:21.995Z"
   },
   {
    "duration": 12,
    "start_time": "2023-04-10T15:49:22.075Z"
   },
   {
    "duration": 15,
    "start_time": "2023-04-10T15:49:22.089Z"
   },
   {
    "duration": 14,
    "start_time": "2023-04-10T15:49:22.107Z"
   },
   {
    "duration": 28,
    "start_time": "2023-04-10T15:49:22.122Z"
   },
   {
    "duration": 10,
    "start_time": "2023-04-10T15:49:22.157Z"
   },
   {
    "duration": 17,
    "start_time": "2023-04-10T15:49:22.168Z"
   },
   {
    "duration": 8,
    "start_time": "2023-04-10T15:49:22.186Z"
   },
   {
    "duration": 9,
    "start_time": "2023-04-10T15:49:22.196Z"
   },
   {
    "duration": 11,
    "start_time": "2023-04-10T15:49:22.207Z"
   },
   {
    "duration": 4,
    "start_time": "2023-04-10T15:49:22.219Z"
   },
   {
    "duration": 7,
    "start_time": "2023-04-10T15:49:22.224Z"
   },
   {
    "duration": 14,
    "start_time": "2023-04-10T15:49:22.232Z"
   },
   {
    "duration": 23,
    "start_time": "2023-04-10T15:49:22.249Z"
   },
   {
    "duration": 13,
    "start_time": "2023-04-10T15:49:22.274Z"
   },
   {
    "duration": 10,
    "start_time": "2023-04-10T15:49:22.288Z"
   },
   {
    "duration": 11,
    "start_time": "2023-04-10T15:49:22.300Z"
   },
   {
    "duration": 7,
    "start_time": "2023-04-10T15:49:22.312Z"
   },
   {
    "duration": 11,
    "start_time": "2023-04-10T15:49:22.320Z"
   },
   {
    "duration": 21,
    "start_time": "2023-04-10T15:49:22.332Z"
   },
   {
    "duration": 15,
    "start_time": "2023-04-10T15:49:22.355Z"
   },
   {
    "duration": 3,
    "start_time": "2023-04-10T15:49:22.372Z"
   },
   {
    "duration": 16,
    "start_time": "2023-04-10T15:49:22.376Z"
   },
   {
    "duration": 5,
    "start_time": "2023-04-10T15:49:22.394Z"
   },
   {
    "duration": 7,
    "start_time": "2023-04-10T15:49:22.400Z"
   },
   {
    "duration": 13,
    "start_time": "2023-04-10T15:49:22.409Z"
   },
   {
    "duration": 18,
    "start_time": "2023-04-10T15:49:22.427Z"
   },
   {
    "duration": 22,
    "start_time": "2023-04-10T15:49:22.454Z"
   },
   {
    "duration": 10,
    "start_time": "2023-04-10T15:49:22.478Z"
   },
   {
    "duration": 206,
    "start_time": "2023-04-10T15:49:22.490Z"
   },
   {
    "duration": 9,
    "start_time": "2023-04-10T15:49:22.698Z"
   },
   {
    "duration": 166,
    "start_time": "2023-04-10T15:49:22.708Z"
   },
   {
    "duration": 8,
    "start_time": "2023-04-10T15:49:22.877Z"
   },
   {
    "duration": 8,
    "start_time": "2023-04-10T15:49:22.887Z"
   },
   {
    "duration": 10,
    "start_time": "2023-04-10T15:49:22.896Z"
   },
   {
    "duration": 4,
    "start_time": "2023-04-10T15:49:22.907Z"
   },
   {
    "duration": 7,
    "start_time": "2023-04-10T15:49:22.913Z"
   },
   {
    "duration": 7,
    "start_time": "2023-04-10T15:49:22.939Z"
   },
   {
    "duration": 7,
    "start_time": "2023-04-10T15:49:22.948Z"
   },
   {
    "duration": 292,
    "start_time": "2023-04-10T15:49:22.957Z"
   },
   {
    "duration": 196,
    "start_time": "2023-04-10T15:49:23.252Z"
   },
   {
    "duration": 307,
    "start_time": "2023-04-10T15:49:23.450Z"
   },
   {
    "duration": 6,
    "start_time": "2023-04-10T15:49:23.760Z"
   },
   {
    "duration": 4,
    "start_time": "2023-04-10T15:49:23.768Z"
   },
   {
    "duration": 6,
    "start_time": "2023-04-10T15:49:23.774Z"
   },
   {
    "duration": 266,
    "start_time": "2023-04-10T15:49:23.782Z"
   },
   {
    "duration": 10,
    "start_time": "2023-04-10T15:49:24.050Z"
   },
   {
    "duration": 294,
    "start_time": "2023-04-10T15:49:24.062Z"
   },
   {
    "duration": 9,
    "start_time": "2023-04-10T15:49:24.360Z"
   },
   {
    "duration": 155,
    "start_time": "2023-04-10T15:49:24.371Z"
   },
   {
    "duration": 5,
    "start_time": "2023-04-10T15:49:24.527Z"
   },
   {
    "duration": 308,
    "start_time": "2023-04-10T15:49:24.533Z"
   },
   {
    "duration": 5,
    "start_time": "2023-04-10T15:49:24.843Z"
   },
   {
    "duration": 136,
    "start_time": "2023-04-10T15:49:24.850Z"
   },
   {
    "duration": 51,
    "start_time": "2023-04-10T15:49:24.987Z"
   },
   {
    "duration": 22,
    "start_time": "2023-04-10T15:49:25.040Z"
   },
   {
    "duration": 29,
    "start_time": "2023-04-10T15:49:25.063Z"
   },
   {
    "duration": 46,
    "start_time": "2023-04-10T15:49:25.094Z"
   },
   {
    "duration": 9,
    "start_time": "2023-04-10T15:49:25.145Z"
   },
   {
    "duration": 48,
    "start_time": "2023-04-10T15:49:25.155Z"
   },
   {
    "duration": 17,
    "start_time": "2023-04-10T15:49:25.205Z"
   },
   {
    "duration": 10,
    "start_time": "2023-04-10T15:49:54.839Z"
   },
   {
    "duration": 93,
    "start_time": "2023-04-10T15:51:21.221Z"
   },
   {
    "duration": 6,
    "start_time": "2023-04-10T15:51:36.728Z"
   },
   {
    "duration": 5,
    "start_time": "2023-04-10T15:52:34.449Z"
   },
   {
    "duration": 4,
    "start_time": "2023-04-10T15:54:19.608Z"
   },
   {
    "duration": 16,
    "start_time": "2023-04-10T15:57:10.606Z"
   },
   {
    "duration": 6,
    "start_time": "2023-04-10T15:58:27.736Z"
   },
   {
    "duration": 360,
    "start_time": "2023-04-10T19:03:37.861Z"
   },
   {
    "duration": 44,
    "start_time": "2023-12-28T16:06:16.064Z"
   },
   {
    "duration": 1309,
    "start_time": "2023-12-28T16:06:29.296Z"
   },
   {
    "duration": 182,
    "start_time": "2023-12-28T16:06:30.607Z"
   },
   {
    "duration": 13,
    "start_time": "2023-12-28T16:06:30.791Z"
   },
   {
    "duration": 37,
    "start_time": "2023-12-28T16:06:30.807Z"
   },
   {
    "duration": 9,
    "start_time": "2023-12-28T16:06:32.835Z"
   },
   {
    "duration": 10,
    "start_time": "2023-12-28T16:06:32.845Z"
   },
   {
    "duration": 5,
    "start_time": "2023-12-28T16:06:32.856Z"
   },
   {
    "duration": 6,
    "start_time": "2023-12-28T16:06:32.897Z"
   },
   {
    "duration": 4,
    "start_time": "2023-12-28T16:06:32.904Z"
   },
   {
    "duration": 5,
    "start_time": "2023-12-28T16:06:32.910Z"
   },
   {
    "duration": 17,
    "start_time": "2023-12-28T16:06:32.917Z"
   },
   {
    "duration": 3,
    "start_time": "2023-12-28T16:06:32.935Z"
   },
   {
    "duration": 4,
    "start_time": "2023-12-28T16:06:32.940Z"
   },
   {
    "duration": 4,
    "start_time": "2023-12-28T16:06:32.946Z"
   },
   {
    "duration": 6,
    "start_time": "2023-12-28T16:06:33.235Z"
   },
   {
    "duration": 9,
    "start_time": "2023-12-28T16:06:33.243Z"
   },
   {
    "duration": 7,
    "start_time": "2023-12-28T16:06:33.253Z"
   },
   {
    "duration": 12,
    "start_time": "2023-12-28T16:06:33.594Z"
   },
   {
    "duration": 5,
    "start_time": "2023-12-28T16:06:33.608Z"
   },
   {
    "duration": 6,
    "start_time": "2023-12-28T16:06:33.615Z"
   },
   {
    "duration": 3,
    "start_time": "2023-12-28T16:06:33.719Z"
   },
   {
    "duration": 11,
    "start_time": "2023-12-28T16:06:33.724Z"
   },
   {
    "duration": 4,
    "start_time": "2023-12-28T16:06:33.737Z"
   },
   {
    "duration": 7,
    "start_time": "2023-12-28T16:06:33.915Z"
   },
   {
    "duration": 5,
    "start_time": "2023-12-28T16:06:33.924Z"
   },
   {
    "duration": 9,
    "start_time": "2023-12-28T16:06:33.931Z"
   },
   {
    "duration": 4,
    "start_time": "2023-12-28T16:06:33.941Z"
   },
   {
    "duration": 9,
    "start_time": "2023-12-28T16:06:33.947Z"
   },
   {
    "duration": 5,
    "start_time": "2023-12-28T16:06:34.462Z"
   },
   {
    "duration": 147,
    "start_time": "2023-12-28T16:06:34.469Z"
   },
   {
    "duration": 7,
    "start_time": "2023-12-28T16:06:34.618Z"
   },
   {
    "duration": 127,
    "start_time": "2023-12-28T16:06:34.626Z"
   },
   {
    "duration": 7,
    "start_time": "2023-12-28T16:06:34.755Z"
   },
   {
    "duration": 9,
    "start_time": "2023-12-28T16:06:34.763Z"
   },
   {
    "duration": 9,
    "start_time": "2023-12-28T16:06:34.773Z"
   },
   {
    "duration": 29,
    "start_time": "2023-12-28T16:06:34.783Z"
   },
   {
    "duration": 13,
    "start_time": "2023-12-28T16:06:34.814Z"
   },
   {
    "duration": 14,
    "start_time": "2023-12-28T16:06:34.829Z"
   },
   {
    "duration": 12,
    "start_time": "2023-12-28T16:06:34.844Z"
   },
   {
    "duration": 264,
    "start_time": "2023-12-28T16:06:34.858Z"
   },
   {
    "duration": 194,
    "start_time": "2023-12-28T16:06:35.124Z"
   },
   {
    "duration": 333,
    "start_time": "2023-12-28T16:06:35.319Z"
   },
   {
    "duration": 4,
    "start_time": "2023-12-28T16:06:35.654Z"
   },
   {
    "duration": 5,
    "start_time": "2023-12-28T16:06:35.659Z"
   },
   {
    "duration": 9,
    "start_time": "2023-12-28T16:06:35.665Z"
   },
   {
    "duration": 193,
    "start_time": "2023-12-28T16:06:35.676Z"
   },
   {
    "duration": 7,
    "start_time": "2023-12-28T16:06:35.871Z"
   },
   {
    "duration": 322,
    "start_time": "2023-12-28T16:06:35.879Z"
   },
   {
    "duration": 7,
    "start_time": "2023-12-28T16:06:36.210Z"
   },
   {
    "duration": 148,
    "start_time": "2023-12-28T16:06:37.527Z"
   },
   {
    "duration": 4,
    "start_time": "2023-12-28T16:06:37.678Z"
   },
   {
    "duration": 294,
    "start_time": "2023-12-28T16:06:37.684Z"
   },
   {
    "duration": 5,
    "start_time": "2023-12-28T16:06:37.980Z"
   },
   {
    "duration": 109,
    "start_time": "2023-12-28T16:06:39.251Z"
   },
   {
    "duration": 70,
    "start_time": "2023-12-28T16:06:39.361Z"
   },
   {
    "duration": 13,
    "start_time": "2023-12-28T16:06:39.432Z"
   },
   {
    "duration": 8,
    "start_time": "2023-12-28T16:06:39.446Z"
   },
   {
    "duration": 18,
    "start_time": "2023-12-28T16:06:39.456Z"
   },
   {
    "duration": 9,
    "start_time": "2023-12-28T16:06:39.475Z"
   },
   {
    "duration": 48,
    "start_time": "2023-12-28T16:06:39.485Z"
   },
   {
    "duration": 14,
    "start_time": "2023-12-28T16:06:39.535Z"
   },
   {
    "duration": 9,
    "start_time": "2023-12-28T16:07:40.594Z"
   },
   {
    "duration": 7,
    "start_time": "2023-12-28T16:48:35.347Z"
   }
  ],
  "kernelspec": {
   "display_name": "Python 3 (ipykernel)",
   "language": "python",
   "name": "python3"
  },
  "language_info": {
   "codemirror_mode": {
    "name": "ipython",
    "version": 3
   },
   "file_extension": ".py",
   "mimetype": "text/x-python",
   "name": "python",
   "nbconvert_exporter": "python",
   "pygments_lexer": "ipython3",
   "version": "3.9.5"
  },
  "toc": {
   "base_numbering": 1,
   "nav_menu": {
    "height": "255.4px",
    "width": "333.4px"
   },
   "number_sections": true,
   "sideBar": true,
   "skip_h1_title": true,
   "title_cell": "Table of Contents",
   "title_sidebar": "Contents",
   "toc_cell": false,
   "toc_position": {},
   "toc_section_display": true,
   "toc_window_display": false
  }
 },
 "nbformat": 4,
 "nbformat_minor": 2
}
