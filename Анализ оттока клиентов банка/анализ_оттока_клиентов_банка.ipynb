{
 "cells": [
  {
   "cell_type": "markdown",
   "metadata": {},
   "source": [
    "# Анализ оттока клиентов банка\n",
    "\n",
    "В региональном банке «Метанпром», располагающемся в Ярославле и областных городах (Ростов Великий и Рыбинск), наблюдается отток клиентов. Маркетинговому отделу банка необходимо выяснить, какие сегменты клиентов склонны к оттоку, чтобы в дальнейшем адаптировать рекламные кампании и продуктовые предложения для удержания выделенных клиентов.\n",
    "\n",
    "\n",
    "**Задача:** проанализировать клиентов регионального банка и выделите сегменты клиентов, которые склонны уходить из банка.\n",
    "\n",
    "\n",
    "\n",
    "**Описание данных.**\n",
    "Датасет `bank_scrooge.csv` с данными о клиентах:\n",
    "- `USERID` — идентификатор пользователя;\n",
    "- `score` — баллы кредитного скоринга;\n",
    "- `city` — город;\n",
    "- `gender` — пол;\n",
    "- `age` — возраст;\n",
    "- `equity`  — количество баллов собственности;\n",
    "- `balance` — баланс на счёте;\n",
    "- `products` — количество продуктов, которыми пользуется клиент;\n",
    "- `credit_card` — есть ли кредитная карта;\n",
    "- `last_activity` — активный клиент;\n",
    "- `EST_SALARY` — заработная плата клиента;\n",
    "- `churn` — ушёл или нет.\n",
    "\n",
    "\n",
    "\n",
    "\n",
    "**План исследования:**\n",
    "\n",
    "1. Предобработка данных:\n",
    "    * загрузка данных и библиотек;\n",
    "    * общее знакомство с данными;\n",
    "    * исследование типов данных;\n",
    "    * исследование данных на пропуски;\n",
    "    * исследование данных на дубликаты;\n",
    "    * корректировка названий колонок;\n",
    "    * заполнение пропусков в случае необходимости.\n",
    "    \n",
    "    \n",
    "2. Исследовательский анализ данных:\n",
    "    * изучение значений переменных в столбцах, выявление аномалий;\n",
    "    * построение графиков, отражающих распределение ушедших и оставшихся клиентов по имеющимся в данных параметрам;\n",
    "    * выявление корреляции между оттоком и другими параметрами;\n",
    "    * определение сегментов клиентов, склонных к уходу, на основе выявленных в предыдущих пунктах особенностей.\n",
    "    \n",
    "    \n",
    "3. Проверка статистических гипотез:\n",
    "    * проверка гипотезы о различии дохода между ушедшими и оставшимися клиентами;\n",
    "    * проверка гипотезы о различии в возрасте между ушедшими и оставшимися клиентами;\n",
    "    * проверка гипотезы о различии в количестве используемых банковских продуктов между между ушедшими и оставшимися клиентами;\n",
    "    * проверка гипотезы о различии в активности между ушедшими и оставшимися клиентами.\n",
    "    \n",
    "    \n",
    "4. Выводы и рекомендации.\n"
   ]
  },
  {
   "cell_type": "markdown",
   "metadata": {},
   "source": [
    "## Предобработка данных."
   ]
  },
  {
   "cell_type": "code",
   "execution_count": 1,
   "metadata": {},
   "outputs": [
    {
     "name": "stdout",
     "output_type": "stream",
     "text": [
      "Requirement already satisfied: phik in /opt/conda/lib/python3.9/site-packages (0.12.4)\n",
      "Requirement already satisfied: scipy>=1.5.2 in /opt/conda/lib/python3.9/site-packages (from phik) (1.9.1)\n",
      "Requirement already satisfied: numpy>=1.18.0 in /opt/conda/lib/python3.9/site-packages (from phik) (1.21.1)\n",
      "Requirement already satisfied: pandas>=0.25.1 in /opt/conda/lib/python3.9/site-packages (from phik) (1.2.4)\n",
      "Requirement already satisfied: joblib>=0.14.1 in /opt/conda/lib/python3.9/site-packages (from phik) (1.1.0)\n",
      "Requirement already satisfied: matplotlib>=2.2.3 in /opt/conda/lib/python3.9/site-packages (from phik) (3.3.4)\n",
      "Requirement already satisfied: kiwisolver>=1.0.1 in /opt/conda/lib/python3.9/site-packages (from matplotlib>=2.2.3->phik) (1.4.4)\n",
      "Requirement already satisfied: python-dateutil>=2.1 in /opt/conda/lib/python3.9/site-packages (from matplotlib>=2.2.3->phik) (2.8.1)\n",
      "Requirement already satisfied: pillow>=6.2.0 in /opt/conda/lib/python3.9/site-packages (from matplotlib>=2.2.3->phik) (8.4.0)\n",
      "Requirement already satisfied: pyparsing!=2.0.4,!=2.1.2,!=2.1.6,>=2.0.3 in /opt/conda/lib/python3.9/site-packages (from matplotlib>=2.2.3->phik) (2.4.7)\n",
      "Requirement already satisfied: cycler>=0.10 in /opt/conda/lib/python3.9/site-packages (from matplotlib>=2.2.3->phik) (0.11.0)\n",
      "Requirement already satisfied: pytz>=2017.3 in /opt/conda/lib/python3.9/site-packages (from pandas>=0.25.1->phik) (2021.1)\n",
      "Requirement already satisfied: six>=1.5 in /opt/conda/lib/python3.9/site-packages (from python-dateutil>=2.1->matplotlib>=2.2.3->phik) (1.16.0)\n",
      "Note: you may need to restart the kernel to use updated packages.\n"
     ]
    }
   ],
   "source": [
    "pip install phik"
   ]
  },
  {
   "cell_type": "code",
   "execution_count": 2,
   "metadata": {},
   "outputs": [],
   "source": [
    "# Импортируем библиотеки.\n",
    "\n",
    "import pandas as pd\n",
    "import matplotlib.pyplot as plt\n",
    "import seaborn as sns\n",
    "from plotly.subplots import make_subplots\n",
    "import plotly.graph_objects as go\n",
    "import phik\n",
    "from phik.report import plot_correlation_matrix\n",
    "from phik import report\n",
    "from scipy import stats as st"
   ]
  },
  {
   "cell_type": "code",
   "execution_count": 3,
   "metadata": {},
   "outputs": [],
   "source": [
    "# Путь к файлу с данными.\n",
    "\n",
    "path = \"...\""
   ]
  },
  {
   "cell_type": "code",
   "execution_count": 4,
   "metadata": {},
   "outputs": [],
   "source": [
    "# Сохраняем файл в переменную.\n",
    "\n",
    "data = pd.read_csv(path)"
   ]
  },
  {
   "cell_type": "code",
   "execution_count": 5,
   "metadata": {},
   "outputs": [
    {
     "data": {
      "text/html": [
       "<div>\n",
       "<style scoped>\n",
       "    .dataframe tbody tr th:only-of-type {\n",
       "        vertical-align: middle;\n",
       "    }\n",
       "\n",
       "    .dataframe tbody tr th {\n",
       "        vertical-align: top;\n",
       "    }\n",
       "\n",
       "    .dataframe thead th {\n",
       "        text-align: right;\n",
       "    }\n",
       "</style>\n",
       "<table border=\"1\" class=\"dataframe\">\n",
       "  <thead>\n",
       "    <tr style=\"text-align: right;\">\n",
       "      <th></th>\n",
       "      <th>USERID</th>\n",
       "      <th>score</th>\n",
       "      <th>city</th>\n",
       "      <th>gender</th>\n",
       "      <th>age</th>\n",
       "      <th>equity</th>\n",
       "      <th>balance</th>\n",
       "      <th>products</th>\n",
       "      <th>credit_card</th>\n",
       "      <th>last_activity</th>\n",
       "      <th>EST_SALARY</th>\n",
       "      <th>churn</th>\n",
       "    </tr>\n",
       "  </thead>\n",
       "  <tbody>\n",
       "    <tr>\n",
       "      <th>0</th>\n",
       "      <td>183012</td>\n",
       "      <td>850.0</td>\n",
       "      <td>Рыбинск</td>\n",
       "      <td>Ж</td>\n",
       "      <td>25.0</td>\n",
       "      <td>1</td>\n",
       "      <td>59214.82</td>\n",
       "      <td>2</td>\n",
       "      <td>0</td>\n",
       "      <td>1</td>\n",
       "      <td>75719.14</td>\n",
       "      <td>1</td>\n",
       "    </tr>\n",
       "    <tr>\n",
       "      <th>1</th>\n",
       "      <td>146556</td>\n",
       "      <td>861.0</td>\n",
       "      <td>Рыбинск</td>\n",
       "      <td>Ж</td>\n",
       "      <td>37.0</td>\n",
       "      <td>5</td>\n",
       "      <td>850594.33</td>\n",
       "      <td>3</td>\n",
       "      <td>1</td>\n",
       "      <td>0</td>\n",
       "      <td>86621.77</td>\n",
       "      <td>0</td>\n",
       "    </tr>\n",
       "    <tr>\n",
       "      <th>2</th>\n",
       "      <td>120722</td>\n",
       "      <td>892.0</td>\n",
       "      <td>Рыбинск</td>\n",
       "      <td>Ж</td>\n",
       "      <td>30.0</td>\n",
       "      <td>0</td>\n",
       "      <td>NaN</td>\n",
       "      <td>1</td>\n",
       "      <td>1</td>\n",
       "      <td>1</td>\n",
       "      <td>107683.34</td>\n",
       "      <td>0</td>\n",
       "    </tr>\n",
       "    <tr>\n",
       "      <th>3</th>\n",
       "      <td>225363</td>\n",
       "      <td>866.0</td>\n",
       "      <td>Ярославль</td>\n",
       "      <td>Ж</td>\n",
       "      <td>51.0</td>\n",
       "      <td>5</td>\n",
       "      <td>1524746.26</td>\n",
       "      <td>2</td>\n",
       "      <td>0</td>\n",
       "      <td>1</td>\n",
       "      <td>174423.53</td>\n",
       "      <td>1</td>\n",
       "    </tr>\n",
       "    <tr>\n",
       "      <th>4</th>\n",
       "      <td>157978</td>\n",
       "      <td>730.0</td>\n",
       "      <td>Ярославль</td>\n",
       "      <td>М</td>\n",
       "      <td>34.0</td>\n",
       "      <td>5</td>\n",
       "      <td>174.00</td>\n",
       "      <td>1</td>\n",
       "      <td>1</td>\n",
       "      <td>0</td>\n",
       "      <td>67353.16</td>\n",
       "      <td>1</td>\n",
       "    </tr>\n",
       "    <tr>\n",
       "      <th>5</th>\n",
       "      <td>202305</td>\n",
       "      <td>856.0</td>\n",
       "      <td>Рыбинск</td>\n",
       "      <td>М</td>\n",
       "      <td>56.0</td>\n",
       "      <td>4</td>\n",
       "      <td>863687.24</td>\n",
       "      <td>3</td>\n",
       "      <td>1</td>\n",
       "      <td>0</td>\n",
       "      <td>156619.80</td>\n",
       "      <td>0</td>\n",
       "    </tr>\n",
       "    <tr>\n",
       "      <th>6</th>\n",
       "      <td>177259</td>\n",
       "      <td>807.0</td>\n",
       "      <td>Ярославль</td>\n",
       "      <td>Ж</td>\n",
       "      <td>39.0</td>\n",
       "      <td>3</td>\n",
       "      <td>405042.44</td>\n",
       "      <td>3</td>\n",
       "      <td>0</td>\n",
       "      <td>1</td>\n",
       "      <td>103838.32</td>\n",
       "      <td>0</td>\n",
       "    </tr>\n",
       "    <tr>\n",
       "      <th>7</th>\n",
       "      <td>218868</td>\n",
       "      <td>825.0</td>\n",
       "      <td>Ярославль</td>\n",
       "      <td>Ж</td>\n",
       "      <td>38.0</td>\n",
       "      <td>4</td>\n",
       "      <td>458145.40</td>\n",
       "      <td>2</td>\n",
       "      <td>1</td>\n",
       "      <td>1</td>\n",
       "      <td>68085.48</td>\n",
       "      <td>0</td>\n",
       "    </tr>\n",
       "    <tr>\n",
       "      <th>8</th>\n",
       "      <td>211686</td>\n",
       "      <td>923.0</td>\n",
       "      <td>Ярославль</td>\n",
       "      <td>М</td>\n",
       "      <td>54.0</td>\n",
       "      <td>5</td>\n",
       "      <td>1206337.87</td>\n",
       "      <td>2</td>\n",
       "      <td>1</td>\n",
       "      <td>0</td>\n",
       "      <td>155371.79</td>\n",
       "      <td>0</td>\n",
       "    </tr>\n",
       "    <tr>\n",
       "      <th>9</th>\n",
       "      <td>133130</td>\n",
       "      <td>906.0</td>\n",
       "      <td>Ярославль</td>\n",
       "      <td>Ж</td>\n",
       "      <td>67.0</td>\n",
       "      <td>0</td>\n",
       "      <td>NaN</td>\n",
       "      <td>1</td>\n",
       "      <td>0</td>\n",
       "      <td>1</td>\n",
       "      <td>238055.53</td>\n",
       "      <td>0</td>\n",
       "    </tr>\n",
       "  </tbody>\n",
       "</table>\n",
       "</div>"
      ],
      "text/plain": [
       "   USERID  score       city gender   age  equity     balance  products  \\\n",
       "0  183012  850.0    Рыбинск      Ж  25.0       1    59214.82         2   \n",
       "1  146556  861.0    Рыбинск      Ж  37.0       5   850594.33         3   \n",
       "2  120722  892.0    Рыбинск      Ж  30.0       0         NaN         1   \n",
       "3  225363  866.0  Ярославль      Ж  51.0       5  1524746.26         2   \n",
       "4  157978  730.0  Ярославль      М  34.0       5      174.00         1   \n",
       "5  202305  856.0    Рыбинск      М  56.0       4   863687.24         3   \n",
       "6  177259  807.0  Ярославль      Ж  39.0       3   405042.44         3   \n",
       "7  218868  825.0  Ярославль      Ж  38.0       4   458145.40         2   \n",
       "8  211686  923.0  Ярославль      М  54.0       5  1206337.87         2   \n",
       "9  133130  906.0  Ярославль      Ж  67.0       0         NaN         1   \n",
       "\n",
       "   credit_card  last_activity  EST_SALARY  churn  \n",
       "0            0              1    75719.14      1  \n",
       "1            1              0    86621.77      0  \n",
       "2            1              1   107683.34      0  \n",
       "3            0              1   174423.53      1  \n",
       "4            1              0    67353.16      1  \n",
       "5            1              0   156619.80      0  \n",
       "6            0              1   103838.32      0  \n",
       "7            1              1    68085.48      0  \n",
       "8            1              0   155371.79      0  \n",
       "9            0              1   238055.53      0  "
      ]
     },
     "execution_count": 5,
     "metadata": {},
     "output_type": "execute_result"
    }
   ],
   "source": [
    "# Выводим первые 10 строк.\n",
    "\n",
    "data.head(10)"
   ]
  },
  {
   "cell_type": "code",
   "execution_count": 6,
   "metadata": {},
   "outputs": [
    {
     "name": "stdout",
     "output_type": "stream",
     "text": [
      "<class 'pandas.core.frame.DataFrame'>\n",
      "RangeIndex: 10000 entries, 0 to 9999\n",
      "Data columns (total 12 columns):\n",
      " #   Column         Non-Null Count  Dtype  \n",
      "---  ------         --------------  -----  \n",
      " 0   USERID         10000 non-null  int64  \n",
      " 1   score          10000 non-null  float64\n",
      " 2   city           10000 non-null  object \n",
      " 3   gender         10000 non-null  object \n",
      " 4   age            9974 non-null   float64\n",
      " 5   equity         10000 non-null  int64  \n",
      " 6   balance        7705 non-null   float64\n",
      " 7   products       10000 non-null  int64  \n",
      " 8   credit_card    10000 non-null  int64  \n",
      " 9   last_activity  10000 non-null  int64  \n",
      " 10  EST_SALARY     10000 non-null  float64\n",
      " 11  churn          10000 non-null  int64  \n",
      "dtypes: float64(4), int64(6), object(2)\n",
      "memory usage: 937.6+ KB\n"
     ]
    }
   ],
   "source": [
    "# Выводим общую информацию о датасете.\n",
    "\n",
    "data.info()"
   ]
  },
  {
   "cell_type": "markdown",
   "metadata": {},
   "source": [
    "В имеющемся датасете представлено 10000 наблюдений и 12 параметров/колонок. Необходимости менять тип данных нет. Судя по первым строкам, колонка `score` имеет целочисленные значения , но представленна типом `float`. Так же значения в колонке `age` имеют тип `float`, хотя эта характеристика определяется целым числом. Между тем, для дальнейшего анализа это не проблематично.\n"
   ]
  },
  {
   "cell_type": "code",
   "execution_count": 7,
   "metadata": {},
   "outputs": [
    {
     "data": {
      "text/plain": [
       "USERID              0\n",
       "score               0\n",
       "city                0\n",
       "gender              0\n",
       "age                26\n",
       "equity              0\n",
       "balance          2295\n",
       "products            0\n",
       "credit_card         0\n",
       "last_activity       0\n",
       "EST_SALARY          0\n",
       "churn               0\n",
       "dtype: int64"
      ]
     },
     "execution_count": 7,
     "metadata": {},
     "output_type": "execute_result"
    }
   ],
   "source": [
    "# Определяем количество пропущенных значений в столбцах.\n",
    "\n",
    "data.isna().sum()"
   ]
  },
  {
   "cell_type": "code",
   "execution_count": 8,
   "metadata": {},
   "outputs": [
    {
     "name": "stdout",
     "output_type": "stream",
     "text": [
      "Доля пропусков в столбце balance: 22.95 %\n"
     ]
    }
   ],
   "source": [
    "# Определяем долю пропусков в столбце balance от общего количества наблюдений.\n",
    "\n",
    "balance_nan_share = round((data['balance'].isna().sum()/len(data))*100, 2)\n",
    "print('Доля пропусков в столбце balance:', balance_nan_share, '%')"
   ]
  },
  {
   "cell_type": "code",
   "execution_count": 9,
   "metadata": {},
   "outputs": [
    {
     "name": "stdout",
     "output_type": "stream",
     "text": [
      "Доля пропусков в столбце age: 0.26 %\n"
     ]
    }
   ],
   "source": [
    "# Определяем долю пропусков в столбце age от общего количества наблюдений.\n",
    "\n",
    "age_nan_share = round((data['age'].isna().sum()/len(data))*100, 2)\n",
    "print('Доля пропусков в столбце age:', age_nan_share, '%')"
   ]
  },
  {
   "cell_type": "markdown",
   "metadata": {},
   "source": [
    "Пропущенные значения имеются в 2 колонках: `age` - 26 пропусков, `balance` - 2295 пропусков. Предположительно, это может быть связано с техническими сбоями при сохранении, выгрузке или копировании данных. Доля пропусков в столбце `balance` составляет почти 23%. Удаление пропущенных значений в данном столбце приведёт к критической потере информации."
   ]
  },
  {
   "cell_type": "code",
   "execution_count": 10,
   "metadata": {},
   "outputs": [
    {
     "data": {
      "text/plain": [
       "0"
      ]
     },
     "execution_count": 10,
     "metadata": {},
     "output_type": "execute_result"
    }
   ],
   "source": [
    "# Проверяем данные на наличие дубликатов.\n",
    "\n",
    "data.duplicated().sum()"
   ]
  },
  {
   "cell_type": "code",
   "execution_count": 11,
   "metadata": {},
   "outputs": [],
   "source": [
    "# Названия столбцов приводим к нижнему регистру.\n",
    "# Добавим нижнее подчёркивание в название столбца userid.\n",
    "\n",
    "data.columns = data.columns.str.lower()\n",
    "data = data.rename(columns = {'userid':'user_id'})"
   ]
  },
  {
   "cell_type": "code",
   "execution_count": 12,
   "metadata": {},
   "outputs": [
    {
     "data": {
      "text/html": [
       "<div>\n",
       "<style scoped>\n",
       "    .dataframe tbody tr th:only-of-type {\n",
       "        vertical-align: middle;\n",
       "    }\n",
       "\n",
       "    .dataframe tbody tr th {\n",
       "        vertical-align: top;\n",
       "    }\n",
       "\n",
       "    .dataframe thead th {\n",
       "        text-align: right;\n",
       "    }\n",
       "</style>\n",
       "<table border=\"1\" class=\"dataframe\">\n",
       "  <thead>\n",
       "    <tr style=\"text-align: right;\">\n",
       "      <th></th>\n",
       "      <th>user_id</th>\n",
       "      <th>score</th>\n",
       "      <th>city</th>\n",
       "      <th>gender</th>\n",
       "      <th>age</th>\n",
       "      <th>equity</th>\n",
       "      <th>balance</th>\n",
       "      <th>products</th>\n",
       "      <th>credit_card</th>\n",
       "      <th>last_activity</th>\n",
       "      <th>est_salary</th>\n",
       "      <th>churn</th>\n",
       "    </tr>\n",
       "  </thead>\n",
       "  <tbody>\n",
       "    <tr>\n",
       "      <th>0</th>\n",
       "      <td>183012</td>\n",
       "      <td>850.0</td>\n",
       "      <td>Рыбинск</td>\n",
       "      <td>Ж</td>\n",
       "      <td>25.0</td>\n",
       "      <td>1</td>\n",
       "      <td>59214.82</td>\n",
       "      <td>2</td>\n",
       "      <td>0</td>\n",
       "      <td>1</td>\n",
       "      <td>75719.14</td>\n",
       "      <td>1</td>\n",
       "    </tr>\n",
       "    <tr>\n",
       "      <th>1</th>\n",
       "      <td>146556</td>\n",
       "      <td>861.0</td>\n",
       "      <td>Рыбинск</td>\n",
       "      <td>Ж</td>\n",
       "      <td>37.0</td>\n",
       "      <td>5</td>\n",
       "      <td>850594.33</td>\n",
       "      <td>3</td>\n",
       "      <td>1</td>\n",
       "      <td>0</td>\n",
       "      <td>86621.77</td>\n",
       "      <td>0</td>\n",
       "    </tr>\n",
       "    <tr>\n",
       "      <th>2</th>\n",
       "      <td>120722</td>\n",
       "      <td>892.0</td>\n",
       "      <td>Рыбинск</td>\n",
       "      <td>Ж</td>\n",
       "      <td>30.0</td>\n",
       "      <td>0</td>\n",
       "      <td>NaN</td>\n",
       "      <td>1</td>\n",
       "      <td>1</td>\n",
       "      <td>1</td>\n",
       "      <td>107683.34</td>\n",
       "      <td>0</td>\n",
       "    </tr>\n",
       "    <tr>\n",
       "      <th>3</th>\n",
       "      <td>225363</td>\n",
       "      <td>866.0</td>\n",
       "      <td>Ярославль</td>\n",
       "      <td>Ж</td>\n",
       "      <td>51.0</td>\n",
       "      <td>5</td>\n",
       "      <td>1524746.26</td>\n",
       "      <td>2</td>\n",
       "      <td>0</td>\n",
       "      <td>1</td>\n",
       "      <td>174423.53</td>\n",
       "      <td>1</td>\n",
       "    </tr>\n",
       "    <tr>\n",
       "      <th>4</th>\n",
       "      <td>157978</td>\n",
       "      <td>730.0</td>\n",
       "      <td>Ярославль</td>\n",
       "      <td>М</td>\n",
       "      <td>34.0</td>\n",
       "      <td>5</td>\n",
       "      <td>174.00</td>\n",
       "      <td>1</td>\n",
       "      <td>1</td>\n",
       "      <td>0</td>\n",
       "      <td>67353.16</td>\n",
       "      <td>1</td>\n",
       "    </tr>\n",
       "  </tbody>\n",
       "</table>\n",
       "</div>"
      ],
      "text/plain": [
       "   user_id  score       city gender   age  equity     balance  products  \\\n",
       "0   183012  850.0    Рыбинск      Ж  25.0       1    59214.82         2   \n",
       "1   146556  861.0    Рыбинск      Ж  37.0       5   850594.33         3   \n",
       "2   120722  892.0    Рыбинск      Ж  30.0       0         NaN         1   \n",
       "3   225363  866.0  Ярославль      Ж  51.0       5  1524746.26         2   \n",
       "4   157978  730.0  Ярославль      М  34.0       5      174.00         1   \n",
       "\n",
       "   credit_card  last_activity  est_salary  churn  \n",
       "0            0              1    75719.14      1  \n",
       "1            1              0    86621.77      0  \n",
       "2            1              1   107683.34      0  \n",
       "3            0              1   174423.53      1  \n",
       "4            1              0    67353.16      1  "
      ]
     },
     "execution_count": 12,
     "metadata": {},
     "output_type": "execute_result"
    }
   ],
   "source": [
    "# Проверим результат преобразований.\n",
    "\n",
    "data.head()"
   ]
  },
  {
   "cell_type": "markdown",
   "metadata": {},
   "source": [
    "### Выводы по разделу.\n",
    "\n",
    "При первичном знакомстве с данными были сделаны следующие наблюдения:\n",
    "* всего в датасете представлено 10000 наблюдений и 12 колонок, хранящих информацию о различных характеристиках клиентов банка;\n",
    "* пропущенные значения имеются в двух колонках `age`(26 пропусков) и `balance`(2295 пропусков). Их наличие может быть связано с техническими сбоями при сохранении, выгрузке или копировании данных. Пропуски были оставлены, чтобы не терять объём исследуемых данных;\n",
    "* дубликатов в датасете не наблюдается;\n",
    "* названия колонок приведены к единому стилю.\n"
   ]
  },
  {
   "cell_type": "markdown",
   "metadata": {},
   "source": [
    "## Исследовательский анализ данных."
   ]
  },
  {
   "cell_type": "markdown",
   "metadata": {},
   "source": [
    "### Изучение значений переменных."
   ]
  },
  {
   "cell_type": "code",
   "execution_count": 13,
   "metadata": {},
   "outputs": [
    {
     "data": {
      "text/plain": [
       "Ярославль    5888\n",
       "Рыбинск      2695\n",
       "Ростов       1417\n",
       "Name: city, dtype: int64"
      ]
     },
     "execution_count": 13,
     "metadata": {},
     "output_type": "execute_result"
    }
   ],
   "source": [
    "# Посмотрим на значения в столбце city.\n",
    "\n",
    "data['city'].value_counts()"
   ]
  },
  {
   "cell_type": "markdown",
   "metadata": {},
   "source": [
    "В датасете представлена информация о клиентах, проживающих в трёх города: Ярославле, Рыбинске и Ростове. Больше всего клиентов находится в Ярославле."
   ]
  },
  {
   "cell_type": "code",
   "execution_count": 14,
   "metadata": {},
   "outputs": [
    {
     "data": {
      "text/plain": [
       "М    5005\n",
       "Ж    4995\n",
       "Name: gender, dtype: int64"
      ]
     },
     "execution_count": 14,
     "metadata": {},
     "output_type": "execute_result"
    }
   ],
   "source": [
    "# Посмотрим на распределение мужчин и женщин в датасете.\n",
    "\n",
    "data['gender'].value_counts()"
   ]
  },
  {
   "cell_type": "markdown",
   "metadata": {},
   "source": [
    "Оба пола представлены в данных примерно в одинаковых пропорциях."
   ]
  },
  {
   "cell_type": "code",
   "execution_count": 15,
   "metadata": {},
   "outputs": [
    {
     "data": {
      "text/plain": [
       "1    6804\n",
       "0    3196\n",
       "Name: credit_card, dtype: int64"
      ]
     },
     "execution_count": 15,
     "metadata": {},
     "output_type": "execute_result"
    }
   ],
   "source": [
    "# Посмотрим, сколько клиентов имеют и не имеют кредитные карты.\n",
    "\n",
    "data['credit_card'].value_counts()"
   ]
  },
  {
   "cell_type": "markdown",
   "metadata": {},
   "source": [
    "Клиентов с кредитными картами примерно в два раза больше."
   ]
  },
  {
   "cell_type": "code",
   "execution_count": 16,
   "metadata": {},
   "outputs": [
    {
     "data": {
      "text/plain": [
       "0    2592\n",
       "5    1918\n",
       "4    1850\n",
       "3    1543\n",
       "2    1052\n",
       "1     774\n",
       "6     161\n",
       "7      80\n",
       "8      17\n",
       "9      13\n",
       "Name: equity, dtype: int64"
      ]
     },
     "execution_count": 16,
     "metadata": {},
     "output_type": "execute_result"
    }
   ],
   "source": [
    "# Посмотрим на рспределение оценок собственности.\n",
    "\n",
    "data['equity'].value_counts()"
   ]
  },
  {
   "cell_type": "markdown",
   "metadata": {},
   "source": [
    "Преобладают клиенты с оценкой недвижимости 0, т.е. её не имеющие."
   ]
  },
  {
   "cell_type": "code",
   "execution_count": 17,
   "metadata": {},
   "outputs": [
    {
     "data": {
      "text/plain": [
       "2    5126\n",
       "1    3341\n",
       "3    1039\n",
       "4     474\n",
       "5      19\n",
       "0       1\n",
       "Name: products, dtype: int64"
      ]
     },
     "execution_count": 17,
     "metadata": {},
     "output_type": "execute_result"
    }
   ],
   "source": [
    "# Посмотрим на количество используемых продуктов.\n",
    "\n",
    "data['products'].value_counts()"
   ]
  },
  {
   "cell_type": "markdown",
   "metadata": {},
   "source": [
    "Преобладают клиенты, использующие 2 продукта банка."
   ]
  },
  {
   "cell_type": "code",
   "execution_count": 18,
   "metadata": {},
   "outputs": [
    {
     "data": {
      "text/html": [
       "<div>\n",
       "<style scoped>\n",
       "    .dataframe tbody tr th:only-of-type {\n",
       "        vertical-align: middle;\n",
       "    }\n",
       "\n",
       "    .dataframe tbody tr th {\n",
       "        vertical-align: top;\n",
       "    }\n",
       "\n",
       "    .dataframe thead th {\n",
       "        text-align: right;\n",
       "    }\n",
       "</style>\n",
       "<table border=\"1\" class=\"dataframe\">\n",
       "  <thead>\n",
       "    <tr style=\"text-align: right;\">\n",
       "      <th></th>\n",
       "      <th>user_id</th>\n",
       "      <th>score</th>\n",
       "      <th>city</th>\n",
       "      <th>gender</th>\n",
       "      <th>age</th>\n",
       "      <th>equity</th>\n",
       "      <th>balance</th>\n",
       "      <th>products</th>\n",
       "      <th>credit_card</th>\n",
       "      <th>last_activity</th>\n",
       "      <th>est_salary</th>\n",
       "      <th>churn</th>\n",
       "    </tr>\n",
       "  </thead>\n",
       "  <tbody>\n",
       "    <tr>\n",
       "      <th>8957</th>\n",
       "      <td>147837</td>\n",
       "      <td>962.0</td>\n",
       "      <td>Рыбинск</td>\n",
       "      <td>Ж</td>\n",
       "      <td>79.0</td>\n",
       "      <td>3</td>\n",
       "      <td>NaN</td>\n",
       "      <td>0</td>\n",
       "      <td>0</td>\n",
       "      <td>0</td>\n",
       "      <td>25063.96</td>\n",
       "      <td>1</td>\n",
       "    </tr>\n",
       "  </tbody>\n",
       "</table>\n",
       "</div>"
      ],
      "text/plain": [
       "      user_id  score     city gender   age  equity  balance  products  \\\n",
       "8957   147837  962.0  Рыбинск      Ж  79.0       3      NaN         0   \n",
       "\n",
       "      credit_card  last_activity  est_salary  churn  \n",
       "8957            0              0    25063.96      1  "
      ]
     },
     "execution_count": 18,
     "metadata": {},
     "output_type": "execute_result"
    }
   ],
   "source": [
    "data.query('products == 0')"
   ]
  },
  {
   "cell_type": "markdown",
   "metadata": {},
   "source": [
    "В данных имеется один клиент, не имеющий ни одного банковского продукта - женщина 79 лет. Возможно, она обратилась в банк с целью получения кредита, но ей было отказано, соответственно, получение продукта не состоялось. Либо она передумала приобретать какие-либо банковские продукты, хотя информация уже попала в базу данных. Возможны и другие причины. Данные об этом клиенте можно удалить, на дальнейший анализ это не окажет влияния."
   ]
  },
  {
   "cell_type": "code",
   "execution_count": 19,
   "metadata": {},
   "outputs": [],
   "source": [
    "data = data.query('products > 0')"
   ]
  },
  {
   "cell_type": "code",
   "execution_count": 20,
   "metadata": {},
   "outputs": [
    {
     "name": "stdout",
     "output_type": "stream",
     "text": [
      "<class 'pandas.core.frame.DataFrame'>\n",
      "Int64Index: 9999 entries, 0 to 9999\n",
      "Data columns (total 12 columns):\n",
      " #   Column         Non-Null Count  Dtype  \n",
      "---  ------         --------------  -----  \n",
      " 0   user_id        9999 non-null   int64  \n",
      " 1   score          9999 non-null   float64\n",
      " 2   city           9999 non-null   object \n",
      " 3   gender         9999 non-null   object \n",
      " 4   age            9973 non-null   float64\n",
      " 5   equity         9999 non-null   int64  \n",
      " 6   balance        7705 non-null   float64\n",
      " 7   products       9999 non-null   int64  \n",
      " 8   credit_card    9999 non-null   int64  \n",
      " 9   last_activity  9999 non-null   int64  \n",
      " 10  est_salary     9999 non-null   float64\n",
      " 11  churn          9999 non-null   int64  \n",
      "dtypes: float64(4), int64(6), object(2)\n",
      "memory usage: 1015.5+ KB\n"
     ]
    }
   ],
   "source": [
    "data.info()"
   ]
  },
  {
   "cell_type": "code",
   "execution_count": 21,
   "metadata": {},
   "outputs": [
    {
     "data": {
      "text/plain": [
       "1    5235\n",
       "0    4764\n",
       "Name: last_activity, dtype: int64"
      ]
     },
     "execution_count": 21,
     "metadata": {},
     "output_type": "execute_result"
    }
   ],
   "source": [
    "# Исследуем данные об активности.\n",
    "data['last_activity'].value_counts()"
   ]
  },
  {
   "cell_type": "markdown",
   "metadata": {},
   "source": [
    "Количество активных клиентов несколько выше."
   ]
  },
  {
   "cell_type": "code",
   "execution_count": 22,
   "metadata": {},
   "outputs": [
    {
     "data": {
      "text/plain": [
       "0    8180\n",
       "1    1819\n",
       "Name: churn, dtype: int64"
      ]
     },
     "execution_count": 22,
     "metadata": {},
     "output_type": "execute_result"
    }
   ],
   "source": [
    "# Посмотрим, сколько клиентов осталось, а сколько ушло.\n",
    "\n",
    "data['churn'].value_counts()"
   ]
  },
  {
   "cell_type": "code",
   "execution_count": 23,
   "metadata": {},
   "outputs": [
    {
     "data": {
      "text/plain": [
       "18.2"
      ]
     },
     "execution_count": 23,
     "metadata": {},
     "output_type": "execute_result"
    }
   ],
   "source": [
    "# Посмотрим на процент оттока.\n",
    "\n",
    "round(data['churn'].value_counts()[1]/data.shape[0]*100,1)"
   ]
  },
  {
   "cell_type": "code",
   "execution_count": 24,
   "metadata": {},
   "outputs": [
    {
     "data": {
      "image/png": "[encoded data removed]",
      "text/plain": [
       "<Figure size 720x432 with 1 Axes>"
      ]
     },
     "metadata": {},
     "output_type": "display_data"
    }
   ],
   "source": [
    "# Визуализация оттока.\n",
    "\n",
    "pie, ax = plt.subplots(figsize=[10,6])\n",
    "labels = ['оставшиеся', 'ушедшие']\n",
    "colors = sns.color_palette('Paired')[0:2]\n",
    "plt.pie(data['churn'].value_counts(), labels = labels, colors = colors, autopct='%.1f%%')\n",
    "plt.title('Доля оставшихся и ушедших клиентов', fontsize=14);\n",
    "plt.show()"
   ]
  },
  {
   "cell_type": "markdown",
   "metadata": {},
   "source": [
    "Несмотря на то, что количество лояльных клиентов выше, доля оттока весьма внушительная - 18.2%"
   ]
  },
  {
   "cell_type": "code",
   "execution_count": 25,
   "metadata": {},
   "outputs": [
    {
     "data": {
      "text/html": [
       "<div>\n",
       "<style scoped>\n",
       "    .dataframe tbody tr th:only-of-type {\n",
       "        vertical-align: middle;\n",
       "    }\n",
       "\n",
       "    .dataframe tbody tr th {\n",
       "        vertical-align: top;\n",
       "    }\n",
       "\n",
       "    .dataframe thead th {\n",
       "        text-align: right;\n",
       "    }\n",
       "</style>\n",
       "<table border=\"1\" class=\"dataframe\">\n",
       "  <thead>\n",
       "    <tr style=\"text-align: right;\">\n",
       "      <th></th>\n",
       "      <th>score</th>\n",
       "      <th>age</th>\n",
       "      <th>equity</th>\n",
       "      <th>balance</th>\n",
       "      <th>products</th>\n",
       "      <th>credit_card</th>\n",
       "      <th>last_activity</th>\n",
       "      <th>est_salary</th>\n",
       "      <th>churn</th>\n",
       "    </tr>\n",
       "  </thead>\n",
       "  <tbody>\n",
       "    <tr>\n",
       "      <th>count</th>\n",
       "      <td>9999.000000</td>\n",
       "      <td>9973.000000</td>\n",
       "      <td>9999.000000</td>\n",
       "      <td>7.705000e+03</td>\n",
       "      <td>9999.000000</td>\n",
       "      <td>9999.000000</td>\n",
       "      <td>9999.000000</td>\n",
       "      <td>9.999000e+03</td>\n",
       "      <td>9999.000000</td>\n",
       "    </tr>\n",
       "    <tr>\n",
       "      <th>mean</th>\n",
       "      <td>848.688069</td>\n",
       "      <td>42.730773</td>\n",
       "      <td>2.627563</td>\n",
       "      <td>8.277943e+05</td>\n",
       "      <td>1.870287</td>\n",
       "      <td>0.680468</td>\n",
       "      <td>0.523552</td>\n",
       "      <td>1.478792e+05</td>\n",
       "      <td>0.181918</td>\n",
       "    </tr>\n",
       "    <tr>\n",
       "      <th>std</th>\n",
       "      <td>65.441981</td>\n",
       "      <td>12.175166</td>\n",
       "      <td>1.980931</td>\n",
       "      <td>1.980614e+06</td>\n",
       "      <td>0.792466</td>\n",
       "      <td>0.466319</td>\n",
       "      <td>0.499470</td>\n",
       "      <td>1.393901e+05</td>\n",
       "      <td>0.385796</td>\n",
       "    </tr>\n",
       "    <tr>\n",
       "      <th>min</th>\n",
       "      <td>642.000000</td>\n",
       "      <td>18.000000</td>\n",
       "      <td>0.000000</td>\n",
       "      <td>0.000000e+00</td>\n",
       "      <td>1.000000</td>\n",
       "      <td>0.000000</td>\n",
       "      <td>0.000000</td>\n",
       "      <td>2.546300e+03</td>\n",
       "      <td>0.000000</td>\n",
       "    </tr>\n",
       "    <tr>\n",
       "      <th>25%</th>\n",
       "      <td>802.000000</td>\n",
       "      <td>33.000000</td>\n",
       "      <td>0.000000</td>\n",
       "      <td>2.955542e+05</td>\n",
       "      <td>1.000000</td>\n",
       "      <td>0.000000</td>\n",
       "      <td>0.000000</td>\n",
       "      <td>7.525212e+04</td>\n",
       "      <td>0.000000</td>\n",
       "    </tr>\n",
       "    <tr>\n",
       "      <th>50%</th>\n",
       "      <td>853.000000</td>\n",
       "      <td>40.000000</td>\n",
       "      <td>3.000000</td>\n",
       "      <td>5.242722e+05</td>\n",
       "      <td>2.000000</td>\n",
       "      <td>1.000000</td>\n",
       "      <td>1.000000</td>\n",
       "      <td>1.196615e+05</td>\n",
       "      <td>0.000000</td>\n",
       "    </tr>\n",
       "    <tr>\n",
       "      <th>75%</th>\n",
       "      <td>900.000000</td>\n",
       "      <td>51.000000</td>\n",
       "      <td>4.000000</td>\n",
       "      <td>9.807058e+05</td>\n",
       "      <td>2.000000</td>\n",
       "      <td>1.000000</td>\n",
       "      <td>1.000000</td>\n",
       "      <td>1.745011e+05</td>\n",
       "      <td>0.000000</td>\n",
       "    </tr>\n",
       "    <tr>\n",
       "      <th>max</th>\n",
       "      <td>1000.000000</td>\n",
       "      <td>86.000000</td>\n",
       "      <td>9.000000</td>\n",
       "      <td>1.191136e+08</td>\n",
       "      <td>5.000000</td>\n",
       "      <td>1.000000</td>\n",
       "      <td>1.000000</td>\n",
       "      <td>1.395064e+06</td>\n",
       "      <td>1.000000</td>\n",
       "    </tr>\n",
       "  </tbody>\n",
       "</table>\n",
       "</div>"
      ],
      "text/plain": [
       "             score          age       equity       balance     products  \\\n",
       "count  9999.000000  9973.000000  9999.000000  7.705000e+03  9999.000000   \n",
       "mean    848.688069    42.730773     2.627563  8.277943e+05     1.870287   \n",
       "std      65.441981    12.175166     1.980931  1.980614e+06     0.792466   \n",
       "min     642.000000    18.000000     0.000000  0.000000e+00     1.000000   \n",
       "25%     802.000000    33.000000     0.000000  2.955542e+05     1.000000   \n",
       "50%     853.000000    40.000000     3.000000  5.242722e+05     2.000000   \n",
       "75%     900.000000    51.000000     4.000000  9.807058e+05     2.000000   \n",
       "max    1000.000000    86.000000     9.000000  1.191136e+08     5.000000   \n",
       "\n",
       "       credit_card  last_activity    est_salary        churn  \n",
       "count  9999.000000    9999.000000  9.999000e+03  9999.000000  \n",
       "mean      0.680468       0.523552  1.478792e+05     0.181918  \n",
       "std       0.466319       0.499470  1.393901e+05     0.385796  \n",
       "min       0.000000       0.000000  2.546300e+03     0.000000  \n",
       "25%       0.000000       0.000000  7.525212e+04     0.000000  \n",
       "50%       1.000000       1.000000  1.196615e+05     0.000000  \n",
       "75%       1.000000       1.000000  1.745011e+05     0.000000  \n",
       "max       1.000000       1.000000  1.395064e+06     1.000000  "
      ]
     },
     "execution_count": 25,
     "metadata": {},
     "output_type": "execute_result"
    }
   ],
   "source": [
    "# Изучим некоторые характеристики значений в числовых столбцах.\n",
    "\n",
    "data[['score', 'age', 'equity', 'balance', 'products', 'credit_card', 'last_activity', 'est_salary', 'churn']].describe()"
   ]
  },
  {
   "cell_type": "markdown",
   "metadata": {},
   "source": [
    "* В колонке `age` наблюдаются значения от 18 до 86, что вписывается в логические рамки, аномалий не наблюдается.\n",
    "* Параметры `churn`, `equity`, `products`, `credit_card`, `last_activity`, `score` - характеристики категориальные, выраженные числами.\n",
    "* Широкий разброс данных наблюдается в колонках `balance` и `est_salary`. Построим диаграммы размаха значений для детального изучения."
   ]
  },
  {
   "cell_type": "code",
   "execution_count": 59,
   "metadata": {
    "scrolled": true
   },
   "outputs": [
    {
     "data": {
      "image/png": "[encoded data removed]",
      "text/plain": [
       "<Figure size 1224x216 with 1 Axes>"
      ]
     },
     "metadata": {
      "needs_background": "light"
     },
     "output_type": "display_data"
    }
   ],
   "source": [
    "# Посмотрим на распределение значений в столбце 'balance'\n",
    "\n",
    "fig, ax = plt.subplots(figsize = (17,3))\n",
    "ax = data[['balance']].boxplot(vert = False, ax =ax)\n",
    "ax.set_title('Баланс: размах значений');"
   ]
  },
  {
   "cell_type": "code",
   "execution_count": 60,
   "metadata": {},
   "outputs": [
    {
     "data": {
      "image/png": "[encoded data removed]",
      "text/plain": [
       "<Figure size 1224x216 with 1 Axes>"
      ]
     },
     "metadata": {
      "needs_background": "light"
     },
     "output_type": "display_data"
    }
   ],
   "source": [
    "# Посмотрим на распределение значений в столбце 'est_salary'\n",
    "\n",
    "fig, ax = plt.subplots(figsize = (17,3))\n",
    "ax = data[['est_salary']].boxplot(vert = False, ax =ax)\n",
    "ax.set_title('Доход: размах значений');"
   ]
  },
  {
   "cell_type": "markdown",
   "metadata": {},
   "source": [
    "В столбце `balance` есть значения, которые заметно выше среднего показателя. Их значительно меньше основной массы, из-за этого график сильно смещён влево. В столбце баланс также имеются значения значительно выше среднего. В целом, наличие клиентов с высоким доходом и балансом не является аномалией, такие люди встречаются. Удалять подобных клиентов не будем."
   ]
  },
  {
   "cell_type": "markdown",
   "metadata": {},
   "source": [
    "### Распределение ушедших и оставшихся клиентов по параметрам."
   ]
  },
  {
   "cell_type": "code",
   "execution_count": 28,
   "metadata": {},
   "outputs": [
    {
     "data": {
      "image/png": "[encoded data removed]",
      "text/plain": [
       "<Figure size 1440x1800 with 10 Axes>"
      ]
     },
     "metadata": {
      "needs_background": "light"
     },
     "output_type": "display_data"
    }
   ],
   "source": [
    "# Построим на распределение отточных и оставшихся клиентов по параметрам.\n",
    "\n",
    "import warnings\n",
    "warnings.filterwarnings(\"ignore\")\n",
    "\n",
    "fig = plt.figure(figsize=(20, 25))\n",
    "plt.suptitle('Распределение ушедших и оставшихся клиентов по параметрам', fontsize=20, y=0.95)\n",
    "\n",
    "columns = ['age', 'score', 'city', 'gender', 'equity', 'balance', 'products', 'credit_card', 'last_activity', 'est_salary']\n",
    "labels = ['возраст', 'кредитный рейтинг', 'город', 'пол', 'количество баллов собственности', 'баланс', 'продукты', 'кредитная карта', ' активность', 'доход']\n",
    "for i, c in enumerate (columns):\n",
    "    ax = plt.subplot(5, 2, i+1)\n",
    "    graph = sns.histplot(data = data, hue = 'churn', x = c, stat = 'density', common_norm = False, palette = 'winter')\n",
    "    graph.set(xlabel =labels[i], ylabel = 'плотность')\n",
    "fig.show()\n"
   ]
  },
  {
   "cell_type": "code",
   "execution_count": 29,
   "metadata": {},
   "outputs": [
    {
     "data": {
      "image/png": "[encoded data removed]",
      "text/plain": [
       "<Figure size 1080x360 with 1 Axes>"
      ]
     },
     "metadata": {
      "needs_background": "light"
     },
     "output_type": "display_data"
    }
   ],
   "source": [
    "# Рассмотрим ближе график баланса.\n",
    "\n",
    "fig = plt.figure(figsize=(15, 5))\n",
    "ax = sns.histplot(data = data, hue = 'churn', x = 'balance', stat = 'density', common_norm = False, palette = 'winter')\n",
    "ax.set(xlabel ='баланс', ylabel = 'плотность')\n",
    "plt.xlim(0, 3000000);"
   ]
  },
  {
   "cell_type": "code",
   "execution_count": 30,
   "metadata": {},
   "outputs": [
    {
     "data": {
      "image/png": "[encoded data removed]",
      "text/plain": [
       "<Figure size 1080x360 with 1 Axes>"
      ]
     },
     "metadata": {
      "needs_background": "light"
     },
     "output_type": "display_data"
    }
   ],
   "source": [
    "# Рассмотрим ближе график дохода.\n",
    "\n",
    "fig = plt.figure(figsize=(15, 5))\n",
    "ax = sns.histplot(data = data, hue = 'churn', x = 'est_salary', stat = 'density', common_norm = False, palette = 'winter')\n",
    "ax.set(xlabel ='доход', ylabel = 'плотность')\n",
    "plt.xlim(0, 600000);"
   ]
  },
  {
   "cell_type": "markdown",
   "metadata": {},
   "source": [
    "На графиках распределения ушедших и оставшихся клиентов по имеющимся характеристикам наблюдаются нижеследующие тенденции.\n",
    "Чаще уходят клиенты:\n",
    "\n",
    "* в возрасте от 25 до 35 лет и от 50 до 60 лет;\n",
    "* с кредитным рейтингом от 830 до 900;\n",
    "* из Ярославля;\n",
    "* мужчины;\n",
    "* с балансом средств более 800000;\n",
    "* с количеством используемых продуктов от 2;\n",
    "* с количеством баллов собственности от 3;\n",
    "* не имеющие кредитной карты;\n",
    "* активные;\n",
    "* с доходом более 100000."
   ]
  },
  {
   "cell_type": "markdown",
   "metadata": {},
   "source": [
    "### Исследование корреляции между параметрами."
   ]
  },
  {
   "cell_type": "code",
   "execution_count": 31,
   "metadata": {},
   "outputs": [
    {
     "data": {
      "text/html": [
       "<div>\n",
       "<style scoped>\n",
       "    .dataframe tbody tr th:only-of-type {\n",
       "        vertical-align: middle;\n",
       "    }\n",
       "\n",
       "    .dataframe tbody tr th {\n",
       "        vertical-align: top;\n",
       "    }\n",
       "\n",
       "    .dataframe thead th {\n",
       "        text-align: right;\n",
       "    }\n",
       "</style>\n",
       "<table border=\"1\" class=\"dataframe\">\n",
       "  <thead>\n",
       "    <tr style=\"text-align: right;\">\n",
       "      <th></th>\n",
       "      <th>score</th>\n",
       "      <th>city</th>\n",
       "      <th>age</th>\n",
       "      <th>gender</th>\n",
       "      <th>equity</th>\n",
       "      <th>balance</th>\n",
       "      <th>products</th>\n",
       "      <th>credit_card</th>\n",
       "      <th>last_activity</th>\n",
       "      <th>est_salary</th>\n",
       "      <th>churn</th>\n",
       "    </tr>\n",
       "  </thead>\n",
       "  <tbody>\n",
       "    <tr>\n",
       "      <th>score</th>\n",
       "      <td>1.00</td>\n",
       "      <td>0.09</td>\n",
       "      <td>0.03</td>\n",
       "      <td>0.07</td>\n",
       "      <td>0.53</td>\n",
       "      <td>0.17</td>\n",
       "      <td>0.42</td>\n",
       "      <td>0.21</td>\n",
       "      <td>0.05</td>\n",
       "      <td>0.40</td>\n",
       "      <td>0.23</td>\n",
       "    </tr>\n",
       "    <tr>\n",
       "      <th>city</th>\n",
       "      <td>0.09</td>\n",
       "      <td>1.00</td>\n",
       "      <td>0.09</td>\n",
       "      <td>0.01</td>\n",
       "      <td>0.06</td>\n",
       "      <td>0.04</td>\n",
       "      <td>0.12</td>\n",
       "      <td>0.07</td>\n",
       "      <td>0.03</td>\n",
       "      <td>0.17</td>\n",
       "      <td>0.02</td>\n",
       "    </tr>\n",
       "    <tr>\n",
       "      <th>age</th>\n",
       "      <td>0.03</td>\n",
       "      <td>0.09</td>\n",
       "      <td>1.00</td>\n",
       "      <td>0.29</td>\n",
       "      <td>0.05</td>\n",
       "      <td>0.02</td>\n",
       "      <td>0.14</td>\n",
       "      <td>0.16</td>\n",
       "      <td>0.09</td>\n",
       "      <td>0.36</td>\n",
       "      <td>0.19</td>\n",
       "    </tr>\n",
       "    <tr>\n",
       "      <th>gender</th>\n",
       "      <td>0.07</td>\n",
       "      <td>0.01</td>\n",
       "      <td>0.29</td>\n",
       "      <td>1.00</td>\n",
       "      <td>0.06</td>\n",
       "      <td>0.05</td>\n",
       "      <td>0.07</td>\n",
       "      <td>0.20</td>\n",
       "      <td>0.01</td>\n",
       "      <td>0.14</td>\n",
       "      <td>0.22</td>\n",
       "    </tr>\n",
       "    <tr>\n",
       "      <th>equity</th>\n",
       "      <td>0.53</td>\n",
       "      <td>0.06</td>\n",
       "      <td>0.05</td>\n",
       "      <td>0.06</td>\n",
       "      <td>1.00</td>\n",
       "      <td>0.00</td>\n",
       "      <td>0.58</td>\n",
       "      <td>0.22</td>\n",
       "      <td>0.05</td>\n",
       "      <td>0.29</td>\n",
       "      <td>0.35</td>\n",
       "    </tr>\n",
       "    <tr>\n",
       "      <th>balance</th>\n",
       "      <td>0.17</td>\n",
       "      <td>0.04</td>\n",
       "      <td>0.02</td>\n",
       "      <td>0.05</td>\n",
       "      <td>0.00</td>\n",
       "      <td>1.00</td>\n",
       "      <td>0.00</td>\n",
       "      <td>0.00</td>\n",
       "      <td>0.00</td>\n",
       "      <td>0.37</td>\n",
       "      <td>0.02</td>\n",
       "    </tr>\n",
       "    <tr>\n",
       "      <th>products</th>\n",
       "      <td>0.42</td>\n",
       "      <td>0.12</td>\n",
       "      <td>0.14</td>\n",
       "      <td>0.07</td>\n",
       "      <td>0.58</td>\n",
       "      <td>0.00</td>\n",
       "      <td>1.00</td>\n",
       "      <td>0.27</td>\n",
       "      <td>0.11</td>\n",
       "      <td>0.22</td>\n",
       "      <td>0.26</td>\n",
       "    </tr>\n",
       "    <tr>\n",
       "      <th>credit_card</th>\n",
       "      <td>0.21</td>\n",
       "      <td>0.07</td>\n",
       "      <td>0.16</td>\n",
       "      <td>0.20</td>\n",
       "      <td>0.22</td>\n",
       "      <td>0.00</td>\n",
       "      <td>0.27</td>\n",
       "      <td>1.00</td>\n",
       "      <td>0.05</td>\n",
       "      <td>0.04</td>\n",
       "      <td>0.20</td>\n",
       "    </tr>\n",
       "    <tr>\n",
       "      <th>last_activity</th>\n",
       "      <td>0.05</td>\n",
       "      <td>0.03</td>\n",
       "      <td>0.09</td>\n",
       "      <td>0.01</td>\n",
       "      <td>0.05</td>\n",
       "      <td>0.00</td>\n",
       "      <td>0.11</td>\n",
       "      <td>0.05</td>\n",
       "      <td>1.00</td>\n",
       "      <td>0.05</td>\n",
       "      <td>0.26</td>\n",
       "    </tr>\n",
       "    <tr>\n",
       "      <th>est_salary</th>\n",
       "      <td>0.40</td>\n",
       "      <td>0.17</td>\n",
       "      <td>0.36</td>\n",
       "      <td>0.14</td>\n",
       "      <td>0.29</td>\n",
       "      <td>0.37</td>\n",
       "      <td>0.22</td>\n",
       "      <td>0.04</td>\n",
       "      <td>0.05</td>\n",
       "      <td>1.00</td>\n",
       "      <td>0.05</td>\n",
       "    </tr>\n",
       "    <tr>\n",
       "      <th>churn</th>\n",
       "      <td>0.23</td>\n",
       "      <td>0.02</td>\n",
       "      <td>0.19</td>\n",
       "      <td>0.22</td>\n",
       "      <td>0.35</td>\n",
       "      <td>0.02</td>\n",
       "      <td>0.26</td>\n",
       "      <td>0.20</td>\n",
       "      <td>0.26</td>\n",
       "      <td>0.05</td>\n",
       "      <td>1.00</td>\n",
       "    </tr>\n",
       "  </tbody>\n",
       "</table>\n",
       "</div>"
      ],
      "text/plain": [
       "               score  city   age  gender  equity  balance  products  \\\n",
       "score           1.00  0.09  0.03    0.07    0.53     0.17      0.42   \n",
       "city            0.09  1.00  0.09    0.01    0.06     0.04      0.12   \n",
       "age             0.03  0.09  1.00    0.29    0.05     0.02      0.14   \n",
       "gender          0.07  0.01  0.29    1.00    0.06     0.05      0.07   \n",
       "equity          0.53  0.06  0.05    0.06    1.00     0.00      0.58   \n",
       "balance         0.17  0.04  0.02    0.05    0.00     1.00      0.00   \n",
       "products        0.42  0.12  0.14    0.07    0.58     0.00      1.00   \n",
       "credit_card     0.21  0.07  0.16    0.20    0.22     0.00      0.27   \n",
       "last_activity   0.05  0.03  0.09    0.01    0.05     0.00      0.11   \n",
       "est_salary      0.40  0.17  0.36    0.14    0.29     0.37      0.22   \n",
       "churn           0.23  0.02  0.19    0.22    0.35     0.02      0.26   \n",
       "\n",
       "               credit_card  last_activity  est_salary  churn  \n",
       "score                 0.21           0.05        0.40   0.23  \n",
       "city                  0.07           0.03        0.17   0.02  \n",
       "age                   0.16           0.09        0.36   0.19  \n",
       "gender                0.20           0.01        0.14   0.22  \n",
       "equity                0.22           0.05        0.29   0.35  \n",
       "balance               0.00           0.00        0.37   0.02  \n",
       "products              0.27           0.11        0.22   0.26  \n",
       "credit_card           1.00           0.05        0.04   0.20  \n",
       "last_activity         0.05           1.00        0.05   0.26  \n",
       "est_salary            0.04           0.05        1.00   0.05  \n",
       "churn                 0.20           0.26        0.05   1.00  "
      ]
     },
     "execution_count": 31,
     "metadata": {},
     "output_type": "execute_result"
    }
   ],
   "source": [
    "# Строим корреляционную матрицу.\n",
    "\n",
    "interval_cols = ['score', 'age', 'equity','balance', 'products','est_salary']\n",
    "\n",
    "phik_overview = (data[['score', \n",
    "                     'city',\n",
    "                     'age',\n",
    "                     'gender',\n",
    "                     'equity', \n",
    "                     'balance', \n",
    "                     'products', \n",
    "                     'credit_card', \n",
    "                     'last_activity', \n",
    "                     'est_salary', \n",
    "                     'churn']]\n",
    "                 .phik_matrix(interval_cols=interval_cols)\n",
    "                )\n",
    "phik_overview.round(2)"
   ]
  },
  {
   "cell_type": "code",
   "execution_count": 32,
   "metadata": {},
   "outputs": [
    {
     "data": {
      "image/png": "[encoded data removed]",
      "text/plain": [
       "<Figure size 720x576 with 2 Axes>"
      ]
     },
     "metadata": {
      "needs_background": "light"
     },
     "output_type": "display_data"
    }
   ],
   "source": [
    "# Строим тепловую карту на основе корреляционной матрицы.\n",
    "\n",
    "plot_correlation_matrix(phik_overview.values, \n",
    "                        x_labels=phik_overview.columns, \n",
    "                        y_labels=phik_overview.index, \n",
    "                        vmin=0, vmax=1, color_map=\"Blues\", \n",
    "                        title=r\"Матрица корреляции параметров\", \n",
    "                        fontsize_factor=1.5, \n",
    "                        figsize=(10, 8))\n",
    "plt.tight_layout()"
   ]
  },
  {
   "cell_type": "code",
   "execution_count": 33,
   "metadata": {},
   "outputs": [
    {
     "data": {
      "image/png": "[encoded data removed]",
      "text/plain": [
       "<Figure size 432x288 with 2 Axes>"
      ]
     },
     "metadata": {
      "needs_background": "light"
     },
     "output_type": "display_data"
    }
   ],
   "source": [
    "# Выделим оттдельно информацию о коррелиции оттока с другими параметрами.\n",
    "\n",
    "sns.heatmap(\n",
    "    phik_overview.loc[:,['churn']].drop('churn').sort_values('churn'),\n",
    "    annot=True, \n",
    "    fmt = '.0%', \n",
    "    cmap='Blues', \n",
    "    center=0\n",
    ");"
   ]
  },
  {
   "cell_type": "markdown",
   "metadata": {},
   "source": [
    "На карте видно, что наиболее сильная корреляция оттока наблюдается с параметрами `equity`(35%), `products` (26%), `last_activity` (26%), `score`(23%). "
   ]
  },
  {
   "cell_type": "code",
   "execution_count": 34,
   "metadata": {},
   "outputs": [
    {
     "data": {
      "image/png": "[encoded data removed]",
      "text/plain": [
       "<Figure size 1008x720 with 2 Axes>"
      ]
     },
     "metadata": {
      "needs_background": "light"
     },
     "output_type": "display_data"
    }
   ],
   "source": [
    "# Посмотрим на значимость коэффициентов.\n",
    "\n",
    "significance_overview = (data[['score', \n",
    "                     'city',\n",
    "                     'age',\n",
    "                     'gender',\n",
    "                     'equity', \n",
    "                     'balance', \n",
    "                     'products', \n",
    "                     'credit_card', \n",
    "                     'last_activity', \n",
    "                     'est_salary', \n",
    "                     'churn']]\n",
    "                         .significance_matrix(interval_cols=interval_cols)\n",
    "                        )\n",
    "plot_correlation_matrix(significance_overview.fillna(0).values, \n",
    "                        x_labels=significance_overview.columns, \n",
    "                        y_labels=significance_overview.index, \n",
    "                        vmin=-5, vmax=5, color_map=\"Blues\", title=\"Значимость коэффициентов\", \n",
    "                        usetex=False, fontsize_factor=1.5, figsize=(14, 10))\n",
    "plt.tight_layout()"
   ]
  },
  {
   "cell_type": "code",
   "execution_count": 35,
   "metadata": {},
   "outputs": [
    {
     "data": {
      "image/png": "[encoded data removed]",
      "text/plain": [
       "<Figure size 432x288 with 2 Axes>"
      ]
     },
     "metadata": {
      "needs_background": "light"
     },
     "output_type": "display_data"
    }
   ],
   "source": [
    "# Выделим оттдельно информацию о значимости коэффициентов корреляции для оттока.\n",
    "\n",
    "sns.heatmap(significance_overview.loc[:,['churn']].drop('churn').sort_values('churn'),\n",
    "            annot=True, cmap='Blues', center=0);"
   ]
  },
  {
   "cell_type": "markdown",
   "metadata": {},
   "source": [
    "По значимости коэффициенты корреляции выстроены практически в том же порядке, при этом наиболее значимыми являются  - `products`, `equity`, `score`, `last_activity`. Преположительно, именно эти параметры будут чаще всего встречаться далее при выделении сегментов клиентов, склонных к оттоку."
   ]
  },
  {
   "cell_type": "markdown",
   "metadata": {},
   "source": [
    "### Формирование сегментов склонных к оттоку."
   ]
  },
  {
   "cell_type": "markdown",
   "metadata": {},
   "source": [
    "#### Формирование сегментов, склонных к оттоку, по 2 параметрам.\n",
    "\n",
    "\n",
    "Для определения сегментов клиентов, склонных к оттоку создадим функцию, которая будет попарно группировать характеристики наиболее отточных клиентов, выделенные ранне(т.е., например, возраст более 25 и менее 35 + доход более 100000, возраст более 25 и менее 35 + кредитный рейтинг от 830 до 900, и т.д.). Отдельно создадим список выделенных параметров, по которым будет проходить функция. Это позволит при необходимости в дальнейшем добавить другие характеристики, а также, в нашем случае, два раза вывести функцию для двух разных возрастных диапазонов, склонных к уходу. Если доля оттока будет составлять более 30% и размер группы будет в диапазоне от 500 до 2000 человек, функция выведет характеристики данной группы, размер и долю оттока, которую она составляет."
   ]
  },
  {
   "cell_type": "code",
   "execution_count": 36,
   "metadata": {},
   "outputs": [],
   "source": [
    "# Создадим параметры, по которым будет проходить функция.\n",
    "# Сначала возьмём возрастной диапазон от 50 до 60 лет.\n",
    "\n",
    "parameters = ['products > 1',\n",
    "              'equity > 2', \n",
    "              'balance > 800000', \n",
    "              '830 < score < 900', \n",
    "              'last_activity == 1', \n",
    "              'gender == \"М\"', \n",
    "              '50 < age < 60', \n",
    "              'credit_card == 0', \n",
    "              'est_salary > 100000', \n",
    "              'city == \"Ярославль\"']"
   ]
  },
  {
   "cell_type": "code",
   "execution_count": 37,
   "metadata": {},
   "outputs": [],
   "source": [
    "def segments(parameters):\n",
    "    \n",
    "    dataframe = {'сегмент':[], 'размер':[], 'отток_%':[]}\n",
    "    clients_segments = pd.DataFrame(dataframe)\n",
    "    \n",
    "    for i in range (len(parameters)):\n",
    "        for j in range(i+1, len(parameters)):\n",
    "            if round(\n",
    "                (data.query(parameters[i] +' and ' + parameters[j])['churn'].value_counts()[1]\n",
    "                 /data.query(parameters[i] +' and ' + parameters[j]).shape[0])*100,2\n",
    "            )>30 and 500 <= data.query(parameters[i] +' and ' + parameters[j]).shape[0] <=2000:\n",
    "                new_row = {'сегмент': parameters[i] +' and ' + parameters[j],\n",
    "                           'размер': data.query(parameters[i] +' and ' + parameters[j]).shape[0],\n",
    "                           'отток_%': round((data.query(parameters[i] +' and ' + parameters[j])['churn'].value_counts()[1]\n",
    "                                           /data.query(parameters[i] +' and ' + parameters[j]).shape[0])*100,2)}\n",
    "                clients_segments = clients_segments.append(new_row, ignore_index=True)\n",
    "            else:\n",
    "                pass\n",
    "    display(clients_segments.sort_values('отток_%', ascending=False).reset_index(drop=True))"
   ]
  },
  {
   "cell_type": "code",
   "execution_count": 38,
   "metadata": {},
   "outputs": [
    {
     "data": {
      "text/html": [
       "<div>\n",
       "<style scoped>\n",
       "    .dataframe tbody tr th:only-of-type {\n",
       "        vertical-align: middle;\n",
       "    }\n",
       "\n",
       "    .dataframe tbody tr th {\n",
       "        vertical-align: top;\n",
       "    }\n",
       "\n",
       "    .dataframe thead th {\n",
       "        text-align: right;\n",
       "    }\n",
       "</style>\n",
       "<table border=\"1\" class=\"dataframe\">\n",
       "  <thead>\n",
       "    <tr style=\"text-align: right;\">\n",
       "      <th></th>\n",
       "      <th>сегмент</th>\n",
       "      <th>размер</th>\n",
       "      <th>отток_%</th>\n",
       "    </tr>\n",
       "  </thead>\n",
       "  <tbody>\n",
       "    <tr>\n",
       "      <th>0</th>\n",
       "      <td>balance &gt; 800000 and last_activity == 1</td>\n",
       "      <td>1321.0</td>\n",
       "      <td>48.68</td>\n",
       "    </tr>\n",
       "    <tr>\n",
       "      <th>1</th>\n",
       "      <td>balance &gt; 800000 and gender == \"М\"</td>\n",
       "      <td>1285.0</td>\n",
       "      <td>45.68</td>\n",
       "    </tr>\n",
       "    <tr>\n",
       "      <th>2</th>\n",
       "      <td>balance &gt; 800000 and credit_card == 0</td>\n",
       "      <td>1132.0</td>\n",
       "      <td>42.23</td>\n",
       "    </tr>\n",
       "    <tr>\n",
       "      <th>3</th>\n",
       "      <td>balance &gt; 800000 and 830 &lt; score &lt; 900</td>\n",
       "      <td>1015.0</td>\n",
       "      <td>40.79</td>\n",
       "    </tr>\n",
       "    <tr>\n",
       "      <th>4</th>\n",
       "      <td>balance &gt; 800000 and est_salary &gt; 100000</td>\n",
       "      <td>1780.0</td>\n",
       "      <td>40.73</td>\n",
       "    </tr>\n",
       "    <tr>\n",
       "      <th>5</th>\n",
       "      <td>830 &lt; score &lt; 900 and last_activity == 1</td>\n",
       "      <td>1795.0</td>\n",
       "      <td>39.00</td>\n",
       "    </tr>\n",
       "    <tr>\n",
       "      <th>6</th>\n",
       "      <td>balance &gt; 800000 and city == \"Ярославль\"</td>\n",
       "      <td>1522.0</td>\n",
       "      <td>38.83</td>\n",
       "    </tr>\n",
       "    <tr>\n",
       "      <th>7</th>\n",
       "      <td>830 &lt; score &lt; 900 and 50 &lt; age &lt; 60</td>\n",
       "      <td>507.0</td>\n",
       "      <td>37.87</td>\n",
       "    </tr>\n",
       "    <tr>\n",
       "      <th>8</th>\n",
       "      <td>equity &gt; 2 and 50 &lt; age &lt; 60</td>\n",
       "      <td>819.0</td>\n",
       "      <td>37.85</td>\n",
       "    </tr>\n",
       "    <tr>\n",
       "      <th>9</th>\n",
       "      <td>50 &lt; age &lt; 60 and credit_card == 0</td>\n",
       "      <td>570.0</td>\n",
       "      <td>37.19</td>\n",
       "    </tr>\n",
       "    <tr>\n",
       "      <th>10</th>\n",
       "      <td>products &gt; 1 and 50 &lt; age &lt; 60</td>\n",
       "      <td>1001.0</td>\n",
       "      <td>35.16</td>\n",
       "    </tr>\n",
       "    <tr>\n",
       "      <th>11</th>\n",
       "      <td>gender == \"М\" and credit_card == 0</td>\n",
       "      <td>1305.0</td>\n",
       "      <td>35.02</td>\n",
       "    </tr>\n",
       "    <tr>\n",
       "      <th>12</th>\n",
       "      <td>last_activity == 1 and credit_card == 0</td>\n",
       "      <td>1751.0</td>\n",
       "      <td>35.01</td>\n",
       "    </tr>\n",
       "    <tr>\n",
       "      <th>13</th>\n",
       "      <td>gender == \"М\" and 50 &lt; age &lt; 60</td>\n",
       "      <td>620.0</td>\n",
       "      <td>35.00</td>\n",
       "    </tr>\n",
       "    <tr>\n",
       "      <th>14</th>\n",
       "      <td>last_activity == 1 and 50 &lt; age &lt; 60</td>\n",
       "      <td>727.0</td>\n",
       "      <td>34.66</td>\n",
       "    </tr>\n",
       "    <tr>\n",
       "      <th>15</th>\n",
       "      <td>830 &lt; score &lt; 900 and credit_card == 0</td>\n",
       "      <td>1354.0</td>\n",
       "      <td>32.94</td>\n",
       "    </tr>\n",
       "    <tr>\n",
       "      <th>16</th>\n",
       "      <td>830 &lt; score &lt; 900 and gender == \"М\"</td>\n",
       "      <td>1729.0</td>\n",
       "      <td>32.10</td>\n",
       "    </tr>\n",
       "  </tbody>\n",
       "</table>\n",
       "</div>"
      ],
      "text/plain": [
       "                                     сегмент  размер  отток_%\n",
       "0    balance > 800000 and last_activity == 1  1321.0    48.68\n",
       "1         balance > 800000 and gender == \"М\"  1285.0    45.68\n",
       "2      balance > 800000 and credit_card == 0  1132.0    42.23\n",
       "3     balance > 800000 and 830 < score < 900  1015.0    40.79\n",
       "4   balance > 800000 and est_salary > 100000  1780.0    40.73\n",
       "5   830 < score < 900 and last_activity == 1  1795.0    39.00\n",
       "6   balance > 800000 and city == \"Ярославль\"  1522.0    38.83\n",
       "7        830 < score < 900 and 50 < age < 60   507.0    37.87\n",
       "8               equity > 2 and 50 < age < 60   819.0    37.85\n",
       "9         50 < age < 60 and credit_card == 0   570.0    37.19\n",
       "10            products > 1 and 50 < age < 60  1001.0    35.16\n",
       "11        gender == \"М\" and credit_card == 0  1305.0    35.02\n",
       "12   last_activity == 1 and credit_card == 0  1751.0    35.01\n",
       "13           gender == \"М\" and 50 < age < 60   620.0    35.00\n",
       "14      last_activity == 1 and 50 < age < 60   727.0    34.66\n",
       "15    830 < score < 900 and credit_card == 0  1354.0    32.94\n",
       "16       830 < score < 900 and gender == \"М\"  1729.0    32.10"
      ]
     },
     "metadata": {},
     "output_type": "display_data"
    }
   ],
   "source": [
    "segments(parameters)"
   ]
  },
  {
   "cell_type": "markdown",
   "metadata": {},
   "source": [
    "При группировке по двум характеристикам мы получаем довольно много сегментов. Наиболее существенные из них:\n",
    "\n",
    "* активные клиенты с балансом более 800000 (размер: 1321, отток: 48.68%);\n",
    "* мужчины с балансом более 800000 (размер: 1285, отток: 45.68%);\n",
    "* клиенты без кредитной карты и балансом более 800000 (размер: 1132, отток: 42.23%);\n",
    "* клиенты с кредитным рейтингом от 830 до 900 и балансом более 800000 (размер: 1015, отток: 40.79%);\n",
    "* клиенты с доходом более 100000 и балансом более 800000 (размер: 1780, отток: 40.73%).\n",
    "\n",
    "Некоторые сегменты включают возрастной параметр. Например:\n",
    "* клиенты в возрасте от 50 до 60 лет и кредитным рейтингом от 830 до 900 (размер: 507, отток: 37.87%);\n",
    "* мужчины в возрасте от 50 до 60 лет (размер: 620, отток: 35%);\n",
    "* клиенты в возрасте от 50 до 60 лет с количеством продуктов от 2(размер: 1001, отток: 35.16%).\n",
    "\n"
   ]
  },
  {
   "cell_type": "code",
   "execution_count": 41,
   "metadata": {},
   "outputs": [],
   "source": [
    "# Подставим другой возрастной диапазон, 25<age<35,\n",
    "# и посмотрим, появятся ли новые сегменты, включающие этот параметр.\n",
    "\n",
    "parameters = ['products > 1',\n",
    "              'equity > 2', \n",
    "              'balance > 800000', \n",
    "              '830 < score < 900', \n",
    "              'last_activity == 1', \n",
    "              'gender == \"М\"', \n",
    "              '25 < age < 35', \n",
    "              'credit_card == 0', \n",
    "              'est_salary > 100000', \n",
    "              'city == \"Ярославль\"']"
   ]
  },
  {
   "cell_type": "code",
   "execution_count": 42,
   "metadata": {},
   "outputs": [
    {
     "data": {
      "text/html": [
       "<div>\n",
       "<style scoped>\n",
       "    .dataframe tbody tr th:only-of-type {\n",
       "        vertical-align: middle;\n",
       "    }\n",
       "\n",
       "    .dataframe tbody tr th {\n",
       "        vertical-align: top;\n",
       "    }\n",
       "\n",
       "    .dataframe thead th {\n",
       "        text-align: right;\n",
       "    }\n",
       "</style>\n",
       "<table border=\"1\" class=\"dataframe\">\n",
       "  <thead>\n",
       "    <tr style=\"text-align: right;\">\n",
       "      <th></th>\n",
       "      <th>сегмент</th>\n",
       "      <th>размер</th>\n",
       "      <th>отток_%</th>\n",
       "    </tr>\n",
       "  </thead>\n",
       "  <tbody>\n",
       "    <tr>\n",
       "      <th>0</th>\n",
       "      <td>balance &gt; 800000 and last_activity == 1</td>\n",
       "      <td>1321.0</td>\n",
       "      <td>48.68</td>\n",
       "    </tr>\n",
       "    <tr>\n",
       "      <th>1</th>\n",
       "      <td>balance &gt; 800000 and gender == \"М\"</td>\n",
       "      <td>1285.0</td>\n",
       "      <td>45.68</td>\n",
       "    </tr>\n",
       "    <tr>\n",
       "      <th>2</th>\n",
       "      <td>balance &gt; 800000 and credit_card == 0</td>\n",
       "      <td>1132.0</td>\n",
       "      <td>42.23</td>\n",
       "    </tr>\n",
       "    <tr>\n",
       "      <th>3</th>\n",
       "      <td>balance &gt; 800000 and 830 &lt; score &lt; 900</td>\n",
       "      <td>1015.0</td>\n",
       "      <td>40.79</td>\n",
       "    </tr>\n",
       "    <tr>\n",
       "      <th>4</th>\n",
       "      <td>balance &gt; 800000 and est_salary &gt; 100000</td>\n",
       "      <td>1780.0</td>\n",
       "      <td>40.73</td>\n",
       "    </tr>\n",
       "    <tr>\n",
       "      <th>5</th>\n",
       "      <td>830 &lt; score &lt; 900 and last_activity == 1</td>\n",
       "      <td>1795.0</td>\n",
       "      <td>39.00</td>\n",
       "    </tr>\n",
       "    <tr>\n",
       "      <th>6</th>\n",
       "      <td>balance &gt; 800000 and city == \"Ярославль\"</td>\n",
       "      <td>1522.0</td>\n",
       "      <td>38.83</td>\n",
       "    </tr>\n",
       "    <tr>\n",
       "      <th>7</th>\n",
       "      <td>25 &lt; age &lt; 35 and credit_card == 0</td>\n",
       "      <td>684.0</td>\n",
       "      <td>36.26</td>\n",
       "    </tr>\n",
       "    <tr>\n",
       "      <th>8</th>\n",
       "      <td>gender == \"М\" and credit_card == 0</td>\n",
       "      <td>1305.0</td>\n",
       "      <td>35.02</td>\n",
       "    </tr>\n",
       "    <tr>\n",
       "      <th>9</th>\n",
       "      <td>last_activity == 1 and credit_card == 0</td>\n",
       "      <td>1751.0</td>\n",
       "      <td>35.01</td>\n",
       "    </tr>\n",
       "    <tr>\n",
       "      <th>10</th>\n",
       "      <td>equity &gt; 2 and 25 &lt; age &lt; 35</td>\n",
       "      <td>1426.0</td>\n",
       "      <td>33.24</td>\n",
       "    </tr>\n",
       "    <tr>\n",
       "      <th>11</th>\n",
       "      <td>830 &lt; score &lt; 900 and credit_card == 0</td>\n",
       "      <td>1354.0</td>\n",
       "      <td>32.94</td>\n",
       "    </tr>\n",
       "    <tr>\n",
       "      <th>12</th>\n",
       "      <td>last_activity == 1 and 25 &lt; age &lt; 35</td>\n",
       "      <td>1388.0</td>\n",
       "      <td>32.20</td>\n",
       "    </tr>\n",
       "    <tr>\n",
       "      <th>13</th>\n",
       "      <td>830 &lt; score &lt; 900 and gender == \"М\"</td>\n",
       "      <td>1729.0</td>\n",
       "      <td>32.10</td>\n",
       "    </tr>\n",
       "    <tr>\n",
       "      <th>14</th>\n",
       "      <td>830 &lt; score &lt; 900 and 25 &lt; age &lt; 35</td>\n",
       "      <td>935.0</td>\n",
       "      <td>31.02</td>\n",
       "    </tr>\n",
       "  </tbody>\n",
       "</table>\n",
       "</div>"
      ],
      "text/plain": [
       "                                     сегмент  размер  отток_%\n",
       "0    balance > 800000 and last_activity == 1  1321.0    48.68\n",
       "1         balance > 800000 and gender == \"М\"  1285.0    45.68\n",
       "2      balance > 800000 and credit_card == 0  1132.0    42.23\n",
       "3     balance > 800000 and 830 < score < 900  1015.0    40.79\n",
       "4   balance > 800000 and est_salary > 100000  1780.0    40.73\n",
       "5   830 < score < 900 and last_activity == 1  1795.0    39.00\n",
       "6   balance > 800000 and city == \"Ярославль\"  1522.0    38.83\n",
       "7         25 < age < 35 and credit_card == 0   684.0    36.26\n",
       "8         gender == \"М\" and credit_card == 0  1305.0    35.02\n",
       "9    last_activity == 1 and credit_card == 0  1751.0    35.01\n",
       "10              equity > 2 and 25 < age < 35  1426.0    33.24\n",
       "11    830 < score < 900 and credit_card == 0  1354.0    32.94\n",
       "12      last_activity == 1 and 25 < age < 35  1388.0    32.20\n",
       "13       830 < score < 900 and gender == \"М\"  1729.0    32.10\n",
       "14       830 < score < 900 and 25 < age < 35   935.0    31.02"
      ]
     },
     "metadata": {},
     "output_type": "display_data"
    }
   ],
   "source": [
    "segments(parameters)"
   ]
  },
  {
   "cell_type": "markdown",
   "metadata": {},
   "source": [
    "При группировке с параметром \"возраст от 25 до 35\" топ-7 сегментов с самой высокой долей оттока осталась той же, однако таблица также пополнилась новыми сегментами, включающими новый параметр. Например:\n",
    "* клиенты в возрасте от 25 до 35 лет без кредитной карты (размер: 684, отток: 36.26%);\n",
    "* клиенты в возрасте от 25 до 35 лет с количеством баллов собственности от 3 (размер: 1426, отток: 33.24%);\n",
    "* активные клиенты в возрасте от 25 до 35 лет (размер: 1388, отток: 32.20%);\n",
    "* клиенты в возрасте от 25 до 35 лет с кредитным рейтингм от 830 до 900 (размер: 935, отток: 31.02%)."
   ]
  },
  {
   "cell_type": "markdown",
   "metadata": {},
   "source": [
    "#### Формирование сегментов, склонных к оттоку, по 3 параметрам."
   ]
  },
  {
   "cell_type": "code",
   "execution_count": 43,
   "metadata": {},
   "outputs": [],
   "source": [
    "# Создадим параметры, по которым будет проходить функция.\n",
    "# Сначала возьмём возрастной диапазон от 50 до 60 лет.\n",
    "\n",
    "parameters = ['products > 1',\n",
    "              'equity > 2', \n",
    "              'balance > 800000', \n",
    "              '830 < score < 900', \n",
    "              'last_activity == 1', \n",
    "              'gender == \"М\"', \n",
    "              '50 < age < 60', \n",
    "              'credit_card == 0', \n",
    "              'est_salary > 100000', \n",
    "              'city == \"Ярославль\"']"
   ]
  },
  {
   "cell_type": "code",
   "execution_count": 44,
   "metadata": {},
   "outputs": [],
   "source": [
    "# Попробуем укрупнить сегменты, группируя по три признака.\n",
    "# Создадим функцию, группирующую три параметра.\n",
    "\n",
    "def segments(parameters):\n",
    "    \n",
    "    dataframe = {'сегмент':[], 'размер':[],'отток_%':[]}\n",
    "    clients_segments = pd.DataFrame(dataframe)\n",
    "    \n",
    "    for i in range (len(parameters)):\n",
    "        for j in range(i+1, len(parameters)):\n",
    "            for k in range(j+1, len(parameters)):\n",
    "                \n",
    "                if round(\n",
    "                    (data.query(parameters[i] +' and ' + parameters[j] + ' and ' + parameters[k])['churn'].value_counts()[1]\n",
    "                     /data['churn'].value_counts()[1])*100,2\n",
    "                    )>30 and 500 <= data.query(parameters[i] +' and ' + parameters[j]  + ' and ' + parameters[k]).shape[0] <=2000:\n",
    "                    \n",
    "                    new_row = {'сегмент': parameters[i] +' and ' + parameters[j] + ' and ' + parameters[k],\n",
    "                               'размер': data.query(parameters[i] +' and ' + parameters[j] + ' and ' + parameters[k]).shape[0],\n",
    "                               'отток_%': round(\n",
    "                                       (data.query(parameters[i] +' and ' + parameters[j] + ' and ' + parameters[k])['churn']\n",
    "                                        .value_counts()[1]/data['churn'].value_counts()[1])*100,2)}\n",
    "                    \n",
    "                    clients_segments = clients_segments.append(new_row, ignore_index=True)\n",
    "                else:\n",
    "                    pass\n",
    "    display(clients_segments.sort_values('отток_%', ascending=False).reset_index(drop=True))"
   ]
  },
  {
   "cell_type": "code",
   "execution_count": 45,
   "metadata": {},
   "outputs": [
    {
     "data": {
      "text/html": [
       "<div>\n",
       "<style scoped>\n",
       "    .dataframe tbody tr th:only-of-type {\n",
       "        vertical-align: middle;\n",
       "    }\n",
       "\n",
       "    .dataframe tbody tr th {\n",
       "        vertical-align: top;\n",
       "    }\n",
       "\n",
       "    .dataframe thead th {\n",
       "        text-align: right;\n",
       "    }\n",
       "</style>\n",
       "<table border=\"1\" class=\"dataframe\">\n",
       "  <thead>\n",
       "    <tr style=\"text-align: right;\">\n",
       "      <th></th>\n",
       "      <th>сегмент</th>\n",
       "      <th>размер</th>\n",
       "      <th>отток_%</th>\n",
       "    </tr>\n",
       "  </thead>\n",
       "  <tbody>\n",
       "    <tr>\n",
       "      <th>0</th>\n",
       "      <td>products &gt; 1 and last_activity == 1 and est_salary &gt; 100000</td>\n",
       "      <td>1888.0</td>\n",
       "      <td>42.39</td>\n",
       "    </tr>\n",
       "    <tr>\n",
       "      <th>1</th>\n",
       "      <td>equity &gt; 2 and last_activity == 1 and est_salary &gt; 100000</td>\n",
       "      <td>1587.0</td>\n",
       "      <td>40.57</td>\n",
       "    </tr>\n",
       "    <tr>\n",
       "      <th>2</th>\n",
       "      <td>products &gt; 1 and last_activity == 1 and city == \"Ярославль\"</td>\n",
       "      <td>1926.0</td>\n",
       "      <td>37.88</td>\n",
       "    </tr>\n",
       "    <tr>\n",
       "      <th>3</th>\n",
       "      <td>equity &gt; 2 and balance &gt; 800000 and est_salary &gt; 100000</td>\n",
       "      <td>1636.0</td>\n",
       "      <td>37.60</td>\n",
       "    </tr>\n",
       "    <tr>\n",
       "      <th>4</th>\n",
       "      <td>products &gt; 1 and balance &gt; 800000 and est_salary &gt; 100000</td>\n",
       "      <td>1570.0</td>\n",
       "      <td>37.55</td>\n",
       "    </tr>\n",
       "    <tr>\n",
       "      <th>5</th>\n",
       "      <td>products &gt; 1 and gender == \"М\" and est_salary &gt; 100000</td>\n",
       "      <td>1915.0</td>\n",
       "      <td>37.38</td>\n",
       "    </tr>\n",
       "    <tr>\n",
       "      <th>6</th>\n",
       "      <td>equity &gt; 2 and last_activity == 1 and city == \"Ярославль\"</td>\n",
       "      <td>1623.0</td>\n",
       "      <td>36.50</td>\n",
       "    </tr>\n",
       "    <tr>\n",
       "      <th>7</th>\n",
       "      <td>products &gt; 1 and last_activity == 1 and gender == \"М\"</td>\n",
       "      <td>1629.0</td>\n",
       "      <td>36.39</td>\n",
       "    </tr>\n",
       "    <tr>\n",
       "      <th>8</th>\n",
       "      <td>equity &gt; 2 and gender == \"М\" and est_salary &gt; 100000</td>\n",
       "      <td>1634.0</td>\n",
       "      <td>36.01</td>\n",
       "    </tr>\n",
       "    <tr>\n",
       "      <th>9</th>\n",
       "      <td>equity &gt; 2 and est_salary &gt; 100000 and city == \"Ярославль\"</td>\n",
       "      <td>1909.0</td>\n",
       "      <td>35.73</td>\n",
       "    </tr>\n",
       "    <tr>\n",
       "      <th>10</th>\n",
       "      <td>equity &gt; 2 and last_activity == 1 and gender == \"М\"</td>\n",
       "      <td>1410.0</td>\n",
       "      <td>35.73</td>\n",
       "    </tr>\n",
       "    <tr>\n",
       "      <th>11</th>\n",
       "      <td>products &gt; 1 and 830 &lt; score &lt; 900 and last_activity == 1</td>\n",
       "      <td>1343.0</td>\n",
       "      <td>34.25</td>\n",
       "    </tr>\n",
       "    <tr>\n",
       "      <th>12</th>\n",
       "      <td>products &gt; 1 and gender == \"М\" and city == \"Ярославль\"</td>\n",
       "      <td>1891.0</td>\n",
       "      <td>33.92</td>\n",
       "    </tr>\n",
       "    <tr>\n",
       "      <th>13</th>\n",
       "      <td>equity &gt; 2 and 830 &lt; score &lt; 900 and last_activity == 1</td>\n",
       "      <td>1267.0</td>\n",
       "      <td>33.37</td>\n",
       "    </tr>\n",
       "    <tr>\n",
       "      <th>14</th>\n",
       "      <td>equity &gt; 2 and balance &gt; 800000 and last_activity == 1</td>\n",
       "      <td>1210.0</td>\n",
       "      <td>33.37</td>\n",
       "    </tr>\n",
       "    <tr>\n",
       "      <th>15</th>\n",
       "      <td>products &gt; 1 and last_activity == 1 and credit_card == 0</td>\n",
       "      <td>1493.0</td>\n",
       "      <td>33.04</td>\n",
       "    </tr>\n",
       "    <tr>\n",
       "      <th>16</th>\n",
       "      <td>products &gt; 1 and balance &gt; 800000 and last_activity == 1</td>\n",
       "      <td>1175.0</td>\n",
       "      <td>32.88</td>\n",
       "    </tr>\n",
       "    <tr>\n",
       "      <th>17</th>\n",
       "      <td>equity &gt; 2 and gender == \"М\" and city == \"Ярославль\"</td>\n",
       "      <td>1599.0</td>\n",
       "      <td>32.27</td>\n",
       "    </tr>\n",
       "    <tr>\n",
       "      <th>18</th>\n",
       "      <td>equity &gt; 2 and balance &gt; 800000 and city == \"Ярославль\"</td>\n",
       "      <td>1392.0</td>\n",
       "      <td>30.79</td>\n",
       "    </tr>\n",
       "    <tr>\n",
       "      <th>19</th>\n",
       "      <td>products &gt; 1 and balance &gt; 800000 and city == \"Ярославль\"</td>\n",
       "      <td>1362.0</td>\n",
       "      <td>30.68</td>\n",
       "    </tr>\n",
       "    <tr>\n",
       "      <th>20</th>\n",
       "      <td>equity &gt; 2 and balance &gt; 800000 and gender == \"М\"</td>\n",
       "      <td>1184.0</td>\n",
       "      <td>30.40</td>\n",
       "    </tr>\n",
       "    <tr>\n",
       "      <th>21</th>\n",
       "      <td>products &gt; 1 and credit_card == 0 and est_salary &gt; 100000</td>\n",
       "      <td>1568.0</td>\n",
       "      <td>30.29</td>\n",
       "    </tr>\n",
       "  </tbody>\n",
       "</table>\n",
       "</div>"
      ],
      "text/plain": [
       "                                                        сегмент  размер  \\\n",
       "0   products > 1 and last_activity == 1 and est_salary > 100000  1888.0   \n",
       "1     equity > 2 and last_activity == 1 and est_salary > 100000  1587.0   \n",
       "2   products > 1 and last_activity == 1 and city == \"Ярославль\"  1926.0   \n",
       "3       equity > 2 and balance > 800000 and est_salary > 100000  1636.0   \n",
       "4     products > 1 and balance > 800000 and est_salary > 100000  1570.0   \n",
       "5        products > 1 and gender == \"М\" and est_salary > 100000  1915.0   \n",
       "6     equity > 2 and last_activity == 1 and city == \"Ярославль\"  1623.0   \n",
       "7         products > 1 and last_activity == 1 and gender == \"М\"  1629.0   \n",
       "8          equity > 2 and gender == \"М\" and est_salary > 100000  1634.0   \n",
       "9    equity > 2 and est_salary > 100000 and city == \"Ярославль\"  1909.0   \n",
       "10          equity > 2 and last_activity == 1 and gender == \"М\"  1410.0   \n",
       "11    products > 1 and 830 < score < 900 and last_activity == 1  1343.0   \n",
       "12       products > 1 and gender == \"М\" and city == \"Ярославль\"  1891.0   \n",
       "13      equity > 2 and 830 < score < 900 and last_activity == 1  1267.0   \n",
       "14       equity > 2 and balance > 800000 and last_activity == 1  1210.0   \n",
       "15     products > 1 and last_activity == 1 and credit_card == 0  1493.0   \n",
       "16     products > 1 and balance > 800000 and last_activity == 1  1175.0   \n",
       "17         equity > 2 and gender == \"М\" and city == \"Ярославль\"  1599.0   \n",
       "18      equity > 2 and balance > 800000 and city == \"Ярославль\"  1392.0   \n",
       "19    products > 1 and balance > 800000 and city == \"Ярославль\"  1362.0   \n",
       "20            equity > 2 and balance > 800000 and gender == \"М\"  1184.0   \n",
       "21    products > 1 and credit_card == 0 and est_salary > 100000  1568.0   \n",
       "\n",
       "    отток_%  \n",
       "0     42.39  \n",
       "1     40.57  \n",
       "2     37.88  \n",
       "3     37.60  \n",
       "4     37.55  \n",
       "5     37.38  \n",
       "6     36.50  \n",
       "7     36.39  \n",
       "8     36.01  \n",
       "9     35.73  \n",
       "10    35.73  \n",
       "11    34.25  \n",
       "12    33.92  \n",
       "13    33.37  \n",
       "14    33.37  \n",
       "15    33.04  \n",
       "16    32.88  \n",
       "17    32.27  \n",
       "18    30.79  \n",
       "19    30.68  \n",
       "20    30.40  \n",
       "21    30.29  "
      ]
     },
     "metadata": {},
     "output_type": "display_data"
    }
   ],
   "source": [
    "pd.set_option('display.max_colwidth', None)\n",
    "segments(parameters)"
   ]
  },
  {
   "cell_type": "markdown",
   "metadata": {},
   "source": [
    "При группировке по трём признакам у следующих сегментов наблюдается наиболее высокая доля оттока:\n",
    "\n",
    "* активные клиенты с доходом более 100000 и количеством продуктов от 2 (доля оттока:  42.39%, размер: 1888);\n",
    "* активные клиенты с доходом более 100000 и количеством баллов собственности от 3 (доля оттока:  40.57%, размер: 1587);\n",
    "* активные клиенты из Ярославля с количеством продуктов от 2 (доля оттока:  37.88%, размер: 1926);\n",
    "* клиенты с доходом от 100000, балансом от 800000 и количеством баллов собственности от 3 (доля оттока:  37.60, размер: 1636);\n",
    "* клиенты с доходом от 100000, балансом от 800000 и количеством продуктов от 2 (доля оттока:  37.55%, размер: 1570);\n",
    "* мужчины с доходом от 100000 и количеством продуктов от 2 (доля оттока:  37.38%, размер: 1915).\n",
    "\n",
    "Обращает на себя внимание тот факт, что при группировке по 3 параметрам возрастной параметр не фигурирует ни в одном сегменте."
   ]
  },
  {
   "cell_type": "code",
   "execution_count": 46,
   "metadata": {},
   "outputs": [],
   "source": [
    "# Подставим другой возрастной диапазон, 25<age<35,\n",
    "# и посмотрим, появятся ли новые сегменты, включающие этот параметр.\n",
    "\n",
    "parameters = ['products > 1',\n",
    "              'equity > 2', \n",
    "              'balance > 800000', \n",
    "              '830 < score < 900', \n",
    "              'last_activity == 1', \n",
    "              'gender == \"М\"', \n",
    "              '25 < age < 35', \n",
    "              'credit_card == 0', \n",
    "              'est_salary > 100000', \n",
    "              'city == \"Ярославль\"']"
   ]
  },
  {
   "cell_type": "code",
   "execution_count": 47,
   "metadata": {},
   "outputs": [
    {
     "data": {
      "text/html": [
       "<div>\n",
       "<style scoped>\n",
       "    .dataframe tbody tr th:only-of-type {\n",
       "        vertical-align: middle;\n",
       "    }\n",
       "\n",
       "    .dataframe tbody tr th {\n",
       "        vertical-align: top;\n",
       "    }\n",
       "\n",
       "    .dataframe thead th {\n",
       "        text-align: right;\n",
       "    }\n",
       "</style>\n",
       "<table border=\"1\" class=\"dataframe\">\n",
       "  <thead>\n",
       "    <tr style=\"text-align: right;\">\n",
       "      <th></th>\n",
       "      <th>сегмент</th>\n",
       "      <th>размер</th>\n",
       "      <th>отток_%</th>\n",
       "    </tr>\n",
       "  </thead>\n",
       "  <tbody>\n",
       "    <tr>\n",
       "      <th>0</th>\n",
       "      <td>products &gt; 1 and last_activity == 1 and est_salary &gt; 100000</td>\n",
       "      <td>1888.0</td>\n",
       "      <td>42.39</td>\n",
       "    </tr>\n",
       "    <tr>\n",
       "      <th>1</th>\n",
       "      <td>equity &gt; 2 and last_activity == 1 and est_salary &gt; 100000</td>\n",
       "      <td>1587.0</td>\n",
       "      <td>40.57</td>\n",
       "    </tr>\n",
       "    <tr>\n",
       "      <th>2</th>\n",
       "      <td>products &gt; 1 and last_activity == 1 and city == \"Ярославль\"</td>\n",
       "      <td>1926.0</td>\n",
       "      <td>37.88</td>\n",
       "    </tr>\n",
       "    <tr>\n",
       "      <th>3</th>\n",
       "      <td>equity &gt; 2 and balance &gt; 800000 and est_salary &gt; 100000</td>\n",
       "      <td>1636.0</td>\n",
       "      <td>37.60</td>\n",
       "    </tr>\n",
       "    <tr>\n",
       "      <th>4</th>\n",
       "      <td>products &gt; 1 and balance &gt; 800000 and est_salary &gt; 100000</td>\n",
       "      <td>1570.0</td>\n",
       "      <td>37.55</td>\n",
       "    </tr>\n",
       "    <tr>\n",
       "      <th>5</th>\n",
       "      <td>products &gt; 1 and gender == \"М\" and est_salary &gt; 100000</td>\n",
       "      <td>1915.0</td>\n",
       "      <td>37.38</td>\n",
       "    </tr>\n",
       "    <tr>\n",
       "      <th>6</th>\n",
       "      <td>equity &gt; 2 and last_activity == 1 and city == \"Ярославль\"</td>\n",
       "      <td>1623.0</td>\n",
       "      <td>36.50</td>\n",
       "    </tr>\n",
       "    <tr>\n",
       "      <th>7</th>\n",
       "      <td>products &gt; 1 and last_activity == 1 and gender == \"М\"</td>\n",
       "      <td>1629.0</td>\n",
       "      <td>36.39</td>\n",
       "    </tr>\n",
       "    <tr>\n",
       "      <th>8</th>\n",
       "      <td>equity &gt; 2 and gender == \"М\" and est_salary &gt; 100000</td>\n",
       "      <td>1634.0</td>\n",
       "      <td>36.01</td>\n",
       "    </tr>\n",
       "    <tr>\n",
       "      <th>9</th>\n",
       "      <td>equity &gt; 2 and est_salary &gt; 100000 and city == \"Ярославль\"</td>\n",
       "      <td>1909.0</td>\n",
       "      <td>35.73</td>\n",
       "    </tr>\n",
       "    <tr>\n",
       "      <th>10</th>\n",
       "      <td>equity &gt; 2 and last_activity == 1 and gender == \"М\"</td>\n",
       "      <td>1410.0</td>\n",
       "      <td>35.73</td>\n",
       "    </tr>\n",
       "    <tr>\n",
       "      <th>11</th>\n",
       "      <td>products &gt; 1 and 830 &lt; score &lt; 900 and last_activity == 1</td>\n",
       "      <td>1343.0</td>\n",
       "      <td>34.25</td>\n",
       "    </tr>\n",
       "    <tr>\n",
       "      <th>12</th>\n",
       "      <td>products &gt; 1 and gender == \"М\" and city == \"Ярославль\"</td>\n",
       "      <td>1891.0</td>\n",
       "      <td>33.92</td>\n",
       "    </tr>\n",
       "    <tr>\n",
       "      <th>13</th>\n",
       "      <td>equity &gt; 2 and 830 &lt; score &lt; 900 and last_activity == 1</td>\n",
       "      <td>1267.0</td>\n",
       "      <td>33.37</td>\n",
       "    </tr>\n",
       "    <tr>\n",
       "      <th>14</th>\n",
       "      <td>equity &gt; 2 and balance &gt; 800000 and last_activity == 1</td>\n",
       "      <td>1210.0</td>\n",
       "      <td>33.37</td>\n",
       "    </tr>\n",
       "    <tr>\n",
       "      <th>15</th>\n",
       "      <td>products &gt; 1 and last_activity == 1 and credit_card == 0</td>\n",
       "      <td>1493.0</td>\n",
       "      <td>33.04</td>\n",
       "    </tr>\n",
       "    <tr>\n",
       "      <th>16</th>\n",
       "      <td>products &gt; 1 and balance &gt; 800000 and last_activity == 1</td>\n",
       "      <td>1175.0</td>\n",
       "      <td>32.88</td>\n",
       "    </tr>\n",
       "    <tr>\n",
       "      <th>17</th>\n",
       "      <td>equity &gt; 2 and gender == \"М\" and city == \"Ярославль\"</td>\n",
       "      <td>1599.0</td>\n",
       "      <td>32.27</td>\n",
       "    </tr>\n",
       "    <tr>\n",
       "      <th>18</th>\n",
       "      <td>equity &gt; 2 and balance &gt; 800000 and city == \"Ярославль\"</td>\n",
       "      <td>1392.0</td>\n",
       "      <td>30.79</td>\n",
       "    </tr>\n",
       "    <tr>\n",
       "      <th>19</th>\n",
       "      <td>products &gt; 1 and balance &gt; 800000 and city == \"Ярославль\"</td>\n",
       "      <td>1362.0</td>\n",
       "      <td>30.68</td>\n",
       "    </tr>\n",
       "    <tr>\n",
       "      <th>20</th>\n",
       "      <td>equity &gt; 2 and balance &gt; 800000 and gender == \"М\"</td>\n",
       "      <td>1184.0</td>\n",
       "      <td>30.40</td>\n",
       "    </tr>\n",
       "    <tr>\n",
       "      <th>21</th>\n",
       "      <td>products &gt; 1 and credit_card == 0 and est_salary &gt; 100000</td>\n",
       "      <td>1568.0</td>\n",
       "      <td>30.29</td>\n",
       "    </tr>\n",
       "  </tbody>\n",
       "</table>\n",
       "</div>"
      ],
      "text/plain": [
       "                                                        сегмент  размер  \\\n",
       "0   products > 1 and last_activity == 1 and est_salary > 100000  1888.0   \n",
       "1     equity > 2 and last_activity == 1 and est_salary > 100000  1587.0   \n",
       "2   products > 1 and last_activity == 1 and city == \"Ярославль\"  1926.0   \n",
       "3       equity > 2 and balance > 800000 and est_salary > 100000  1636.0   \n",
       "4     products > 1 and balance > 800000 and est_salary > 100000  1570.0   \n",
       "5        products > 1 and gender == \"М\" and est_salary > 100000  1915.0   \n",
       "6     equity > 2 and last_activity == 1 and city == \"Ярославль\"  1623.0   \n",
       "7         products > 1 and last_activity == 1 and gender == \"М\"  1629.0   \n",
       "8          equity > 2 and gender == \"М\" and est_salary > 100000  1634.0   \n",
       "9    equity > 2 and est_salary > 100000 and city == \"Ярославль\"  1909.0   \n",
       "10          equity > 2 and last_activity == 1 and gender == \"М\"  1410.0   \n",
       "11    products > 1 and 830 < score < 900 and last_activity == 1  1343.0   \n",
       "12       products > 1 and gender == \"М\" and city == \"Ярославль\"  1891.0   \n",
       "13      equity > 2 and 830 < score < 900 and last_activity == 1  1267.0   \n",
       "14       equity > 2 and balance > 800000 and last_activity == 1  1210.0   \n",
       "15     products > 1 and last_activity == 1 and credit_card == 0  1493.0   \n",
       "16     products > 1 and balance > 800000 and last_activity == 1  1175.0   \n",
       "17         equity > 2 and gender == \"М\" and city == \"Ярославль\"  1599.0   \n",
       "18      equity > 2 and balance > 800000 and city == \"Ярославль\"  1392.0   \n",
       "19    products > 1 and balance > 800000 and city == \"Ярославль\"  1362.0   \n",
       "20            equity > 2 and balance > 800000 and gender == \"М\"  1184.0   \n",
       "21    products > 1 and credit_card == 0 and est_salary > 100000  1568.0   \n",
       "\n",
       "    отток_%  \n",
       "0     42.39  \n",
       "1     40.57  \n",
       "2     37.88  \n",
       "3     37.60  \n",
       "4     37.55  \n",
       "5     37.38  \n",
       "6     36.50  \n",
       "7     36.39  \n",
       "8     36.01  \n",
       "9     35.73  \n",
       "10    35.73  \n",
       "11    34.25  \n",
       "12    33.92  \n",
       "13    33.37  \n",
       "14    33.37  \n",
       "15    33.04  \n",
       "16    32.88  \n",
       "17    32.27  \n",
       "18    30.79  \n",
       "19    30.68  \n",
       "20    30.40  \n",
       "21    30.29  "
      ]
     },
     "metadata": {},
     "output_type": "display_data"
    }
   ],
   "source": [
    "pd.set_option('display.max_colwidth', None)\n",
    "segments(parameters)"
   ]
  },
  {
   "cell_type": "markdown",
   "metadata": {},
   "source": [
    "Новых сегментов при группировке с другим возрастным диапазоном не появилось."
   ]
  },
  {
   "cell_type": "markdown",
   "metadata": {},
   "source": [
    "### Выводы по разделу.\n",
    "\n",
    "В результате проведённого анализа был выделен ряд сегментов клиентов, наиболее склонных к уходу из банка. \n",
    "\n",
    "При группировке по 2 признакам наиболее значимые доли оттока наблюдаются у следующих сегментов:\n",
    "\n",
    "    * активные клиенты с балансом более 800000 (размер: 1321, отток: 48.68%);\n",
    "    * мужчины с балансом более 800000 (размер: 1285, отток: 45.68%);\n",
    "    * клиенты без кредитной карты и балансом более 800000 (размер: 1132, отток: 42.23%);\n",
    "    * клиенты с кредитным рейтингом от 830 до 900 и балансом более 800000 (размер: 1015, отток: 40.79%);\n",
    "    * клиенты с доходом более 100000 и балансом более 800000 (размер: 1780, отток: 40.73%).\n",
    "\n",
    "    Некоторые сегменты включают возрастной параметр. Например:\n",
    "\n",
    "    * клиенты в возрасте от 50 до 60 лет и кредитным рейтингом от 830 до 900 (размер: 507, отток: 37.87%);\n",
    "    * мужчины в возрасте от 50 до 60 лет (размер: 620, отток: 35%);\n",
    "    * клиенты в возрасте от 50 до 60 лет с количеством продуктов от 2(размер: 1001, отток: 35.16%).\n",
    "    * клиенты в возрасте от 25 до 35 лет без кредитной карты (размер: 684, отток: 36.26%);\n",
    "    * клиенты в возрасте от 25 до 35 лет с количеством баллов собственности от 3 (размер: 1426, отток: 33.24%);\n",
    "    * активные клиенты в возрасте от 25 до 35 лет (размер: 1388, отток: 32.20%);\n",
    "    * клиенты в возрасте от 25 до 35 лет с кредитным рейтингм от 830 до 900 (размер: 935, отток: 31.02%).\n",
    "    \n",
    "При группировке по 3 признакам наиболее значимые доли оттока наблюдаются у следующих сегментов:\n",
    "\n",
    "    * активные клиенты с доходом более 100000 и количеством продуктов от 2 (доля оттока:  42.39%, размер: 1888);\n",
    "    * активные клиенты с доходом более 100000 и количеством баллов собственности от 3 (доля оттока:  40.57%, размер: 1587);\n",
    "    * активные клиенты из Ярославля с количеством продуктов от 2 (доля оттока:  37.88%, размер: 1926);\n",
    "    * клиенты с доходом от 100000, балансом от 800000 и количеством баллов собственности от 3 (доля оттока:  37.60, размер: 1636);\n",
    "    * клиенты с доходом от 100000, балансом от 800000 и количеством продуктов от 2 (доля оттока:  37.55%, размер: 1570);\n",
    "    * мужчины с доходом от 100000 и количеством продуктов от 2 (доля оттока:  37.38%, размер: 1915)."
   ]
  },
  {
   "cell_type": "markdown",
   "metadata": {},
   "source": [
    "## Проверка гипотез.\n",
    "\n",
    "Перед нами стоит задача проверить несколько гипотез о различии клиентов, которые ушли и остались, по определенным характеристикам. Разделим клиентов на две группы - ушедшие (`churn == 1`) и оставшиеся (`churn == 0`), а для проверки статистически значимых отличий в группах будем использовать ttest Стьюдента. Значений в наших выборках достаточно много, выборочные среднии будут распределены нормально вокруг истинного среднего, поэтому данный тип теста подходит для наших целей. Так как количество значений в группах отличается, то дополнительно будет добавлен параметр equal_var= False, чтобы тест посчитал дисперсии в выборках по отдельности. Если p-значение будет меньше уровня значимости alpha = 0.05, то нулевая гипотеза отвергается. Если p-значение будет больше уровня значимости alpha = 0.05, то нулевая гипотеза принимается."
   ]
  },
  {
   "cell_type": "markdown",
   "metadata": {},
   "source": [
    "### Гипотеза о различии в доходе между ушедшими и оставшимися клиентами.\n",
    "\n",
    "**H0**: доходы ушедших и оставшихся клиентов равны.\n",
    "\n",
    "**H1**: доходы ушедших и оставшихся клиентов отличаются.\n",
    "\n",
    "Уровень значимости: alpha = 0.05\n",
    "\n",
    "Тест для двух независимых совокупностей: scipy.stats.ttest_ind"
   ]
  },
  {
   "cell_type": "code",
   "execution_count": 48,
   "metadata": {},
   "outputs": [
    {
     "name": "stdout",
     "output_type": "stream",
     "text": [
      "p-значение: 0.8724727072323815\n",
      "Не получилось отвергнуть нулевую гипотезу\n"
     ]
    }
   ],
   "source": [
    "alpha = 0.05\n",
    "\n",
    "results = st.ttest_ind(\n",
    "    data[data['churn']==1]['est_salary'], \n",
    "    data[data['churn']==0]['est_salary'], \n",
    "    equal_var= False)\n",
    "\n",
    "print('p-значение:', results.pvalue)\n",
    "\n",
    "if results.pvalue < alpha:\n",
    "    print('Отвергаем нулевую гипотезу')\n",
    "else:\n",
    "    print('Не получилось отвергнуть нулевую гипотезу')"
   ]
  },
  {
   "cell_type": "markdown",
   "metadata": {},
   "source": [
    "Тест показала, что доходы ушедших и оставшихся клиентов не отличаются."
   ]
  },
  {
   "cell_type": "markdown",
   "metadata": {},
   "source": [
    "### Гипотеза о различии в возрасте между ушедшими и оставшимися клиентами.\n",
    "\n",
    "**H0**: средний возраст ушедших и оставшихся клиентов не отличается.\n",
    "\n",
    "**H1**: средний возраст ушедших и оставшихся клиентов отличается.\n",
    "\n",
    "Уровень значимости: alpha = 0.05\n",
    "\n",
    "Тест для двух независимых совокупностей: scipy.stats.ttest_ind\n",
    "Добавляем параметр nan_policy='omit', чтобы в расчёт не попали пропущенные значения."
   ]
  },
  {
   "cell_type": "code",
   "execution_count": 49,
   "metadata": {},
   "outputs": [
    {
     "name": "stdout",
     "output_type": "stream",
     "text": [
      "p-значение: 7.536127357312234e-08\n",
      "Отвергаем нулевую гипотезу\n"
     ]
    }
   ],
   "source": [
    "alpha = 0.05\n",
    "\n",
    "results = st.ttest_ind(\n",
    "    data[data['churn']==1]['age'], \n",
    "    data[data['churn']==0]['age'], \n",
    "    equal_var= False, nan_policy='omit')\n",
    "\n",
    "print('p-значение:', results.pvalue)\n",
    "\n",
    "if results.pvalue < alpha:\n",
    "    print('Отвергаем нулевую гипотезу')\n",
    "    \n",
    "else:\n",
    "    print('Не получилось отвергнуть нулевую гипотезу')"
   ]
  },
  {
   "cell_type": "markdown",
   "metadata": {},
   "source": [
    "Принимаем альтернативную гипотезу: средний возраст ушедших и оставшихся клиентов отличается."
   ]
  },
  {
   "cell_type": "markdown",
   "metadata": {},
   "source": [
    "### Гипотеза о о различии в количестве используемых банковских продуктов ушедшими и оставшимися клиентами."
   ]
  },
  {
   "cell_type": "markdown",
   "metadata": {},
   "source": [
    "**H0**: ушедшие и оставшиеся клиенты пользуются одинаковым количеством продуктов.\n",
    "\n",
    "**H1**: ушедшие и оставшиеся клиенты пользуются разным количеством продуктов.\n",
    "\n",
    "Уровень значимости: alpha = 0.05\n",
    "\n",
    "Тест для двух независимых совокупностей: scipy.stats.ttest_ind"
   ]
  },
  {
   "cell_type": "code",
   "execution_count": 50,
   "metadata": {},
   "outputs": [
    {
     "name": "stdout",
     "output_type": "stream",
     "text": [
      "p-значение: 3.241238337429691e-139\n",
      "Отвергаем нулевую гипотезу\n"
     ]
    }
   ],
   "source": [
    "alpha = 0.05\n",
    "\n",
    "results = st.ttest_ind(\n",
    "    data[data['churn']==1]['products'], \n",
    "    data[data['churn']==0]['products'], \n",
    "    equal_var= False)\n",
    "\n",
    "print('p-значение:', results.pvalue)\n",
    "\n",
    "if results.pvalue < alpha:\n",
    "    print('Отвергаем нулевую гипотезу')\n",
    "else:\n",
    "    print('Не получилось отвергнуть нулевую гипотезу')"
   ]
  },
  {
   "cell_type": "markdown",
   "metadata": {},
   "source": [
    "Принимаем альтернативную гипотезу: ушедшие и оставшиеся клиенты пользуются разным количеством продуктов."
   ]
  },
  {
   "cell_type": "markdown",
   "metadata": {},
   "source": [
    "### Гипотеза о различии в активности ушедших и оставшихся клиентов."
   ]
  },
  {
   "cell_type": "markdown",
   "metadata": {},
   "source": [
    "**H0**: различий в активности ушедших и оставшихся клиентов нет.\n",
    "\n",
    "**H1**: различия в активности ушедших и оставшихся клиентов присутствуют.\n",
    "\n",
    "Уровень значимости: alpha = 0.05\n",
    "\n",
    "Тест для двух независимых совокупностей: scipy.stats.ttest_ind"
   ]
  },
  {
   "cell_type": "code",
   "execution_count": 51,
   "metadata": {},
   "outputs": [
    {
     "name": "stdout",
     "output_type": "stream",
     "text": [
      "p-значение: 9.809677771444036e-70\n",
      "Отвергаем нулевую гипотезу\n"
     ]
    }
   ],
   "source": [
    "alpha = 0.05\n",
    "\n",
    "results = st.ttest_ind(\n",
    "    data[data['churn']==1]['last_activity'], \n",
    "    data[data['churn']==0]['last_activity'], \n",
    "    equal_var= False)\n",
    "\n",
    "print('p-значение:', results.pvalue)\n",
    "\n",
    "if results.pvalue < alpha:\n",
    "    print('Отвергаем нулевую гипотезу')\n",
    "else:\n",
    "    print('Не получилось отвергнуть нулевую гипотезу')"
   ]
  },
  {
   "cell_type": "markdown",
   "metadata": {},
   "source": [
    "Принимаем альтернативную гипотезу: различия в активности ушедших и оставшихся клиентов присутствуют."
   ]
  },
  {
   "cell_type": "markdown",
   "metadata": {},
   "source": [
    "### Выводы по разделу.\n",
    "\n",
    "Была проведена проверка четырёх гипотез о различии между ушедшими и оставшимися клиентами с использованием t-test Стьюдента. Были получены следующие результаты:\n",
    "\n",
    "* доходы ушедших и оставшихся клиентов не отличаются;\n",
    "* средний возраст ушедших и оставшихся клиентов отличается;\n",
    "* ушедшие и оставшиеся клиенты пользуются разным количеством продуктов;\n",
    "* различия в активности ушедших и оставшихся клиентов присутствуют."
   ]
  },
  {
   "cell_type": "markdown",
   "metadata": {},
   "source": [
    "## Выводы и рекомендации.\n",
    "\n",
    "* Для определения сегментов клиентов банка, склонных к оттоку, была изучена информация о различных характеристиках клиентов. Было исследовано 10000 наблюдений по 12 параметрам (id пользователя, кредитный рейтинг, город, пол, возраст, количество баллов собственности, баланс, количество продуктов, наличие кредитной карты, активность, доход, ушёл/не ушёл).\n",
    "\n",
    "\n",
    "* Графики распределения ушедших и оставшихся клиентов по имеющимся характеристикам показали следующие тенденции. Чаще уходят клиенты:\n",
    "\n",
    "    * в возрасте от 25 до 35 лет и от 50 до 60 лет;\n",
    "    * с кредитным рейтингом от 830 до 900;\n",
    "    * из Ярославля;\n",
    "    * мужчины;\n",
    "    * с балансом средств более 800000;\n",
    "    * с количеством используемых продуктов от 2;\n",
    "    * с количеством баллов собственности от 3;\n",
    "    * не имеющие кредитной карты;\n",
    "    * активные;\n",
    "    * с доходом более 100000.\n",
    "\n",
    "\n",
    "* Наиболее сильная корреляция оттока наблюдается с параметрами equity/количество баллов собственности(35%), products/количество продуктов (26%), last_activity/активность (26%), score/кредитный рейтинг (23%).\n",
    "\n",
    "\n",
    "* После группировки по двум признакам были выделены следующие сегменты с наиболее высокой долей оттока:\n",
    "    * активные клиенты с балансом более 800000 (размер: 1321, отток: 48.68%);\n",
    "    * мужчины с балансом более 800000 (размер: 1285, отток: 45.68%);\n",
    "    * клиенты без кредитной карты и балансом более 800000 (размер: 1132, отток: 42.23%);\n",
    "    * клиенты с кредитным рейтингом от 830 до 900 и балансом более 800000 (размер: 1015, отток: 40.79%);\n",
    "    * клиенты с доходом более 100000 и балансом более 800000 (размер: 1780, отток: 40.73%).\n",
    "\n",
    "    Некоторые сегменты включают возрастной параметр. Например:\n",
    "\n",
    "    * клиенты в возрасте от 50 до 60 лет и кредитным рейтингом от 830 до 900 (размер: 507, отток: 37.87%);\n",
    "    * мужчины в возрасте от 50 до 60 лет (размер: 620, отток: 35%);\n",
    "    * клиенты в возрасте от 50 до 60 лет с количеством продуктов от 2(размер: 1001, отток: 35.16%).\n",
    "    * клиенты в возрасте от 25 до 35 лет без кредитной карты (размер: 684, отток: 36.26%);\n",
    "    * клиенты в возрасте от 25 до 35 лет с количеством баллов собственности от 3 (размер: 1426, отток: 33.24%);\n",
    "    * активные клиенты в возрасте от 25 до 35 лет (размер: 1388, отток: 32.20%);\n",
    "    * клиенты в возрасте от 25 до 35 лет с кредитным рейтингм от 830 до 900 (размер: 935, отток: 31.02%).\n",
    "\n",
    "\n",
    "* После группировки по трём параметрам  были определены следующие сегменты с наиболее существенной долей оттока:\n",
    "\n",
    "    * активные клиенты с доходом более 100000 и количеством продуктов от 2 (доля оттока:  42.39%, размер: 1888);\n",
    "    * активные клиенты с доходом более 100000 и количеством баллов собственности от 3 (доля оттока:  40.57%, размер: 1587);\n",
    "    * активные клиенты из Ярославля с количеством продуктов от 2 (доля оттока:  37.88%, размер: 1926);\n",
    "    * клиенты с доходом от 100000, балансом от 800000 и количеством баллов собственности от 3 (доля оттока:  37.60, размер: 1636);\n",
    "    * клиенты с доходом от 100000, балансом от 800000 и количеством продуктов от 2 (доля оттока:  37.55%, размер: 1570);\n",
    "    * мужчины с доходом от 100000 и количеством продуктов от 2 (доля оттока:  37.38%, размер: 1915).\n",
    "    \n",
    "\n",
    "* Рекомендации:\n",
    "\n",
    "    * В сегментах, сформированных по 2 признакам, часто фигурирует параметр `баланс` более 800000. Данным клиентам можно предложить открыть накопительные счета по интересным для них условиям. Например, при длительном использовании накопительного счёта, увеличивать ежегодный процент на какую-то величину.\n",
    "    * Также в сегментах присутствуют возрастные группы от 25 до 35 и от 50 до 60. Более молодой категории можно предложить промокод на приобретение годовой клубной карты в фитнес и бассейн при использовании более 2 продуктов банка или при своевременной выплате ставки по кредиту/ипотеке(если данные продукты используются). Более старшей категории можно предложить промокоды на скидку или кэшбэк по карте при совершении покупок в крупных розничных магазинах с использованием карт банка.  \n",
    "    * Во многие сегменты также попал параметр `мужчины`. Им можно предложить скидку, например, на услуги определённой сети барбершопа, кэшбэк по карте при совершении покупок в какокй-то сети спортивных магазинов. Если мужчина взял ипотеку в банке, промокод на покупку мебели/предметов интерьера в сети мебельных магазинов.\n",
    "    * В сегментах, сформированных по 3 параметрам, часто фигурирует параметр `доход` более 100000. Таким клиентам также могут быть интересны накопительные программы или выгодные программы кредитования.\n",
    "    * В целом для поддержания активности и увеличения лояльности клиентов можно с определённой периодичностью проводить розыгрыши призов (например, розыгрыши билетов на концерты или спортивные мероприятия, где спонсором выступает банк), присылать в дни рождения промокоды на совершение покупок в определённых магазинах или просто приятные открытки.\n",
    "    \n",
    "    "
   ]
  },
  {
   "cell_type": "markdown",
   "metadata": {},
   "source": [
    "https://disk.yandex.ru/i/dxRze7vq8TDMzA"
   ]
  }
 ],
 "metadata": {
  "ExecuteTimeLog": [
   {
    "duration": 1462,
    "start_time": "2023-06-02T04:44:37.306Z"
   },
   {
    "duration": 2741,
    "start_time": "2023-06-02T04:45:27.276Z"
   },
   {
    "duration": 39,
    "start_time": "2023-06-02T04:45:37.683Z"
   },
   {
    "duration": 3,
    "start_time": "2023-06-02T04:45:41.018Z"
   },
   {
    "duration": 3421,
    "start_time": "2023-06-02T08:38:59.488Z"
   },
   {
    "duration": 1342,
    "start_time": "2023-06-02T08:39:02.912Z"
   },
   {
    "duration": 2,
    "start_time": "2023-06-02T08:39:04.256Z"
   },
   {
    "duration": 1178,
    "start_time": "2023-06-02T08:39:45.676Z"
   },
   {
    "duration": 20,
    "start_time": "2023-06-02T08:39:59.687Z"
   },
   {
    "duration": 15,
    "start_time": "2023-06-02T08:40:31.220Z"
   },
   {
    "duration": 118,
    "start_time": "2023-06-02T08:43:05.556Z"
   },
   {
    "duration": 8,
    "start_time": "2023-06-02T08:43:24.359Z"
   },
   {
    "duration": 5,
    "start_time": "2023-06-02T08:43:43.288Z"
   },
   {
    "duration": 11,
    "start_time": "2023-06-02T08:43:50.342Z"
   },
   {
    "duration": 17,
    "start_time": "2023-06-02T08:44:03.389Z"
   },
   {
    "duration": 3,
    "start_time": "2023-06-02T08:44:13.546Z"
   },
   {
    "duration": 14,
    "start_time": "2023-06-02T08:44:15.311Z"
   },
   {
    "duration": 13,
    "start_time": "2023-06-02T08:44:28.294Z"
   },
   {
    "duration": 7,
    "start_time": "2023-06-02T08:51:12.566Z"
   },
   {
    "duration": 5,
    "start_time": "2023-06-02T08:51:50.976Z"
   },
   {
    "duration": 5,
    "start_time": "2023-06-02T08:52:26.775Z"
   },
   {
    "duration": 10,
    "start_time": "2023-06-02T08:54:27.290Z"
   },
   {
    "duration": 4,
    "start_time": "2023-06-02T08:54:44.557Z"
   },
   {
    "duration": 12,
    "start_time": "2023-06-02T08:54:57.664Z"
   },
   {
    "duration": 2319,
    "start_time": "2023-06-02T08:55:33.517Z"
   },
   {
    "duration": 1181,
    "start_time": "2023-06-02T08:55:35.838Z"
   },
   {
    "duration": 3,
    "start_time": "2023-06-02T08:55:37.021Z"
   },
   {
    "duration": 1053,
    "start_time": "2023-06-02T08:55:37.026Z"
   },
   {
    "duration": 19,
    "start_time": "2023-06-02T08:55:38.081Z"
   },
   {
    "duration": 12,
    "start_time": "2023-06-02T08:55:38.102Z"
   },
   {
    "duration": 8,
    "start_time": "2023-06-02T08:55:38.115Z"
   },
   {
    "duration": 15,
    "start_time": "2023-06-02T08:55:38.125Z"
   },
   {
    "duration": 6,
    "start_time": "2023-06-02T08:55:38.142Z"
   },
   {
    "duration": 35,
    "start_time": "2023-06-02T08:55:38.151Z"
   },
   {
    "duration": 4,
    "start_time": "2023-06-02T08:55:38.188Z"
   },
   {
    "duration": 19,
    "start_time": "2023-06-02T08:55:38.193Z"
   },
   {
    "duration": 7,
    "start_time": "2023-06-02T09:10:32.679Z"
   },
   {
    "duration": 6,
    "start_time": "2023-06-02T09:11:00.584Z"
   },
   {
    "duration": 6,
    "start_time": "2023-06-02T09:13:34.153Z"
   },
   {
    "duration": 9,
    "start_time": "2023-06-02T09:14:28.057Z"
   },
   {
    "duration": 7,
    "start_time": "2023-06-02T09:14:57.958Z"
   },
   {
    "duration": 15,
    "start_time": "2023-06-02T09:15:31.875Z"
   },
   {
    "duration": 13,
    "start_time": "2023-06-02T09:15:41.760Z"
   },
   {
    "duration": 115,
    "start_time": "2023-06-02T09:16:17.380Z"
   },
   {
    "duration": 100,
    "start_time": "2023-06-02T09:17:29.100Z"
   },
   {
    "duration": 17,
    "start_time": "2023-06-02T09:17:36.056Z"
   },
   {
    "duration": 7,
    "start_time": "2023-06-02T09:18:30.707Z"
   },
   {
    "duration": 5,
    "start_time": "2023-06-02T09:19:36.817Z"
   },
   {
    "duration": 7,
    "start_time": "2023-06-02T09:20:51.713Z"
   },
   {
    "duration": 6,
    "start_time": "2023-06-02T09:23:38.865Z"
   },
   {
    "duration": 5,
    "start_time": "2023-06-02T09:25:21.765Z"
   },
   {
    "duration": 7,
    "start_time": "2023-06-02T09:26:36.165Z"
   },
   {
    "duration": 5,
    "start_time": "2023-06-02T09:27:15.253Z"
   },
   {
    "duration": 3,
    "start_time": "2023-06-02T09:31:18.773Z"
   },
   {
    "duration": 483,
    "start_time": "2023-06-02T09:37:28.750Z"
   },
   {
    "duration": 133,
    "start_time": "2023-06-02T09:38:35.499Z"
   },
   {
    "duration": 10,
    "start_time": "2023-06-02T09:41:59.223Z"
   },
   {
    "duration": 44,
    "start_time": "2023-06-02T09:42:46.846Z"
   },
   {
    "duration": 100,
    "start_time": "2023-06-02T09:55:14.615Z"
   },
   {
    "duration": 103,
    "start_time": "2023-06-02T09:55:27.379Z"
   },
   {
    "duration": 93,
    "start_time": "2023-06-02T09:56:00.409Z"
   },
   {
    "duration": 8,
    "start_time": "2023-06-02T09:59:13.706Z"
   },
   {
    "duration": 44,
    "start_time": "2023-06-02T09:59:30.273Z"
   },
   {
    "duration": 7,
    "start_time": "2023-06-02T10:00:13.588Z"
   },
   {
    "duration": 7,
    "start_time": "2023-06-02T10:00:17.353Z"
   },
   {
    "duration": 7,
    "start_time": "2023-06-02T10:00:22.423Z"
   },
   {
    "duration": 20,
    "start_time": "2023-06-02T10:00:23.777Z"
   },
   {
    "duration": 23,
    "start_time": "2023-06-02T10:01:31.828Z"
   },
   {
    "duration": 905,
    "start_time": "2023-06-02T10:01:44.873Z"
   },
   {
    "duration": 19,
    "start_time": "2023-06-02T10:01:54.261Z"
   },
   {
    "duration": 24,
    "start_time": "2023-06-02T10:02:28.591Z"
   },
   {
    "duration": 38,
    "start_time": "2023-06-02T10:02:36.881Z"
   },
   {
    "duration": 25,
    "start_time": "2023-06-02T10:02:59.870Z"
   },
   {
    "duration": 1496,
    "start_time": "2023-06-02T10:03:23.999Z"
   },
   {
    "duration": 8,
    "start_time": "2023-06-02T10:03:35.498Z"
   },
   {
    "duration": 7,
    "start_time": "2023-06-02T10:03:41.194Z"
   },
   {
    "duration": 28,
    "start_time": "2023-06-02T10:04:09.579Z"
   },
   {
    "duration": 6,
    "start_time": "2023-06-02T10:04:30.195Z"
   },
   {
    "duration": 34,
    "start_time": "2023-06-02T10:04:41.171Z"
   },
   {
    "duration": 16,
    "start_time": "2023-06-02T10:05:07.482Z"
   },
   {
    "duration": 8,
    "start_time": "2023-06-02T10:05:16.992Z"
   },
   {
    "duration": 8,
    "start_time": "2023-06-02T10:06:03.814Z"
   },
   {
    "duration": 20,
    "start_time": "2023-06-02T10:06:34.882Z"
   },
   {
    "duration": 19,
    "start_time": "2023-06-02T10:07:10.327Z"
   },
   {
    "duration": 20,
    "start_time": "2023-06-02T10:07:39.105Z"
   },
   {
    "duration": 19,
    "start_time": "2023-06-02T10:07:57.787Z"
   },
   {
    "duration": 27,
    "start_time": "2023-06-02T10:08:06.816Z"
   },
   {
    "duration": 18,
    "start_time": "2023-06-02T10:08:26.669Z"
   },
   {
    "duration": 23,
    "start_time": "2023-06-02T10:09:21.875Z"
   },
   {
    "duration": 27,
    "start_time": "2023-06-02T10:11:27.070Z"
   },
   {
    "duration": 16,
    "start_time": "2023-06-02T10:11:36.084Z"
   },
   {
    "duration": 12,
    "start_time": "2023-06-02T10:11:49.369Z"
   },
   {
    "duration": 5,
    "start_time": "2023-06-02T10:16:02.057Z"
   },
   {
    "duration": 9,
    "start_time": "2023-06-02T10:18:14.502Z"
   },
   {
    "duration": 20,
    "start_time": "2023-06-02T10:18:45.299Z"
   },
   {
    "duration": 17,
    "start_time": "2023-06-02T10:18:49.606Z"
   },
   {
    "duration": 16,
    "start_time": "2023-06-02T10:19:07.472Z"
   },
   {
    "duration": 14,
    "start_time": "2023-06-02T10:19:18.668Z"
   },
   {
    "duration": 20,
    "start_time": "2023-06-02T10:20:12.820Z"
   },
   {
    "duration": 50,
    "start_time": "2023-06-02T10:20:34.086Z"
   },
   {
    "duration": 0,
    "start_time": "2023-06-02T10:20:34.138Z"
   },
   {
    "duration": 0,
    "start_time": "2023-06-02T10:20:34.139Z"
   },
   {
    "duration": 0,
    "start_time": "2023-06-02T10:20:34.141Z"
   },
   {
    "duration": 0,
    "start_time": "2023-06-02T10:20:34.142Z"
   },
   {
    "duration": 0,
    "start_time": "2023-06-02T10:20:34.144Z"
   },
   {
    "duration": 0,
    "start_time": "2023-06-02T10:20:34.145Z"
   },
   {
    "duration": 0,
    "start_time": "2023-06-02T10:20:34.146Z"
   },
   {
    "duration": 0,
    "start_time": "2023-06-02T10:20:34.148Z"
   },
   {
    "duration": 0,
    "start_time": "2023-06-02T10:20:34.149Z"
   },
   {
    "duration": 0,
    "start_time": "2023-06-02T10:20:34.150Z"
   },
   {
    "duration": 0,
    "start_time": "2023-06-02T10:20:34.152Z"
   },
   {
    "duration": 0,
    "start_time": "2023-06-02T10:20:34.153Z"
   },
   {
    "duration": 0,
    "start_time": "2023-06-02T10:20:34.154Z"
   },
   {
    "duration": 0,
    "start_time": "2023-06-02T10:20:34.156Z"
   },
   {
    "duration": 0,
    "start_time": "2023-06-02T10:20:34.157Z"
   },
   {
    "duration": 0,
    "start_time": "2023-06-02T10:20:34.159Z"
   },
   {
    "duration": 0,
    "start_time": "2023-06-02T10:20:34.160Z"
   },
   {
    "duration": 1,
    "start_time": "2023-06-02T10:20:34.161Z"
   },
   {
    "duration": 0,
    "start_time": "2023-06-02T10:20:34.163Z"
   },
   {
    "duration": 0,
    "start_time": "2023-06-02T10:20:34.178Z"
   },
   {
    "duration": 0,
    "start_time": "2023-06-02T10:20:34.180Z"
   },
   {
    "duration": 0,
    "start_time": "2023-06-02T10:20:34.181Z"
   },
   {
    "duration": 0,
    "start_time": "2023-06-02T10:20:34.182Z"
   },
   {
    "duration": 0,
    "start_time": "2023-06-02T10:20:34.184Z"
   },
   {
    "duration": 0,
    "start_time": "2023-06-02T10:20:34.185Z"
   },
   {
    "duration": 0,
    "start_time": "2023-06-02T10:20:34.186Z"
   },
   {
    "duration": 0,
    "start_time": "2023-06-02T10:20:34.187Z"
   },
   {
    "duration": 0,
    "start_time": "2023-06-02T10:20:34.188Z"
   },
   {
    "duration": 0,
    "start_time": "2023-06-02T10:20:34.190Z"
   },
   {
    "duration": 0,
    "start_time": "2023-06-02T10:20:34.191Z"
   },
   {
    "duration": 0,
    "start_time": "2023-06-02T10:20:34.192Z"
   },
   {
    "duration": 0,
    "start_time": "2023-06-02T10:20:34.193Z"
   },
   {
    "duration": 146,
    "start_time": "2023-06-02T10:21:14.982Z"
   },
   {
    "duration": 4,
    "start_time": "2023-06-02T10:21:32.404Z"
   },
   {
    "duration": 1340,
    "start_time": "2023-06-02T10:21:32.410Z"
   },
   {
    "duration": 3,
    "start_time": "2023-06-02T10:21:33.751Z"
   },
   {
    "duration": 1156,
    "start_time": "2023-06-02T10:21:33.756Z"
   },
   {
    "duration": 20,
    "start_time": "2023-06-02T10:21:34.915Z"
   },
   {
    "duration": 26,
    "start_time": "2023-06-02T10:21:34.936Z"
   },
   {
    "duration": 7,
    "start_time": "2023-06-02T10:21:34.964Z"
   },
   {
    "duration": 31,
    "start_time": "2023-06-02T10:21:34.972Z"
   },
   {
    "duration": 31,
    "start_time": "2023-06-02T10:21:35.005Z"
   },
   {
    "duration": 24,
    "start_time": "2023-06-02T10:21:35.037Z"
   },
   {
    "duration": 37,
    "start_time": "2023-06-02T10:21:35.063Z"
   },
   {
    "duration": 29,
    "start_time": "2023-06-02T10:21:35.101Z"
   },
   {
    "duration": 11,
    "start_time": "2023-06-02T10:21:35.133Z"
   },
   {
    "duration": 27,
    "start_time": "2023-06-02T10:21:35.148Z"
   },
   {
    "duration": 46,
    "start_time": "2023-06-02T10:21:35.177Z"
   },
   {
    "duration": 28,
    "start_time": "2023-06-02T10:21:35.225Z"
   },
   {
    "duration": 13,
    "start_time": "2023-06-02T10:21:35.255Z"
   },
   {
    "duration": 46,
    "start_time": "2023-06-02T10:21:35.269Z"
   },
   {
    "duration": 13,
    "start_time": "2023-06-02T10:21:35.317Z"
   },
   {
    "duration": 7,
    "start_time": "2023-06-02T10:21:35.331Z"
   },
   {
    "duration": 59,
    "start_time": "2023-06-02T10:21:35.339Z"
   },
   {
    "duration": 391,
    "start_time": "2023-06-02T10:21:35.401Z"
   },
   {
    "duration": 15,
    "start_time": "2023-06-02T10:21:35.794Z"
   },
   {
    "duration": 255,
    "start_time": "2023-06-02T10:21:35.812Z"
   },
   {
    "duration": 29,
    "start_time": "2023-06-02T10:21:36.069Z"
   },
   {
    "duration": 25,
    "start_time": "2023-06-02T10:21:36.100Z"
   },
   {
    "duration": 23,
    "start_time": "2023-06-02T10:21:36.126Z"
   },
   {
    "duration": 42,
    "start_time": "2023-06-02T10:21:36.151Z"
   },
   {
    "duration": 19,
    "start_time": "2023-06-02T10:21:36.195Z"
   },
   {
    "duration": 11,
    "start_time": "2023-06-02T10:21:36.215Z"
   },
   {
    "duration": 39,
    "start_time": "2023-06-02T10:21:36.228Z"
   },
   {
    "duration": 58,
    "start_time": "2023-06-02T10:21:36.269Z"
   },
   {
    "duration": 22,
    "start_time": "2023-06-02T10:21:36.329Z"
   },
   {
    "duration": 17,
    "start_time": "2023-06-02T10:22:17.964Z"
   },
   {
    "duration": 4,
    "start_time": "2023-06-02T10:22:47.491Z"
   },
   {
    "duration": 1300,
    "start_time": "2023-06-02T10:22:47.497Z"
   },
   {
    "duration": 2,
    "start_time": "2023-06-02T10:22:48.799Z"
   },
   {
    "duration": 886,
    "start_time": "2023-06-02T10:22:48.803Z"
   },
   {
    "duration": 19,
    "start_time": "2023-06-02T10:22:49.692Z"
   },
   {
    "duration": 15,
    "start_time": "2023-06-02T10:22:49.713Z"
   },
   {
    "duration": 9,
    "start_time": "2023-06-02T10:22:49.730Z"
   },
   {
    "duration": 11,
    "start_time": "2023-06-02T10:22:49.741Z"
   },
   {
    "duration": 30,
    "start_time": "2023-06-02T10:22:49.754Z"
   },
   {
    "duration": 13,
    "start_time": "2023-06-02T10:22:49.786Z"
   },
   {
    "duration": 5,
    "start_time": "2023-06-02T10:22:49.803Z"
   },
   {
    "duration": 16,
    "start_time": "2023-06-02T10:22:49.809Z"
   },
   {
    "duration": 11,
    "start_time": "2023-06-02T10:22:49.827Z"
   },
   {
    "duration": 18,
    "start_time": "2023-06-02T10:22:49.840Z"
   },
   {
    "duration": 25,
    "start_time": "2023-06-02T10:22:49.859Z"
   },
   {
    "duration": 12,
    "start_time": "2023-06-02T10:22:49.886Z"
   },
   {
    "duration": 11,
    "start_time": "2023-06-02T10:22:49.900Z"
   },
   {
    "duration": 19,
    "start_time": "2023-06-02T10:22:49.913Z"
   },
   {
    "duration": 12,
    "start_time": "2023-06-02T10:22:49.934Z"
   },
   {
    "duration": 10,
    "start_time": "2023-06-02T10:22:49.948Z"
   },
   {
    "duration": 45,
    "start_time": "2023-06-02T10:22:49.960Z"
   },
   {
    "duration": 324,
    "start_time": "2023-06-02T10:22:50.007Z"
   },
   {
    "duration": 47,
    "start_time": "2023-06-02T10:22:50.333Z"
   },
   {
    "duration": 211,
    "start_time": "2023-06-02T10:22:50.382Z"
   },
   {
    "duration": 23,
    "start_time": "2023-06-02T10:22:50.595Z"
   },
   {
    "duration": 19,
    "start_time": "2023-06-02T10:22:50.621Z"
   },
   {
    "duration": 42,
    "start_time": "2023-06-02T10:22:50.641Z"
   },
   {
    "duration": 13,
    "start_time": "2023-06-02T10:22:50.685Z"
   },
   {
    "duration": 7,
    "start_time": "2023-06-02T10:22:50.702Z"
   },
   {
    "duration": 33,
    "start_time": "2023-06-02T10:22:50.710Z"
   },
   {
    "duration": 17,
    "start_time": "2023-06-02T10:22:50.744Z"
   },
   {
    "duration": 24,
    "start_time": "2023-06-02T10:22:50.762Z"
   },
   {
    "duration": 13,
    "start_time": "2023-06-02T10:22:50.787Z"
   },
   {
    "duration": 6,
    "start_time": "2023-06-02T10:23:53.566Z"
   },
   {
    "duration": 3537,
    "start_time": "2023-06-02T10:25:43.249Z"
   },
   {
    "duration": 3438,
    "start_time": "2023-06-02T10:26:18.668Z"
   },
   {
    "duration": 3,
    "start_time": "2023-06-02T11:52:16.773Z"
   },
   {
    "duration": 1292,
    "start_time": "2023-06-02T11:52:16.777Z"
   },
   {
    "duration": 0,
    "start_time": "2023-06-02T11:52:18.072Z"
   },
   {
    "duration": 0,
    "start_time": "2023-06-02T11:52:18.073Z"
   },
   {
    "duration": 0,
    "start_time": "2023-06-02T11:52:18.074Z"
   },
   {
    "duration": 0,
    "start_time": "2023-06-02T11:52:18.075Z"
   },
   {
    "duration": 0,
    "start_time": "2023-06-02T11:52:18.076Z"
   },
   {
    "duration": 0,
    "start_time": "2023-06-02T11:52:18.077Z"
   },
   {
    "duration": 0,
    "start_time": "2023-06-02T11:52:18.078Z"
   },
   {
    "duration": 0,
    "start_time": "2023-06-02T11:52:18.079Z"
   },
   {
    "duration": 0,
    "start_time": "2023-06-02T11:52:18.080Z"
   },
   {
    "duration": 0,
    "start_time": "2023-06-02T11:52:18.081Z"
   },
   {
    "duration": 0,
    "start_time": "2023-06-02T11:52:18.081Z"
   },
   {
    "duration": 0,
    "start_time": "2023-06-02T11:52:18.082Z"
   },
   {
    "duration": 0,
    "start_time": "2023-06-02T11:52:18.083Z"
   },
   {
    "duration": 0,
    "start_time": "2023-06-02T11:52:18.107Z"
   },
   {
    "duration": 0,
    "start_time": "2023-06-02T11:52:18.107Z"
   },
   {
    "duration": 0,
    "start_time": "2023-06-02T11:52:18.108Z"
   },
   {
    "duration": 0,
    "start_time": "2023-06-02T11:52:18.109Z"
   },
   {
    "duration": 0,
    "start_time": "2023-06-02T11:52:18.110Z"
   },
   {
    "duration": 0,
    "start_time": "2023-06-02T11:52:18.111Z"
   },
   {
    "duration": 0,
    "start_time": "2023-06-02T11:52:18.112Z"
   },
   {
    "duration": 0,
    "start_time": "2023-06-02T11:52:18.113Z"
   },
   {
    "duration": 0,
    "start_time": "2023-06-02T11:52:18.114Z"
   },
   {
    "duration": 0,
    "start_time": "2023-06-02T11:52:18.115Z"
   },
   {
    "duration": 0,
    "start_time": "2023-06-02T11:52:18.116Z"
   },
   {
    "duration": 0,
    "start_time": "2023-06-02T11:52:18.117Z"
   },
   {
    "duration": 0,
    "start_time": "2023-06-02T11:52:18.118Z"
   },
   {
    "duration": 0,
    "start_time": "2023-06-02T11:52:18.118Z"
   },
   {
    "duration": 0,
    "start_time": "2023-06-02T11:52:18.120Z"
   },
   {
    "duration": 1,
    "start_time": "2023-06-02T11:52:18.120Z"
   },
   {
    "duration": 1,
    "start_time": "2023-06-02T11:52:18.121Z"
   },
   {
    "duration": 0,
    "start_time": "2023-06-02T11:52:18.122Z"
   },
   {
    "duration": 0,
    "start_time": "2023-06-02T11:52:18.123Z"
   },
   {
    "duration": 0,
    "start_time": "2023-06-02T11:52:18.124Z"
   },
   {
    "duration": 75,
    "start_time": "2023-06-02T11:52:34.175Z"
   },
   {
    "duration": 0,
    "start_time": "2023-06-02T11:52:34.252Z"
   },
   {
    "duration": 0,
    "start_time": "2023-06-02T11:52:34.253Z"
   },
   {
    "duration": 0,
    "start_time": "2023-06-02T11:52:34.254Z"
   },
   {
    "duration": 0,
    "start_time": "2023-06-02T11:52:34.255Z"
   },
   {
    "duration": 0,
    "start_time": "2023-06-02T11:52:34.256Z"
   },
   {
    "duration": 0,
    "start_time": "2023-06-02T11:52:34.259Z"
   },
   {
    "duration": 0,
    "start_time": "2023-06-02T11:52:34.260Z"
   },
   {
    "duration": 0,
    "start_time": "2023-06-02T11:52:34.261Z"
   },
   {
    "duration": 0,
    "start_time": "2023-06-02T11:52:34.263Z"
   },
   {
    "duration": 0,
    "start_time": "2023-06-02T11:52:34.264Z"
   },
   {
    "duration": 0,
    "start_time": "2023-06-02T11:52:34.265Z"
   },
   {
    "duration": 0,
    "start_time": "2023-06-02T11:52:34.266Z"
   },
   {
    "duration": 0,
    "start_time": "2023-06-02T11:52:34.267Z"
   },
   {
    "duration": 0,
    "start_time": "2023-06-02T11:52:34.268Z"
   },
   {
    "duration": 0,
    "start_time": "2023-06-02T11:52:34.269Z"
   },
   {
    "duration": 0,
    "start_time": "2023-06-02T11:52:34.270Z"
   },
   {
    "duration": 0,
    "start_time": "2023-06-02T11:52:34.271Z"
   },
   {
    "duration": 0,
    "start_time": "2023-06-02T11:52:34.273Z"
   },
   {
    "duration": 0,
    "start_time": "2023-06-02T11:52:34.274Z"
   },
   {
    "duration": 0,
    "start_time": "2023-06-02T11:52:34.275Z"
   },
   {
    "duration": 0,
    "start_time": "2023-06-02T11:52:34.277Z"
   },
   {
    "duration": 0,
    "start_time": "2023-06-02T11:52:34.278Z"
   },
   {
    "duration": 0,
    "start_time": "2023-06-02T11:52:34.279Z"
   },
   {
    "duration": 0,
    "start_time": "2023-06-02T11:52:34.281Z"
   },
   {
    "duration": 0,
    "start_time": "2023-06-02T11:52:34.282Z"
   },
   {
    "duration": 0,
    "start_time": "2023-06-02T11:52:34.284Z"
   },
   {
    "duration": 0,
    "start_time": "2023-06-02T11:52:34.285Z"
   },
   {
    "duration": 0,
    "start_time": "2023-06-02T11:52:34.287Z"
   },
   {
    "duration": 0,
    "start_time": "2023-06-02T11:52:34.288Z"
   },
   {
    "duration": 0,
    "start_time": "2023-06-02T11:52:34.289Z"
   },
   {
    "duration": 0,
    "start_time": "2023-06-02T11:52:34.290Z"
   },
   {
    "duration": 0,
    "start_time": "2023-06-02T11:52:34.306Z"
   },
   {
    "duration": 0,
    "start_time": "2023-06-02T11:52:34.308Z"
   },
   {
    "duration": 0,
    "start_time": "2023-06-02T11:52:34.309Z"
   },
   {
    "duration": 2,
    "start_time": "2023-06-02T11:52:54.160Z"
   },
   {
    "duration": 1153,
    "start_time": "2023-06-02T11:52:54.906Z"
   },
   {
    "duration": 71,
    "start_time": "2023-06-02T11:53:26.713Z"
   },
   {
    "duration": 0,
    "start_time": "2023-06-02T11:53:26.786Z"
   },
   {
    "duration": 0,
    "start_time": "2023-06-02T11:53:26.787Z"
   },
   {
    "duration": 0,
    "start_time": "2023-06-02T11:53:26.788Z"
   },
   {
    "duration": 0,
    "start_time": "2023-06-02T11:53:26.788Z"
   },
   {
    "duration": 0,
    "start_time": "2023-06-02T11:53:26.790Z"
   },
   {
    "duration": 0,
    "start_time": "2023-06-02T11:53:26.791Z"
   },
   {
    "duration": 0,
    "start_time": "2023-06-02T11:53:26.792Z"
   },
   {
    "duration": 0,
    "start_time": "2023-06-02T11:53:26.793Z"
   },
   {
    "duration": 0,
    "start_time": "2023-06-02T11:53:26.794Z"
   },
   {
    "duration": 0,
    "start_time": "2023-06-02T11:53:26.795Z"
   },
   {
    "duration": 0,
    "start_time": "2023-06-02T11:53:26.797Z"
   },
   {
    "duration": 0,
    "start_time": "2023-06-02T11:53:26.798Z"
   },
   {
    "duration": 0,
    "start_time": "2023-06-02T11:53:26.799Z"
   },
   {
    "duration": 0,
    "start_time": "2023-06-02T11:53:26.800Z"
   },
   {
    "duration": 0,
    "start_time": "2023-06-02T11:53:26.801Z"
   },
   {
    "duration": 0,
    "start_time": "2023-06-02T11:53:26.803Z"
   },
   {
    "duration": 0,
    "start_time": "2023-06-02T11:53:26.804Z"
   },
   {
    "duration": 0,
    "start_time": "2023-06-02T11:53:26.805Z"
   },
   {
    "duration": 0,
    "start_time": "2023-06-02T11:53:26.806Z"
   },
   {
    "duration": 0,
    "start_time": "2023-06-02T11:53:26.807Z"
   },
   {
    "duration": 0,
    "start_time": "2023-06-02T11:53:26.808Z"
   },
   {
    "duration": 0,
    "start_time": "2023-06-02T11:53:26.810Z"
   },
   {
    "duration": 0,
    "start_time": "2023-06-02T11:53:26.811Z"
   },
   {
    "duration": 1,
    "start_time": "2023-06-02T11:53:26.811Z"
   },
   {
    "duration": 0,
    "start_time": "2023-06-02T11:53:26.813Z"
   },
   {
    "duration": 0,
    "start_time": "2023-06-02T11:53:26.814Z"
   },
   {
    "duration": 0,
    "start_time": "2023-06-02T11:53:26.815Z"
   },
   {
    "duration": 0,
    "start_time": "2023-06-02T11:53:26.816Z"
   },
   {
    "duration": 0,
    "start_time": "2023-06-02T11:53:26.818Z"
   },
   {
    "duration": 0,
    "start_time": "2023-06-02T11:53:26.819Z"
   },
   {
    "duration": 0,
    "start_time": "2023-06-02T11:53:26.820Z"
   },
   {
    "duration": 0,
    "start_time": "2023-06-02T11:53:26.821Z"
   },
   {
    "duration": 0,
    "start_time": "2023-06-02T11:53:26.821Z"
   },
   {
    "duration": 0,
    "start_time": "2023-06-02T11:53:26.822Z"
   },
   {
    "duration": 71,
    "start_time": "2023-06-02T11:54:13.351Z"
   },
   {
    "duration": 68,
    "start_time": "2023-06-02T11:55:21.281Z"
   },
   {
    "duration": 87,
    "start_time": "2023-06-02T11:56:46.191Z"
   },
   {
    "duration": 1132,
    "start_time": "2023-06-02T11:56:53.734Z"
   },
   {
    "duration": 2799,
    "start_time": "2023-06-02T11:57:47.758Z"
   },
   {
    "duration": 37,
    "start_time": "2023-06-02T11:58:16.201Z"
   },
   {
    "duration": 1793,
    "start_time": "2023-06-02T11:58:23.794Z"
   },
   {
    "duration": 1126,
    "start_time": "2023-06-02T11:58:25.589Z"
   },
   {
    "duration": 3,
    "start_time": "2023-06-02T11:58:26.716Z"
   },
   {
    "duration": 1179,
    "start_time": "2023-06-02T11:58:26.720Z"
   },
   {
    "duration": 16,
    "start_time": "2023-06-02T11:58:27.901Z"
   },
   {
    "duration": 13,
    "start_time": "2023-06-02T11:58:27.919Z"
   },
   {
    "duration": 6,
    "start_time": "2023-06-02T11:58:27.934Z"
   },
   {
    "duration": 11,
    "start_time": "2023-06-02T11:58:27.941Z"
   },
   {
    "duration": 4,
    "start_time": "2023-06-02T11:58:27.954Z"
   },
   {
    "duration": 10,
    "start_time": "2023-06-02T11:58:27.959Z"
   },
   {
    "duration": 3,
    "start_time": "2023-06-02T11:58:27.971Z"
   },
   {
    "duration": 34,
    "start_time": "2023-06-02T11:58:27.976Z"
   },
   {
    "duration": 16,
    "start_time": "2023-06-02T11:58:28.012Z"
   },
   {
    "duration": 6,
    "start_time": "2023-06-02T11:58:28.030Z"
   },
   {
    "duration": 8,
    "start_time": "2023-06-02T11:58:28.037Z"
   },
   {
    "duration": 6,
    "start_time": "2023-06-02T11:58:28.046Z"
   },
   {
    "duration": 7,
    "start_time": "2023-06-02T11:58:28.053Z"
   },
   {
    "duration": 14,
    "start_time": "2023-06-02T11:58:28.062Z"
   },
   {
    "duration": 6,
    "start_time": "2023-06-02T11:58:28.077Z"
   },
   {
    "duration": 8,
    "start_time": "2023-06-02T11:58:28.085Z"
   },
   {
    "duration": 37,
    "start_time": "2023-06-02T11:58:28.106Z"
   },
   {
    "duration": 272,
    "start_time": "2023-06-02T11:58:28.145Z"
   },
   {
    "duration": 8,
    "start_time": "2023-06-02T11:58:28.419Z"
   },
   {
    "duration": 185,
    "start_time": "2023-06-02T11:58:28.428Z"
   },
   {
    "duration": 14,
    "start_time": "2023-06-02T11:58:28.615Z"
   },
   {
    "duration": 14,
    "start_time": "2023-06-02T11:58:28.631Z"
   },
   {
    "duration": 15,
    "start_time": "2023-06-02T11:58:28.646Z"
   },
   {
    "duration": 12,
    "start_time": "2023-06-02T11:58:28.662Z"
   },
   {
    "duration": 32,
    "start_time": "2023-06-02T11:58:28.676Z"
   },
   {
    "duration": 13,
    "start_time": "2023-06-02T11:58:28.709Z"
   },
   {
    "duration": 17,
    "start_time": "2023-06-02T11:58:28.723Z"
   },
   {
    "duration": 12,
    "start_time": "2023-06-02T11:58:28.742Z"
   },
   {
    "duration": 11,
    "start_time": "2023-06-02T11:58:28.756Z"
   },
   {
    "duration": 4,
    "start_time": "2023-06-02T11:58:28.768Z"
   },
   {
    "duration": 2628,
    "start_time": "2023-06-02T11:58:28.774Z"
   },
   {
    "duration": 2852,
    "start_time": "2023-06-02T16:26:41.429Z"
   },
   {
    "duration": 1224,
    "start_time": "2023-06-02T16:26:44.283Z"
   },
   {
    "duration": 2,
    "start_time": "2023-06-02T16:26:45.509Z"
   },
   {
    "duration": 1140,
    "start_time": "2023-06-02T16:26:45.513Z"
   },
   {
    "duration": 17,
    "start_time": "2023-06-02T16:26:46.654Z"
   },
   {
    "duration": 11,
    "start_time": "2023-06-02T16:26:46.673Z"
   },
   {
    "duration": 6,
    "start_time": "2023-06-02T16:26:46.685Z"
   },
   {
    "duration": 4,
    "start_time": "2023-06-02T16:26:46.693Z"
   },
   {
    "duration": 10,
    "start_time": "2023-06-02T16:26:46.698Z"
   },
   {
    "duration": 16,
    "start_time": "2023-06-02T16:26:46.711Z"
   },
   {
    "duration": 11,
    "start_time": "2023-06-02T16:26:46.729Z"
   },
   {
    "duration": 14,
    "start_time": "2023-06-02T16:26:46.741Z"
   },
   {
    "duration": 12,
    "start_time": "2023-06-02T16:26:46.757Z"
   },
   {
    "duration": 19,
    "start_time": "2023-06-02T16:26:46.771Z"
   },
   {
    "duration": 13,
    "start_time": "2023-06-02T16:26:46.791Z"
   },
   {
    "duration": 11,
    "start_time": "2023-06-02T16:26:46.806Z"
   },
   {
    "duration": 16,
    "start_time": "2023-06-02T16:26:46.819Z"
   },
   {
    "duration": 22,
    "start_time": "2023-06-02T16:26:46.837Z"
   },
   {
    "duration": 16,
    "start_time": "2023-06-02T16:26:46.860Z"
   },
   {
    "duration": 37,
    "start_time": "2023-06-02T16:26:46.878Z"
   },
   {
    "duration": 39,
    "start_time": "2023-06-02T16:26:46.917Z"
   },
   {
    "duration": 340,
    "start_time": "2023-06-02T16:26:46.957Z"
   },
   {
    "duration": 6,
    "start_time": "2023-06-02T16:26:47.298Z"
   },
   {
    "duration": 201,
    "start_time": "2023-06-02T16:26:47.305Z"
   },
   {
    "duration": 14,
    "start_time": "2023-06-02T16:26:47.508Z"
   },
   {
    "duration": 16,
    "start_time": "2023-06-02T16:26:47.523Z"
   },
   {
    "duration": 33,
    "start_time": "2023-06-02T16:26:47.540Z"
   },
   {
    "duration": 12,
    "start_time": "2023-06-02T16:26:47.576Z"
   },
   {
    "duration": 6,
    "start_time": "2023-06-02T16:26:47.589Z"
   },
   {
    "duration": 12,
    "start_time": "2023-06-02T16:26:47.596Z"
   },
   {
    "duration": 21,
    "start_time": "2023-06-02T16:26:47.609Z"
   },
   {
    "duration": 12,
    "start_time": "2023-06-02T16:26:47.631Z"
   },
   {
    "duration": 11,
    "start_time": "2023-06-02T16:26:47.644Z"
   },
   {
    "duration": 11,
    "start_time": "2023-06-02T16:26:47.657Z"
   },
   {
    "duration": 2539,
    "start_time": "2023-06-02T16:26:47.670Z"
   },
   {
    "duration": 357,
    "start_time": "2023-06-02T16:27:57.211Z"
   },
   {
    "duration": 1321,
    "start_time": "2023-06-02T16:28:15.293Z"
   },
   {
    "duration": 1111,
    "start_time": "2023-06-02T16:28:44.682Z"
   },
   {
    "duration": 1136,
    "start_time": "2023-06-02T16:28:55.199Z"
   },
   {
    "duration": 1082,
    "start_time": "2023-06-02T16:29:40.208Z"
   },
   {
    "duration": 1060,
    "start_time": "2023-06-02T16:29:52.381Z"
   },
   {
    "duration": 305,
    "start_time": "2023-06-02T16:40:42.161Z"
   },
   {
    "duration": 101,
    "start_time": "2023-06-02T16:41:37.086Z"
   },
   {
    "duration": 301,
    "start_time": "2023-06-02T16:41:48.777Z"
   },
   {
    "duration": 304,
    "start_time": "2023-06-02T16:42:44.282Z"
   },
   {
    "duration": 21594,
    "start_time": "2023-06-02T16:53:43.998Z"
   },
   {
    "duration": 277,
    "start_time": "2023-06-02T16:55:23.299Z"
   },
   {
    "duration": 3,
    "start_time": "2023-06-02T17:19:47.355Z"
   },
   {
    "duration": 295,
    "start_time": "2023-06-02T17:44:14.155Z"
   },
   {
    "duration": 220,
    "start_time": "2023-06-02T17:44:29.865Z"
   },
   {
    "duration": 214,
    "start_time": "2023-06-02T17:45:26.148Z"
   },
   {
    "duration": 217,
    "start_time": "2023-06-02T17:46:18.423Z"
   },
   {
    "duration": 221,
    "start_time": "2023-06-02T17:47:04.430Z"
   },
   {
    "duration": 223,
    "start_time": "2023-06-02T17:47:19.329Z"
   },
   {
    "duration": 5,
    "start_time": "2023-06-02T18:06:12.477Z"
   },
   {
    "duration": 455,
    "start_time": "2023-06-02T18:06:34.143Z"
   },
   {
    "duration": 5,
    "start_time": "2023-06-02T18:26:59.196Z"
   },
   {
    "duration": 3,
    "start_time": "2023-06-02T18:33:22.651Z"
   },
   {
    "duration": 5,
    "start_time": "2023-06-02T18:33:26.124Z"
   },
   {
    "duration": 4,
    "start_time": "2023-06-02T18:33:41.591Z"
   },
   {
    "duration": 3,
    "start_time": "2023-06-02T18:33:53.958Z"
   },
   {
    "duration": 4,
    "start_time": "2023-06-02T18:33:54.813Z"
   },
   {
    "duration": 238,
    "start_time": "2023-06-02T18:34:41.155Z"
   },
   {
    "duration": 3,
    "start_time": "2023-06-02T18:34:58.945Z"
   },
   {
    "duration": 4,
    "start_time": "2023-06-02T18:35:00.993Z"
   },
   {
    "duration": 190,
    "start_time": "2023-06-02T18:35:10.013Z"
   },
   {
    "duration": 4,
    "start_time": "2023-06-02T18:36:04.125Z"
   },
   {
    "duration": 4,
    "start_time": "2023-06-02T18:36:04.619Z"
   },
   {
    "duration": 206,
    "start_time": "2023-06-02T18:36:05.570Z"
   },
   {
    "duration": 3,
    "start_time": "2023-06-02T18:36:55.459Z"
   },
   {
    "duration": 5,
    "start_time": "2023-06-02T18:36:56.223Z"
   },
   {
    "duration": 237,
    "start_time": "2023-06-02T18:36:56.668Z"
   },
   {
    "duration": 4,
    "start_time": "2023-06-02T18:37:06.275Z"
   },
   {
    "duration": 457,
    "start_time": "2023-06-02T18:37:07.496Z"
   },
   {
    "duration": 3,
    "start_time": "2023-06-02T18:51:01.215Z"
   },
   {
    "duration": 456,
    "start_time": "2023-06-02T18:51:13.898Z"
   },
   {
    "duration": 3222,
    "start_time": "2023-06-03T04:59:53.936Z"
   },
   {
    "duration": 1241,
    "start_time": "2023-06-03T04:59:57.160Z"
   },
   {
    "duration": 3,
    "start_time": "2023-06-03T04:59:58.404Z"
   },
   {
    "duration": 1177,
    "start_time": "2023-06-03T04:59:58.410Z"
   },
   {
    "duration": 17,
    "start_time": "2023-06-03T04:59:59.588Z"
   },
   {
    "duration": 15,
    "start_time": "2023-06-03T04:59:59.607Z"
   },
   {
    "duration": 20,
    "start_time": "2023-06-03T04:59:59.623Z"
   },
   {
    "duration": 11,
    "start_time": "2023-06-03T04:59:59.645Z"
   },
   {
    "duration": 6,
    "start_time": "2023-06-03T04:59:59.657Z"
   },
   {
    "duration": 14,
    "start_time": "2023-06-03T04:59:59.666Z"
   },
   {
    "duration": 6,
    "start_time": "2023-06-03T04:59:59.681Z"
   },
   {
    "duration": 14,
    "start_time": "2023-06-03T04:59:59.688Z"
   },
   {
    "duration": 9,
    "start_time": "2023-06-03T04:59:59.704Z"
   },
   {
    "duration": 12,
    "start_time": "2023-06-03T04:59:59.715Z"
   },
   {
    "duration": 12,
    "start_time": "2023-06-03T04:59:59.729Z"
   },
   {
    "duration": 4,
    "start_time": "2023-06-03T04:59:59.742Z"
   },
   {
    "duration": 6,
    "start_time": "2023-06-03T04:59:59.747Z"
   },
   {
    "duration": 5,
    "start_time": "2023-06-03T04:59:59.754Z"
   },
   {
    "duration": 26,
    "start_time": "2023-06-03T04:59:59.760Z"
   },
   {
    "duration": 6,
    "start_time": "2023-06-03T04:59:59.788Z"
   },
   {
    "duration": 45,
    "start_time": "2023-06-03T04:59:59.795Z"
   },
   {
    "duration": 291,
    "start_time": "2023-06-03T04:59:59.842Z"
   },
   {
    "duration": 65,
    "start_time": "2023-06-03T05:00:00.134Z"
   },
   {
    "duration": 183,
    "start_time": "2023-06-03T05:00:00.200Z"
   },
   {
    "duration": 25,
    "start_time": "2023-06-03T05:00:00.385Z"
   },
   {
    "duration": 60,
    "start_time": "2023-06-03T05:00:00.412Z"
   },
   {
    "duration": 53,
    "start_time": "2023-06-03T05:00:00.473Z"
   },
   {
    "duration": 82,
    "start_time": "2023-06-03T05:00:00.528Z"
   },
   {
    "duration": 38,
    "start_time": "2023-06-03T05:00:00.612Z"
   },
   {
    "duration": 36,
    "start_time": "2023-06-03T05:00:00.652Z"
   },
   {
    "duration": 36,
    "start_time": "2023-06-03T05:00:00.691Z"
   },
   {
    "duration": 42,
    "start_time": "2023-06-03T05:00:00.728Z"
   },
   {
    "duration": 37,
    "start_time": "2023-06-03T05:00:00.772Z"
   },
   {
    "duration": 34,
    "start_time": "2023-06-03T05:00:00.810Z"
   },
   {
    "duration": 2626,
    "start_time": "2023-06-03T05:00:00.846Z"
   },
   {
    "duration": 367,
    "start_time": "2023-06-03T05:00:03.473Z"
   },
   {
    "duration": 1154,
    "start_time": "2023-06-03T05:00:03.842Z"
   },
   {
    "duration": 418,
    "start_time": "2023-06-03T05:00:04.998Z"
   },
   {
    "duration": 23648,
    "start_time": "2023-06-03T05:00:05.418Z"
   },
   {
    "duration": 295,
    "start_time": "2023-06-03T05:00:29.067Z"
   },
   {
    "duration": 3,
    "start_time": "2023-06-03T05:00:29.363Z"
   },
   {
    "duration": 23,
    "start_time": "2023-06-03T05:00:29.367Z"
   },
   {
    "duration": 281,
    "start_time": "2023-06-03T05:00:29.397Z"
   },
   {
    "duration": 10,
    "start_time": "2023-06-03T05:00:29.680Z"
   },
   {
    "duration": 530,
    "start_time": "2023-06-03T05:00:29.692Z"
   },
   {
    "duration": 2,
    "start_time": "2023-06-03T05:00:30.224Z"
   },
   {
    "duration": 557,
    "start_time": "2023-06-03T05:00:30.227Z"
   },
   {
    "duration": 4,
    "start_time": "2023-06-03T05:11:46.081Z"
   },
   {
    "duration": 617,
    "start_time": "2023-06-03T05:11:47.193Z"
   },
   {
    "duration": 3,
    "start_time": "2023-06-03T05:12:06.224Z"
   },
   {
    "duration": 469,
    "start_time": "2023-06-03T05:12:06.680Z"
   },
   {
    "duration": 2,
    "start_time": "2023-06-03T05:28:10.332Z"
   },
   {
    "duration": 6,
    "start_time": "2023-06-03T05:28:34.165Z"
   },
   {
    "duration": 7,
    "start_time": "2023-06-03T05:30:44.401Z"
   },
   {
    "duration": 4,
    "start_time": "2023-06-03T05:30:59.768Z"
   },
   {
    "duration": 4,
    "start_time": "2023-06-03T05:31:14.625Z"
   },
   {
    "duration": 13,
    "start_time": "2023-06-03T05:43:25.017Z"
   },
   {
    "duration": 6,
    "start_time": "2023-06-03T05:43:47.900Z"
   },
   {
    "duration": 10,
    "start_time": "2023-06-03T05:47:57.060Z"
   },
   {
    "duration": 47,
    "start_time": "2023-06-03T05:53:26.514Z"
   },
   {
    "duration": 7,
    "start_time": "2023-06-03T05:54:05.607Z"
   },
   {
    "duration": 47,
    "start_time": "2023-06-03T05:56:52.506Z"
   },
   {
    "duration": 6,
    "start_time": "2023-06-03T05:57:23.219Z"
   },
   {
    "duration": 110,
    "start_time": "2023-06-03T06:29:21.374Z"
   },
   {
    "duration": 32,
    "start_time": "2023-06-03T06:40:07.511Z"
   },
   {
    "duration": 33,
    "start_time": "2023-06-03T06:40:37.806Z"
   },
   {
    "duration": 30,
    "start_time": "2023-06-03T06:41:05.507Z"
   },
   {
    "duration": 30,
    "start_time": "2023-06-03T06:41:10.740Z"
   },
   {
    "duration": 32,
    "start_time": "2023-06-03T06:41:18.512Z"
   },
   {
    "duration": 45,
    "start_time": "2023-06-03T06:42:51.977Z"
   },
   {
    "duration": 35,
    "start_time": "2023-06-03T06:43:21.363Z"
   },
   {
    "duration": 49,
    "start_time": "2023-06-03T06:43:45.756Z"
   },
   {
    "duration": 27,
    "start_time": "2023-06-03T06:44:14.446Z"
   },
   {
    "duration": 13,
    "start_time": "2023-06-03T06:46:56.310Z"
   },
   {
    "duration": 12,
    "start_time": "2023-06-03T06:47:17.422Z"
   },
   {
    "duration": 12,
    "start_time": "2023-06-03T07:08:02.558Z"
   },
   {
    "duration": 13,
    "start_time": "2023-06-03T07:08:15.412Z"
   },
   {
    "duration": 11,
    "start_time": "2023-06-03T07:09:14.810Z"
   },
   {
    "duration": 8,
    "start_time": "2023-06-03T07:09:38.544Z"
   },
   {
    "duration": 9,
    "start_time": "2023-06-03T07:09:42.271Z"
   },
   {
    "duration": 9,
    "start_time": "2023-06-03T07:09:47.011Z"
   },
   {
    "duration": 9,
    "start_time": "2023-06-03T07:09:50.911Z"
   },
   {
    "duration": 10,
    "start_time": "2023-06-03T07:10:01.225Z"
   },
   {
    "duration": 10,
    "start_time": "2023-06-03T07:10:04.870Z"
   },
   {
    "duration": 15,
    "start_time": "2023-06-03T07:10:09.516Z"
   },
   {
    "duration": 22,
    "start_time": "2023-06-03T07:10:16.199Z"
   },
   {
    "duration": 33,
    "start_time": "2023-06-03T07:10:52.376Z"
   },
   {
    "duration": 15,
    "start_time": "2023-06-03T07:11:18.406Z"
   },
   {
    "duration": 5,
    "start_time": "2023-06-03T07:12:04.445Z"
   },
   {
    "duration": 6,
    "start_time": "2023-06-03T07:12:17.244Z"
   },
   {
    "duration": 6,
    "start_time": "2023-06-03T07:12:22.177Z"
   },
   {
    "duration": 6,
    "start_time": "2023-06-03T07:13:40.556Z"
   },
   {
    "duration": 272,
    "start_time": "2023-06-03T07:13:42.862Z"
   },
   {
    "duration": 3,
    "start_time": "2023-06-03T07:32:06.047Z"
   },
   {
    "duration": 4,
    "start_time": "2023-06-03T07:32:09.404Z"
   },
   {
    "duration": 3,
    "start_time": "2023-06-03T07:32:41.657Z"
   },
   {
    "duration": 6,
    "start_time": "2023-06-03T07:32:47.641Z"
   },
   {
    "duration": 3,
    "start_time": "2023-06-03T07:33:34.057Z"
   },
   {
    "duration": 5,
    "start_time": "2023-06-03T07:34:07.044Z"
   },
   {
    "duration": 19,
    "start_time": "2023-06-03T07:34:11.799Z"
   },
   {
    "duration": 13,
    "start_time": "2023-06-03T07:34:52.283Z"
   },
   {
    "duration": 11,
    "start_time": "2023-06-03T07:34:59.106Z"
   },
   {
    "duration": 2909,
    "start_time": "2023-06-03T07:35:12.667Z"
   },
   {
    "duration": 1225,
    "start_time": "2023-06-03T07:35:15.578Z"
   },
   {
    "duration": 3,
    "start_time": "2023-06-03T07:35:16.807Z"
   },
   {
    "duration": 1186,
    "start_time": "2023-06-03T07:35:16.812Z"
   },
   {
    "duration": 29,
    "start_time": "2023-06-03T07:35:18.000Z"
   },
   {
    "duration": 15,
    "start_time": "2023-06-03T07:35:18.031Z"
   },
   {
    "duration": 5,
    "start_time": "2023-06-03T07:35:18.048Z"
   },
   {
    "duration": 8,
    "start_time": "2023-06-03T07:35:18.055Z"
   },
   {
    "duration": 9,
    "start_time": "2023-06-03T07:35:18.064Z"
   },
   {
    "duration": 25,
    "start_time": "2023-06-03T07:35:18.086Z"
   },
   {
    "duration": 15,
    "start_time": "2023-06-03T07:35:18.112Z"
   },
   {
    "duration": 16,
    "start_time": "2023-06-03T07:35:18.128Z"
   },
   {
    "duration": 7,
    "start_time": "2023-06-03T07:35:18.146Z"
   },
   {
    "duration": 8,
    "start_time": "2023-06-03T07:35:18.155Z"
   },
   {
    "duration": 7,
    "start_time": "2023-06-03T07:35:18.164Z"
   },
   {
    "duration": 6,
    "start_time": "2023-06-03T07:35:18.172Z"
   },
   {
    "duration": 31,
    "start_time": "2023-06-03T07:35:18.186Z"
   },
   {
    "duration": 12,
    "start_time": "2023-06-03T07:35:18.219Z"
   },
   {
    "duration": 14,
    "start_time": "2023-06-03T07:35:18.232Z"
   },
   {
    "duration": 9,
    "start_time": "2023-06-03T07:35:18.247Z"
   },
   {
    "duration": 59,
    "start_time": "2023-06-03T07:35:18.257Z"
   },
   {
    "duration": 491,
    "start_time": "2023-06-03T07:35:18.318Z"
   },
   {
    "duration": 15,
    "start_time": "2023-06-03T07:35:18.810Z"
   },
   {
    "duration": 229,
    "start_time": "2023-06-03T07:35:18.827Z"
   },
   {
    "duration": 13,
    "start_time": "2023-06-03T07:35:19.057Z"
   },
   {
    "duration": 17,
    "start_time": "2023-06-03T07:35:19.072Z"
   },
   {
    "duration": 18,
    "start_time": "2023-06-03T07:35:19.099Z"
   },
   {
    "duration": 14,
    "start_time": "2023-06-03T07:35:19.120Z"
   },
   {
    "duration": 4,
    "start_time": "2023-06-03T07:35:19.135Z"
   },
   {
    "duration": 9,
    "start_time": "2023-06-03T07:35:19.141Z"
   },
   {
    "duration": 18,
    "start_time": "2023-06-03T07:35:19.152Z"
   },
   {
    "duration": 30,
    "start_time": "2023-06-03T07:35:19.172Z"
   },
   {
    "duration": 14,
    "start_time": "2023-06-03T07:35:19.203Z"
   },
   {
    "duration": 4,
    "start_time": "2023-06-03T07:35:19.218Z"
   },
   {
    "duration": 2626,
    "start_time": "2023-06-03T07:35:19.223Z"
   },
   {
    "duration": 412,
    "start_time": "2023-06-03T07:35:21.851Z"
   },
   {
    "duration": 1212,
    "start_time": "2023-06-03T07:35:22.265Z"
   },
   {
    "duration": 378,
    "start_time": "2023-06-03T07:35:23.479Z"
   },
   {
    "duration": 22941,
    "start_time": "2023-06-03T07:35:23.858Z"
   },
   {
    "duration": 294,
    "start_time": "2023-06-03T07:35:46.802Z"
   },
   {
    "duration": 4,
    "start_time": "2023-06-03T07:35:47.098Z"
   },
   {
    "duration": 22,
    "start_time": "2023-06-03T07:35:47.103Z"
   },
   {
    "duration": 236,
    "start_time": "2023-06-03T07:35:47.127Z"
   },
   {
    "duration": 5,
    "start_time": "2023-06-03T07:35:47.364Z"
   },
   {
    "duration": 494,
    "start_time": "2023-06-03T07:35:47.370Z"
   },
   {
    "duration": 3,
    "start_time": "2023-06-03T07:35:47.865Z"
   },
   {
    "duration": 621,
    "start_time": "2023-06-03T07:35:47.869Z"
   },
   {
    "duration": 6,
    "start_time": "2023-06-03T07:35:48.491Z"
   },
   {
    "duration": 35,
    "start_time": "2023-06-03T07:35:48.498Z"
   },
   {
    "duration": 12,
    "start_time": "2023-06-03T07:35:48.534Z"
   },
   {
    "duration": 8,
    "start_time": "2023-06-03T07:35:48.548Z"
   },
   {
    "duration": 9,
    "start_time": "2023-06-03T07:35:48.558Z"
   },
   {
    "duration": 31,
    "start_time": "2023-06-03T07:35:48.569Z"
   },
   {
    "duration": 48,
    "start_time": "2023-06-03T07:35:48.602Z"
   },
   {
    "duration": 15,
    "start_time": "2023-06-03T07:35:48.652Z"
   },
   {
    "duration": 23,
    "start_time": "2023-06-03T10:29:31.483Z"
   },
   {
    "duration": 2989,
    "start_time": "2023-06-03T10:30:11.049Z"
   },
   {
    "duration": 1417,
    "start_time": "2023-06-03T10:30:14.041Z"
   },
   {
    "duration": 3,
    "start_time": "2023-06-03T10:30:15.459Z"
   },
   {
    "duration": 1198,
    "start_time": "2023-06-03T10:30:15.464Z"
   },
   {
    "duration": 26,
    "start_time": "2023-06-03T10:30:16.665Z"
   },
   {
    "duration": 69,
    "start_time": "2023-06-03T10:30:16.695Z"
   },
   {
    "duration": 60,
    "start_time": "2023-06-03T10:30:16.766Z"
   },
   {
    "duration": 70,
    "start_time": "2023-06-03T10:30:16.828Z"
   },
   {
    "duration": 79,
    "start_time": "2023-06-03T10:30:16.899Z"
   },
   {
    "duration": 126,
    "start_time": "2023-06-03T10:30:16.980Z"
   },
   {
    "duration": 155,
    "start_time": "2023-06-03T10:30:17.108Z"
   },
   {
    "duration": 101,
    "start_time": "2023-06-03T10:30:17.265Z"
   },
   {
    "duration": 12,
    "start_time": "2023-06-03T10:30:17.368Z"
   },
   {
    "duration": 81,
    "start_time": "2023-06-03T10:30:17.383Z"
   },
   {
    "duration": 8,
    "start_time": "2023-06-03T10:30:17.466Z"
   },
   {
    "duration": 87,
    "start_time": "2023-06-03T10:30:17.476Z"
   },
   {
    "duration": 14,
    "start_time": "2023-06-03T10:30:17.565Z"
   },
   {
    "duration": 88,
    "start_time": "2023-06-03T10:30:17.581Z"
   },
   {
    "duration": 53,
    "start_time": "2023-06-03T10:30:17.671Z"
   },
   {
    "duration": 145,
    "start_time": "2023-06-03T10:30:17.726Z"
   },
   {
    "duration": 149,
    "start_time": "2023-06-03T10:30:17.873Z"
   },
   {
    "duration": 509,
    "start_time": "2023-06-03T10:30:18.029Z"
   },
   {
    "duration": 9,
    "start_time": "2023-06-03T10:30:18.539Z"
   },
   {
    "duration": 314,
    "start_time": "2023-06-03T10:30:18.549Z"
   },
   {
    "duration": 17,
    "start_time": "2023-06-03T10:30:18.864Z"
   },
   {
    "duration": 132,
    "start_time": "2023-06-03T10:30:18.882Z"
   },
   {
    "duration": 117,
    "start_time": "2023-06-03T10:30:19.015Z"
   },
   {
    "duration": 53,
    "start_time": "2023-06-03T10:30:19.134Z"
   },
   {
    "duration": 14,
    "start_time": "2023-06-03T10:30:19.191Z"
   },
   {
    "duration": 50,
    "start_time": "2023-06-03T10:30:19.207Z"
   },
   {
    "duration": 22,
    "start_time": "2023-06-03T10:30:19.259Z"
   },
   {
    "duration": 49,
    "start_time": "2023-06-03T10:30:19.283Z"
   },
   {
    "duration": 28,
    "start_time": "2023-06-03T10:30:19.346Z"
   },
   {
    "duration": 56,
    "start_time": "2023-06-03T10:30:19.377Z"
   },
   {
    "duration": 3120,
    "start_time": "2023-06-03T10:30:19.437Z"
   },
   {
    "duration": 468,
    "start_time": "2023-06-03T10:30:22.563Z"
   },
   {
    "duration": 1457,
    "start_time": "2023-06-03T10:30:23.033Z"
   },
   {
    "duration": 597,
    "start_time": "2023-06-03T10:30:24.495Z"
   },
   {
    "duration": 28420,
    "start_time": "2023-06-03T10:30:25.102Z"
   },
   {
    "duration": 303,
    "start_time": "2023-06-03T10:30:53.526Z"
   },
   {
    "duration": 3,
    "start_time": "2023-06-03T10:30:53.835Z"
   },
   {
    "duration": 5,
    "start_time": "2023-06-03T10:30:53.841Z"
   },
   {
    "duration": 382,
    "start_time": "2023-06-03T10:30:53.848Z"
   },
   {
    "duration": 10,
    "start_time": "2023-06-03T10:30:54.232Z"
   },
   {
    "duration": 683,
    "start_time": "2023-06-03T10:30:54.243Z"
   },
   {
    "duration": 9,
    "start_time": "2023-06-03T10:30:54.930Z"
   },
   {
    "duration": 718,
    "start_time": "2023-06-03T10:30:54.940Z"
   },
   {
    "duration": 10,
    "start_time": "2023-06-03T10:30:55.660Z"
   },
   {
    "duration": 33,
    "start_time": "2023-06-03T10:30:55.671Z"
   },
   {
    "duration": 46,
    "start_time": "2023-06-03T10:30:55.705Z"
   },
   {
    "duration": 7,
    "start_time": "2023-06-03T10:30:55.753Z"
   },
   {
    "duration": 11,
    "start_time": "2023-06-03T10:30:55.763Z"
   },
   {
    "duration": 10,
    "start_time": "2023-06-03T10:31:07.616Z"
   },
   {
    "duration": 399,
    "start_time": "2023-06-03T10:31:19.239Z"
   },
   {
    "duration": 5,
    "start_time": "2023-06-03T10:31:37.451Z"
   },
   {
    "duration": 347,
    "start_time": "2023-06-03T10:31:39.806Z"
   },
   {
    "duration": 18,
    "start_time": "2023-06-03T10:32:15.884Z"
   },
   {
    "duration": 327,
    "start_time": "2023-06-03T10:32:17.051Z"
   },
   {
    "duration": 6,
    "start_time": "2023-06-03T10:32:43.269Z"
   },
   {
    "duration": 316,
    "start_time": "2023-06-03T10:32:43.902Z"
   },
   {
    "duration": 12,
    "start_time": "2023-06-03T10:33:19.688Z"
   },
   {
    "duration": 291,
    "start_time": "2023-06-03T10:33:20.644Z"
   },
   {
    "duration": 13,
    "start_time": "2023-06-03T10:33:49.801Z"
   },
   {
    "duration": 386,
    "start_time": "2023-06-03T10:33:50.067Z"
   },
   {
    "duration": 6,
    "start_time": "2023-06-03T10:36:32.873Z"
   },
   {
    "duration": 303,
    "start_time": "2023-06-03T10:37:04.171Z"
   },
   {
    "duration": 5,
    "start_time": "2023-06-03T10:37:57.675Z"
   },
   {
    "duration": 280,
    "start_time": "2023-06-03T10:37:58.771Z"
   },
   {
    "duration": 24,
    "start_time": "2023-06-03T10:45:17.905Z"
   },
   {
    "duration": 558,
    "start_time": "2023-06-03T10:45:24.721Z"
   },
   {
    "duration": 5,
    "start_time": "2023-06-03T10:45:49.972Z"
   },
   {
    "duration": 552,
    "start_time": "2023-06-03T10:45:50.842Z"
   },
   {
    "duration": 547,
    "start_time": "2023-06-03T10:49:51.520Z"
   },
   {
    "duration": 3,
    "start_time": "2023-06-03T10:50:57.954Z"
   },
   {
    "duration": 529,
    "start_time": "2023-06-03T10:50:58.909Z"
   },
   {
    "duration": 2035,
    "start_time": "2023-06-03T10:55:57.621Z"
   },
   {
    "duration": 1161,
    "start_time": "2023-06-03T10:55:59.659Z"
   },
   {
    "duration": 3,
    "start_time": "2023-06-03T10:56:00.821Z"
   },
   {
    "duration": 1108,
    "start_time": "2023-06-03T10:56:00.826Z"
   },
   {
    "duration": 22,
    "start_time": "2023-06-03T10:56:01.937Z"
   },
   {
    "duration": 112,
    "start_time": "2023-06-03T10:56:01.961Z"
   },
   {
    "duration": 46,
    "start_time": "2023-06-03T10:56:02.075Z"
   },
   {
    "duration": 9,
    "start_time": "2023-06-03T10:56:02.124Z"
   },
   {
    "duration": 5,
    "start_time": "2023-06-03T10:56:02.135Z"
   },
   {
    "duration": 14,
    "start_time": "2023-06-03T10:56:02.142Z"
   },
   {
    "duration": 5,
    "start_time": "2023-06-03T10:56:02.157Z"
   },
   {
    "duration": 46,
    "start_time": "2023-06-03T10:56:02.163Z"
   },
   {
    "duration": 27,
    "start_time": "2023-06-03T10:56:02.215Z"
   },
   {
    "duration": 7,
    "start_time": "2023-06-03T10:56:02.246Z"
   },
   {
    "duration": 16,
    "start_time": "2023-06-03T10:56:02.255Z"
   },
   {
    "duration": 8,
    "start_time": "2023-06-03T10:56:02.272Z"
   },
   {
    "duration": 77,
    "start_time": "2023-06-03T10:56:02.281Z"
   },
   {
    "duration": 10,
    "start_time": "2023-06-03T10:56:02.359Z"
   },
   {
    "duration": 9,
    "start_time": "2023-06-03T10:56:02.371Z"
   },
   {
    "duration": 71,
    "start_time": "2023-06-03T10:56:02.382Z"
   },
   {
    "duration": 63,
    "start_time": "2023-06-03T10:56:02.454Z"
   },
   {
    "duration": 326,
    "start_time": "2023-06-03T10:56:02.519Z"
   },
   {
    "duration": 6,
    "start_time": "2023-06-03T10:56:02.847Z"
   },
   {
    "duration": 306,
    "start_time": "2023-06-03T10:56:02.855Z"
   },
   {
    "duration": 19,
    "start_time": "2023-06-03T10:56:03.163Z"
   },
   {
    "duration": 33,
    "start_time": "2023-06-03T10:56:03.183Z"
   },
   {
    "duration": 36,
    "start_time": "2023-06-03T10:56:03.217Z"
   },
   {
    "duration": 11,
    "start_time": "2023-06-03T10:56:03.255Z"
   },
   {
    "duration": 4,
    "start_time": "2023-06-03T10:56:03.268Z"
   },
   {
    "duration": 7,
    "start_time": "2023-06-03T10:56:03.273Z"
   },
   {
    "duration": 24,
    "start_time": "2023-06-03T10:56:03.282Z"
   },
   {
    "duration": 30,
    "start_time": "2023-06-03T10:56:03.307Z"
   },
   {
    "duration": 9,
    "start_time": "2023-06-03T10:56:03.339Z"
   },
   {
    "duration": 3,
    "start_time": "2023-06-03T10:56:03.350Z"
   },
   {
    "duration": 2663,
    "start_time": "2023-06-03T10:56:03.355Z"
   },
   {
    "duration": 480,
    "start_time": "2023-06-03T10:56:06.020Z"
   },
   {
    "duration": 1166,
    "start_time": "2023-06-03T10:56:06.502Z"
   },
   {
    "duration": 403,
    "start_time": "2023-06-03T10:56:07.670Z"
   },
   {
    "duration": 23556,
    "start_time": "2023-06-03T10:56:08.090Z"
   },
   {
    "duration": 333,
    "start_time": "2023-06-03T10:56:31.647Z"
   },
   {
    "duration": 15,
    "start_time": "2023-06-03T10:56:31.984Z"
   },
   {
    "duration": 48,
    "start_time": "2023-06-03T10:56:32.000Z"
   },
   {
    "duration": 286,
    "start_time": "2023-06-03T10:56:32.050Z"
   },
   {
    "duration": 5,
    "start_time": "2023-06-03T10:56:32.337Z"
   },
   {
    "duration": 73,
    "start_time": "2023-06-03T10:56:32.344Z"
   },
   {
    "duration": 604,
    "start_time": "2023-06-03T10:56:32.423Z"
   },
   {
    "duration": 2,
    "start_time": "2023-06-03T10:56:33.029Z"
   },
   {
    "duration": 536,
    "start_time": "2023-06-03T10:56:33.033Z"
   },
   {
    "duration": 21,
    "start_time": "2023-06-03T10:56:33.570Z"
   },
   {
    "duration": 58,
    "start_time": "2023-06-03T10:56:33.592Z"
   },
   {
    "duration": 28,
    "start_time": "2023-06-03T10:56:33.652Z"
   },
   {
    "duration": 51,
    "start_time": "2023-06-03T10:56:33.682Z"
   },
   {
    "duration": 3,
    "start_time": "2023-06-03T11:17:02.474Z"
   },
   {
    "duration": 2281,
    "start_time": "2023-06-03T14:11:13.876Z"
   },
   {
    "duration": 1288,
    "start_time": "2023-06-03T14:11:16.160Z"
   },
   {
    "duration": 3,
    "start_time": "2023-06-03T14:11:17.449Z"
   },
   {
    "duration": 1095,
    "start_time": "2023-06-03T14:11:17.453Z"
   },
   {
    "duration": 17,
    "start_time": "2023-06-03T14:11:18.550Z"
   },
   {
    "duration": 41,
    "start_time": "2023-06-03T14:11:18.569Z"
   },
   {
    "duration": 18,
    "start_time": "2023-06-03T14:11:18.612Z"
   },
   {
    "duration": 10,
    "start_time": "2023-06-03T14:11:18.632Z"
   },
   {
    "duration": 5,
    "start_time": "2023-06-03T14:11:18.644Z"
   },
   {
    "duration": 14,
    "start_time": "2023-06-03T14:11:18.650Z"
   },
   {
    "duration": 11,
    "start_time": "2023-06-03T14:11:18.665Z"
   },
   {
    "duration": 54,
    "start_time": "2023-06-03T14:11:18.678Z"
   },
   {
    "duration": 16,
    "start_time": "2023-06-03T14:11:18.736Z"
   },
   {
    "duration": 8,
    "start_time": "2023-06-03T14:11:18.755Z"
   },
   {
    "duration": 8,
    "start_time": "2023-06-03T14:11:18.765Z"
   },
   {
    "duration": 7,
    "start_time": "2023-06-03T14:11:18.775Z"
   },
   {
    "duration": 60,
    "start_time": "2023-06-03T14:11:18.784Z"
   },
   {
    "duration": 9,
    "start_time": "2023-06-03T14:11:18.846Z"
   },
   {
    "duration": 10,
    "start_time": "2023-06-03T14:11:18.857Z"
   },
   {
    "duration": 8,
    "start_time": "2023-06-03T14:11:18.868Z"
   },
   {
    "duration": 65,
    "start_time": "2023-06-03T14:11:18.877Z"
   },
   {
    "duration": 459,
    "start_time": "2023-06-03T14:11:18.944Z"
   },
   {
    "duration": 8,
    "start_time": "2023-06-03T14:11:19.405Z"
   },
   {
    "duration": 236,
    "start_time": "2023-06-03T14:11:19.415Z"
   },
   {
    "duration": 15,
    "start_time": "2023-06-03T14:11:19.652Z"
   },
   {
    "duration": 38,
    "start_time": "2023-06-03T14:11:19.668Z"
   },
   {
    "duration": 35,
    "start_time": "2023-06-03T14:11:19.711Z"
   },
   {
    "duration": 12,
    "start_time": "2023-06-03T14:11:19.747Z"
   },
   {
    "duration": 4,
    "start_time": "2023-06-03T14:11:19.761Z"
   },
   {
    "duration": 12,
    "start_time": "2023-06-03T14:11:19.767Z"
   },
   {
    "duration": 68,
    "start_time": "2023-06-03T14:11:19.781Z"
   },
   {
    "duration": 12,
    "start_time": "2023-06-03T14:11:19.850Z"
   },
   {
    "duration": 10,
    "start_time": "2023-06-03T14:11:19.864Z"
   },
   {
    "duration": 5,
    "start_time": "2023-06-03T14:11:19.875Z"
   },
   {
    "duration": 2876,
    "start_time": "2023-06-03T14:11:19.881Z"
   },
   {
    "duration": 412,
    "start_time": "2023-06-03T14:11:22.759Z"
   },
   {
    "duration": 1324,
    "start_time": "2023-06-03T14:11:23.173Z"
   },
   {
    "duration": 433,
    "start_time": "2023-06-03T14:11:24.498Z"
   },
   {
    "duration": 25813,
    "start_time": "2023-06-03T14:11:24.935Z"
   },
   {
    "duration": 295,
    "start_time": "2023-06-03T14:11:50.750Z"
   },
   {
    "duration": 2,
    "start_time": "2023-06-03T14:11:51.050Z"
   },
   {
    "duration": 28,
    "start_time": "2023-06-03T14:11:51.054Z"
   },
   {
    "duration": 327,
    "start_time": "2023-06-03T14:11:51.083Z"
   },
   {
    "duration": 14,
    "start_time": "2023-06-03T14:11:51.426Z"
   },
   {
    "duration": 532,
    "start_time": "2023-06-03T14:11:51.441Z"
   },
   {
    "duration": 3,
    "start_time": "2023-06-03T14:11:51.975Z"
   },
   {
    "duration": 729,
    "start_time": "2023-06-03T14:11:51.997Z"
   },
   {
    "duration": 11,
    "start_time": "2023-06-03T14:11:52.732Z"
   },
   {
    "duration": 12,
    "start_time": "2023-06-03T14:11:52.746Z"
   },
   {
    "duration": 7,
    "start_time": "2023-06-03T14:11:52.759Z"
   },
   {
    "duration": 7,
    "start_time": "2023-06-03T14:11:52.768Z"
   },
   {
    "duration": 2402,
    "start_time": "2023-06-04T14:12:06.311Z"
   },
   {
    "duration": 1130,
    "start_time": "2023-06-04T14:12:08.715Z"
   },
   {
    "duration": 3,
    "start_time": "2023-06-04T14:12:09.846Z"
   },
   {
    "duration": 3810,
    "start_time": "2023-06-04T14:12:09.850Z"
   },
   {
    "duration": 27,
    "start_time": "2023-06-04T14:12:13.661Z"
   },
   {
    "duration": 13,
    "start_time": "2023-06-04T14:12:13.689Z"
   },
   {
    "duration": 6,
    "start_time": "2023-06-04T14:12:13.703Z"
   },
   {
    "duration": 4,
    "start_time": "2023-06-04T14:12:13.710Z"
   },
   {
    "duration": 19,
    "start_time": "2023-06-04T14:12:13.715Z"
   },
   {
    "duration": 23,
    "start_time": "2023-06-04T14:12:13.736Z"
   },
   {
    "duration": 4,
    "start_time": "2023-06-04T14:12:13.761Z"
   },
   {
    "duration": 30,
    "start_time": "2023-06-04T14:12:13.766Z"
   },
   {
    "duration": 6,
    "start_time": "2023-06-04T14:12:13.798Z"
   },
   {
    "duration": 7,
    "start_time": "2023-06-04T14:12:13.806Z"
   },
   {
    "duration": 6,
    "start_time": "2023-06-04T14:12:13.814Z"
   },
   {
    "duration": 5,
    "start_time": "2023-06-04T14:12:13.821Z"
   },
   {
    "duration": 6,
    "start_time": "2023-06-04T14:12:13.828Z"
   },
   {
    "duration": 8,
    "start_time": "2023-06-04T14:12:13.835Z"
   },
   {
    "duration": 18,
    "start_time": "2023-06-04T14:12:13.845Z"
   },
   {
    "duration": 16,
    "start_time": "2023-06-04T14:12:13.865Z"
   },
   {
    "duration": 43,
    "start_time": "2023-06-04T14:12:13.882Z"
   },
   {
    "duration": 570,
    "start_time": "2023-06-04T14:12:13.927Z"
   },
   {
    "duration": 6,
    "start_time": "2023-06-04T14:12:14.499Z"
   },
   {
    "duration": 200,
    "start_time": "2023-06-04T14:12:14.506Z"
   },
   {
    "duration": 14,
    "start_time": "2023-06-04T14:12:14.707Z"
   },
   {
    "duration": 15,
    "start_time": "2023-06-04T14:12:14.722Z"
   },
   {
    "duration": 15,
    "start_time": "2023-06-04T14:12:14.738Z"
   },
   {
    "duration": 15,
    "start_time": "2023-06-04T14:12:14.776Z"
   },
   {
    "duration": 5,
    "start_time": "2023-06-04T14:12:14.792Z"
   },
   {
    "duration": 9,
    "start_time": "2023-06-04T14:12:14.799Z"
   },
   {
    "duration": 16,
    "start_time": "2023-06-04T14:12:14.810Z"
   },
   {
    "duration": 14,
    "start_time": "2023-06-04T14:12:14.827Z"
   },
   {
    "duration": 45,
    "start_time": "2023-06-04T14:12:14.842Z"
   },
   {
    "duration": 7,
    "start_time": "2023-06-04T14:12:14.888Z"
   },
   {
    "duration": 2861,
    "start_time": "2023-06-04T14:12:14.897Z"
   },
   {
    "duration": 451,
    "start_time": "2023-06-04T14:12:17.760Z"
   },
   {
    "duration": 1324,
    "start_time": "2023-06-04T14:12:18.213Z"
   },
   {
    "duration": 470,
    "start_time": "2023-06-04T14:12:19.539Z"
   },
   {
    "duration": 29576,
    "start_time": "2023-06-04T14:12:20.011Z"
   },
   {
    "duration": 299,
    "start_time": "2023-06-04T14:12:49.589Z"
   },
   {
    "duration": 4,
    "start_time": "2023-06-04T14:12:49.890Z"
   },
   {
    "duration": 14,
    "start_time": "2023-06-04T14:12:49.896Z"
   },
   {
    "duration": 286,
    "start_time": "2023-06-04T14:12:49.911Z"
   },
   {
    "duration": 6,
    "start_time": "2023-06-04T14:12:50.199Z"
   },
   {
    "duration": 512,
    "start_time": "2023-06-04T14:12:50.206Z"
   },
   {
    "duration": 3,
    "start_time": "2023-06-04T14:12:50.719Z"
   },
   {
    "duration": 533,
    "start_time": "2023-06-04T14:12:50.724Z"
   },
   {
    "duration": 6,
    "start_time": "2023-06-04T14:12:51.259Z"
   },
   {
    "duration": 13,
    "start_time": "2023-06-04T14:12:51.276Z"
   },
   {
    "duration": 8,
    "start_time": "2023-06-04T14:12:51.291Z"
   },
   {
    "duration": 7,
    "start_time": "2023-06-04T14:12:51.300Z"
   },
   {
    "duration": 3912,
    "start_time": "2023-06-04T15:50:31.220Z"
   },
   {
    "duration": 1492,
    "start_time": "2023-06-04T15:50:35.134Z"
   },
   {
    "duration": 3,
    "start_time": "2023-06-04T15:50:36.628Z"
   },
   {
    "duration": 1131,
    "start_time": "2023-06-04T15:50:36.632Z"
   },
   {
    "duration": 31,
    "start_time": "2023-06-04T15:50:37.766Z"
   },
   {
    "duration": 23,
    "start_time": "2023-06-04T15:50:37.801Z"
   },
   {
    "duration": 12,
    "start_time": "2023-06-04T15:50:37.829Z"
   },
   {
    "duration": 11,
    "start_time": "2023-06-04T15:50:37.843Z"
   },
   {
    "duration": 5,
    "start_time": "2023-06-04T15:50:37.856Z"
   },
   {
    "duration": 23,
    "start_time": "2023-06-04T15:50:37.863Z"
   },
   {
    "duration": 4,
    "start_time": "2023-06-04T15:50:37.890Z"
   },
   {
    "duration": 25,
    "start_time": "2023-06-04T15:50:37.896Z"
   },
   {
    "duration": 7,
    "start_time": "2023-06-04T15:50:37.923Z"
   },
   {
    "duration": 9,
    "start_time": "2023-06-04T15:50:37.934Z"
   },
   {
    "duration": 6,
    "start_time": "2023-06-04T15:50:37.945Z"
   },
   {
    "duration": 6,
    "start_time": "2023-06-04T15:50:37.952Z"
   },
   {
    "duration": 21,
    "start_time": "2023-06-04T15:50:37.960Z"
   },
   {
    "duration": 13,
    "start_time": "2023-06-04T15:50:37.982Z"
   },
   {
    "duration": 6,
    "start_time": "2023-06-04T15:50:37.998Z"
   },
   {
    "duration": 18,
    "start_time": "2023-06-04T15:50:38.009Z"
   },
   {
    "duration": 46,
    "start_time": "2023-06-04T15:50:38.029Z"
   },
   {
    "duration": 500,
    "start_time": "2023-06-04T15:50:38.081Z"
   },
   {
    "duration": 11,
    "start_time": "2023-06-04T15:50:38.583Z"
   },
   {
    "duration": 227,
    "start_time": "2023-06-04T15:50:38.595Z"
   },
   {
    "duration": 15,
    "start_time": "2023-06-04T15:50:38.824Z"
   },
   {
    "duration": 21,
    "start_time": "2023-06-04T15:50:38.841Z"
   },
   {
    "duration": 30,
    "start_time": "2023-06-04T15:50:38.864Z"
   },
   {
    "duration": 16,
    "start_time": "2023-06-04T15:50:38.896Z"
   },
   {
    "duration": 5,
    "start_time": "2023-06-04T15:50:38.914Z"
   },
   {
    "duration": 7,
    "start_time": "2023-06-04T15:50:38.921Z"
   },
   {
    "duration": 16,
    "start_time": "2023-06-04T15:50:38.930Z"
   },
   {
    "duration": 58,
    "start_time": "2023-06-04T15:50:38.947Z"
   },
   {
    "duration": 18,
    "start_time": "2023-06-04T15:50:39.007Z"
   },
   {
    "duration": 7,
    "start_time": "2023-06-04T15:50:39.027Z"
   },
   {
    "duration": 3717,
    "start_time": "2023-06-04T15:50:39.036Z"
   },
   {
    "duration": 521,
    "start_time": "2023-06-04T15:50:42.755Z"
   },
   {
    "duration": 1641,
    "start_time": "2023-06-04T15:50:43.283Z"
   },
   {
    "duration": 496,
    "start_time": "2023-06-04T15:50:44.932Z"
   },
   {
    "duration": 36449,
    "start_time": "2023-06-04T15:50:45.431Z"
   },
   {
    "duration": 432,
    "start_time": "2023-06-04T15:51:21.883Z"
   },
   {
    "duration": 14,
    "start_time": "2023-06-04T15:51:22.320Z"
   },
   {
    "duration": 7,
    "start_time": "2023-06-04T15:51:22.340Z"
   },
   {
    "duration": 388,
    "start_time": "2023-06-04T15:51:22.349Z"
   },
   {
    "duration": 8,
    "start_time": "2023-06-04T15:51:22.740Z"
   },
   {
    "duration": 730,
    "start_time": "2023-06-04T15:51:22.750Z"
   },
   {
    "duration": 4,
    "start_time": "2023-06-04T15:51:23.485Z"
   },
   {
    "duration": 690,
    "start_time": "2023-06-04T15:51:23.494Z"
   },
   {
    "duration": 12,
    "start_time": "2023-06-04T15:51:24.190Z"
   },
   {
    "duration": 24,
    "start_time": "2023-06-04T15:51:24.207Z"
   },
   {
    "duration": 21,
    "start_time": "2023-06-04T15:51:24.237Z"
   },
   {
    "duration": 11,
    "start_time": "2023-06-04T15:51:24.261Z"
   },
   {
    "duration": 17,
    "start_time": "2023-06-04T15:51:39.745Z"
   },
   {
    "duration": 7,
    "start_time": "2023-06-04T15:53:58.106Z"
   },
   {
    "duration": 22,
    "start_time": "2023-06-04T15:54:07.969Z"
   },
   {
    "duration": 2574,
    "start_time": "2023-06-04T16:48:22.816Z"
   },
   {
    "duration": 1293,
    "start_time": "2023-06-04T16:48:25.392Z"
   },
   {
    "duration": 4,
    "start_time": "2023-06-04T16:48:26.687Z"
   },
   {
    "duration": 3660,
    "start_time": "2023-06-04T16:48:26.695Z"
   },
   {
    "duration": 18,
    "start_time": "2023-06-04T16:48:30.358Z"
   },
   {
    "duration": 32,
    "start_time": "2023-06-04T16:48:30.378Z"
   },
   {
    "duration": 29,
    "start_time": "2023-06-04T16:48:30.411Z"
   },
   {
    "duration": 36,
    "start_time": "2023-06-04T16:48:30.442Z"
   },
   {
    "duration": 22,
    "start_time": "2023-06-04T16:48:30.480Z"
   },
   {
    "duration": 30,
    "start_time": "2023-06-04T16:48:30.503Z"
   },
   {
    "duration": 32,
    "start_time": "2023-06-04T16:48:30.534Z"
   },
   {
    "duration": 49,
    "start_time": "2023-06-04T16:48:30.567Z"
   },
   {
    "duration": 36,
    "start_time": "2023-06-04T16:48:30.618Z"
   },
   {
    "duration": 44,
    "start_time": "2023-06-04T16:48:30.658Z"
   },
   {
    "duration": 29,
    "start_time": "2023-06-04T16:48:30.704Z"
   },
   {
    "duration": 45,
    "start_time": "2023-06-04T16:48:30.735Z"
   },
   {
    "duration": 53,
    "start_time": "2023-06-04T16:48:30.782Z"
   },
   {
    "duration": 28,
    "start_time": "2023-06-04T16:48:30.838Z"
   },
   {
    "duration": 19,
    "start_time": "2023-06-04T16:48:30.867Z"
   },
   {
    "duration": 47,
    "start_time": "2023-06-04T16:48:30.888Z"
   },
   {
    "duration": 15,
    "start_time": "2023-06-04T16:48:30.936Z"
   },
   {
    "duration": 35,
    "start_time": "2023-06-04T16:48:30.952Z"
   },
   {
    "duration": 41,
    "start_time": "2023-06-04T16:48:30.989Z"
   },
   {
    "duration": 67,
    "start_time": "2023-06-04T16:48:31.032Z"
   },
   {
    "duration": 327,
    "start_time": "2023-06-04T16:48:31.102Z"
   },
   {
    "duration": 396,
    "start_time": "2023-06-04T16:48:31.430Z"
   },
   {
    "duration": 0,
    "start_time": "2023-06-04T16:48:31.828Z"
   },
   {
    "duration": 0,
    "start_time": "2023-06-04T16:48:31.829Z"
   },
   {
    "duration": 0,
    "start_time": "2023-06-04T16:48:31.830Z"
   },
   {
    "duration": 0,
    "start_time": "2023-06-04T16:48:31.832Z"
   },
   {
    "duration": 0,
    "start_time": "2023-06-04T16:48:31.833Z"
   },
   {
    "duration": 0,
    "start_time": "2023-06-04T16:48:31.835Z"
   },
   {
    "duration": 0,
    "start_time": "2023-06-04T16:48:31.837Z"
   },
   {
    "duration": 0,
    "start_time": "2023-06-04T16:48:31.838Z"
   },
   {
    "duration": 0,
    "start_time": "2023-06-04T16:48:31.839Z"
   },
   {
    "duration": 0,
    "start_time": "2023-06-04T16:48:31.841Z"
   },
   {
    "duration": 0,
    "start_time": "2023-06-04T16:48:31.842Z"
   },
   {
    "duration": 0,
    "start_time": "2023-06-04T16:48:31.843Z"
   },
   {
    "duration": 0,
    "start_time": "2023-06-04T16:48:31.844Z"
   },
   {
    "duration": 0,
    "start_time": "2023-06-04T16:48:31.846Z"
   },
   {
    "duration": 0,
    "start_time": "2023-06-04T16:48:31.847Z"
   },
   {
    "duration": 0,
    "start_time": "2023-06-04T16:48:31.848Z"
   },
   {
    "duration": 9553,
    "start_time": "2023-06-04T16:49:26.707Z"
   },
   {
    "duration": 10,
    "start_time": "2023-06-04T16:55:59.031Z"
   },
   {
    "duration": 10,
    "start_time": "2023-06-04T16:56:06.515Z"
   },
   {
    "duration": 14,
    "start_time": "2023-06-04T16:56:25.544Z"
   },
   {
    "duration": 447,
    "start_time": "2023-06-04T16:56:31.267Z"
   },
   {
    "duration": 1380,
    "start_time": "2023-06-04T16:56:39.222Z"
   },
   {
    "duration": 670,
    "start_time": "2023-06-04T16:56:47.346Z"
   },
   {
    "duration": 2396,
    "start_time": "2023-06-04T17:04:25.812Z"
   },
   {
    "duration": 1226,
    "start_time": "2023-06-04T17:04:28.211Z"
   },
   {
    "duration": 3,
    "start_time": "2023-06-04T17:04:29.439Z"
   },
   {
    "duration": 1004,
    "start_time": "2023-06-04T17:04:29.444Z"
   },
   {
    "duration": 17,
    "start_time": "2023-06-04T17:04:30.451Z"
   },
   {
    "duration": 34,
    "start_time": "2023-06-04T17:04:30.470Z"
   },
   {
    "duration": 44,
    "start_time": "2023-06-04T17:04:30.506Z"
   },
   {
    "duration": 38,
    "start_time": "2023-06-04T17:04:30.552Z"
   },
   {
    "duration": 28,
    "start_time": "2023-06-04T17:04:30.592Z"
   },
   {
    "duration": 37,
    "start_time": "2023-06-04T17:04:30.622Z"
   },
   {
    "duration": 42,
    "start_time": "2023-06-04T17:04:30.661Z"
   },
   {
    "duration": 48,
    "start_time": "2023-06-04T17:04:30.705Z"
   },
   {
    "duration": 38,
    "start_time": "2023-06-04T17:04:30.755Z"
   },
   {
    "duration": 13,
    "start_time": "2023-06-04T17:04:30.798Z"
   },
   {
    "duration": 20,
    "start_time": "2023-06-04T17:04:30.813Z"
   },
   {
    "duration": 24,
    "start_time": "2023-06-04T17:04:30.835Z"
   },
   {
    "duration": 46,
    "start_time": "2023-06-04T17:04:30.861Z"
   },
   {
    "duration": 29,
    "start_time": "2023-06-04T17:04:30.909Z"
   },
   {
    "duration": 22,
    "start_time": "2023-06-04T17:04:30.940Z"
   },
   {
    "duration": 33,
    "start_time": "2023-06-04T17:04:30.964Z"
   },
   {
    "duration": 12,
    "start_time": "2023-06-04T17:04:31.002Z"
   },
   {
    "duration": 21,
    "start_time": "2023-06-04T17:04:31.016Z"
   },
   {
    "duration": 18,
    "start_time": "2023-06-04T17:04:31.039Z"
   },
   {
    "duration": 83,
    "start_time": "2023-06-04T17:04:31.059Z"
   },
   {
    "duration": 357,
    "start_time": "2023-06-04T17:04:31.144Z"
   },
   {
    "duration": 9911,
    "start_time": "2023-06-04T17:04:31.508Z"
   },
   {
    "duration": 487,
    "start_time": "2023-06-04T17:04:41.421Z"
   },
   {
    "duration": 1385,
    "start_time": "2023-06-04T17:04:41.914Z"
   },
   {
    "duration": 325,
    "start_time": "2023-06-04T17:04:43.301Z"
   },
   {
    "duration": 137,
    "start_time": "2023-06-04T17:04:43.628Z"
   },
   {
    "duration": 0,
    "start_time": "2023-06-04T17:04:43.775Z"
   },
   {
    "duration": 0,
    "start_time": "2023-06-04T17:04:43.776Z"
   },
   {
    "duration": 0,
    "start_time": "2023-06-04T17:04:43.777Z"
   },
   {
    "duration": 0,
    "start_time": "2023-06-04T17:04:43.778Z"
   },
   {
    "duration": 0,
    "start_time": "2023-06-04T17:04:43.779Z"
   },
   {
    "duration": 0,
    "start_time": "2023-06-04T17:04:43.779Z"
   },
   {
    "duration": 0,
    "start_time": "2023-06-04T17:04:43.783Z"
   },
   {
    "duration": 0,
    "start_time": "2023-06-04T17:04:43.784Z"
   },
   {
    "duration": 1,
    "start_time": "2023-06-04T17:04:43.784Z"
   },
   {
    "duration": 0,
    "start_time": "2023-06-04T17:04:43.785Z"
   },
   {
    "duration": 0,
    "start_time": "2023-06-04T17:04:43.786Z"
   },
   {
    "duration": 0,
    "start_time": "2023-06-04T17:04:43.786Z"
   },
   {
    "duration": 35904,
    "start_time": "2023-06-04T17:06:55.817Z"
   },
   {
    "duration": 328,
    "start_time": "2023-06-04T17:17:11.028Z"
   },
   {
    "duration": 3,
    "start_time": "2023-06-04T17:19:27.524Z"
   },
   {
    "duration": 15,
    "start_time": "2023-06-04T17:19:29.276Z"
   },
   {
    "duration": 15,
    "start_time": "2023-06-04T17:19:32.106Z"
   },
   {
    "duration": 6,
    "start_time": "2023-06-04T17:20:03.199Z"
   },
   {
    "duration": 345,
    "start_time": "2023-06-04T17:20:04.054Z"
   },
   {
    "duration": 6,
    "start_time": "2023-06-04T17:20:57.666Z"
   },
   {
    "duration": 19,
    "start_time": "2023-06-04T17:20:59.402Z"
   },
   {
    "duration": 6,
    "start_time": "2023-06-04T17:21:21.399Z"
   },
   {
    "duration": 365,
    "start_time": "2023-06-04T17:21:21.901Z"
   },
   {
    "duration": 8,
    "start_time": "2023-06-04T17:21:58.149Z"
   },
   {
    "duration": 371,
    "start_time": "2023-06-04T17:21:58.799Z"
   },
   {
    "duration": 13,
    "start_time": "2023-06-04T17:22:21.790Z"
   },
   {
    "duration": 398,
    "start_time": "2023-06-04T17:22:22.607Z"
   },
   {
    "duration": 6,
    "start_time": "2023-06-04T17:22:31.945Z"
   },
   {
    "duration": 390,
    "start_time": "2023-06-04T17:22:32.446Z"
   },
   {
    "duration": 7,
    "start_time": "2023-06-04T17:25:00.112Z"
   },
   {
    "duration": 415,
    "start_time": "2023-06-04T17:25:00.671Z"
   },
   {
    "duration": 15,
    "start_time": "2023-06-04T17:25:14.095Z"
   },
   {
    "duration": 376,
    "start_time": "2023-06-04T17:25:14.614Z"
   },
   {
    "duration": 7,
    "start_time": "2023-06-04T17:25:31.808Z"
   },
   {
    "duration": 389,
    "start_time": "2023-06-04T17:25:32.362Z"
   },
   {
    "duration": 6,
    "start_time": "2023-06-04T17:25:49.528Z"
   },
   {
    "duration": 371,
    "start_time": "2023-06-04T17:25:50.158Z"
   },
   {
    "duration": 6,
    "start_time": "2023-06-04T17:30:28.769Z"
   },
   {
    "duration": 679,
    "start_time": "2023-06-04T17:30:30.068Z"
   },
   {
    "duration": 653,
    "start_time": "2023-06-04T17:31:30.799Z"
   },
   {
    "duration": 635,
    "start_time": "2023-06-04T17:31:42.008Z"
   },
   {
    "duration": 625,
    "start_time": "2023-06-04T17:32:16.267Z"
   },
   {
    "duration": 649,
    "start_time": "2023-06-04T17:32:22.800Z"
   },
   {
    "duration": 653,
    "start_time": "2023-06-04T17:32:28.363Z"
   },
   {
    "duration": 4,
    "start_time": "2023-06-04T17:32:38.834Z"
   },
   {
    "duration": 644,
    "start_time": "2023-06-04T17:32:44.890Z"
   },
   {
    "duration": 7,
    "start_time": "2023-06-04T17:33:15.099Z"
   },
   {
    "duration": 657,
    "start_time": "2023-06-04T17:33:15.740Z"
   },
   {
    "duration": 9,
    "start_time": "2023-06-04T17:34:04.621Z"
   },
   {
    "duration": 10,
    "start_time": "2023-06-04T17:34:09.388Z"
   },
   {
    "duration": 644,
    "start_time": "2023-06-04T17:34:15.675Z"
   },
   {
    "duration": 631,
    "start_time": "2023-06-04T17:34:46.687Z"
   },
   {
    "duration": 652,
    "start_time": "2023-06-04T17:35:29.732Z"
   },
   {
    "duration": 646,
    "start_time": "2023-06-04T17:35:35.749Z"
   },
   {
    "duration": 615,
    "start_time": "2023-06-04T17:35:42.615Z"
   },
   {
    "duration": 632,
    "start_time": "2023-06-04T17:35:51.586Z"
   },
   {
    "duration": 650,
    "start_time": "2023-06-04T17:36:16.102Z"
   },
   {
    "duration": 686,
    "start_time": "2023-06-04T17:36:29.384Z"
   },
   {
    "duration": 629,
    "start_time": "2023-06-04T17:36:36.852Z"
   },
   {
    "duration": 977,
    "start_time": "2023-06-04T17:37:05.957Z"
   },
   {
    "duration": 682,
    "start_time": "2023-06-04T17:37:15.642Z"
   },
   {
    "duration": 3,
    "start_time": "2023-06-04T17:39:00.020Z"
   },
   {
    "duration": 624,
    "start_time": "2023-06-04T17:39:00.796Z"
   },
   {
    "duration": 2249,
    "start_time": "2023-06-04T17:43:09.189Z"
   },
   {
    "duration": 1156,
    "start_time": "2023-06-04T17:43:11.440Z"
   },
   {
    "duration": 3,
    "start_time": "2023-06-04T17:43:12.598Z"
   },
   {
    "duration": 937,
    "start_time": "2023-06-04T17:43:12.602Z"
   },
   {
    "duration": 18,
    "start_time": "2023-06-04T17:43:13.541Z"
   },
   {
    "duration": 14,
    "start_time": "2023-06-04T17:43:13.561Z"
   },
   {
    "duration": 11,
    "start_time": "2023-06-04T17:43:13.581Z"
   },
   {
    "duration": 4,
    "start_time": "2023-06-04T17:43:13.594Z"
   },
   {
    "duration": 6,
    "start_time": "2023-06-04T17:43:13.599Z"
   },
   {
    "duration": 14,
    "start_time": "2023-06-04T17:43:13.607Z"
   },
   {
    "duration": 4,
    "start_time": "2023-06-04T17:43:13.622Z"
   },
   {
    "duration": 14,
    "start_time": "2023-06-04T17:43:13.628Z"
   },
   {
    "duration": 33,
    "start_time": "2023-06-04T17:43:13.644Z"
   },
   {
    "duration": 8,
    "start_time": "2023-06-04T17:43:13.681Z"
   },
   {
    "duration": 13,
    "start_time": "2023-06-04T17:43:13.690Z"
   },
   {
    "duration": 5,
    "start_time": "2023-06-04T17:43:13.705Z"
   },
   {
    "duration": 4,
    "start_time": "2023-06-04T17:43:13.712Z"
   },
   {
    "duration": 13,
    "start_time": "2023-06-04T17:43:13.718Z"
   },
   {
    "duration": 5,
    "start_time": "2023-06-04T17:43:13.733Z"
   },
   {
    "duration": 51,
    "start_time": "2023-06-04T17:43:13.739Z"
   },
   {
    "duration": 5,
    "start_time": "2023-06-04T17:43:13.792Z"
   },
   {
    "duration": 6,
    "start_time": "2023-06-04T17:43:13.798Z"
   },
   {
    "duration": 7,
    "start_time": "2023-06-04T17:43:13.805Z"
   },
   {
    "duration": 36,
    "start_time": "2023-06-04T17:43:13.813Z"
   },
   {
    "duration": 350,
    "start_time": "2023-06-04T17:43:13.878Z"
   },
   {
    "duration": 9258,
    "start_time": "2023-06-04T17:43:14.278Z"
   },
   {
    "duration": 452,
    "start_time": "2023-06-04T17:43:23.537Z"
   },
   {
    "duration": 1479,
    "start_time": "2023-06-04T17:43:23.991Z"
   },
   {
    "duration": 345,
    "start_time": "2023-06-04T17:43:25.472Z"
   },
   {
    "duration": 30169,
    "start_time": "2023-06-04T17:43:25.819Z"
   },
   {
    "duration": 327,
    "start_time": "2023-06-04T17:43:55.990Z"
   },
   {
    "duration": 3,
    "start_time": "2023-06-04T17:43:56.320Z"
   },
   {
    "duration": 8,
    "start_time": "2023-06-04T17:43:56.325Z"
   },
   {
    "duration": 378,
    "start_time": "2023-06-04T17:43:56.334Z"
   },
   {
    "duration": 6,
    "start_time": "2023-06-04T17:43:56.713Z"
   },
   {
    "duration": 587,
    "start_time": "2023-06-04T17:43:56.720Z"
   },
   {
    "duration": 2,
    "start_time": "2023-06-04T17:43:57.309Z"
   },
   {
    "duration": 659,
    "start_time": "2023-06-04T17:43:57.313Z"
   },
   {
    "duration": 146,
    "start_time": "2023-06-04T17:43:57.974Z"
   },
   {
    "duration": 0,
    "start_time": "2023-06-04T17:43:58.121Z"
   },
   {
    "duration": 0,
    "start_time": "2023-06-04T17:43:58.123Z"
   },
   {
    "duration": 0,
    "start_time": "2023-06-04T17:43:58.124Z"
   },
   {
    "duration": 608,
    "start_time": "2023-06-04T17:44:42.402Z"
   },
   {
    "duration": 690,
    "start_time": "2023-06-04T17:44:55.692Z"
   },
   {
    "duration": 635,
    "start_time": "2023-06-04T17:45:05.590Z"
   },
   {
    "duration": 744,
    "start_time": "2023-06-04T17:45:13.727Z"
   },
   {
    "duration": 608,
    "start_time": "2023-06-04T17:45:41.676Z"
   },
   {
    "duration": 6,
    "start_time": "2023-06-04T17:57:29.988Z"
   },
   {
    "duration": 638,
    "start_time": "2023-06-04T17:57:30.894Z"
   },
   {
    "duration": 6,
    "start_time": "2023-06-04T17:57:50.145Z"
   },
   {
    "duration": 652,
    "start_time": "2023-06-04T17:57:51.813Z"
   },
   {
    "duration": 668,
    "start_time": "2023-06-04T17:58:15.655Z"
   },
   {
    "duration": 695,
    "start_time": "2023-06-04T17:58:54.906Z"
   },
   {
    "duration": 10,
    "start_time": "2023-06-04T17:59:14.577Z"
   },
   {
    "duration": 355,
    "start_time": "2023-06-04T17:59:16.566Z"
   },
   {
    "duration": 381,
    "start_time": "2023-06-04T18:00:46.593Z"
   },
   {
    "duration": 365,
    "start_time": "2023-06-04T18:01:04.899Z"
   },
   {
    "duration": 2398,
    "start_time": "2023-06-04T18:01:48.500Z"
   },
   {
    "duration": 1202,
    "start_time": "2023-06-04T18:01:50.901Z"
   },
   {
    "duration": 2,
    "start_time": "2023-06-04T18:01:52.105Z"
   },
   {
    "duration": 946,
    "start_time": "2023-06-04T18:01:52.109Z"
   },
   {
    "duration": 24,
    "start_time": "2023-06-04T18:01:53.057Z"
   },
   {
    "duration": 13,
    "start_time": "2023-06-04T18:01:53.093Z"
   },
   {
    "duration": 8,
    "start_time": "2023-06-04T18:01:53.108Z"
   },
   {
    "duration": 5,
    "start_time": "2023-06-04T18:01:53.118Z"
   },
   {
    "duration": 5,
    "start_time": "2023-06-04T18:01:53.125Z"
   },
   {
    "duration": 11,
    "start_time": "2023-06-04T18:01:53.131Z"
   },
   {
    "duration": 5,
    "start_time": "2023-06-04T18:01:53.143Z"
   },
   {
    "duration": 45,
    "start_time": "2023-06-04T18:01:53.149Z"
   },
   {
    "duration": 11,
    "start_time": "2023-06-04T18:01:53.196Z"
   },
   {
    "duration": 6,
    "start_time": "2023-06-04T18:01:53.210Z"
   },
   {
    "duration": 8,
    "start_time": "2023-06-04T18:01:53.218Z"
   },
   {
    "duration": 16,
    "start_time": "2023-06-04T18:01:53.229Z"
   },
   {
    "duration": 9,
    "start_time": "2023-06-04T18:01:53.247Z"
   },
   {
    "duration": 43,
    "start_time": "2023-06-04T18:01:53.257Z"
   },
   {
    "duration": 6,
    "start_time": "2023-06-04T18:01:53.302Z"
   },
   {
    "duration": 18,
    "start_time": "2023-06-04T18:01:53.310Z"
   },
   {
    "duration": 5,
    "start_time": "2023-06-04T18:01:53.330Z"
   },
   {
    "duration": 7,
    "start_time": "2023-06-04T18:01:53.337Z"
   },
   {
    "duration": 9,
    "start_time": "2023-06-04T18:01:53.346Z"
   },
   {
    "duration": 66,
    "start_time": "2023-06-04T18:01:53.357Z"
   },
   {
    "duration": 369,
    "start_time": "2023-06-04T18:01:53.425Z"
   },
   {
    "duration": 8623,
    "start_time": "2023-06-04T18:01:53.796Z"
   },
   {
    "duration": 392,
    "start_time": "2023-06-04T18:02:02.420Z"
   },
   {
    "duration": 1338,
    "start_time": "2023-06-04T18:02:02.814Z"
   },
   {
    "duration": 350,
    "start_time": "2023-06-04T18:02:04.154Z"
   },
   {
    "duration": 32180,
    "start_time": "2023-06-04T18:02:04.506Z"
   },
   {
    "duration": 315,
    "start_time": "2023-06-04T18:02:36.688Z"
   },
   {
    "duration": 3,
    "start_time": "2023-06-04T18:02:37.005Z"
   },
   {
    "duration": 6,
    "start_time": "2023-06-04T18:02:37.010Z"
   },
   {
    "duration": 378,
    "start_time": "2023-06-04T18:02:37.018Z"
   },
   {
    "duration": 7,
    "start_time": "2023-06-04T18:02:37.398Z"
   },
   {
    "duration": 642,
    "start_time": "2023-06-04T18:02:37.407Z"
   },
   {
    "duration": 3,
    "start_time": "2023-06-04T18:02:38.051Z"
   },
   {
    "duration": 650,
    "start_time": "2023-06-04T18:02:38.056Z"
   },
   {
    "duration": 126,
    "start_time": "2023-06-04T18:02:38.707Z"
   },
   {
    "duration": 0,
    "start_time": "2023-06-04T18:02:38.834Z"
   },
   {
    "duration": 0,
    "start_time": "2023-06-04T18:02:38.835Z"
   },
   {
    "duration": 0,
    "start_time": "2023-06-04T18:02:38.837Z"
   },
   {
    "duration": 9,
    "start_time": "2023-06-04T18:12:27.662Z"
   },
   {
    "duration": 10,
    "start_time": "2023-06-04T18:13:04.440Z"
   },
   {
    "duration": 9,
    "start_time": "2023-06-04T18:13:23.844Z"
   },
   {
    "duration": 8,
    "start_time": "2023-06-04T18:13:40.915Z"
   },
   {
    "duration": 2464,
    "start_time": "2023-06-04T18:13:59.368Z"
   },
   {
    "duration": 1227,
    "start_time": "2023-06-04T18:14:01.835Z"
   },
   {
    "duration": 3,
    "start_time": "2023-06-04T18:14:03.063Z"
   },
   {
    "duration": 1786,
    "start_time": "2023-06-04T18:14:03.068Z"
   },
   {
    "duration": 36,
    "start_time": "2023-06-04T18:14:04.856Z"
   },
   {
    "duration": 21,
    "start_time": "2023-06-04T18:14:04.894Z"
   },
   {
    "duration": 17,
    "start_time": "2023-06-04T18:14:04.917Z"
   },
   {
    "duration": 5,
    "start_time": "2023-06-04T18:14:04.936Z"
   },
   {
    "duration": 5,
    "start_time": "2023-06-04T18:14:04.943Z"
   },
   {
    "duration": 11,
    "start_time": "2023-06-04T18:14:04.951Z"
   },
   {
    "duration": 3,
    "start_time": "2023-06-04T18:14:04.964Z"
   },
   {
    "duration": 35,
    "start_time": "2023-06-04T18:14:04.969Z"
   },
   {
    "duration": 8,
    "start_time": "2023-06-04T18:14:05.007Z"
   },
   {
    "duration": 6,
    "start_time": "2023-06-04T18:14:05.016Z"
   },
   {
    "duration": 9,
    "start_time": "2023-06-04T18:14:05.023Z"
   },
   {
    "duration": 6,
    "start_time": "2023-06-04T18:14:05.033Z"
   },
   {
    "duration": 6,
    "start_time": "2023-06-04T18:14:05.041Z"
   },
   {
    "duration": 42,
    "start_time": "2023-06-04T18:14:05.049Z"
   },
   {
    "duration": 15,
    "start_time": "2023-06-04T18:14:05.092Z"
   },
   {
    "duration": 11,
    "start_time": "2023-06-04T18:14:05.109Z"
   },
   {
    "duration": 5,
    "start_time": "2023-06-04T18:14:05.122Z"
   },
   {
    "duration": 17,
    "start_time": "2023-06-04T18:14:05.128Z"
   },
   {
    "duration": 9,
    "start_time": "2023-06-04T18:14:05.146Z"
   },
   {
    "duration": 52,
    "start_time": "2023-06-04T18:14:05.156Z"
   },
   {
    "duration": 326,
    "start_time": "2023-06-04T18:14:05.209Z"
   },
   {
    "duration": 9432,
    "start_time": "2023-06-04T18:14:05.537Z"
   },
   {
    "duration": 468,
    "start_time": "2023-06-04T18:14:14.971Z"
   },
   {
    "duration": 1428,
    "start_time": "2023-06-04T18:14:15.442Z"
   },
   {
    "duration": 336,
    "start_time": "2023-06-04T18:14:16.871Z"
   },
   {
    "duration": 35342,
    "start_time": "2023-06-04T18:14:17.209Z"
   },
   {
    "duration": 418,
    "start_time": "2023-06-04T18:14:52.553Z"
   },
   {
    "duration": 16,
    "start_time": "2023-06-04T18:14:52.973Z"
   },
   {
    "duration": 16,
    "start_time": "2023-06-04T18:14:52.991Z"
   },
   {
    "duration": 474,
    "start_time": "2023-06-04T18:14:53.011Z"
   },
   {
    "duration": 9,
    "start_time": "2023-06-04T18:14:53.486Z"
   },
   {
    "duration": 806,
    "start_time": "2023-06-04T18:14:53.497Z"
   },
   {
    "duration": 11,
    "start_time": "2023-06-04T18:14:54.312Z"
   },
   {
    "duration": 759,
    "start_time": "2023-06-04T18:14:54.330Z"
   },
   {
    "duration": 8,
    "start_time": "2023-06-04T18:14:55.091Z"
   },
   {
    "duration": 17,
    "start_time": "2023-06-04T18:14:55.100Z"
   },
   {
    "duration": 15,
    "start_time": "2023-06-04T18:14:55.120Z"
   },
   {
    "duration": 9,
    "start_time": "2023-06-04T18:14:55.136Z"
   },
   {
    "duration": 99,
    "start_time": "2023-06-04T18:17:20.747Z"
   },
   {
    "duration": 186,
    "start_time": "2023-06-04T18:17:30.802Z"
   },
   {
    "duration": 6700,
    "start_time": "2023-06-04T18:18:01.150Z"
   },
   {
    "duration": 7314,
    "start_time": "2023-06-04T18:19:54.905Z"
   },
   {
    "duration": 7142,
    "start_time": "2023-06-04T18:21:18.366Z"
   },
   {
    "duration": 7519,
    "start_time": "2023-06-04T18:21:27.399Z"
   },
   {
    "duration": 6854,
    "start_time": "2023-06-04T18:21:56.400Z"
   },
   {
    "duration": 6914,
    "start_time": "2023-06-04T18:22:04.767Z"
   },
   {
    "duration": 6655,
    "start_time": "2023-06-04T18:22:46.133Z"
   },
   {
    "duration": 6835,
    "start_time": "2023-06-04T18:23:32.672Z"
   },
   {
    "duration": 6486,
    "start_time": "2023-06-04T18:25:17.988Z"
   },
   {
    "duration": 127,
    "start_time": "2023-06-04T18:57:30.079Z"
   },
   {
    "duration": 153,
    "start_time": "2023-06-04T18:57:36.078Z"
   },
   {
    "duration": 94238,
    "start_time": "2023-06-04T18:59:50.963Z"
   },
   {
    "duration": 8451,
    "start_time": "2023-06-04T19:01:25.203Z"
   },
   {
    "duration": 3,
    "start_time": "2023-06-04T19:02:34.352Z"
   },
   {
    "duration": 16098,
    "start_time": "2023-06-04T19:04:24.121Z"
   },
   {
    "duration": 9234,
    "start_time": "2023-06-04T19:05:43.691Z"
   },
   {
    "duration": 6818,
    "start_time": "2023-06-04T19:07:21.582Z"
   },
   {
    "duration": 703,
    "start_time": "2023-06-04T19:43:03.693Z"
   },
   {
    "duration": 598,
    "start_time": "2023-06-04T19:43:12.769Z"
   },
   {
    "duration": 6735,
    "start_time": "2023-06-04T19:51:55.967Z"
   },
   {
    "duration": 640,
    "start_time": "2023-06-04T20:05:08.431Z"
   },
   {
    "duration": 7,
    "start_time": "2023-06-04T20:08:37.384Z"
   },
   {
    "duration": 7,
    "start_time": "2023-06-04T20:08:46.877Z"
   },
   {
    "duration": 7,
    "start_time": "2023-06-04T20:13:14.262Z"
   },
   {
    "duration": 14,
    "start_time": "2023-06-04T20:13:33.895Z"
   },
   {
    "duration": 6,
    "start_time": "2023-06-04T20:13:38.983Z"
   },
   {
    "duration": 76,
    "start_time": "2023-06-04T20:13:47.463Z"
   },
   {
    "duration": 65,
    "start_time": "2023-06-04T20:14:34.923Z"
   },
   {
    "duration": 72,
    "start_time": "2023-06-04T20:16:28.518Z"
   },
   {
    "duration": 12,
    "start_time": "2023-06-04T20:16:51.529Z"
   },
   {
    "duration": 70,
    "start_time": "2023-06-04T20:17:39.440Z"
   },
   {
    "duration": 70,
    "start_time": "2023-06-04T20:17:44.882Z"
   },
   {
    "duration": 69,
    "start_time": "2023-06-04T20:17:51.375Z"
   },
   {
    "duration": 72,
    "start_time": "2023-06-04T20:18:13.602Z"
   },
   {
    "duration": 91,
    "start_time": "2023-06-04T20:18:21.459Z"
   },
   {
    "duration": 82,
    "start_time": "2023-06-04T20:18:28.065Z"
   },
   {
    "duration": 71,
    "start_time": "2023-06-04T20:19:24.300Z"
   },
   {
    "duration": 72,
    "start_time": "2023-06-04T20:19:30.191Z"
   },
   {
    "duration": 69,
    "start_time": "2023-06-04T20:20:29.691Z"
   },
   {
    "duration": 79,
    "start_time": "2023-06-04T20:26:47.151Z"
   },
   {
    "duration": 91,
    "start_time": "2023-06-04T20:27:13.168Z"
   },
   {
    "duration": 336,
    "start_time": "2023-06-04T20:31:59.919Z"
   },
   {
    "duration": 4,
    "start_time": "2023-06-04T20:32:27.825Z"
   },
   {
    "duration": 1526,
    "start_time": "2023-06-04T20:32:34.540Z"
   },
   {
    "duration": 5,
    "start_time": "2023-06-04T20:32:54.124Z"
   },
   {
    "duration": 4,
    "start_time": "2023-06-04T20:35:11.450Z"
   },
   {
    "duration": 18,
    "start_time": "2023-06-04T20:35:12.358Z"
   },
   {
    "duration": 2266,
    "start_time": "2023-06-04T20:35:30.707Z"
   },
   {
    "duration": 1212,
    "start_time": "2023-06-04T20:35:32.976Z"
   },
   {
    "duration": 3,
    "start_time": "2023-06-04T20:35:34.195Z"
   },
   {
    "duration": 1402,
    "start_time": "2023-06-04T20:35:34.200Z"
   },
   {
    "duration": 16,
    "start_time": "2023-06-04T20:35:35.604Z"
   },
   {
    "duration": 12,
    "start_time": "2023-06-04T20:35:35.621Z"
   },
   {
    "duration": 14,
    "start_time": "2023-06-04T20:35:35.634Z"
   },
   {
    "duration": 7,
    "start_time": "2023-06-04T20:35:35.649Z"
   },
   {
    "duration": 6,
    "start_time": "2023-06-04T20:35:35.657Z"
   },
   {
    "duration": 11,
    "start_time": "2023-06-04T20:35:35.665Z"
   },
   {
    "duration": 4,
    "start_time": "2023-06-04T20:35:35.677Z"
   },
   {
    "duration": 17,
    "start_time": "2023-06-04T20:35:35.683Z"
   },
   {
    "duration": 17,
    "start_time": "2023-06-04T20:35:35.701Z"
   },
   {
    "duration": 11,
    "start_time": "2023-06-04T20:35:35.720Z"
   },
   {
    "duration": 8,
    "start_time": "2023-06-04T20:35:35.733Z"
   },
   {
    "duration": 7,
    "start_time": "2023-06-04T20:35:35.742Z"
   },
   {
    "duration": 8,
    "start_time": "2023-06-04T20:35:35.750Z"
   },
   {
    "duration": 28,
    "start_time": "2023-06-04T20:35:35.759Z"
   },
   {
    "duration": 15,
    "start_time": "2023-06-04T20:35:35.788Z"
   },
   {
    "duration": 12,
    "start_time": "2023-06-04T20:35:35.805Z"
   },
   {
    "duration": 10,
    "start_time": "2023-06-04T20:35:35.818Z"
   },
   {
    "duration": 10,
    "start_time": "2023-06-04T20:35:35.830Z"
   },
   {
    "duration": 6,
    "start_time": "2023-06-04T20:35:35.842Z"
   },
   {
    "duration": 104,
    "start_time": "2023-06-04T20:35:35.849Z"
   },
   {
    "duration": 5,
    "start_time": "2023-06-04T20:35:35.954Z"
   },
   {
    "duration": 45,
    "start_time": "2023-06-04T20:35:35.961Z"
   },
   {
    "duration": 389,
    "start_time": "2023-06-04T20:35:36.008Z"
   },
   {
    "duration": 8551,
    "start_time": "2023-06-04T20:35:36.402Z"
   },
   {
    "duration": 6085,
    "start_time": "2023-06-04T20:35:44.955Z"
   },
   {
    "duration": 1036,
    "start_time": "2023-06-04T20:35:51.041Z"
   },
   {
    "duration": 386,
    "start_time": "2023-06-04T20:35:52.079Z"
   },
   {
    "duration": 1280,
    "start_time": "2023-06-04T20:35:52.466Z"
   },
   {
    "duration": 4,
    "start_time": "2023-06-04T20:35:53.748Z"
   },
   {
    "duration": 132,
    "start_time": "2023-06-04T20:35:53.753Z"
   },
   {
    "duration": 0,
    "start_time": "2023-06-04T20:35:53.887Z"
   },
   {
    "duration": 0,
    "start_time": "2023-06-04T20:35:53.888Z"
   },
   {
    "duration": 0,
    "start_time": "2023-06-04T20:35:53.889Z"
   },
   {
    "duration": 0,
    "start_time": "2023-06-04T20:35:53.890Z"
   },
   {
    "duration": 0,
    "start_time": "2023-06-04T20:35:53.891Z"
   },
   {
    "duration": 1,
    "start_time": "2023-06-04T20:35:53.892Z"
   },
   {
    "duration": 0,
    "start_time": "2023-06-04T20:35:53.893Z"
   },
   {
    "duration": 0,
    "start_time": "2023-06-04T20:35:53.894Z"
   },
   {
    "duration": 0,
    "start_time": "2023-06-04T20:35:53.895Z"
   },
   {
    "duration": 0,
    "start_time": "2023-06-04T20:35:53.896Z"
   },
   {
    "duration": 0,
    "start_time": "2023-06-04T20:35:53.897Z"
   },
   {
    "duration": 0,
    "start_time": "2023-06-04T20:35:53.898Z"
   },
   {
    "duration": 0,
    "start_time": "2023-06-04T20:35:53.899Z"
   },
   {
    "duration": 16,
    "start_time": "2023-06-04T20:36:14.672Z"
   },
   {
    "duration": 2143,
    "start_time": "2023-06-04T20:36:24.539Z"
   },
   {
    "duration": 1148,
    "start_time": "2023-06-04T20:36:26.684Z"
   },
   {
    "duration": 2,
    "start_time": "2023-06-04T20:36:27.833Z"
   },
   {
    "duration": 1047,
    "start_time": "2023-06-04T20:36:27.837Z"
   },
   {
    "duration": 18,
    "start_time": "2023-06-04T20:36:28.885Z"
   },
   {
    "duration": 11,
    "start_time": "2023-06-04T20:36:28.905Z"
   },
   {
    "duration": 6,
    "start_time": "2023-06-04T20:36:28.918Z"
   },
   {
    "duration": 4,
    "start_time": "2023-06-04T20:36:28.926Z"
   },
   {
    "duration": 4,
    "start_time": "2023-06-04T20:36:28.931Z"
   },
   {
    "duration": 43,
    "start_time": "2023-06-04T20:36:28.938Z"
   },
   {
    "duration": 4,
    "start_time": "2023-06-04T20:36:28.982Z"
   },
   {
    "duration": 25,
    "start_time": "2023-06-04T20:36:28.988Z"
   },
   {
    "duration": 7,
    "start_time": "2023-06-04T20:36:29.014Z"
   },
   {
    "duration": 6,
    "start_time": "2023-06-04T20:36:29.022Z"
   },
   {
    "duration": 7,
    "start_time": "2023-06-04T20:36:29.030Z"
   },
   {
    "duration": 5,
    "start_time": "2023-06-04T20:36:29.038Z"
   },
   {
    "duration": 5,
    "start_time": "2023-06-04T20:36:29.045Z"
   },
   {
    "duration": 15,
    "start_time": "2023-06-04T20:36:29.074Z"
   },
   {
    "duration": 5,
    "start_time": "2023-06-04T20:36:29.090Z"
   },
   {
    "duration": 19,
    "start_time": "2023-06-04T20:36:29.097Z"
   },
   {
    "duration": 5,
    "start_time": "2023-06-04T20:36:29.117Z"
   },
   {
    "duration": 5,
    "start_time": "2023-06-04T20:36:29.123Z"
   },
   {
    "duration": 12,
    "start_time": "2023-06-04T20:36:29.130Z"
   },
   {
    "duration": 108,
    "start_time": "2023-06-04T20:36:29.143Z"
   },
   {
    "duration": 4,
    "start_time": "2023-06-04T20:36:29.253Z"
   },
   {
    "duration": 45,
    "start_time": "2023-06-04T20:36:29.259Z"
   },
   {
    "duration": 287,
    "start_time": "2023-06-04T20:36:29.306Z"
   },
   {
    "duration": 8496,
    "start_time": "2023-06-04T20:36:29.596Z"
   },
   {
    "duration": 6403,
    "start_time": "2023-06-04T20:36:38.093Z"
   },
   {
    "duration": 1255,
    "start_time": "2023-06-04T20:36:44.497Z"
   },
   {
    "duration": 399,
    "start_time": "2023-06-04T20:36:45.754Z"
   },
   {
    "duration": 1327,
    "start_time": "2023-06-04T20:36:46.155Z"
   },
   {
    "duration": 306,
    "start_time": "2023-06-04T20:36:47.484Z"
   },
   {
    "duration": 28555,
    "start_time": "2023-06-04T20:36:47.792Z"
   },
   {
    "duration": 319,
    "start_time": "2023-06-04T20:37:16.348Z"
   },
   {
    "duration": 3,
    "start_time": "2023-06-04T20:37:16.674Z"
   },
   {
    "duration": 19,
    "start_time": "2023-06-04T20:37:16.679Z"
   },
   {
    "duration": 345,
    "start_time": "2023-06-04T20:37:16.699Z"
   },
   {
    "duration": 6,
    "start_time": "2023-06-04T20:37:17.046Z"
   },
   {
    "duration": 612,
    "start_time": "2023-06-04T20:37:17.054Z"
   },
   {
    "duration": 3,
    "start_time": "2023-06-04T20:37:17.668Z"
   },
   {
    "duration": 593,
    "start_time": "2023-06-04T20:37:17.674Z"
   },
   {
    "duration": 10,
    "start_time": "2023-06-04T20:37:18.269Z"
   },
   {
    "duration": 8,
    "start_time": "2023-06-04T20:37:18.280Z"
   },
   {
    "duration": 8,
    "start_time": "2023-06-04T20:37:18.290Z"
   },
   {
    "duration": 8,
    "start_time": "2023-06-04T20:37:18.299Z"
   },
   {
    "duration": 2261,
    "start_time": "2023-06-04T21:14:30.509Z"
   },
   {
    "duration": 1156,
    "start_time": "2023-06-04T21:14:32.772Z"
   },
   {
    "duration": 3,
    "start_time": "2023-06-04T21:14:33.931Z"
   },
   {
    "duration": 1109,
    "start_time": "2023-06-04T21:14:33.937Z"
   },
   {
    "duration": 18,
    "start_time": "2023-06-04T21:14:35.048Z"
   },
   {
    "duration": 14,
    "start_time": "2023-06-04T21:14:35.067Z"
   },
   {
    "duration": 7,
    "start_time": "2023-06-04T21:14:35.082Z"
   },
   {
    "duration": 6,
    "start_time": "2023-06-04T21:14:35.090Z"
   },
   {
    "duration": 5,
    "start_time": "2023-06-04T21:14:35.097Z"
   },
   {
    "duration": 9,
    "start_time": "2023-06-04T21:14:35.104Z"
   },
   {
    "duration": 3,
    "start_time": "2023-06-04T21:14:35.115Z"
   },
   {
    "duration": 15,
    "start_time": "2023-06-04T21:14:35.120Z"
   },
   {
    "duration": 40,
    "start_time": "2023-06-04T21:14:35.136Z"
   },
   {
    "duration": 11,
    "start_time": "2023-06-04T21:14:35.178Z"
   },
   {
    "duration": 9,
    "start_time": "2023-06-04T21:14:35.191Z"
   },
   {
    "duration": 6,
    "start_time": "2023-06-04T21:14:35.202Z"
   },
   {
    "duration": 8,
    "start_time": "2023-06-04T21:14:35.209Z"
   },
   {
    "duration": 16,
    "start_time": "2023-06-04T21:14:35.218Z"
   },
   {
    "duration": 5,
    "start_time": "2023-06-04T21:14:35.236Z"
   },
   {
    "duration": 41,
    "start_time": "2023-06-04T21:14:35.242Z"
   },
   {
    "duration": 5,
    "start_time": "2023-06-04T21:14:35.285Z"
   },
   {
    "duration": 6,
    "start_time": "2023-06-04T21:14:35.291Z"
   },
   {
    "duration": 5,
    "start_time": "2023-06-04T21:14:35.299Z"
   },
   {
    "duration": 114,
    "start_time": "2023-06-04T21:14:35.305Z"
   },
   {
    "duration": 5,
    "start_time": "2023-06-04T21:14:35.421Z"
   },
   {
    "duration": 53,
    "start_time": "2023-06-04T21:14:35.428Z"
   },
   {
    "duration": 312,
    "start_time": "2023-06-04T21:14:35.483Z"
   },
   {
    "duration": 8997,
    "start_time": "2023-06-04T21:14:35.799Z"
   },
   {
    "duration": 6203,
    "start_time": "2023-06-04T21:14:44.798Z"
   },
   {
    "duration": 1043,
    "start_time": "2023-06-04T21:14:51.003Z"
   },
   {
    "duration": 403,
    "start_time": "2023-06-04T21:14:52.048Z"
   },
   {
    "duration": 1287,
    "start_time": "2023-06-04T21:14:52.453Z"
   },
   {
    "duration": 404,
    "start_time": "2023-06-04T21:14:53.742Z"
   },
   {
    "duration": 28484,
    "start_time": "2023-06-04T21:14:54.148Z"
   },
   {
    "duration": 364,
    "start_time": "2023-06-04T21:15:22.634Z"
   },
   {
    "duration": 3,
    "start_time": "2023-06-04T21:15:23.000Z"
   },
   {
    "duration": 18,
    "start_time": "2023-06-04T21:15:23.006Z"
   },
   {
    "duration": 369,
    "start_time": "2023-06-04T21:15:23.025Z"
   },
   {
    "duration": 9,
    "start_time": "2023-06-04T21:15:23.395Z"
   },
   {
    "duration": 703,
    "start_time": "2023-06-04T21:15:23.406Z"
   },
   {
    "duration": 3,
    "start_time": "2023-06-04T21:15:24.111Z"
   },
   {
    "duration": 654,
    "start_time": "2023-06-04T21:15:24.116Z"
   },
   {
    "duration": 8,
    "start_time": "2023-06-04T21:15:24.771Z"
   },
   {
    "duration": 8,
    "start_time": "2023-06-04T21:15:24.781Z"
   },
   {
    "duration": 7,
    "start_time": "2023-06-04T21:15:24.790Z"
   },
   {
    "duration": 16,
    "start_time": "2023-06-04T21:15:24.800Z"
   },
   {
    "duration": 3159,
    "start_time": "2023-06-05T21:07:00.350Z"
   },
   {
    "duration": 1397,
    "start_time": "2023-06-05T21:07:03.511Z"
   },
   {
    "duration": 3,
    "start_time": "2023-06-05T21:07:04.911Z"
   },
   {
    "duration": 1166,
    "start_time": "2023-06-05T21:07:04.916Z"
   },
   {
    "duration": 19,
    "start_time": "2023-06-05T21:07:06.084Z"
   },
   {
    "duration": 28,
    "start_time": "2023-06-05T21:07:06.105Z"
   },
   {
    "duration": 93,
    "start_time": "2023-06-05T21:07:06.135Z"
   },
   {
    "duration": 22,
    "start_time": "2023-06-05T21:07:06.230Z"
   },
   {
    "duration": 8,
    "start_time": "2023-06-05T21:07:06.254Z"
   },
   {
    "duration": 13,
    "start_time": "2023-06-05T21:07:06.264Z"
   },
   {
    "duration": 4,
    "start_time": "2023-06-05T21:07:06.279Z"
   },
   {
    "duration": 27,
    "start_time": "2023-06-05T21:07:06.285Z"
   },
   {
    "duration": 104,
    "start_time": "2023-06-05T21:07:06.314Z"
   },
   {
    "duration": 15,
    "start_time": "2023-06-05T21:07:06.420Z"
   },
   {
    "duration": 16,
    "start_time": "2023-06-05T21:07:06.437Z"
   },
   {
    "duration": 6,
    "start_time": "2023-06-05T21:07:06.456Z"
   },
   {
    "duration": 11,
    "start_time": "2023-06-05T21:07:06.464Z"
   },
   {
    "duration": 20,
    "start_time": "2023-06-05T21:07:06.477Z"
   },
   {
    "duration": 6,
    "start_time": "2023-06-05T21:07:06.498Z"
   },
   {
    "duration": 13,
    "start_time": "2023-06-05T21:07:06.505Z"
   },
   {
    "duration": 5,
    "start_time": "2023-06-05T21:07:06.519Z"
   },
   {
    "duration": 18,
    "start_time": "2023-06-05T21:07:06.525Z"
   },
   {
    "duration": 7,
    "start_time": "2023-06-05T21:07:06.544Z"
   },
   {
    "duration": 115,
    "start_time": "2023-06-05T21:07:06.552Z"
   },
   {
    "duration": 39,
    "start_time": "2023-06-05T21:07:06.669Z"
   },
   {
    "duration": 538,
    "start_time": "2023-06-05T21:07:06.710Z"
   },
   {
    "duration": 9194,
    "start_time": "2023-06-05T21:07:07.250Z"
   },
   {
    "duration": 6525,
    "start_time": "2023-06-05T21:07:16.448Z"
   },
   {
    "duration": 1225,
    "start_time": "2023-06-05T21:07:22.975Z"
   },
   {
    "duration": 416,
    "start_time": "2023-06-05T21:07:24.202Z"
   },
   {
    "duration": 1357,
    "start_time": "2023-06-05T21:07:24.620Z"
   },
   {
    "duration": 320,
    "start_time": "2023-06-05T21:07:25.979Z"
   },
   {
    "duration": 30642,
    "start_time": "2023-06-05T21:07:26.300Z"
   },
   {
    "duration": 352,
    "start_time": "2023-06-05T21:07:56.944Z"
   },
   {
    "duration": 3,
    "start_time": "2023-06-05T21:07:57.298Z"
   },
   {
    "duration": 53,
    "start_time": "2023-06-05T21:07:57.302Z"
   },
   {
    "duration": 0,
    "start_time": "2023-06-05T21:07:57.357Z"
   },
   {
    "duration": 0,
    "start_time": "2023-06-05T21:07:57.358Z"
   },
   {
    "duration": 0,
    "start_time": "2023-06-05T21:07:57.360Z"
   },
   {
    "duration": 0,
    "start_time": "2023-06-05T21:07:57.361Z"
   },
   {
    "duration": 0,
    "start_time": "2023-06-05T21:07:57.362Z"
   },
   {
    "duration": 0,
    "start_time": "2023-06-05T21:07:57.363Z"
   },
   {
    "duration": 0,
    "start_time": "2023-06-05T21:07:57.364Z"
   },
   {
    "duration": 0,
    "start_time": "2023-06-05T21:07:57.365Z"
   },
   {
    "duration": 0,
    "start_time": "2023-06-05T21:07:57.366Z"
   },
   {
    "duration": 103,
    "start_time": "2023-06-05T21:17:48.810Z"
   },
   {
    "duration": 63,
    "start_time": "2023-06-05T21:18:46.168Z"
   },
   {
    "duration": 6,
    "start_time": "2023-06-05T21:19:16.495Z"
   },
   {
    "duration": 127,
    "start_time": "2023-06-05T21:19:22.377Z"
   },
   {
    "duration": 7,
    "start_time": "2023-06-05T21:19:59.157Z"
   },
   {
    "duration": 424,
    "start_time": "2023-06-05T21:20:00.071Z"
   },
   {
    "duration": 8,
    "start_time": "2023-06-05T21:22:04.153Z"
   },
   {
    "duration": 506,
    "start_time": "2023-06-05T21:22:27.743Z"
   },
   {
    "duration": 8,
    "start_time": "2023-06-05T21:23:00.745Z"
   },
   {
    "duration": 758,
    "start_time": "2023-06-05T21:23:01.717Z"
   },
   {
    "duration": 9,
    "start_time": "2023-06-05T21:25:00.105Z"
   },
   {
    "duration": 472,
    "start_time": "2023-06-05T21:25:00.969Z"
   },
   {
    "duration": 11,
    "start_time": "2023-06-06T04:23:04.973Z"
   },
   {
    "duration": 40,
    "start_time": "2023-06-06T04:23:27.250Z"
   },
   {
    "duration": 2895,
    "start_time": "2023-06-06T04:23:33.784Z"
   },
   {
    "duration": 1346,
    "start_time": "2023-06-06T04:23:36.681Z"
   },
   {
    "duration": 3,
    "start_time": "2023-06-06T04:23:38.029Z"
   },
   {
    "duration": 1414,
    "start_time": "2023-06-06T04:23:38.034Z"
   },
   {
    "duration": 17,
    "start_time": "2023-06-06T04:23:39.450Z"
   },
   {
    "duration": 16,
    "start_time": "2023-06-06T04:23:39.469Z"
   },
   {
    "duration": 6,
    "start_time": "2023-06-06T04:23:39.487Z"
   },
   {
    "duration": 9,
    "start_time": "2023-06-06T04:23:39.495Z"
   },
   {
    "duration": 7,
    "start_time": "2023-06-06T04:23:39.505Z"
   },
   {
    "duration": 15,
    "start_time": "2023-06-06T04:23:39.513Z"
   },
   {
    "duration": 3,
    "start_time": "2023-06-06T04:23:39.530Z"
   },
   {
    "duration": 32,
    "start_time": "2023-06-06T04:23:39.535Z"
   },
   {
    "duration": 7,
    "start_time": "2023-06-06T04:23:39.568Z"
   },
   {
    "duration": 6,
    "start_time": "2023-06-06T04:23:39.578Z"
   },
   {
    "duration": 9,
    "start_time": "2023-06-06T04:23:39.585Z"
   },
   {
    "duration": 6,
    "start_time": "2023-06-06T04:23:39.595Z"
   },
   {
    "duration": 7,
    "start_time": "2023-06-06T04:23:39.603Z"
   },
   {
    "duration": 23,
    "start_time": "2023-06-06T04:23:39.612Z"
   },
   {
    "duration": 5,
    "start_time": "2023-06-06T04:23:39.657Z"
   },
   {
    "duration": 11,
    "start_time": "2023-06-06T04:23:39.663Z"
   },
   {
    "duration": 4,
    "start_time": "2023-06-06T04:23:39.676Z"
   },
   {
    "duration": 7,
    "start_time": "2023-06-06T04:23:39.682Z"
   },
   {
    "duration": 38,
    "start_time": "2023-06-06T04:23:39.690Z"
   },
   {
    "duration": 93,
    "start_time": "2023-06-06T04:23:39.730Z"
   },
   {
    "duration": 45,
    "start_time": "2023-06-06T04:23:39.825Z"
   },
   {
    "duration": 304,
    "start_time": "2023-06-06T04:23:39.871Z"
   },
   {
    "duration": 8471,
    "start_time": "2023-06-06T04:23:40.177Z"
   },
   {
    "duration": 6378,
    "start_time": "2023-06-06T04:23:48.649Z"
   },
   {
    "duration": 1102,
    "start_time": "2023-06-06T04:23:55.029Z"
   },
   {
    "duration": 397,
    "start_time": "2023-06-06T04:23:56.132Z"
   },
   {
    "duration": 1380,
    "start_time": "2023-06-06T04:23:56.531Z"
   },
   {
    "duration": 347,
    "start_time": "2023-06-06T04:23:57.913Z"
   },
   {
    "duration": 29543,
    "start_time": "2023-06-06T04:23:58.262Z"
   },
   {
    "duration": 340,
    "start_time": "2023-06-06T04:24:27.807Z"
   },
   {
    "duration": 3,
    "start_time": "2023-06-06T04:24:28.156Z"
   },
   {
    "duration": 15,
    "start_time": "2023-06-06T04:24:28.161Z"
   },
   {
    "duration": 381,
    "start_time": "2023-06-06T04:24:28.178Z"
   },
   {
    "duration": 6,
    "start_time": "2023-06-06T04:24:28.561Z"
   },
   {
    "duration": 473,
    "start_time": "2023-06-06T04:24:28.569Z"
   },
   {
    "duration": 13,
    "start_time": "2023-06-06T04:24:29.044Z"
   },
   {
    "duration": 453,
    "start_time": "2023-06-06T04:24:29.062Z"
   },
   {
    "duration": 3,
    "start_time": "2023-06-06T04:24:29.517Z"
   },
   {
    "duration": 376,
    "start_time": "2023-06-06T04:24:29.522Z"
   },
   {
    "duration": 7,
    "start_time": "2023-06-06T04:24:29.900Z"
   },
   {
    "duration": 8,
    "start_time": "2023-06-06T04:24:29.908Z"
   },
   {
    "duration": 11,
    "start_time": "2023-06-06T04:24:29.918Z"
   },
   {
    "duration": 26,
    "start_time": "2023-06-06T04:24:29.930Z"
   },
   {
    "duration": 400,
    "start_time": "2023-06-06T04:25:58.290Z"
   },
   {
    "duration": 6,
    "start_time": "2023-06-06T04:27:14.982Z"
   },
   {
    "duration": 634,
    "start_time": "2023-06-06T04:27:26.436Z"
   },
   {
    "duration": 7,
    "start_time": "2023-06-06T04:28:56.219Z"
   },
   {
    "duration": 620,
    "start_time": "2023-06-06T04:28:57.089Z"
   },
   {
    "duration": 57,
    "start_time": "2023-06-06T04:29:02.068Z"
   },
   {
    "duration": 9,
    "start_time": "2023-06-06T04:30:51.622Z"
   },
   {
    "duration": 47,
    "start_time": "2023-06-06T04:30:57.013Z"
   },
   {
    "duration": 6,
    "start_time": "2023-06-06T04:33:56.761Z"
   },
   {
    "duration": 626,
    "start_time": "2023-06-06T04:34:01.238Z"
   },
   {
    "duration": 694,
    "start_time": "2023-06-06T04:51:59.975Z"
   },
   {
    "duration": 7,
    "start_time": "2023-06-06T04:54:49.986Z"
   },
   {
    "duration": 408,
    "start_time": "2023-06-06T04:55:00.762Z"
   },
   {
    "duration": 9,
    "start_time": "2023-06-06T04:55:31.759Z"
   },
   {
    "duration": 678,
    "start_time": "2023-06-06T04:55:32.872Z"
   },
   {
    "duration": 693,
    "start_time": "2023-06-06T04:55:59.114Z"
   },
   {
    "duration": 669,
    "start_time": "2023-06-06T04:56:15.522Z"
   },
   {
    "duration": 674,
    "start_time": "2023-06-06T04:56:24.131Z"
   },
   {
    "duration": 2040,
    "start_time": "2023-06-06T07:29:10.459Z"
   },
   {
    "duration": 1104,
    "start_time": "2023-06-06T07:29:12.501Z"
   },
   {
    "duration": 3,
    "start_time": "2023-06-06T07:29:13.606Z"
   },
   {
    "duration": 6083,
    "start_time": "2023-06-06T07:29:13.610Z"
   },
   {
    "duration": 20,
    "start_time": "2023-06-06T07:29:19.695Z"
   },
   {
    "duration": 13,
    "start_time": "2023-06-06T07:29:19.717Z"
   },
   {
    "duration": 11,
    "start_time": "2023-06-06T07:29:19.732Z"
   },
   {
    "duration": 5,
    "start_time": "2023-06-06T07:29:19.745Z"
   },
   {
    "duration": 21,
    "start_time": "2023-06-06T07:29:19.755Z"
   },
   {
    "duration": 13,
    "start_time": "2023-06-06T07:29:19.778Z"
   },
   {
    "duration": 8,
    "start_time": "2023-06-06T07:29:19.793Z"
   },
   {
    "duration": 25,
    "start_time": "2023-06-06T07:29:19.803Z"
   },
   {
    "duration": 14,
    "start_time": "2023-06-06T07:29:19.830Z"
   },
   {
    "duration": 12,
    "start_time": "2023-06-06T07:29:19.846Z"
   },
   {
    "duration": 15,
    "start_time": "2023-06-06T07:29:19.859Z"
   },
   {
    "duration": 7,
    "start_time": "2023-06-06T07:29:19.876Z"
   },
   {
    "duration": 14,
    "start_time": "2023-06-06T07:29:19.885Z"
   },
   {
    "duration": 16,
    "start_time": "2023-06-06T07:29:19.900Z"
   },
   {
    "duration": 5,
    "start_time": "2023-06-06T07:29:19.918Z"
   },
   {
    "duration": 15,
    "start_time": "2023-06-06T07:29:19.924Z"
   },
   {
    "duration": 17,
    "start_time": "2023-06-06T07:29:19.940Z"
   },
   {
    "duration": 14,
    "start_time": "2023-06-06T07:29:19.959Z"
   },
   {
    "duration": 42,
    "start_time": "2023-06-06T07:29:19.975Z"
   },
   {
    "duration": 122,
    "start_time": "2023-06-06T07:29:20.019Z"
   },
   {
    "duration": 41,
    "start_time": "2023-06-06T07:29:20.143Z"
   },
   {
    "duration": 297,
    "start_time": "2023-06-06T07:29:20.185Z"
   },
   {
    "duration": 8935,
    "start_time": "2023-06-06T07:29:20.484Z"
   },
   {
    "duration": 6552,
    "start_time": "2023-06-06T07:29:29.423Z"
   },
   {
    "duration": 1138,
    "start_time": "2023-06-06T07:29:35.976Z"
   },
   {
    "duration": 441,
    "start_time": "2023-06-06T07:29:37.116Z"
   },
   {
    "duration": 1348,
    "start_time": "2023-06-06T07:29:37.559Z"
   },
   {
    "duration": 386,
    "start_time": "2023-06-06T07:29:38.909Z"
   },
   {
    "duration": 29520,
    "start_time": "2023-06-06T07:29:39.297Z"
   },
   {
    "duration": 369,
    "start_time": "2023-06-06T07:30:08.819Z"
   },
   {
    "duration": 4,
    "start_time": "2023-06-06T07:30:09.189Z"
   },
   {
    "duration": 87,
    "start_time": "2023-06-06T07:30:09.194Z"
   },
   {
    "duration": 534,
    "start_time": "2023-06-06T07:30:09.283Z"
   },
   {
    "duration": 6,
    "start_time": "2023-06-06T07:30:09.819Z"
   },
   {
    "duration": 464,
    "start_time": "2023-06-06T07:30:09.826Z"
   },
   {
    "duration": 7,
    "start_time": "2023-06-06T07:30:10.292Z"
   },
   {
    "duration": 656,
    "start_time": "2023-06-06T07:30:10.301Z"
   },
   {
    "duration": 3,
    "start_time": "2023-06-06T07:30:10.959Z"
   },
   {
    "duration": 687,
    "start_time": "2023-06-06T07:30:10.963Z"
   },
   {
    "duration": 7,
    "start_time": "2023-06-06T07:30:11.656Z"
   },
   {
    "duration": 30,
    "start_time": "2023-06-06T07:30:11.665Z"
   },
   {
    "duration": 18,
    "start_time": "2023-06-06T07:30:11.697Z"
   },
   {
    "duration": 27,
    "start_time": "2023-06-06T07:30:11.717Z"
   },
   {
    "duration": 4,
    "start_time": "2023-06-06T07:37:28.607Z"
   },
   {
    "duration": 7,
    "start_time": "2023-06-06T07:37:34.148Z"
   },
   {
    "duration": 443,
    "start_time": "2023-06-06T07:37:35.906Z"
   },
   {
    "duration": 6,
    "start_time": "2023-06-06T07:38:32.028Z"
   },
   {
    "duration": 656,
    "start_time": "2023-06-06T07:38:33.267Z"
   },
   {
    "duration": 641,
    "start_time": "2023-06-06T07:41:42.999Z"
   },
   {
    "duration": 666,
    "start_time": "2023-06-06T07:41:54.858Z"
   },
   {
    "duration": 3,
    "start_time": "2023-06-06T07:43:30.917Z"
   },
   {
    "duration": 633,
    "start_time": "2023-06-06T07:44:13.493Z"
   },
   {
    "duration": 2113,
    "start_time": "2023-06-06T07:44:37.423Z"
   },
   {
    "duration": 1256,
    "start_time": "2023-06-06T07:44:39.538Z"
   },
   {
    "duration": 3,
    "start_time": "2023-06-06T07:44:40.796Z"
   },
   {
    "duration": 939,
    "start_time": "2023-06-06T07:44:40.800Z"
   },
   {
    "duration": 19,
    "start_time": "2023-06-06T07:44:41.741Z"
   },
   {
    "duration": 46,
    "start_time": "2023-06-06T07:44:41.761Z"
   },
   {
    "duration": 7,
    "start_time": "2023-06-06T07:44:41.808Z"
   },
   {
    "duration": 4,
    "start_time": "2023-06-06T07:44:41.817Z"
   },
   {
    "duration": 15,
    "start_time": "2023-06-06T07:44:41.822Z"
   },
   {
    "duration": 15,
    "start_time": "2023-06-06T07:44:41.838Z"
   },
   {
    "duration": 4,
    "start_time": "2023-06-06T07:44:41.854Z"
   },
   {
    "duration": 15,
    "start_time": "2023-06-06T07:44:41.860Z"
   },
   {
    "duration": 9,
    "start_time": "2023-06-06T07:44:41.877Z"
   },
   {
    "duration": 8,
    "start_time": "2023-06-06T07:44:41.890Z"
   },
   {
    "duration": 8,
    "start_time": "2023-06-06T07:44:41.899Z"
   },
   {
    "duration": 5,
    "start_time": "2023-06-06T07:44:41.908Z"
   },
   {
    "duration": 6,
    "start_time": "2023-06-06T07:44:41.915Z"
   },
   {
    "duration": 46,
    "start_time": "2023-06-06T07:44:41.922Z"
   },
   {
    "duration": 6,
    "start_time": "2023-06-06T07:44:41.969Z"
   },
   {
    "duration": 15,
    "start_time": "2023-06-06T07:44:41.976Z"
   },
   {
    "duration": 6,
    "start_time": "2023-06-06T07:44:41.992Z"
   },
   {
    "duration": 7,
    "start_time": "2023-06-06T07:44:42.000Z"
   },
   {
    "duration": 6,
    "start_time": "2023-06-06T07:44:42.008Z"
   },
   {
    "duration": 127,
    "start_time": "2023-06-06T07:44:42.016Z"
   },
   {
    "duration": 49,
    "start_time": "2023-06-06T07:44:42.146Z"
   },
   {
    "duration": 298,
    "start_time": "2023-06-06T07:44:42.197Z"
   },
   {
    "duration": 8960,
    "start_time": "2023-06-06T07:44:42.497Z"
   },
   {
    "duration": 6899,
    "start_time": "2023-06-06T07:44:51.458Z"
   },
   {
    "duration": 1183,
    "start_time": "2023-06-06T07:44:58.360Z"
   },
   {
    "duration": 400,
    "start_time": "2023-06-06T07:44:59.545Z"
   },
   {
    "duration": 1292,
    "start_time": "2023-06-06T07:44:59.947Z"
   },
   {
    "duration": 359,
    "start_time": "2023-06-06T07:45:01.241Z"
   },
   {
    "duration": 29520,
    "start_time": "2023-06-06T07:45:01.602Z"
   },
   {
    "duration": 341,
    "start_time": "2023-06-06T07:45:31.124Z"
   },
   {
    "duration": 4,
    "start_time": "2023-06-06T07:45:31.466Z"
   },
   {
    "duration": 44,
    "start_time": "2023-06-06T07:45:31.471Z"
   },
   {
    "duration": 506,
    "start_time": "2023-06-06T07:45:31.516Z"
   },
   {
    "duration": 7,
    "start_time": "2023-06-06T07:45:32.024Z"
   },
   {
    "duration": 451,
    "start_time": "2023-06-06T07:45:32.033Z"
   },
   {
    "duration": 3,
    "start_time": "2023-06-06T07:45:32.486Z"
   },
   {
    "duration": 427,
    "start_time": "2023-06-06T07:45:32.493Z"
   },
   {
    "duration": 10,
    "start_time": "2023-06-06T07:45:32.934Z"
   },
   {
    "duration": 692,
    "start_time": "2023-06-06T07:45:32.946Z"
   },
   {
    "duration": 3,
    "start_time": "2023-06-06T07:45:33.640Z"
   },
   {
    "duration": 658,
    "start_time": "2023-06-06T07:45:33.656Z"
   },
   {
    "duration": 7,
    "start_time": "2023-06-06T07:45:34.316Z"
   },
   {
    "duration": 13,
    "start_time": "2023-06-06T07:45:34.325Z"
   },
   {
    "duration": 25,
    "start_time": "2023-06-06T07:45:34.340Z"
   },
   {
    "duration": 14,
    "start_time": "2023-06-06T07:45:34.367Z"
   },
   {
    "duration": 2162,
    "start_time": "2023-06-06T08:10:30.153Z"
   },
   {
    "duration": 1203,
    "start_time": "2023-06-06T08:10:32.317Z"
   },
   {
    "duration": 2,
    "start_time": "2023-06-06T08:10:33.522Z"
   },
   {
    "duration": 904,
    "start_time": "2023-06-06T08:10:33.526Z"
   },
   {
    "duration": 19,
    "start_time": "2023-06-06T08:10:34.432Z"
   },
   {
    "duration": 14,
    "start_time": "2023-06-06T08:10:34.453Z"
   },
   {
    "duration": 10,
    "start_time": "2023-06-06T08:10:34.469Z"
   },
   {
    "duration": 6,
    "start_time": "2023-06-06T08:10:34.481Z"
   },
   {
    "duration": 10,
    "start_time": "2023-06-06T08:10:34.489Z"
   },
   {
    "duration": 12,
    "start_time": "2023-06-06T08:10:34.501Z"
   },
   {
    "duration": 12,
    "start_time": "2023-06-06T08:10:34.515Z"
   },
   {
    "duration": 38,
    "start_time": "2023-06-06T08:10:34.528Z"
   },
   {
    "duration": 10,
    "start_time": "2023-06-06T08:10:34.568Z"
   },
   {
    "duration": 9,
    "start_time": "2023-06-06T08:10:34.580Z"
   },
   {
    "duration": 8,
    "start_time": "2023-06-06T08:10:34.590Z"
   },
   {
    "duration": 11,
    "start_time": "2023-06-06T08:10:34.600Z"
   },
   {
    "duration": 8,
    "start_time": "2023-06-06T08:10:34.613Z"
   },
   {
    "duration": 16,
    "start_time": "2023-06-06T08:10:34.622Z"
   },
   {
    "duration": 6,
    "start_time": "2023-06-06T08:10:34.656Z"
   },
   {
    "duration": 14,
    "start_time": "2023-06-06T08:10:34.664Z"
   },
   {
    "duration": 4,
    "start_time": "2023-06-06T08:10:34.680Z"
   },
   {
    "duration": 13,
    "start_time": "2023-06-06T08:10:34.686Z"
   },
   {
    "duration": 4,
    "start_time": "2023-06-06T08:10:34.701Z"
   },
   {
    "duration": 123,
    "start_time": "2023-06-06T08:10:34.706Z"
   },
   {
    "duration": 47,
    "start_time": "2023-06-06T08:10:34.831Z"
   },
   {
    "duration": 302,
    "start_time": "2023-06-06T08:10:34.880Z"
   },
   {
    "duration": 9039,
    "start_time": "2023-06-06T08:10:35.184Z"
   },
   {
    "duration": 6708,
    "start_time": "2023-06-06T08:10:44.226Z"
   },
   {
    "duration": 1205,
    "start_time": "2023-06-06T08:10:50.936Z"
   },
   {
    "duration": 427,
    "start_time": "2023-06-06T08:10:52.143Z"
   },
   {
    "duration": 1353,
    "start_time": "2023-06-06T08:10:52.572Z"
   },
   {
    "duration": 365,
    "start_time": "2023-06-06T08:10:53.927Z"
   },
   {
    "duration": 29668,
    "start_time": "2023-06-06T08:10:54.293Z"
   },
   {
    "duration": 317,
    "start_time": "2023-06-06T08:11:23.963Z"
   },
   {
    "duration": 3,
    "start_time": "2023-06-06T08:11:24.281Z"
   },
   {
    "duration": 12,
    "start_time": "2023-06-06T08:11:24.286Z"
   },
   {
    "duration": 449,
    "start_time": "2023-06-06T08:11:24.300Z"
   },
   {
    "duration": 10,
    "start_time": "2023-06-06T08:11:24.751Z"
   },
   {
    "duration": 441,
    "start_time": "2023-06-06T08:11:24.763Z"
   },
   {
    "duration": 3,
    "start_time": "2023-06-06T08:11:25.205Z"
   },
   {
    "duration": 419,
    "start_time": "2023-06-06T08:11:25.210Z"
   },
   {
    "duration": 3,
    "start_time": "2023-06-06T08:11:25.631Z"
   },
   {
    "duration": 20,
    "start_time": "2023-06-06T08:11:25.636Z"
   },
   {
    "duration": 675,
    "start_time": "2023-06-06T08:11:25.658Z"
   },
   {
    "duration": 3,
    "start_time": "2023-06-06T08:11:26.335Z"
   },
   {
    "duration": 669,
    "start_time": "2023-06-06T08:11:26.340Z"
   },
   {
    "duration": 7,
    "start_time": "2023-06-06T08:11:27.011Z"
   },
   {
    "duration": 16,
    "start_time": "2023-06-06T08:11:27.020Z"
   },
   {
    "duration": 19,
    "start_time": "2023-06-06T08:11:27.037Z"
   },
   {
    "duration": 23,
    "start_time": "2023-06-06T08:11:27.058Z"
   },
   {
    "duration": 2741,
    "start_time": "2023-06-06T10:02:27.585Z"
   },
   {
    "duration": 1410,
    "start_time": "2023-06-06T10:02:30.329Z"
   },
   {
    "duration": 3,
    "start_time": "2023-06-06T10:02:31.742Z"
   },
   {
    "duration": 1012,
    "start_time": "2023-06-06T10:02:31.748Z"
   },
   {
    "duration": 25,
    "start_time": "2023-06-06T10:02:32.763Z"
   },
   {
    "duration": 24,
    "start_time": "2023-06-06T10:02:32.790Z"
   },
   {
    "duration": 26,
    "start_time": "2023-06-06T10:02:32.816Z"
   },
   {
    "duration": 7,
    "start_time": "2023-06-06T10:02:32.844Z"
   },
   {
    "duration": 20,
    "start_time": "2023-06-06T10:02:32.853Z"
   },
   {
    "duration": 18,
    "start_time": "2023-06-06T10:02:32.885Z"
   },
   {
    "duration": 6,
    "start_time": "2023-06-06T10:02:32.906Z"
   },
   {
    "duration": 25,
    "start_time": "2023-06-06T10:02:32.914Z"
   },
   {
    "duration": 11,
    "start_time": "2023-06-06T10:02:32.941Z"
   },
   {
    "duration": 13,
    "start_time": "2023-06-06T10:02:32.956Z"
   },
   {
    "duration": 7,
    "start_time": "2023-06-06T10:02:32.971Z"
   },
   {
    "duration": 14,
    "start_time": "2023-06-06T10:02:32.980Z"
   },
   {
    "duration": 8,
    "start_time": "2023-06-06T10:02:32.997Z"
   },
   {
    "duration": 22,
    "start_time": "2023-06-06T10:02:33.008Z"
   },
   {
    "duration": 33,
    "start_time": "2023-06-06T10:02:33.032Z"
   },
   {
    "duration": 30,
    "start_time": "2023-06-06T10:02:33.067Z"
   },
   {
    "duration": 9,
    "start_time": "2023-06-06T10:02:33.102Z"
   },
   {
    "duration": 15,
    "start_time": "2023-06-06T10:02:33.113Z"
   },
   {
    "duration": 7,
    "start_time": "2023-06-06T10:02:33.130Z"
   },
   {
    "duration": 148,
    "start_time": "2023-06-06T10:02:33.138Z"
   },
   {
    "duration": 50,
    "start_time": "2023-06-06T10:02:33.291Z"
   },
   {
    "duration": 461,
    "start_time": "2023-06-06T10:02:33.343Z"
   },
   {
    "duration": 11192,
    "start_time": "2023-06-06T10:02:33.808Z"
   },
   {
    "duration": 7990,
    "start_time": "2023-06-06T10:02:45.006Z"
   },
   {
    "duration": 1296,
    "start_time": "2023-06-06T10:02:52.998Z"
   },
   {
    "duration": 503,
    "start_time": "2023-06-06T10:02:54.296Z"
   },
   {
    "duration": 1493,
    "start_time": "2023-06-06T10:02:54.801Z"
   },
   {
    "duration": 333,
    "start_time": "2023-06-06T10:02:56.296Z"
   },
   {
    "duration": 33899,
    "start_time": "2023-06-06T10:02:56.631Z"
   },
   {
    "duration": 359,
    "start_time": "2023-06-06T10:03:30.532Z"
   },
   {
    "duration": 5,
    "start_time": "2023-06-06T10:03:30.893Z"
   },
   {
    "duration": 125,
    "start_time": "2023-06-06T10:03:30.900Z"
   },
   {
    "duration": 698,
    "start_time": "2023-06-06T10:03:31.028Z"
   },
   {
    "duration": 8,
    "start_time": "2023-06-06T10:03:31.728Z"
   },
   {
    "duration": 577,
    "start_time": "2023-06-06T10:03:31.738Z"
   },
   {
    "duration": 5,
    "start_time": "2023-06-06T10:03:32.317Z"
   },
   {
    "duration": 526,
    "start_time": "2023-06-06T10:03:32.328Z"
   },
   {
    "duration": 16,
    "start_time": "2023-06-06T10:03:32.855Z"
   },
   {
    "duration": 17,
    "start_time": "2023-06-06T10:03:32.874Z"
   },
   {
    "duration": 800,
    "start_time": "2023-06-06T10:03:32.893Z"
   },
   {
    "duration": 4,
    "start_time": "2023-06-06T10:03:33.695Z"
   },
   {
    "duration": 800,
    "start_time": "2023-06-06T10:03:33.701Z"
   },
   {
    "duration": 8,
    "start_time": "2023-06-06T10:03:34.503Z"
   },
   {
    "duration": 9,
    "start_time": "2023-06-06T10:03:34.513Z"
   },
   {
    "duration": 24,
    "start_time": "2023-06-06T10:03:34.524Z"
   },
   {
    "duration": 23,
    "start_time": "2023-06-06T10:03:34.560Z"
   },
   {
    "duration": 3282,
    "start_time": "2023-12-12T11:53:16.086Z"
   },
   {
    "duration": 1077,
    "start_time": "2023-12-12T11:53:19.371Z"
   },
   {
    "duration": 2,
    "start_time": "2023-12-12T11:53:20.449Z"
   },
   {
    "duration": 1482,
    "start_time": "2023-12-12T11:53:20.454Z"
   },
   {
    "duration": 21,
    "start_time": "2023-12-12T11:53:21.939Z"
   },
   {
    "duration": 12,
    "start_time": "2023-12-12T11:53:21.962Z"
   },
   {
    "duration": 7,
    "start_time": "2023-12-12T11:53:21.976Z"
   },
   {
    "duration": 4,
    "start_time": "2023-12-12T11:53:22.012Z"
   },
   {
    "duration": 21,
    "start_time": "2023-12-12T11:53:22.018Z"
   },
   {
    "duration": 19,
    "start_time": "2023-12-12T11:53:22.043Z"
   },
   {
    "duration": 4,
    "start_time": "2023-12-12T11:53:22.063Z"
   },
   {
    "duration": 24,
    "start_time": "2023-12-12T11:53:22.068Z"
   },
   {
    "duration": 14,
    "start_time": "2023-12-12T11:53:22.093Z"
   },
   {
    "duration": 8,
    "start_time": "2023-12-12T11:53:22.110Z"
   },
   {
    "duration": 9,
    "start_time": "2023-12-12T11:53:22.119Z"
   },
   {
    "duration": 6,
    "start_time": "2023-12-12T11:53:22.129Z"
   },
   {
    "duration": 5,
    "start_time": "2023-12-12T11:53:22.136Z"
   },
   {
    "duration": 17,
    "start_time": "2023-12-12T11:53:22.142Z"
   },
   {
    "duration": 6,
    "start_time": "2023-12-12T11:53:22.160Z"
   },
   {
    "duration": 49,
    "start_time": "2023-12-12T11:53:22.167Z"
   },
   {
    "duration": 5,
    "start_time": "2023-12-12T11:53:22.217Z"
   },
   {
    "duration": 11,
    "start_time": "2023-12-12T11:53:22.223Z"
   },
   {
    "duration": 30,
    "start_time": "2023-12-12T11:53:22.236Z"
   },
   {
    "duration": 117,
    "start_time": "2023-12-12T11:53:22.267Z"
   },
   {
    "duration": 45,
    "start_time": "2023-12-12T11:53:22.386Z"
   },
   {
    "duration": 312,
    "start_time": "2023-12-12T11:53:22.432Z"
   },
   {
    "duration": 8633,
    "start_time": "2023-12-12T11:53:22.745Z"
   },
   {
    "duration": 6063,
    "start_time": "2023-12-12T11:53:31.379Z"
   },
   {
    "duration": 1009,
    "start_time": "2023-12-12T11:53:37.443Z"
   },
   {
    "duration": 428,
    "start_time": "2023-12-12T11:53:38.453Z"
   },
   {
    "duration": 1279,
    "start_time": "2023-12-12T11:53:38.883Z"
   },
   {
    "duration": 349,
    "start_time": "2023-12-12T11:53:40.164Z"
   },
   {
    "duration": 28261,
    "start_time": "2023-12-12T11:53:40.514Z"
   },
   {
    "duration": 315,
    "start_time": "2023-12-12T11:54:08.777Z"
   },
   {
    "duration": 3,
    "start_time": "2023-12-12T11:54:09.094Z"
   },
   {
    "duration": 14,
    "start_time": "2023-12-12T11:54:09.099Z"
   },
   {
    "duration": 463,
    "start_time": "2023-12-12T11:54:09.115Z"
   },
   {
    "duration": 6,
    "start_time": "2023-12-12T11:54:09.581Z"
   },
   {
    "duration": 412,
    "start_time": "2023-12-12T11:54:09.589Z"
   },
   {
    "duration": 2,
    "start_time": "2023-12-12T11:54:10.003Z"
   },
   {
    "duration": 374,
    "start_time": "2023-12-12T11:54:10.012Z"
   },
   {
    "duration": 3,
    "start_time": "2023-12-12T11:54:10.388Z"
   },
   {
    "duration": 10,
    "start_time": "2023-12-12T11:54:10.392Z"
   },
   {
    "duration": 614,
    "start_time": "2023-12-12T11:54:10.403Z"
   },
   {
    "duration": 3,
    "start_time": "2023-12-12T11:54:11.018Z"
   },
   {
    "duration": 634,
    "start_time": "2023-12-12T11:54:11.023Z"
   },
   {
    "duration": 7,
    "start_time": "2023-12-12T11:54:11.659Z"
   },
   {
    "duration": 9,
    "start_time": "2023-12-12T11:54:11.668Z"
   },
   {
    "duration": 18,
    "start_time": "2023-12-12T11:54:11.678Z"
   },
   {
    "duration": 18,
    "start_time": "2023-12-12T11:54:11.698Z"
   },
   {
    "duration": 54,
    "start_time": "2024-01-18T11:34:25.518Z"
   },
   {
    "duration": 3734,
    "start_time": "2024-01-18T11:36:53.188Z"
   },
   {
    "duration": 1495,
    "start_time": "2024-01-18T11:36:56.924Z"
   },
   {
    "duration": 3,
    "start_time": "2024-01-18T11:36:58.421Z"
   },
   {
    "duration": 1399,
    "start_time": "2024-01-18T11:36:58.426Z"
   },
   {
    "duration": 21,
    "start_time": "2024-01-18T11:36:59.827Z"
   },
   {
    "duration": 13,
    "start_time": "2024-01-18T11:36:59.850Z"
   },
   {
    "duration": 7,
    "start_time": "2024-01-18T11:36:59.865Z"
   },
   {
    "duration": 66,
    "start_time": "2024-01-18T11:36:59.874Z"
   },
   {
    "duration": 9,
    "start_time": "2024-01-18T11:36:59.942Z"
   },
   {
    "duration": 13,
    "start_time": "2024-01-18T11:36:59.953Z"
   },
   {
    "duration": 8,
    "start_time": "2024-01-18T11:36:59.967Z"
   },
   {
    "duration": 37,
    "start_time": "2024-01-18T11:36:59.976Z"
   },
   {
    "duration": 68,
    "start_time": "2024-01-18T11:37:00.015Z"
   },
   {
    "duration": 80,
    "start_time": "2024-01-18T11:37:00.084Z"
   },
   {
    "duration": 133,
    "start_time": "2024-01-18T11:37:00.166Z"
   },
   {
    "duration": 51,
    "start_time": "2024-01-18T11:37:00.302Z"
   },
   {
    "duration": 191,
    "start_time": "2024-01-18T11:37:00.355Z"
   },
   {
    "duration": 217,
    "start_time": "2024-01-18T11:37:00.548Z"
   },
   {
    "duration": 67,
    "start_time": "2024-01-18T11:37:00.767Z"
   },
   {
    "duration": 76,
    "start_time": "2024-01-18T11:37:00.836Z"
   },
   {
    "duration": 130,
    "start_time": "2024-01-18T11:37:00.914Z"
   },
   {
    "duration": 53,
    "start_time": "2024-01-18T11:37:01.046Z"
   },
   {
    "duration": 56,
    "start_time": "2024-01-18T11:37:01.101Z"
   },
   {
    "duration": 160,
    "start_time": "2024-01-18T11:37:01.159Z"
   },
   {
    "duration": 40,
    "start_time": "2024-01-18T11:37:01.320Z"
   },
   {
    "duration": 468,
    "start_time": "2024-01-18T11:37:01.361Z"
   },
   {
    "duration": 9836,
    "start_time": "2024-01-18T11:37:01.831Z"
   },
   {
    "duration": 7252,
    "start_time": "2024-01-18T11:37:11.670Z"
   },
   {
    "duration": 1277,
    "start_time": "2024-01-18T11:37:18.924Z"
   },
   {
    "duration": 508,
    "start_time": "2024-01-18T11:37:20.203Z"
   },
   {
    "duration": 1508,
    "start_time": "2024-01-18T11:37:20.713Z"
   },
   {
    "duration": 338,
    "start_time": "2024-01-18T11:37:22.223Z"
   },
   {
    "duration": 34090,
    "start_time": "2024-01-18T11:37:22.564Z"
   },
   {
    "duration": 380,
    "start_time": "2024-01-18T11:37:56.656Z"
   },
   {
    "duration": 2,
    "start_time": "2024-01-18T11:37:57.038Z"
   },
   {
    "duration": 25,
    "start_time": "2024-01-18T11:37:57.042Z"
   },
   {
    "duration": 547,
    "start_time": "2024-01-18T11:37:57.069Z"
   },
   {
    "duration": 8,
    "start_time": "2024-01-18T11:37:57.618Z"
   },
   {
    "duration": 531,
    "start_time": "2024-01-18T11:37:57.628Z"
   },
   {
    "duration": 3,
    "start_time": "2024-01-18T11:37:58.161Z"
   },
   {
    "duration": 455,
    "start_time": "2024-01-18T11:37:58.165Z"
   },
   {
    "duration": 3,
    "start_time": "2024-01-18T11:37:58.621Z"
   },
   {
    "duration": 8,
    "start_time": "2024-01-18T11:37:58.626Z"
   },
   {
    "duration": 754,
    "start_time": "2024-01-18T11:37:58.635Z"
   },
   {
    "duration": 4,
    "start_time": "2024-01-18T11:37:59.391Z"
   },
   {
    "duration": 812,
    "start_time": "2024-01-18T11:37:59.397Z"
   },
   {
    "duration": 10,
    "start_time": "2024-01-18T11:38:00.211Z"
   },
   {
    "duration": 81,
    "start_time": "2024-01-18T11:38:00.223Z"
   },
   {
    "duration": 67,
    "start_time": "2024-01-18T11:38:00.307Z"
   },
   {
    "duration": 101,
    "start_time": "2024-01-18T11:38:00.376Z"
   },
   {
    "duration": 280,
    "start_time": "2024-01-18T11:49:16.675Z"
   },
   {
    "duration": 218,
    "start_time": "2024-01-18T11:50:28.779Z"
   },
   {
    "duration": 203,
    "start_time": "2024-01-18T11:52:44.686Z"
   },
   {
    "duration": 224,
    "start_time": "2024-01-18T11:53:45.008Z"
   },
   {
    "duration": 207,
    "start_time": "2024-01-18T11:54:17.000Z"
   },
   {
    "duration": 2812,
    "start_time": "2024-01-18T11:54:37.547Z"
   },
   {
    "duration": 1245,
    "start_time": "2024-01-18T11:54:40.362Z"
   },
   {
    "duration": 4,
    "start_time": "2024-01-18T11:54:41.608Z"
   },
   {
    "duration": 2493,
    "start_time": "2024-01-18T11:54:41.615Z"
   },
   {
    "duration": 21,
    "start_time": "2024-01-18T11:54:44.110Z"
   },
   {
    "duration": 12,
    "start_time": "2024-01-18T11:54:44.133Z"
   },
   {
    "duration": 6,
    "start_time": "2024-01-18T11:54:44.147Z"
   },
   {
    "duration": 4,
    "start_time": "2024-01-18T11:54:44.155Z"
   },
   {
    "duration": 32,
    "start_time": "2024-01-18T11:54:44.160Z"
   },
   {
    "duration": 16,
    "start_time": "2024-01-18T11:54:44.197Z"
   },
   {
    "duration": 6,
    "start_time": "2024-01-18T11:54:44.214Z"
   },
   {
    "duration": 15,
    "start_time": "2024-01-18T11:54:44.221Z"
   },
   {
    "duration": 29,
    "start_time": "2024-01-18T11:54:44.238Z"
   },
   {
    "duration": 8,
    "start_time": "2024-01-18T11:54:44.269Z"
   },
   {
    "duration": 9,
    "start_time": "2024-01-18T11:54:44.293Z"
   },
   {
    "duration": 16,
    "start_time": "2024-01-18T11:54:44.304Z"
   },
   {
    "duration": 16,
    "start_time": "2024-01-18T11:54:44.322Z"
   },
   {
    "duration": 31,
    "start_time": "2024-01-18T11:54:44.339Z"
   },
   {
    "duration": 6,
    "start_time": "2024-01-18T11:54:44.371Z"
   },
   {
    "duration": 19,
    "start_time": "2024-01-18T11:54:44.379Z"
   },
   {
    "duration": 8,
    "start_time": "2024-01-18T11:54:44.401Z"
   },
   {
    "duration": 31,
    "start_time": "2024-01-18T11:54:44.411Z"
   },
   {
    "duration": 6,
    "start_time": "2024-01-18T11:54:44.444Z"
   },
   {
    "duration": 122,
    "start_time": "2024-01-18T11:54:44.451Z"
   },
   {
    "duration": 52,
    "start_time": "2024-01-18T11:54:44.575Z"
   },
   {
    "duration": 466,
    "start_time": "2024-01-18T11:54:44.629Z"
   },
   {
    "duration": 276,
    "start_time": "2024-01-18T11:54:45.098Z"
   },
   {
    "duration": 9889,
    "start_time": "2024-01-18T11:54:45.378Z"
   },
   {
    "duration": 7420,
    "start_time": "2024-01-18T11:54:55.269Z"
   },
   {
    "duration": 1113,
    "start_time": "2024-01-18T11:55:02.691Z"
   },
   {
    "duration": 467,
    "start_time": "2024-01-18T11:55:03.806Z"
   },
   {
    "duration": 1464,
    "start_time": "2024-01-18T11:55:04.275Z"
   },
   {
    "duration": 407,
    "start_time": "2024-01-18T11:55:05.741Z"
   },
   {
    "duration": 34278,
    "start_time": "2024-01-18T11:55:06.150Z"
   },
   {
    "duration": 338,
    "start_time": "2024-01-18T11:55:40.430Z"
   },
   {
    "duration": 9,
    "start_time": "2024-01-18T11:55:40.770Z"
   },
   {
    "duration": 18,
    "start_time": "2024-01-18T11:55:40.781Z"
   },
   {
    "duration": 529,
    "start_time": "2024-01-18T11:55:40.802Z"
   },
   {
    "duration": 7,
    "start_time": "2024-01-18T11:55:41.333Z"
   },
   {
    "duration": 485,
    "start_time": "2024-01-18T11:55:41.341Z"
   },
   {
    "duration": 3,
    "start_time": "2024-01-18T11:55:41.827Z"
   },
   {
    "duration": 466,
    "start_time": "2024-01-18T11:55:41.831Z"
   },
   {
    "duration": 4,
    "start_time": "2024-01-18T11:55:42.299Z"
   },
   {
    "duration": 11,
    "start_time": "2024-01-18T11:55:42.305Z"
   },
   {
    "duration": 805,
    "start_time": "2024-01-18T11:55:42.317Z"
   },
   {
    "duration": 3,
    "start_time": "2024-01-18T11:55:43.124Z"
   },
   {
    "duration": 775,
    "start_time": "2024-01-18T11:55:43.128Z"
   },
   {
    "duration": 10,
    "start_time": "2024-01-18T11:55:43.905Z"
   },
   {
    "duration": 9,
    "start_time": "2024-01-18T11:55:43.917Z"
   },
   {
    "duration": 7,
    "start_time": "2024-01-18T11:55:43.928Z"
   },
   {
    "duration": 8,
    "start_time": "2024-01-18T11:55:43.936Z"
   },
   {
    "duration": 144,
    "start_time": "2024-01-18T11:57:17.521Z"
   },
   {
    "duration": 289,
    "start_time": "2024-01-18T11:58:34.383Z"
   },
   {
    "duration": 132,
    "start_time": "2024-01-18T11:58:42.863Z"
   },
   {
    "duration": 154,
    "start_time": "2024-01-18T11:59:42.875Z"
   },
   {
    "duration": 142,
    "start_time": "2024-01-18T12:00:01.927Z"
   },
   {
    "duration": 131,
    "start_time": "2024-01-18T12:00:25.537Z"
   },
   {
    "duration": 158,
    "start_time": "2024-01-18T12:01:25.886Z"
   },
   {
    "duration": 133,
    "start_time": "2024-01-18T12:01:50.276Z"
   },
   {
    "duration": 148,
    "start_time": "2024-01-18T12:02:44.098Z"
   }
  ],
  "kernelspec": {
   "display_name": "Python 3 (ipykernel)",
   "language": "python",
   "name": "python3"
  },
  "language_info": {
   "codemirror_mode": {
    "name": "ipython",
    "version": 3
   },
   "file_extension": ".py",
   "mimetype": "text/x-python",
   "name": "python",
   "nbconvert_exporter": "python",
   "pygments_lexer": "ipython3",
   "version": "3.9.5"
  },
  "toc": {
   "base_numbering": 1,
   "nav_menu": {
    "height": "269.4px",
    "width": "551.4px"
   },
   "number_sections": true,
   "sideBar": true,
   "skip_h1_title": true,
   "title_cell": "Table of Contents",
   "title_sidebar": "Contents",
   "toc_cell": false,
   "toc_position": {},
   "toc_section_display": true,
   "toc_window_display": false
  }
 },
 "nbformat": 4,
 "nbformat_minor": 2
}
